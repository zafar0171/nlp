{
 "cells": [
  {
   "cell_type": "code",
   "execution_count": 1,
   "id": "e640e546-a872-46d3-90f5-3bd0c0e4857a",
   "metadata": {},
   "outputs": [
    {
     "name": "stdout",
     "output_type": "stream",
     "text": [
      "Collecting moneycontrol-api\n",
      "  Downloading moneycontrol_api-1.1.4-py3-none-any.whl.metadata (2.1 kB)\n",
      "Downloading moneycontrol_api-1.1.4-py3-none-any.whl (4.2 kB)\n",
      "Installing collected packages: moneycontrol-api\n",
      "Successfully installed moneycontrol-api-1.1.4\n"
     ]
    }
   ],
   "source": [
    "!pip install moneycontrol-api"
   ]
  },
  {
   "cell_type": "code",
   "execution_count": 3,
   "id": "7208cc97-cc16-4b3c-9114-ea4921490ce1",
   "metadata": {},
   "outputs": [],
   "source": [
    "from moneycontrol import moneycontrol_api as mc"
   ]
  },
  {
   "cell_type": "code",
   "execution_count": 13,
   "id": "885b2ea6-60aa-4ce1-adbb-12d98ae713a4",
   "metadata": {},
   "outputs": [],
   "source": [
    "commodityPage = urllib3.util.url.Url(\"http://www.moneycontrol.com/commodity/\")"
   ]
  },
  {
   "cell_type": "code",
   "execution_count": 14,
   "id": "9c4f73f8-5fd4-402f-9784-04de956061fa",
   "metadata": {},
   "outputs": [
    {
     "ename": "TypeError",
     "evalue": "'NoneType' object is not callable",
     "output_type": "error",
     "traceback": [
      "\u001b[1;31m---------------------------------------------------------------------------\u001b[0m",
      "\u001b[1;31mTypeError\u001b[0m                                 Traceback (most recent call last)",
      "Cell \u001b[1;32mIn[14], line 1\u001b[0m\n\u001b[1;32m----> 1\u001b[0m commodityPage\u001b[38;5;241m.\u001b[39mquery()\n",
      "\u001b[1;31mTypeError\u001b[0m: 'NoneType' object is not callable"
     ]
    }
   ],
   "source": [
    "commodityPage."
   ]
  },
  {
   "cell_type": "code",
   "execution_count": 12,
   "id": "5251f44e-6aea-4496-9229-ff041324fc7f",
   "metadata": {},
   "outputs": [
    {
     "ename": "AttributeError",
     "evalue": "'Url' object has no attribute 'read'",
     "output_type": "error",
     "traceback": [
      "\u001b[1;31m---------------------------------------------------------------------------\u001b[0m",
      "\u001b[1;31mAttributeError\u001b[0m                            Traceback (most recent call last)",
      "Cell \u001b[1;32mIn[12], line 10\u001b[0m\n\u001b[0;32m      7\u001b[0m \u001b[38;5;66;03m# Download the page data and create a BeautitulSoup object\u001b[39;00m\n\u001b[0;32m      8\u001b[0m \u001b[38;5;66;03m#commodityPage = urllib3.urlopen(URL)\u001b[39;00m\n\u001b[0;32m      9\u001b[0m commodityPage \u001b[38;5;241m=\u001b[39m urllib3\u001b[38;5;241m.\u001b[39mutil\u001b[38;5;241m.\u001b[39murl\u001b[38;5;241m.\u001b[39mUrl(\u001b[38;5;124m\"\u001b[39m\u001b[38;5;124mhttp://www.moneycontrol.com/commodity/\u001b[39m\u001b[38;5;124m\"\u001b[39m)\n\u001b[1;32m---> 10\u001b[0m commodityPageText \u001b[38;5;241m=\u001b[39m commodityPage\u001b[38;5;241m.\u001b[39mread()\n\u001b[0;32m     11\u001b[0m commodityPageSoup \u001b[38;5;241m=\u001b[39m bs4\u001b[38;5;241m.\u001b[39mBeautifulSoup(commodityPageText)\n\u001b[0;32m     13\u001b[0m \u001b[38;5;66;03m# Extract the div with the commodities table and find all the table rows\u001b[39;00m\n",
      "\u001b[1;31mAttributeError\u001b[0m: 'Url' object has no attribute 'read'"
     ]
    }
   ],
   "source": [
    "import urllib3\n",
    "import bs4\n",
    "\n",
    "# Page with commodities\n",
    "URL = \"http://www.moneycontrol.com/commodity/\"\n",
    "\n",
    "# Download the page data and create a BeautitulSoup object\n",
    "#commodityPage = urllib3.urlopen(URL)\n",
    "commodityPage = urllib3.util.url.Url(\"http://www.moneycontrol.com/commodity/\")\n",
    "commodityPageText = commodityPage.read()\n",
    "commodityPageSoup = bs4.BeautifulSoup(commodityPageText)\n",
    "\n",
    "# Extract the div with the commodities table and find all the table rows\n",
    "commodityTable = commodityPageSoup.find_all(\"div\", \"equity com_ne\")\n",
    "commodittTableRows =  commodityTable[0].find_all(\"tr\")\n",
    "\n",
    "# Trim off the table header row\n",
    "commodittTableRows = commodittTableRows[1:]\n",
    "\n",
    "# Iterate over the table rows and print out the commodity name and price\n",
    "for commodity in commodittTableRows:\n",
    "    # Separate all the table columns\n",
    "    columns = commodity.find_all(\"td\")\n",
    "\n",
    "    # -------------- Get the values from each column\n",
    "    # ROW 1: Name and date\n",
    "    nameAndDate = columns[0].text\n",
    "    nameAndDate = nameAndDate.split('-')\n",
    "    name = nameAndDate[0].strip()\n",
    "    date = nameAndDate[1].strip()\n",
    "\n",
    "    # ROW 2: Price\n",
    "    price = float(columns[1].text)\n",
    "\n",
    "    # ROW 3: Change\n",
    "    change = columns[2].text.replace(',', '') # Remove commas from change value\n",
    "    change = float(change)\n",
    "\n",
    "    # ROW 4: Percentage change\n",
    "    percentageChange = columns[3].text.replace('%', '') # Remove the percentage symbol\n",
    "    percentageChange = float(percentageChange)\n",
    "\n",
    "    # Print out the data\n",
    "    print(\"%s on %s was %.2f - a change of %.2f (%.2f%%)\" % (name, date, price, change, percentageChange))"
   ]
  },
  {
   "cell_type": "code",
   "execution_count": 7,
   "id": "a013c1d0-5a80-41a1-ac99-3c9cff2c4812",
   "metadata": {},
   "outputs": [
    {
     "name": "stdout",
     "output_type": "stream",
     "text": [
      "Requirement already satisfied: urllib3 in c:\\users\\modza\\documents\\nlp\\env\\lib\\site-packages (1.26.18)\n"
     ]
    }
   ],
   "source": [
    "!pip install urllib3"
   ]
  },
  {
   "cell_type": "code",
   "execution_count": 10,
   "id": "f4895916-0160-4ef5-b2e8-88f424c0c7cd",
   "metadata": {},
   "outputs": [
    {
     "ename": "TypeError",
     "evalue": "'module' object is not callable",
     "output_type": "error",
     "traceback": [
      "\u001b[1;31m---------------------------------------------------------------------------\u001b[0m",
      "\u001b[1;31mTypeError\u001b[0m                                 Traceback (most recent call last)",
      "Cell \u001b[1;32mIn[10], line 1\u001b[0m\n\u001b[1;32m----> 1\u001b[0m urllib3\u001b[38;5;241m.\u001b[39mutil\u001b[38;5;241m.\u001b[39murl(\u001b[38;5;124m\"\u001b[39m\u001b[38;5;124mhttp://www.moneycontrol.com/commodity/\u001b[39m\u001b[38;5;124m\"\u001b[39m)\n",
      "\u001b[1;31mTypeError\u001b[0m: 'module' object is not callable"
     ]
    }
   ],
   "source": [
    "urllib3.util.url(\"http://www.moneycontrol.com/commodity/\")"
   ]
  },
  {
   "cell_type": "code",
   "execution_count": 11,
   "id": "feac329f-028b-4588-8f6a-fb2b89b87bae",
   "metadata": {},
   "outputs": [
    {
     "data": {
      "text/plain": [
       "Url(scheme='http://www.moneycontrol.com/commodity/', auth=None, host=None, port=None, path=None, query=None, fragment=None)"
      ]
     },
     "execution_count": 11,
     "metadata": {},
     "output_type": "execute_result"
    }
   ],
   "source": [
    "urllib3.util.url.Url(\"http://www.moneycontrol.com/commodity/\")"
   ]
  },
  {
   "cell_type": "code",
   "execution_count": 16,
   "id": "5b2f4639-01a2-49ed-a51a-adc9006918f0",
   "metadata": {},
   "outputs": [
    {
     "name": "stdout",
     "output_type": "stream",
     "text": [
      "Collecting moneycontrolPy\n",
      "  Downloading moneycontrolPy-0.0.5-py3-none-any.whl.metadata (3.1 kB)\n",
      "Downloading moneycontrolPy-0.0.5-py3-none-any.whl (22 kB)\n",
      "Installing collected packages: moneycontrolPy\n",
      "Successfully installed moneycontrolPy-0.0.5\n"
     ]
    }
   ],
   "source": [
    "!pip install moneycontrolPy"
   ]
  },
  {
   "cell_type": "code",
   "execution_count": 18,
   "id": "6e164a9d-ac5b-43e9-a81d-794ab7a2cfd4",
   "metadata": {},
   "outputs": [
    {
     "name": "stdout",
     "output_type": "stream",
     "text": [
      "Collecting dateparser\n",
      "  Downloading dateparser-1.2.0-py2.py3-none-any.whl.metadata (28 kB)\n",
      "Requirement already satisfied: python-dateutil in c:\\users\\modza\\documents\\nlp\\env\\lib\\site-packages (from dateparser) (2.8.2)\n",
      "Requirement already satisfied: pytz in c:\\users\\modza\\documents\\nlp\\env\\lib\\site-packages (from dateparser) (2023.3.post1)\n",
      "Requirement already satisfied: regex!=2019.02.19,!=2021.8.27 in c:\\users\\modza\\documents\\nlp\\env\\lib\\site-packages (from dateparser) (2023.10.3)\n",
      "Collecting tzlocal (from dateparser)\n",
      "  Downloading tzlocal-5.2-py3-none-any.whl.metadata (7.8 kB)\n",
      "Requirement already satisfied: six>=1.5 in c:\\users\\modza\\documents\\nlp\\env\\lib\\site-packages (from python-dateutil->dateparser) (1.16.0)\n",
      "Requirement already satisfied: tzdata in c:\\users\\modza\\documents\\nlp\\env\\lib\\site-packages (from tzlocal->dateparser) (2023.3)\n",
      "Downloading dateparser-1.2.0-py2.py3-none-any.whl (294 kB)\n",
      "   ---------------------------------------- 0.0/295.0 kB ? eta -:--:--\n",
      "   -- ------------------------------------- 20.5/295.0 kB ? eta -:--:--\n",
      "   ------ -------------------------------- 51.2/295.0 kB 871.5 kB/s eta 0:00:01\n",
      "   --------- ----------------------------- 71.7/295.0 kB 975.2 kB/s eta 0:00:01\n",
      "   --------- ----------------------------- 71.7/295.0 kB 975.2 kB/s eta 0:00:01\n",
      "   --------------- ---------------------- 122.9/295.0 kB 599.1 kB/s eta 0:00:01\n",
      "   --------------------------- ---------- 215.0/295.0 kB 875.2 kB/s eta 0:00:01\n",
      "   ------------------------------------ - 286.7/295.0 kB 983.9 kB/s eta 0:00:01\n",
      "   -------------------------------------- 295.0/295.0 kB 909.8 kB/s eta 0:00:00\n",
      "Downloading tzlocal-5.2-py3-none-any.whl (17 kB)\n",
      "Installing collected packages: tzlocal, dateparser\n",
      "Successfully installed dateparser-1.2.0 tzlocal-5.2\n"
     ]
    }
   ],
   "source": [
    "!pip install dateparser"
   ]
  },
  {
   "cell_type": "code",
   "execution_count": 20,
   "id": "7de6968d-ade5-4ac0-ad35-4fdbe2ba2fe9",
   "metadata": {},
   "outputs": [
    {
     "name": "stdout",
     "output_type": "stream",
     "text": [
      "Collecting selenium\n",
      "  Downloading selenium-4.19.0-py3-none-any.whl.metadata (6.9 kB)\n",
      "Requirement already satisfied: urllib3<3,>=1.26 in c:\\users\\modza\\documents\\nlp\\env\\lib\\site-packages (from urllib3[socks]<3,>=1.26->selenium) (1.26.18)\n",
      "Collecting trio~=0.17 (from selenium)\n",
      "  Downloading trio-0.25.0-py3-none-any.whl.metadata (8.7 kB)\n",
      "Collecting trio-websocket~=0.9 (from selenium)\n",
      "  Using cached trio_websocket-0.11.1-py3-none-any.whl.metadata (4.7 kB)\n",
      "Requirement already satisfied: certifi>=2021.10.8 in c:\\users\\modza\\documents\\nlp\\env\\lib\\site-packages (from selenium) (2023.11.17)\n",
      "Requirement already satisfied: typing_extensions>=4.9.0 in c:\\users\\modza\\documents\\nlp\\env\\lib\\site-packages (from selenium) (4.9.0)\n",
      "Collecting attrs>=23.2.0 (from trio~=0.17->selenium)\n",
      "  Downloading attrs-23.2.0-py3-none-any.whl.metadata (9.5 kB)\n",
      "Collecting sortedcontainers (from trio~=0.17->selenium)\n",
      "  Downloading sortedcontainers-2.4.0-py2.py3-none-any.whl.metadata (10 kB)\n",
      "Requirement already satisfied: idna in c:\\users\\modza\\documents\\nlp\\env\\lib\\site-packages (from trio~=0.17->selenium) (3.4)\n",
      "Collecting outcome (from trio~=0.17->selenium)\n",
      "  Using cached outcome-1.3.0.post0-py2.py3-none-any.whl.metadata (2.6 kB)\n",
      "Requirement already satisfied: sniffio>=1.3.0 in c:\\users\\modza\\documents\\nlp\\env\\lib\\site-packages (from trio~=0.17->selenium) (1.3.0)\n",
      "Requirement already satisfied: cffi>=1.14 in c:\\users\\modza\\documents\\nlp\\env\\lib\\site-packages (from trio~=0.17->selenium) (1.16.0)\n",
      "Collecting wsproto>=0.14 (from trio-websocket~=0.9->selenium)\n",
      "  Using cached wsproto-1.2.0-py3-none-any.whl.metadata (5.6 kB)\n",
      "Requirement already satisfied: PySocks!=1.5.7,<2.0,>=1.5.6 in c:\\users\\modza\\documents\\nlp\\env\\lib\\site-packages (from urllib3[socks]<3,>=1.26->selenium) (1.7.1)\n",
      "Requirement already satisfied: pycparser in c:\\users\\modza\\documents\\nlp\\env\\lib\\site-packages (from cffi>=1.14->trio~=0.17->selenium) (2.21)\n",
      "Requirement already satisfied: h11<1,>=0.9.0 in c:\\users\\modza\\documents\\nlp\\env\\lib\\site-packages (from wsproto>=0.14->trio-websocket~=0.9->selenium) (0.14.0)\n",
      "Downloading selenium-4.19.0-py3-none-any.whl (10.5 MB)\n",
      "   ---------------------------------------- 0.0/10.5 MB ? eta -:--:--\n",
      "   ---------------------------------------- 0.0/10.5 MB ? eta -:--:--\n",
      "   ---------------------------------------- 0.0/10.5 MB 660.6 kB/s eta 0:00:16\n",
      "   ---------------------------------------- 0.1/10.5 MB 656.4 kB/s eta 0:00:16\n",
      "    --------------------------------------- 0.1/10.5 MB 950.9 kB/s eta 0:00:11\n",
      "    --------------------------------------- 0.2/10.5 MB 952.6 kB/s eta 0:00:11\n",
      "    --------------------------------------- 0.2/10.5 MB 841.6 kB/s eta 0:00:13\n",
      "    --------------------------------------- 0.2/10.5 MB 778.2 kB/s eta 0:00:14\n",
      "    --------------------------------------- 0.2/10.5 MB 722.1 kB/s eta 0:00:15\n",
      "   - -------------------------------------- 0.3/10.5 MB 819.2 kB/s eta 0:00:13\n",
      "   - -------------------------------------- 0.4/10.5 MB 882.8 kB/s eta 0:00:12\n",
      "   - -------------------------------------- 0.4/10.5 MB 895.2 kB/s eta 0:00:12\n",
      "   - -------------------------------------- 0.5/10.5 MB 994.4 kB/s eta 0:00:11\n",
      "   - -------------------------------------- 0.5/10.5 MB 974.3 kB/s eta 0:00:11\n",
      "   -- ------------------------------------- 0.6/10.5 MB 924.8 kB/s eta 0:00:11\n",
      "   -- ------------------------------------- 0.7/10.5 MB 999.0 kB/s eta 0:00:10\n",
      "   --- ------------------------------------ 0.8/10.5 MB 1.1 MB/s eta 0:00:09\n",
      "   --- ------------------------------------ 0.9/10.5 MB 1.2 MB/s eta 0:00:09\n",
      "   --- ------------------------------------ 1.0/10.5 MB 1.2 MB/s eta 0:00:08\n",
      "   ---- ----------------------------------- 1.1/10.5 MB 1.4 MB/s eta 0:00:07\n",
      "   ---- ----------------------------------- 1.2/10.5 MB 1.4 MB/s eta 0:00:07\n",
      "   ----- ---------------------------------- 1.4/10.5 MB 1.5 MB/s eta 0:00:06\n",
      "   ----- ---------------------------------- 1.5/10.5 MB 1.5 MB/s eta 0:00:06\n",
      "   ----- ---------------------------------- 1.6/10.5 MB 1.5 MB/s eta 0:00:06\n",
      "   ------ --------------------------------- 1.7/10.5 MB 1.6 MB/s eta 0:00:06\n",
      "   ------- -------------------------------- 1.8/10.5 MB 1.7 MB/s eta 0:00:06\n",
      "   ------- -------------------------------- 2.0/10.5 MB 1.7 MB/s eta 0:00:05\n",
      "   ------- -------------------------------- 2.1/10.5 MB 1.8 MB/s eta 0:00:05\n",
      "   -------- ------------------------------- 2.1/10.5 MB 1.7 MB/s eta 0:00:05\n",
      "   -------- ------------------------------- 2.1/10.5 MB 1.7 MB/s eta 0:00:05\n",
      "   -------- ------------------------------- 2.2/10.5 MB 1.6 MB/s eta 0:00:06\n",
      "   -------- ------------------------------- 2.3/10.5 MB 1.6 MB/s eta 0:00:06\n",
      "   -------- ------------------------------- 2.3/10.5 MB 1.6 MB/s eta 0:00:06\n",
      "   -------- ------------------------------- 2.3/10.5 MB 1.6 MB/s eta 0:00:06\n",
      "   --------- ------------------------------ 2.4/10.5 MB 1.6 MB/s eta 0:00:06\n",
      "   --------- ------------------------------ 2.5/10.5 MB 1.6 MB/s eta 0:00:06\n",
      "   --------- ------------------------------ 2.6/10.5 MB 1.6 MB/s eta 0:00:05\n",
      "   ---------- ----------------------------- 2.7/10.5 MB 1.6 MB/s eta 0:00:05\n",
      "   ---------- ----------------------------- 2.8/10.5 MB 1.6 MB/s eta 0:00:05\n",
      "   ----------- ---------------------------- 2.9/10.5 MB 1.7 MB/s eta 0:00:05\n",
      "   ----------- ---------------------------- 3.0/10.5 MB 1.6 MB/s eta 0:00:05\n",
      "   ----------- ---------------------------- 3.0/10.5 MB 1.6 MB/s eta 0:00:05\n",
      "   ----------- ---------------------------- 3.1/10.5 MB 1.7 MB/s eta 0:00:05\n",
      "   ------------ --------------------------- 3.2/10.5 MB 1.7 MB/s eta 0:00:05\n",
      "   ------------ --------------------------- 3.3/10.5 MB 1.7 MB/s eta 0:00:05\n",
      "   ------------ --------------------------- 3.4/10.5 MB 1.7 MB/s eta 0:00:05\n",
      "   ------------- -------------------------- 3.5/10.5 MB 1.7 MB/s eta 0:00:05\n",
      "   ------------- -------------------------- 3.5/10.5 MB 1.7 MB/s eta 0:00:05\n",
      "   ------------- -------------------------- 3.6/10.5 MB 1.7 MB/s eta 0:00:05\n",
      "   -------------- ------------------------- 3.7/10.5 MB 1.7 MB/s eta 0:00:05\n",
      "   -------------- ------------------------- 3.9/10.5 MB 1.7 MB/s eta 0:00:04\n",
      "   --------------- ------------------------ 4.0/10.5 MB 1.8 MB/s eta 0:00:04\n",
      "   --------------- ------------------------ 4.1/10.5 MB 1.8 MB/s eta 0:00:04\n",
      "   ---------------- ----------------------- 4.3/10.5 MB 1.8 MB/s eta 0:00:04\n",
      "   ----------------- ---------------------- 4.5/10.5 MB 1.8 MB/s eta 0:00:04\n",
      "   ----------------- ---------------------- 4.7/10.5 MB 1.9 MB/s eta 0:00:04\n",
      "   ------------------ --------------------- 4.9/10.5 MB 1.9 MB/s eta 0:00:03\n",
      "   ------------------- -------------------- 5.1/10.5 MB 2.0 MB/s eta 0:00:03\n",
      "   -------------------- ------------------- 5.3/10.5 MB 2.0 MB/s eta 0:00:03\n",
      "   --------------------- ------------------ 5.6/10.5 MB 2.1 MB/s eta 0:00:03\n",
      "   ---------------------- ----------------- 5.8/10.5 MB 2.1 MB/s eta 0:00:03\n",
      "   ---------------------- ----------------- 6.0/10.5 MB 2.2 MB/s eta 0:00:03\n",
      "   ------------------------ --------------- 6.3/10.5 MB 2.3 MB/s eta 0:00:02\n",
      "   ------------------------ --------------- 6.6/10.5 MB 2.3 MB/s eta 0:00:02\n",
      "   -------------------------- ------------- 6.8/10.5 MB 2.4 MB/s eta 0:00:02\n",
      "   --------------------------- ------------ 7.1/10.5 MB 2.4 MB/s eta 0:00:02\n",
      "   ---------------------------- ----------- 7.4/10.5 MB 2.5 MB/s eta 0:00:02\n",
      "   ----------------------------- ---------- 7.7/10.5 MB 2.5 MB/s eta 0:00:02\n",
      "   ------------------------------ --------- 8.0/10.5 MB 2.6 MB/s eta 0:00:01\n",
      "   -------------------------------- ------- 8.4/10.5 MB 2.7 MB/s eta 0:00:01\n",
      "   --------------------------------- ------ 8.8/10.5 MB 2.8 MB/s eta 0:00:01\n",
      "   ----------------------------------- ---- 9.2/10.5 MB 2.9 MB/s eta 0:00:01\n",
      "   ------------------------------------ --- 9.6/10.5 MB 2.9 MB/s eta 0:00:01\n",
      "   ------------------------------------- -- 9.9/10.5 MB 3.0 MB/s eta 0:00:01\n",
      "   ---------------------------------------  10.3/10.5 MB 3.1 MB/s eta 0:00:01\n",
      "   ---------------------------------------  10.5/10.5 MB 3.4 MB/s eta 0:00:01\n",
      "   ---------------------------------------  10.5/10.5 MB 3.4 MB/s eta 0:00:01\n",
      "   ---------------------------------------- 10.5/10.5 MB 3.3 MB/s eta 0:00:00\n",
      "Downloading trio-0.25.0-py3-none-any.whl (467 kB)\n",
      "   ---------------------------------------- 0.0/467.2 kB ? eta -:--:--\n",
      "   --------------------------------------  460.8/467.2 kB 14.5 MB/s eta 0:00:01\n",
      "   ---------------------------------------- 467.2/467.2 kB 7.4 MB/s eta 0:00:00\n",
      "Using cached trio_websocket-0.11.1-py3-none-any.whl (17 kB)\n",
      "Downloading attrs-23.2.0-py3-none-any.whl (60 kB)\n",
      "   ---------------------------------------- 0.0/60.8 kB ? eta -:--:--\n",
      "   ---------------------------------------- 60.8/60.8 kB 3.2 MB/s eta 0:00:00\n",
      "Using cached wsproto-1.2.0-py3-none-any.whl (24 kB)\n",
      "Using cached outcome-1.3.0.post0-py2.py3-none-any.whl (10 kB)\n",
      "Using cached sortedcontainers-2.4.0-py2.py3-none-any.whl (29 kB)\n",
      "Installing collected packages: sortedcontainers, wsproto, attrs, outcome, trio, trio-websocket, selenium\n",
      "  Attempting uninstall: attrs\n",
      "    Found existing installation: attrs 23.1.0\n",
      "    Uninstalling attrs-23.1.0:\n",
      "      Successfully uninstalled attrs-23.1.0\n",
      "Successfully installed attrs-23.2.0 outcome-1.3.0.post0 selenium-4.19.0 sortedcontainers-2.4.0 trio-0.25.0 trio-websocket-0.11.1 wsproto-1.2.0\n"
     ]
    },
    {
     "name": "stderr",
     "output_type": "stream",
     "text": [
      "ERROR: pip's dependency resolver does not currently take into account all the packages that are installed. This behaviour is the source of the following dependency conflicts.\n",
      "mediapipe 0.10.9 requires protobuf<4,>=3.11, but you have protobuf 4.23.4 which is incompatible.\n"
     ]
    }
   ],
   "source": [
    "!pip install selenium"
   ]
  },
  {
   "cell_type": "code",
   "execution_count": 21,
   "id": "54cea8ba-a925-4b6d-80b9-8ca7c3606395",
   "metadata": {},
   "outputs": [],
   "source": [
    "import moneycontrolPy.mcp as mcp"
   ]
  },
  {
   "cell_type": "code",
   "execution_count": 22,
   "id": "10fc15b1-bfd8-4f79-a886-7515ecdc838f",
   "metadata": {},
   "outputs": [],
   "source": [
    "api = mcp.API()"
   ]
  },
  {
   "cell_type": "code",
   "execution_count": 23,
   "id": "734ec35a-c9b6-468b-8372-a7330b0aa820",
   "metadata": {},
   "outputs": [],
   "source": [
    "api.DRIVER_PATH = \"C:\\Program Files (x86)\\Microsoft\\Edge\\Application\\msedgedriver.exe\""
   ]
  },
  {
   "cell_type": "code",
   "execution_count": 24,
   "id": "134bb776-0f1e-4ad2-bd9a-f27c8ccc0066",
   "metadata": {},
   "outputs": [],
   "source": [
    "url_user = \"https://mmb.moneycontrol.com/arvind151-user-profile-617276696e64313531.html\""
   ]
  },
  {
   "cell_type": "code",
   "execution_count": 25,
   "id": "adfc02a6-4fa8-480a-8ac4-f875fb59dffc",
   "metadata": {},
   "outputs": [],
   "source": [
    "url_post = \"https://mmb.moneycontrol.com/forum-topics/stocks/hero-motocorp/thread-message-81248383-83073237.html\""
   ]
  },
  {
   "cell_type": "code",
   "execution_count": 26,
   "id": "eaeab8f0-6a4b-414f-82f4-3ecae5770a1f",
   "metadata": {},
   "outputs": [],
   "source": [
    "url_stock = 'https://mmb.moneycontrol.com/forum-topics/stocks/ab-money-246165.html'\n"
   ]
  },
  {
   "cell_type": "code",
   "execution_count": 27,
   "id": "b1a79729-1ed0-494a-9cee-d145f950e683",
   "metadata": {},
   "outputs": [
    {
     "ename": "TypeError",
     "evalue": "WebDriver.__init__() got multiple values for argument 'options'",
     "output_type": "error",
     "traceback": [
      "\u001b[1;31m---------------------------------------------------------------------------\u001b[0m",
      "\u001b[1;31mTypeError\u001b[0m                                 Traceback (most recent call last)",
      "Cell \u001b[1;32mIn[27], line 1\u001b[0m\n\u001b[1;32m----> 1\u001b[0m hot_stocks \u001b[38;5;241m=\u001b[39m api\u001b[38;5;241m.\u001b[39mget_stock_in_the_news()\n",
      "File \u001b[1;32m~\\Documents\\nlp\\env\\Lib\\site-packages\\moneycontrolPy\\mcp.py:788\u001b[0m, in \u001b[0;36mAPI.get_stock_in_the_news\u001b[1;34m(self, save_as_json, file_path)\u001b[0m\n\u001b[0;32m    770\u001b[0m \u001b[38;5;250m\u001b[39m\u001b[38;5;124;03m\"\"\"\u001b[39;00m\n\u001b[0;32m    771\u001b[0m \u001b[38;5;124;03mThis method gets the stock in the news.        \u001b[39;00m\n\u001b[0;32m    772\u001b[0m \n\u001b[1;32m   (...)\u001b[0m\n\u001b[0;32m    784\u001b[0m \n\u001b[0;32m    785\u001b[0m \u001b[38;5;124;03m\"\"\"\u001b[39;00m\n\u001b[0;32m    786\u001b[0m to_return \u001b[38;5;241m=\u001b[39m \u001b[38;5;28mlist\u001b[39m()\n\u001b[1;32m--> 788\u001b[0m soup \u001b[38;5;241m=\u001b[39m \u001b[38;5;28mself\u001b[39m\u001b[38;5;241m.\u001b[39m_parse(\u001b[38;5;28mself\u001b[39m\u001b[38;5;241m.\u001b[39mHOME_PAGE)\n\u001b[0;32m    789\u001b[0m division \u001b[38;5;241m=\u001b[39m soup\u001b[38;5;241m.\u001b[39mfind(\u001b[38;5;124m\"\u001b[39m\u001b[38;5;124mdiv\u001b[39m\u001b[38;5;124m\"\u001b[39m, class_\u001b[38;5;241m=\u001b[39m\u001b[38;5;124m\"\u001b[39m\u001b[38;5;124manchlft auto_width nobor clearfix\u001b[39m\u001b[38;5;124m\"\u001b[39m)\n\u001b[0;32m    791\u001b[0m \u001b[38;5;28;01mfor\u001b[39;00m i \u001b[38;5;129;01min\u001b[39;00m division\u001b[38;5;241m.\u001b[39mfindAll(\u001b[38;5;124m\"\u001b[39m\u001b[38;5;124ma\u001b[39m\u001b[38;5;124m\"\u001b[39m):\n",
      "File \u001b[1;32m~\\Documents\\nlp\\env\\Lib\\site-packages\\moneycontrolPy\\mcp.py:81\u001b[0m, in \u001b[0;36mAPI._parse\u001b[1;34m(self, url, SCROLL_PAUSE_TIME, limit, limit_query)\u001b[0m\n\u001b[0;32m     60\u001b[0m \u001b[38;5;28;01mdef\u001b[39;00m \u001b[38;5;21m_parse\u001b[39m(\u001b[38;5;28mself\u001b[39m, url, SCROLL_PAUSE_TIME\u001b[38;5;241m=\u001b[39m\u001b[38;5;28;01mNone\u001b[39;00m, limit\u001b[38;5;241m=\u001b[39m\u001b[38;5;28;01mNone\u001b[39;00m, limit_query\u001b[38;5;241m=\u001b[39m\u001b[38;5;28;01mNone\u001b[39;00m):\n\u001b[0;32m     61\u001b[0m \u001b[38;5;250m    \u001b[39m\u001b[38;5;124;03m\"\"\"\u001b[39;00m\n\u001b[0;32m     62\u001b[0m \u001b[38;5;124;03m    This method invokes the _inti_driver and gets the HTML sourse of the page. Using Beautiful Soup the HTML is parsed and returned.\u001b[39;00m\n\u001b[0;32m     63\u001b[0m \u001b[38;5;124;03m    If the default SCROLL_PAUSE_TIME is None, if then then page won't get scrolled. In some cases, the contents are loaded only when the page is loaded, then the SCROLL_PAUSE_TIME should be given some floating point value.\u001b[39;00m\n\u001b[1;32m   (...)\u001b[0m\n\u001b[0;32m     79\u001b[0m \n\u001b[0;32m     80\u001b[0m \u001b[38;5;124;03m    \"\"\"\u001b[39;00m\n\u001b[1;32m---> 81\u001b[0m     driver \u001b[38;5;241m=\u001b[39m \u001b[38;5;28mself\u001b[39m\u001b[38;5;241m.\u001b[39m_init_driver(\u001b[38;5;28mself\u001b[39m\u001b[38;5;241m.\u001b[39mDRIVER_PATH)\n\u001b[0;32m     82\u001b[0m     driver\u001b[38;5;241m.\u001b[39mimplicitly_wait(\u001b[38;5;241m1\u001b[39m)\n\u001b[0;32m     83\u001b[0m     driver\u001b[38;5;241m.\u001b[39mget(url)\n",
      "File \u001b[1;32m~\\Documents\\nlp\\env\\Lib\\site-packages\\moneycontrolPy\\mcp.py:56\u001b[0m, in \u001b[0;36mAPI._init_driver\u001b[1;34m(self, WEB_DRIVER_PATH)\u001b[0m\n\u001b[0;32m     54\u001b[0m \u001b[38;5;28;01mif\u001b[39;00m \u001b[38;5;28mself\u001b[39m\u001b[38;5;241m.\u001b[39mBROWSER_VIEW \u001b[38;5;129;01mis\u001b[39;00m \u001b[38;5;28;01mFalse\u001b[39;00m:\n\u001b[0;32m     55\u001b[0m     options\u001b[38;5;241m.\u001b[39madd_argument(\u001b[38;5;124m\"\u001b[39m\u001b[38;5;124m--headless\u001b[39m\u001b[38;5;124m\"\u001b[39m)\n\u001b[1;32m---> 56\u001b[0m driver \u001b[38;5;241m=\u001b[39m webdriver\u001b[38;5;241m.\u001b[39mChrome(WEB_DRIVER_PATH, options\u001b[38;5;241m=\u001b[39moptions)\n\u001b[0;32m     58\u001b[0m \u001b[38;5;28;01mreturn\u001b[39;00m driver\n",
      "\u001b[1;31mTypeError\u001b[0m: WebDriver.__init__() got multiple values for argument 'options'"
     ]
    }
   ],
   "source": [
    "hot_stocks = api.get_stock_in_the_news()                #To extract the stock in the news\n"
   ]
  },
  {
   "cell_type": "code",
   "execution_count": 28,
   "id": "9e8c0b8d-0605-4f11-b7d3-a06b95f0ffd3",
   "metadata": {},
   "outputs": [
    {
     "ename": "TypeError",
     "evalue": "WebDriver.__init__() got multiple values for argument 'options'",
     "output_type": "error",
     "traceback": [
      "\u001b[1;31m---------------------------------------------------------------------------\u001b[0m",
      "\u001b[1;31mTypeError\u001b[0m                                 Traceback (most recent call last)",
      "Cell \u001b[1;32mIn[28], line 1\u001b[0m\n\u001b[1;32m----> 1\u001b[0m top_boarders \u001b[38;5;241m=\u001b[39m api\u001b[38;5;241m.\u001b[39mget_top_boarders()\n",
      "File \u001b[1;32m~\\Documents\\nlp\\env\\Lib\\site-packages\\moneycontrolPy\\mcp.py:727\u001b[0m, in \u001b[0;36mAPI.get_top_boarders\u001b[1;34m(self, limit, limit_query, SCROLL_PAUSE_TIME, save_as_json, file_path)\u001b[0m\n\u001b[0;32m    721\u001b[0m \u001b[38;5;28;01mif\u001b[39;00m limit \u001b[38;5;129;01mis\u001b[39;00m \u001b[38;5;129;01mnot\u001b[39;00m \u001b[38;5;28;01mNone\u001b[39;00m:\n\u001b[0;32m    722\u001b[0m     limit_query \u001b[38;5;241m=\u001b[39m [\n\u001b[0;32m    723\u001b[0m         {\u001b[38;5;124m\"\u001b[39m\u001b[38;5;124msearch\u001b[39m\u001b[38;5;124m\"\u001b[39m: \u001b[38;5;124m\"\u001b[39m\u001b[38;5;124mdiv\u001b[39m\u001b[38;5;124m\"\u001b[39m, \u001b[38;5;124m\"\u001b[39m\u001b[38;5;124mclass\u001b[39m\u001b[38;5;124m\"\u001b[39m: \u001b[38;5;124m\"\u001b[39m\u001b[38;5;124mPA20\u001b[39m\u001b[38;5;124m\"\u001b[39m},\n\u001b[0;32m    724\u001b[0m         {\u001b[38;5;124m\"\u001b[39m\u001b[38;5;124msearch\u001b[39m\u001b[38;5;124m\"\u001b[39m: \u001b[38;5;124m\"\u001b[39m\u001b[38;5;124ma\u001b[39m\u001b[38;5;124m\"\u001b[39m, \u001b[38;5;124m\"\u001b[39m\u001b[38;5;124mclass\u001b[39m\u001b[38;5;124m\"\u001b[39m: \u001b[38;5;124m\"\u001b[39m\u001b[38;5;124mancor12a\u001b[39m\u001b[38;5;124m\"\u001b[39m},\n\u001b[0;32m    725\u001b[0m     ]\n\u001b[1;32m--> 727\u001b[0m soup \u001b[38;5;241m=\u001b[39m \u001b[38;5;28mself\u001b[39m\u001b[38;5;241m.\u001b[39m_parse(\n\u001b[0;32m    728\u001b[0m     \u001b[38;5;28mself\u001b[39m\u001b[38;5;241m.\u001b[39mTOP_BOARDERS_URL,\n\u001b[0;32m    729\u001b[0m     limit\u001b[38;5;241m=\u001b[39mlimit,\n\u001b[0;32m    730\u001b[0m     limit_query\u001b[38;5;241m=\u001b[39mlimit_query,\n\u001b[0;32m    731\u001b[0m     SCROLL_PAUSE_TIME\u001b[38;5;241m=\u001b[39mSCROLL_PAUSE_TIME,\n\u001b[0;32m    732\u001b[0m )\n\u001b[0;32m    733\u001b[0m division \u001b[38;5;241m=\u001b[39m soup\u001b[38;5;241m.\u001b[39mfind(\u001b[38;5;124m\"\u001b[39m\u001b[38;5;124mdiv\u001b[39m\u001b[38;5;124m\"\u001b[39m, class_\u001b[38;5;241m=\u001b[39m\u001b[38;5;124m\"\u001b[39m\u001b[38;5;124mPA20\u001b[39m\u001b[38;5;124m\"\u001b[39m)\n\u001b[0;32m    734\u001b[0m name_url \u001b[38;5;241m=\u001b[39m division\u001b[38;5;241m.\u001b[39mfindAll(\u001b[38;5;124m\"\u001b[39m\u001b[38;5;124ma\u001b[39m\u001b[38;5;124m\"\u001b[39m, class_\u001b[38;5;241m=\u001b[39m\u001b[38;5;124m\"\u001b[39m\u001b[38;5;124mancor12a\u001b[39m\u001b[38;5;124m\"\u001b[39m, limit\u001b[38;5;241m=\u001b[39mlimit)\n",
      "File \u001b[1;32m~\\Documents\\nlp\\env\\Lib\\site-packages\\moneycontrolPy\\mcp.py:81\u001b[0m, in \u001b[0;36mAPI._parse\u001b[1;34m(self, url, SCROLL_PAUSE_TIME, limit, limit_query)\u001b[0m\n\u001b[0;32m     60\u001b[0m \u001b[38;5;28;01mdef\u001b[39;00m \u001b[38;5;21m_parse\u001b[39m(\u001b[38;5;28mself\u001b[39m, url, SCROLL_PAUSE_TIME\u001b[38;5;241m=\u001b[39m\u001b[38;5;28;01mNone\u001b[39;00m, limit\u001b[38;5;241m=\u001b[39m\u001b[38;5;28;01mNone\u001b[39;00m, limit_query\u001b[38;5;241m=\u001b[39m\u001b[38;5;28;01mNone\u001b[39;00m):\n\u001b[0;32m     61\u001b[0m \u001b[38;5;250m    \u001b[39m\u001b[38;5;124;03m\"\"\"\u001b[39;00m\n\u001b[0;32m     62\u001b[0m \u001b[38;5;124;03m    This method invokes the _inti_driver and gets the HTML sourse of the page. Using Beautiful Soup the HTML is parsed and returned.\u001b[39;00m\n\u001b[0;32m     63\u001b[0m \u001b[38;5;124;03m    If the default SCROLL_PAUSE_TIME is None, if then then page won't get scrolled. In some cases, the contents are loaded only when the page is loaded, then the SCROLL_PAUSE_TIME should be given some floating point value.\u001b[39;00m\n\u001b[1;32m   (...)\u001b[0m\n\u001b[0;32m     79\u001b[0m \n\u001b[0;32m     80\u001b[0m \u001b[38;5;124;03m    \"\"\"\u001b[39;00m\n\u001b[1;32m---> 81\u001b[0m     driver \u001b[38;5;241m=\u001b[39m \u001b[38;5;28mself\u001b[39m\u001b[38;5;241m.\u001b[39m_init_driver(\u001b[38;5;28mself\u001b[39m\u001b[38;5;241m.\u001b[39mDRIVER_PATH)\n\u001b[0;32m     82\u001b[0m     driver\u001b[38;5;241m.\u001b[39mimplicitly_wait(\u001b[38;5;241m1\u001b[39m)\n\u001b[0;32m     83\u001b[0m     driver\u001b[38;5;241m.\u001b[39mget(url)\n",
      "File \u001b[1;32m~\\Documents\\nlp\\env\\Lib\\site-packages\\moneycontrolPy\\mcp.py:56\u001b[0m, in \u001b[0;36mAPI._init_driver\u001b[1;34m(self, WEB_DRIVER_PATH)\u001b[0m\n\u001b[0;32m     54\u001b[0m \u001b[38;5;28;01mif\u001b[39;00m \u001b[38;5;28mself\u001b[39m\u001b[38;5;241m.\u001b[39mBROWSER_VIEW \u001b[38;5;129;01mis\u001b[39;00m \u001b[38;5;28;01mFalse\u001b[39;00m:\n\u001b[0;32m     55\u001b[0m     options\u001b[38;5;241m.\u001b[39madd_argument(\u001b[38;5;124m\"\u001b[39m\u001b[38;5;124m--headless\u001b[39m\u001b[38;5;124m\"\u001b[39m)\n\u001b[1;32m---> 56\u001b[0m driver \u001b[38;5;241m=\u001b[39m webdriver\u001b[38;5;241m.\u001b[39mChrome(WEB_DRIVER_PATH, options\u001b[38;5;241m=\u001b[39moptions)\n\u001b[0;32m     58\u001b[0m \u001b[38;5;28;01mreturn\u001b[39;00m driver\n",
      "\u001b[1;31mTypeError\u001b[0m: WebDriver.__init__() got multiple values for argument 'options'"
     ]
    }
   ],
   "source": [
    "top_boarders = api.get_top_boarders()"
   ]
  },
  {
   "cell_type": "code",
   "execution_count": 1,
   "id": "70dd82c0-ef34-4195-b5bb-beac135021bc",
   "metadata": {},
   "outputs": [],
   "source": [
    "import moneycontrolPy.mcp as mcp\n",
    "\n",
    "api = mcp.API()\n",
    "#api.DRIVER_PATH = 'path_to_your_chromedriver_file/chromedriver'\n",
    "api.DRIVER_PATH = \"C:\\Program Files (x86)\\Microsoft\\Edge\\Application\\msedgedriver.exe\"\n",
    "url_user = \"https://mmb.moneycontrol.com/arvind151-user-profile-617276696e64313531.html\""
   ]
  },
  {
   "cell_type": "code",
   "execution_count": null,
   "id": "40136471-d303-4783-9ac8-e746eb28c0b2",
   "metadata": {},
   "outputs": [],
   "source": [
    "api = mcp.API()"
   ]
  },
  {
   "cell_type": "code",
   "execution_count": null,
   "id": "a6a6dbb1-8153-43ed-9755-ef5e6fe10ead",
   "metadata": {},
   "outputs": [],
   "source": [
    "import moneycontrolPy.mcp as mcp\n",
    "\n",
    "api = mcp.API()\n",
    "#api.DRIVER_PATH = 'path_to_your_chromedriver_file/chromedriver'\n",
    "api.DRIVER_PATH = \"C:\\Program Files (x86)\\Microsoft\\Edge\\Application\\msedgedriver.exe\"\n",
    "url_user = \"https://mmb.moneycontrol.com/arvind151-user-profile-617276696e64313531.html\"\n",
    "url_post = \"https://mmb.moneycontrol.com/forum-topics/stocks/hero-motocorp/thread-message-81248383-83073237.html\"\n",
    "#url_stock = 'https://mmb.moneycontrol.com/forum-topics/stocks/ab-money-246165.html'\n",
    "url_stock = \"https://www.moneycontrol.com/india/stockpricequote/power-generationdistribution/gvkpowerinfrastructure/GVK\"\n",
    "\n",
    "\"\"\"\n",
    "You could change the urls if you want to search \n",
    "for a specific user/post/stock from the moneycontol forum.\n",
    "\"\"\"\n",
    "\n",
    "user_info = api.get_user_info(url_user)                 #To extract the user information\n",
    "post_info = api.get_post_info(url_post)                 #To extract the post information\n",
    "stock_info = api.get_stock_info(url_stock)              #To extract the stock information\n",
    "top_boarders = api.get_top_boarders()                   #To extract the top boarders\n",
    "hot_stocks = api.get_stock_in_the_news()                #To extract the stock in the news\n",
    "\n",
    "\"\"\"\n",
    "There are numerous options/parameters available for each of the above functions functions. \n",
    "Please refer the docstring to find them all or you could see the source code & try to understand them.\n",
    "All these functions returns a dict.\n",
    "You can same them as json by passing the following parameter\n",
    "\n",
    "Eg.\n",
    "\n",
    "user_info = api.get_user_info(url_user,save_as_json=True)\n",
    "\"\"\""
   ]
  },
  {
   "cell_type": "code",
   "execution_count": 2,
   "id": "e97abd6e-98c4-44a8-9e3c-c5b95fea7ce4",
   "metadata": {},
   "outputs": [],
   "source": [
    "url_stock = \"https://www.moneycontrol.com/india/stockpricequote/power-generationdistribution/gvkpowerinfrastructure/GVK\"\n"
   ]
  },
  {
   "cell_type": "code",
   "execution_count": 3,
   "id": "253870e1-1504-4fb3-9890-afb4fad4e28b",
   "metadata": {},
   "outputs": [
    {
     "ename": "TypeError",
     "evalue": "WebDriver.__init__() got multiple values for argument 'options'",
     "output_type": "error",
     "traceback": [
      "\u001b[1;31m---------------------------------------------------------------------------\u001b[0m",
      "\u001b[1;31mTypeError\u001b[0m                                 Traceback (most recent call last)",
      "Cell \u001b[1;32mIn[3], line 1\u001b[0m\n\u001b[1;32m----> 1\u001b[0m stock_info \u001b[38;5;241m=\u001b[39m api\u001b[38;5;241m.\u001b[39mget_stock_info(url_stock)\n",
      "File \u001b[1;32m~\\Documents\\nlp\\env\\Lib\\site-packages\\moneycontrolPy\\mcp.py:658\u001b[0m, in \u001b[0;36mAPI.get_stock_info\u001b[1;34m(self, url, save_as_json, file_path)\u001b[0m\n\u001b[0;32m    635\u001b[0m \u001b[38;5;250m\u001b[39m\u001b[38;5;124;03m\"\"\"\u001b[39;00m\n\u001b[0;32m    636\u001b[0m \u001b[38;5;124;03mThis method gets the BSE and NSE values and percentage when the stock_url is given.\u001b[39;00m\n\u001b[0;32m    637\u001b[0m \n\u001b[1;32m   (...)\u001b[0m\n\u001b[0;32m    654\u001b[0m \n\u001b[0;32m    655\u001b[0m \u001b[38;5;124;03m\"\"\"\u001b[39;00m\n\u001b[0;32m    656\u001b[0m to_return \u001b[38;5;241m=\u001b[39m \u001b[38;5;28mdict\u001b[39m()\n\u001b[1;32m--> 658\u001b[0m soup \u001b[38;5;241m=\u001b[39m \u001b[38;5;28mself\u001b[39m\u001b[38;5;241m.\u001b[39m_parse(url, \u001b[38;5;241m0\u001b[39m)\n\u001b[0;32m    659\u001b[0m class_name \u001b[38;5;241m=\u001b[39m [\n\u001b[0;32m    660\u001b[0m     \u001b[38;5;124m\"\u001b[39m\u001b[38;5;124mspan_price_wrap stprh grnclr\u001b[39m\u001b[38;5;124m\"\u001b[39m,\n\u001b[0;32m    661\u001b[0m     \u001b[38;5;124m\"\u001b[39m\u001b[38;5;124mspan_price_wrap stprh grn_hilight grnclr\u001b[39m\u001b[38;5;124m\"\u001b[39m,\n\u001b[0;32m    662\u001b[0m     \u001b[38;5;124m\"\u001b[39m\u001b[38;5;124mspan_price_wrap stprh rdclr\u001b[39m\u001b[38;5;124m\"\u001b[39m,\n\u001b[0;32m    663\u001b[0m     \u001b[38;5;124m\"\u001b[39m\u001b[38;5;124mspan_price_wrap stprh red_hilight rdclr\u001b[39m\u001b[38;5;124m\"\u001b[39m,\n\u001b[0;32m    664\u001b[0m ]\n\u001b[0;32m    666\u001b[0m \u001b[38;5;28;01mfor\u001b[39;00m i \u001b[38;5;129;01min\u001b[39;00m class_name:\n",
      "File \u001b[1;32m~\\Documents\\nlp\\env\\Lib\\site-packages\\moneycontrolPy\\mcp.py:81\u001b[0m, in \u001b[0;36mAPI._parse\u001b[1;34m(self, url, SCROLL_PAUSE_TIME, limit, limit_query)\u001b[0m\n\u001b[0;32m     60\u001b[0m \u001b[38;5;28;01mdef\u001b[39;00m \u001b[38;5;21m_parse\u001b[39m(\u001b[38;5;28mself\u001b[39m, url, SCROLL_PAUSE_TIME\u001b[38;5;241m=\u001b[39m\u001b[38;5;28;01mNone\u001b[39;00m, limit\u001b[38;5;241m=\u001b[39m\u001b[38;5;28;01mNone\u001b[39;00m, limit_query\u001b[38;5;241m=\u001b[39m\u001b[38;5;28;01mNone\u001b[39;00m):\n\u001b[0;32m     61\u001b[0m \u001b[38;5;250m    \u001b[39m\u001b[38;5;124;03m\"\"\"\u001b[39;00m\n\u001b[0;32m     62\u001b[0m \u001b[38;5;124;03m    This method invokes the _inti_driver and gets the HTML sourse of the page. Using Beautiful Soup the HTML is parsed and returned.\u001b[39;00m\n\u001b[0;32m     63\u001b[0m \u001b[38;5;124;03m    If the default SCROLL_PAUSE_TIME is None, if then then page won't get scrolled. In some cases, the contents are loaded only when the page is loaded, then the SCROLL_PAUSE_TIME should be given some floating point value.\u001b[39;00m\n\u001b[1;32m   (...)\u001b[0m\n\u001b[0;32m     79\u001b[0m \n\u001b[0;32m     80\u001b[0m \u001b[38;5;124;03m    \"\"\"\u001b[39;00m\n\u001b[1;32m---> 81\u001b[0m     driver \u001b[38;5;241m=\u001b[39m \u001b[38;5;28mself\u001b[39m\u001b[38;5;241m.\u001b[39m_init_driver(\u001b[38;5;28mself\u001b[39m\u001b[38;5;241m.\u001b[39mDRIVER_PATH)\n\u001b[0;32m     82\u001b[0m     driver\u001b[38;5;241m.\u001b[39mimplicitly_wait(\u001b[38;5;241m1\u001b[39m)\n\u001b[0;32m     83\u001b[0m     driver\u001b[38;5;241m.\u001b[39mget(url)\n",
      "File \u001b[1;32m~\\Documents\\nlp\\env\\Lib\\site-packages\\moneycontrolPy\\mcp.py:56\u001b[0m, in \u001b[0;36mAPI._init_driver\u001b[1;34m(self, WEB_DRIVER_PATH)\u001b[0m\n\u001b[0;32m     54\u001b[0m \u001b[38;5;28;01mif\u001b[39;00m \u001b[38;5;28mself\u001b[39m\u001b[38;5;241m.\u001b[39mBROWSER_VIEW \u001b[38;5;129;01mis\u001b[39;00m \u001b[38;5;28;01mFalse\u001b[39;00m:\n\u001b[0;32m     55\u001b[0m     options\u001b[38;5;241m.\u001b[39madd_argument(\u001b[38;5;124m\"\u001b[39m\u001b[38;5;124m--headless\u001b[39m\u001b[38;5;124m\"\u001b[39m)\n\u001b[1;32m---> 56\u001b[0m driver \u001b[38;5;241m=\u001b[39m webdriver\u001b[38;5;241m.\u001b[39mChrome(WEB_DRIVER_PATH, options\u001b[38;5;241m=\u001b[39moptions)\n\u001b[0;32m     58\u001b[0m \u001b[38;5;28;01mreturn\u001b[39;00m driver\n",
      "\u001b[1;31mTypeError\u001b[0m: WebDriver.__init__() got multiple values for argument 'options'"
     ]
    }
   ],
   "source": [
    "stock_info = api.get_stock_info(url_stock)      "
   ]
  },
  {
   "cell_type": "code",
   "execution_count": 33,
   "id": "c4e5a1c0-eb6d-468e-9fa2-e16c21199e42",
   "metadata": {},
   "outputs": [
    {
     "ename": "TypeError",
     "evalue": "WebDriver.__init__() got an unexpected keyword argument 'executable_path'",
     "output_type": "error",
     "traceback": [
      "\u001b[1;31m---------------------------------------------------------------------------\u001b[0m",
      "\u001b[1;31mTypeError\u001b[0m                                 Traceback (most recent call last)",
      "Cell \u001b[1;32mIn[33], line 6\u001b[0m\n\u001b[0;32m      4\u001b[0m options \u001b[38;5;241m=\u001b[39m Options()\n\u001b[0;32m      5\u001b[0m options\u001b[38;5;241m.\u001b[39mheadless \u001b[38;5;241m=\u001b[39m \u001b[38;5;28;01mTrue\u001b[39;00m  \u001b[38;5;66;03m# Example option, adjust according to your needs\u001b[39;00m\n\u001b[1;32m----> 6\u001b[0m driver \u001b[38;5;241m=\u001b[39m webdriver\u001b[38;5;241m.\u001b[39mChrome(executable_path\u001b[38;5;241m=\u001b[39m\u001b[38;5;124m\"\u001b[39m\u001b[38;5;124mC:\u001b[39m\u001b[38;5;124m\\\u001b[39m\u001b[38;5;124mProgram Files (x86)\u001b[39m\u001b[38;5;124m\\\u001b[39m\u001b[38;5;124mMicrosoft\u001b[39m\u001b[38;5;124m\\\u001b[39m\u001b[38;5;124mEdge\u001b[39m\u001b[38;5;124m\\\u001b[39m\u001b[38;5;124mApplication\u001b[39m\u001b[38;5;124m\\\u001b[39m\u001b[38;5;124mmsedgedriver.exe\u001b[39m\u001b[38;5;124m\"\u001b[39m, options\u001b[38;5;241m=\u001b[39moptions)\n\u001b[0;32m      8\u001b[0m url_post \u001b[38;5;241m=\u001b[39m \u001b[38;5;124m\"\u001b[39m\u001b[38;5;124mhttps://mmb.moneycontrol.com/forum-topics/stocks/hero-motocorp/thread-message-81248383-83073237.html\u001b[39m\u001b[38;5;124m\"\u001b[39m\n\u001b[0;32m      9\u001b[0m url_stock \u001b[38;5;241m=\u001b[39m \u001b[38;5;124m'\u001b[39m\u001b[38;5;124mhttps://mmb.moneycontrol.com/forum-topics/stocks/ab-money-246165.html\u001b[39m\u001b[38;5;124m'\u001b[39m\n",
      "\u001b[1;31mTypeError\u001b[0m: WebDriver.__init__() got an unexpected keyword argument 'executable_path'"
     ]
    }
   ],
   "source": [
    "from selenium import webdriver\n",
    "from selenium.webdriver.chrome.options import Options\n",
    "\n",
    "options = Options()\n",
    "options.headless = True  # Example option, adjust according to your needs\n",
    "driver = webdriver.Chrome(executable_path=\"C:\\Program Files (x86)\\Microsoft\\Edge\\Application\\msedgedriver.exe\", options=options)\n",
    "\n",
    "url_post = \"https://mmb.moneycontrol.com/forum-topics/stocks/hero-motocorp/thread-message-81248383-83073237.html\"\n",
    "url_stock = 'https://mmb.moneycontrol.com/forum-topics/stocks/ab-money-246165.html'\n",
    "\n",
    "\"\"\"\n",
    "You could change the urls if you want to search \n",
    "for a specific user/post/stock from the moneycontol forum.\n",
    "\"\"\"\n",
    "\n",
    "user_info = api.get_user_info(url_user)                 #To extract the user information\n",
    "post_info = api.get_post_info(url_post)                 #To extract the post information\n",
    "stock_info = api.get_stock_info(url_stock)              #To extract the stock information\n",
    "top_boarders = api.get_top_boarders()                   #To extract the top boarders\n",
    "hot_stocks = api.get_stock_in_the_news()                #To extract the stock in the news\n",
    "\n"
   ]
  },
  {
   "cell_type": "code",
   "execution_count": 9,
   "id": "702cd9ca-c29a-48bd-a887-8f65e249c7a2",
   "metadata": {},
   "outputs": [],
   "source": [
    "from selenium import webdriver\n",
    "from selenium.webdriver.edge.service import Service\n",
    "from selenium.webdriver.edge.options import Options\n",
    "\n",
    "edge_options = Options()\n",
    "edge_options.headless = True  # Or False, as per your requirement\n",
    "\n",
    "s = Service(\"C:\\\\Program Files (x86)\\\\Microsoft\\\\Edge\\\\Application\\\\msedgedriver.exe\")\n",
    "driver = webdriver.Edge(service=s, options=edge_options)\n"
   ]
  },
  {
   "cell_type": "code",
   "execution_count": 7,
   "id": "9c33a22f-d90b-4fe2-b33e-3467d19c9ca5",
   "metadata": {},
   "outputs": [],
   "source": [
    "api = mcp.API()"
   ]
  },
  {
   "cell_type": "code",
   "execution_count": 11,
   "id": "0aca12c8-ef95-4b7e-9935-87f7142543c8",
   "metadata": {},
   "outputs": [
    {
     "ename": "TypeError",
     "evalue": "'WebDriver' object is not callable",
     "output_type": "error",
     "traceback": [
      "\u001b[1;31m---------------------------------------------------------------------------\u001b[0m",
      "\u001b[1;31mTypeError\u001b[0m                                 Traceback (most recent call last)",
      "Cell \u001b[1;32mIn[11], line 1\u001b[0m\n\u001b[1;32m----> 1\u001b[0m driver()\n",
      "\u001b[1;31mTypeError\u001b[0m: 'WebDriver' object is not callable"
     ]
    }
   ],
   "source": [
    "driver("
   ]
  },
  {
   "cell_type": "code",
   "execution_count": 12,
   "id": "4ed1ecad-1967-4181-b566-413203a15dfe",
   "metadata": {},
   "outputs": [
    {
     "ename": "TypeError",
     "evalue": "WebDriver.__init__() got multiple values for argument 'options'",
     "output_type": "error",
     "traceback": [
      "\u001b[1;31m---------------------------------------------------------------------------\u001b[0m",
      "\u001b[1;31mTypeError\u001b[0m                                 Traceback (most recent call last)",
      "Cell \u001b[1;32mIn[12], line 1\u001b[0m\n\u001b[1;32m----> 1\u001b[0m api\u001b[38;5;241m.\u001b[39mget_top_boarders()\n",
      "File \u001b[1;32m~\\Documents\\nlp\\env\\Lib\\site-packages\\moneycontrolPy\\mcp.py:727\u001b[0m, in \u001b[0;36mAPI.get_top_boarders\u001b[1;34m(self, limit, limit_query, SCROLL_PAUSE_TIME, save_as_json, file_path)\u001b[0m\n\u001b[0;32m    721\u001b[0m \u001b[38;5;28;01mif\u001b[39;00m limit \u001b[38;5;129;01mis\u001b[39;00m \u001b[38;5;129;01mnot\u001b[39;00m \u001b[38;5;28;01mNone\u001b[39;00m:\n\u001b[0;32m    722\u001b[0m     limit_query \u001b[38;5;241m=\u001b[39m [\n\u001b[0;32m    723\u001b[0m         {\u001b[38;5;124m\"\u001b[39m\u001b[38;5;124msearch\u001b[39m\u001b[38;5;124m\"\u001b[39m: \u001b[38;5;124m\"\u001b[39m\u001b[38;5;124mdiv\u001b[39m\u001b[38;5;124m\"\u001b[39m, \u001b[38;5;124m\"\u001b[39m\u001b[38;5;124mclass\u001b[39m\u001b[38;5;124m\"\u001b[39m: \u001b[38;5;124m\"\u001b[39m\u001b[38;5;124mPA20\u001b[39m\u001b[38;5;124m\"\u001b[39m},\n\u001b[0;32m    724\u001b[0m         {\u001b[38;5;124m\"\u001b[39m\u001b[38;5;124msearch\u001b[39m\u001b[38;5;124m\"\u001b[39m: \u001b[38;5;124m\"\u001b[39m\u001b[38;5;124ma\u001b[39m\u001b[38;5;124m\"\u001b[39m, \u001b[38;5;124m\"\u001b[39m\u001b[38;5;124mclass\u001b[39m\u001b[38;5;124m\"\u001b[39m: \u001b[38;5;124m\"\u001b[39m\u001b[38;5;124mancor12a\u001b[39m\u001b[38;5;124m\"\u001b[39m},\n\u001b[0;32m    725\u001b[0m     ]\n\u001b[1;32m--> 727\u001b[0m soup \u001b[38;5;241m=\u001b[39m \u001b[38;5;28mself\u001b[39m\u001b[38;5;241m.\u001b[39m_parse(\n\u001b[0;32m    728\u001b[0m     \u001b[38;5;28mself\u001b[39m\u001b[38;5;241m.\u001b[39mTOP_BOARDERS_URL,\n\u001b[0;32m    729\u001b[0m     limit\u001b[38;5;241m=\u001b[39mlimit,\n\u001b[0;32m    730\u001b[0m     limit_query\u001b[38;5;241m=\u001b[39mlimit_query,\n\u001b[0;32m    731\u001b[0m     SCROLL_PAUSE_TIME\u001b[38;5;241m=\u001b[39mSCROLL_PAUSE_TIME,\n\u001b[0;32m    732\u001b[0m )\n\u001b[0;32m    733\u001b[0m division \u001b[38;5;241m=\u001b[39m soup\u001b[38;5;241m.\u001b[39mfind(\u001b[38;5;124m\"\u001b[39m\u001b[38;5;124mdiv\u001b[39m\u001b[38;5;124m\"\u001b[39m, class_\u001b[38;5;241m=\u001b[39m\u001b[38;5;124m\"\u001b[39m\u001b[38;5;124mPA20\u001b[39m\u001b[38;5;124m\"\u001b[39m)\n\u001b[0;32m    734\u001b[0m name_url \u001b[38;5;241m=\u001b[39m division\u001b[38;5;241m.\u001b[39mfindAll(\u001b[38;5;124m\"\u001b[39m\u001b[38;5;124ma\u001b[39m\u001b[38;5;124m\"\u001b[39m, class_\u001b[38;5;241m=\u001b[39m\u001b[38;5;124m\"\u001b[39m\u001b[38;5;124mancor12a\u001b[39m\u001b[38;5;124m\"\u001b[39m, limit\u001b[38;5;241m=\u001b[39mlimit)\n",
      "File \u001b[1;32m~\\Documents\\nlp\\env\\Lib\\site-packages\\moneycontrolPy\\mcp.py:81\u001b[0m, in \u001b[0;36mAPI._parse\u001b[1;34m(self, url, SCROLL_PAUSE_TIME, limit, limit_query)\u001b[0m\n\u001b[0;32m     60\u001b[0m \u001b[38;5;28;01mdef\u001b[39;00m \u001b[38;5;21m_parse\u001b[39m(\u001b[38;5;28mself\u001b[39m, url, SCROLL_PAUSE_TIME\u001b[38;5;241m=\u001b[39m\u001b[38;5;28;01mNone\u001b[39;00m, limit\u001b[38;5;241m=\u001b[39m\u001b[38;5;28;01mNone\u001b[39;00m, limit_query\u001b[38;5;241m=\u001b[39m\u001b[38;5;28;01mNone\u001b[39;00m):\n\u001b[0;32m     61\u001b[0m \u001b[38;5;250m    \u001b[39m\u001b[38;5;124;03m\"\"\"\u001b[39;00m\n\u001b[0;32m     62\u001b[0m \u001b[38;5;124;03m    This method invokes the _inti_driver and gets the HTML sourse of the page. Using Beautiful Soup the HTML is parsed and returned.\u001b[39;00m\n\u001b[0;32m     63\u001b[0m \u001b[38;5;124;03m    If the default SCROLL_PAUSE_TIME is None, if then then page won't get scrolled. In some cases, the contents are loaded only when the page is loaded, then the SCROLL_PAUSE_TIME should be given some floating point value.\u001b[39;00m\n\u001b[1;32m   (...)\u001b[0m\n\u001b[0;32m     79\u001b[0m \n\u001b[0;32m     80\u001b[0m \u001b[38;5;124;03m    \"\"\"\u001b[39;00m\n\u001b[1;32m---> 81\u001b[0m     driver \u001b[38;5;241m=\u001b[39m \u001b[38;5;28mself\u001b[39m\u001b[38;5;241m.\u001b[39m_init_driver(\u001b[38;5;28mself\u001b[39m\u001b[38;5;241m.\u001b[39mDRIVER_PATH)\n\u001b[0;32m     82\u001b[0m     driver\u001b[38;5;241m.\u001b[39mimplicitly_wait(\u001b[38;5;241m1\u001b[39m)\n\u001b[0;32m     83\u001b[0m     driver\u001b[38;5;241m.\u001b[39mget(url)\n",
      "File \u001b[1;32m~\\Documents\\nlp\\env\\Lib\\site-packages\\moneycontrolPy\\mcp.py:56\u001b[0m, in \u001b[0;36mAPI._init_driver\u001b[1;34m(self, WEB_DRIVER_PATH)\u001b[0m\n\u001b[0;32m     54\u001b[0m \u001b[38;5;28;01mif\u001b[39;00m \u001b[38;5;28mself\u001b[39m\u001b[38;5;241m.\u001b[39mBROWSER_VIEW \u001b[38;5;129;01mis\u001b[39;00m \u001b[38;5;28;01mFalse\u001b[39;00m:\n\u001b[0;32m     55\u001b[0m     options\u001b[38;5;241m.\u001b[39madd_argument(\u001b[38;5;124m\"\u001b[39m\u001b[38;5;124m--headless\u001b[39m\u001b[38;5;124m\"\u001b[39m)\n\u001b[1;32m---> 56\u001b[0m driver \u001b[38;5;241m=\u001b[39m webdriver\u001b[38;5;241m.\u001b[39mChrome(WEB_DRIVER_PATH, options\u001b[38;5;241m=\u001b[39moptions)\n\u001b[0;32m     58\u001b[0m \u001b[38;5;28;01mreturn\u001b[39;00m driver\n",
      "\u001b[1;31mTypeError\u001b[0m: WebDriver.__init__() got multiple values for argument 'options'"
     ]
    }
   ],
   "source": [
    "api.get_top_boarders()"
   ]
  },
  {
   "cell_type": "code",
   "execution_count": 6,
   "id": "f067a354-e0d4-461a-bef6-aeee118087bd",
   "metadata": {},
   "outputs": [
    {
     "ename": "TypeError",
     "evalue": "WebDriver.__init__() got multiple values for argument 'options'",
     "output_type": "error",
     "traceback": [
      "\u001b[1;31m---------------------------------------------------------------------------\u001b[0m",
      "\u001b[1;31mTypeError\u001b[0m                                 Traceback (most recent call last)",
      "Cell \u001b[1;32mIn[6], line 10\u001b[0m\n\u001b[0;32m      3\u001b[0m \u001b[38;5;124;03m\"\"\"\u001b[39;00m\n\u001b[0;32m      4\u001b[0m \u001b[38;5;124;03mYou could change the urls if you want to search \u001b[39;00m\n\u001b[0;32m      5\u001b[0m \u001b[38;5;124;03mfor a specific user/post/stock from the moneycontol forum.\u001b[39;00m\n\u001b[0;32m      6\u001b[0m \u001b[38;5;124;03m\"\"\"\u001b[39;00m\n\u001b[0;32m      8\u001b[0m \u001b[38;5;66;03m#user_info = api.get_user_info(url_user)                 #To extract the user information\u001b[39;00m\n\u001b[0;32m      9\u001b[0m \u001b[38;5;66;03m#post_info = api.get_post_info(url_post)                 #To extract the post information\u001b[39;00m\n\u001b[1;32m---> 10\u001b[0m stock_info \u001b[38;5;241m=\u001b[39m api\u001b[38;5;241m.\u001b[39mget_stock_info(url_stock)\n",
      "File \u001b[1;32m~\\Documents\\nlp\\env\\Lib\\site-packages\\moneycontrolPy\\mcp.py:658\u001b[0m, in \u001b[0;36mAPI.get_stock_info\u001b[1;34m(self, url, save_as_json, file_path)\u001b[0m\n\u001b[0;32m    635\u001b[0m \u001b[38;5;250m\u001b[39m\u001b[38;5;124;03m\"\"\"\u001b[39;00m\n\u001b[0;32m    636\u001b[0m \u001b[38;5;124;03mThis method gets the BSE and NSE values and percentage when the stock_url is given.\u001b[39;00m\n\u001b[0;32m    637\u001b[0m \n\u001b[1;32m   (...)\u001b[0m\n\u001b[0;32m    654\u001b[0m \n\u001b[0;32m    655\u001b[0m \u001b[38;5;124;03m\"\"\"\u001b[39;00m\n\u001b[0;32m    656\u001b[0m to_return \u001b[38;5;241m=\u001b[39m \u001b[38;5;28mdict\u001b[39m()\n\u001b[1;32m--> 658\u001b[0m soup \u001b[38;5;241m=\u001b[39m \u001b[38;5;28mself\u001b[39m\u001b[38;5;241m.\u001b[39m_parse(url, \u001b[38;5;241m0\u001b[39m)\n\u001b[0;32m    659\u001b[0m class_name \u001b[38;5;241m=\u001b[39m [\n\u001b[0;32m    660\u001b[0m     \u001b[38;5;124m\"\u001b[39m\u001b[38;5;124mspan_price_wrap stprh grnclr\u001b[39m\u001b[38;5;124m\"\u001b[39m,\n\u001b[0;32m    661\u001b[0m     \u001b[38;5;124m\"\u001b[39m\u001b[38;5;124mspan_price_wrap stprh grn_hilight grnclr\u001b[39m\u001b[38;5;124m\"\u001b[39m,\n\u001b[0;32m    662\u001b[0m     \u001b[38;5;124m\"\u001b[39m\u001b[38;5;124mspan_price_wrap stprh rdclr\u001b[39m\u001b[38;5;124m\"\u001b[39m,\n\u001b[0;32m    663\u001b[0m     \u001b[38;5;124m\"\u001b[39m\u001b[38;5;124mspan_price_wrap stprh red_hilight rdclr\u001b[39m\u001b[38;5;124m\"\u001b[39m,\n\u001b[0;32m    664\u001b[0m ]\n\u001b[0;32m    666\u001b[0m \u001b[38;5;28;01mfor\u001b[39;00m i \u001b[38;5;129;01min\u001b[39;00m class_name:\n",
      "File \u001b[1;32m~\\Documents\\nlp\\env\\Lib\\site-packages\\moneycontrolPy\\mcp.py:81\u001b[0m, in \u001b[0;36mAPI._parse\u001b[1;34m(self, url, SCROLL_PAUSE_TIME, limit, limit_query)\u001b[0m\n\u001b[0;32m     60\u001b[0m \u001b[38;5;28;01mdef\u001b[39;00m \u001b[38;5;21m_parse\u001b[39m(\u001b[38;5;28mself\u001b[39m, url, SCROLL_PAUSE_TIME\u001b[38;5;241m=\u001b[39m\u001b[38;5;28;01mNone\u001b[39;00m, limit\u001b[38;5;241m=\u001b[39m\u001b[38;5;28;01mNone\u001b[39;00m, limit_query\u001b[38;5;241m=\u001b[39m\u001b[38;5;28;01mNone\u001b[39;00m):\n\u001b[0;32m     61\u001b[0m \u001b[38;5;250m    \u001b[39m\u001b[38;5;124;03m\"\"\"\u001b[39;00m\n\u001b[0;32m     62\u001b[0m \u001b[38;5;124;03m    This method invokes the _inti_driver and gets the HTML sourse of the page. Using Beautiful Soup the HTML is parsed and returned.\u001b[39;00m\n\u001b[0;32m     63\u001b[0m \u001b[38;5;124;03m    If the default SCROLL_PAUSE_TIME is None, if then then page won't get scrolled. In some cases, the contents are loaded only when the page is loaded, then the SCROLL_PAUSE_TIME should be given some floating point value.\u001b[39;00m\n\u001b[1;32m   (...)\u001b[0m\n\u001b[0;32m     79\u001b[0m \n\u001b[0;32m     80\u001b[0m \u001b[38;5;124;03m    \"\"\"\u001b[39;00m\n\u001b[1;32m---> 81\u001b[0m     driver \u001b[38;5;241m=\u001b[39m \u001b[38;5;28mself\u001b[39m\u001b[38;5;241m.\u001b[39m_init_driver(\u001b[38;5;28mself\u001b[39m\u001b[38;5;241m.\u001b[39mDRIVER_PATH)\n\u001b[0;32m     82\u001b[0m     driver\u001b[38;5;241m.\u001b[39mimplicitly_wait(\u001b[38;5;241m1\u001b[39m)\n\u001b[0;32m     83\u001b[0m     driver\u001b[38;5;241m.\u001b[39mget(url)\n",
      "File \u001b[1;32m~\\Documents\\nlp\\env\\Lib\\site-packages\\moneycontrolPy\\mcp.py:56\u001b[0m, in \u001b[0;36mAPI._init_driver\u001b[1;34m(self, WEB_DRIVER_PATH)\u001b[0m\n\u001b[0;32m     54\u001b[0m \u001b[38;5;28;01mif\u001b[39;00m \u001b[38;5;28mself\u001b[39m\u001b[38;5;241m.\u001b[39mBROWSER_VIEW \u001b[38;5;129;01mis\u001b[39;00m \u001b[38;5;28;01mFalse\u001b[39;00m:\n\u001b[0;32m     55\u001b[0m     options\u001b[38;5;241m.\u001b[39madd_argument(\u001b[38;5;124m\"\u001b[39m\u001b[38;5;124m--headless\u001b[39m\u001b[38;5;124m\"\u001b[39m)\n\u001b[1;32m---> 56\u001b[0m driver \u001b[38;5;241m=\u001b[39m webdriver\u001b[38;5;241m.\u001b[39mChrome(WEB_DRIVER_PATH, options\u001b[38;5;241m=\u001b[39moptions)\n\u001b[0;32m     58\u001b[0m \u001b[38;5;28;01mreturn\u001b[39;00m driver\n",
      "\u001b[1;31mTypeError\u001b[0m: WebDriver.__init__() got multiple values for argument 'options'"
     ]
    }
   ],
   "source": [
    "url_stock = 'https://mmb.moneycontrol.com/forum-topics/stocks/ab-money-246165.html'\n",
    "\n",
    "\"\"\"\n",
    "You could change the urls if you want to search \n",
    "for a specific user/post/stock from the moneycontol forum.\n",
    "\"\"\"\n",
    "\n",
    "#user_info = api.get_user_info(url_user)                 #To extract the user information\n",
    "#post_info = api.get_post_info(url_post)                 #To extract the post information\n",
    "stock_info = api.get_stock_info(url_stock)              #To extract the stock information\n",
    "#top_boarders = api.get_top_boarders()                   #To extract the top boarders\n",
    "#hot_stocks = api.get_stock_in_the_news()                #To extract the stock in the news"
   ]
  },
  {
   "cell_type": "code",
   "execution_count": null,
   "id": "249ab9ce-af7e-4367-bb25-5f52088b56ff",
   "metadata": {},
   "outputs": [],
   "source": []
  }
 ],
 "metadata": {
  "kernelspec": {
   "display_name": "Python 3 (ipykernel)",
   "language": "python",
   "name": "python3"
  },
  "language_info": {
   "codemirror_mode": {
    "name": "ipython",
    "version": 3
   },
   "file_extension": ".py",
   "mimetype": "text/x-python",
   "name": "python",
   "nbconvert_exporter": "python",
   "pygments_lexer": "ipython3",
   "version": "3.11.7"
  }
 },
 "nbformat": 4,
 "nbformat_minor": 5
}
