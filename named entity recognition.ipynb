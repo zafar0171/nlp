{
 "cells": [
  {
   "cell_type": "code",
   "execution_count": 1,
   "id": "889d0e07-6d50-4ed4-83b5-fe8e53e2ffca",
   "metadata": {},
   "outputs": [],
   "source": [
    "import spacy"
   ]
  },
  {
   "cell_type": "markdown",
   "id": "53f593f8-8b06-48ff-b6a3-83ed12e5fd59",
   "metadata": {},
   "source": [
    "!pip install pymysql"
   ]
  },
  {
   "cell_type": "code",
   "execution_count": 2,
   "id": "f1d5afe7-26fe-4f34-967d-406e78027de1",
   "metadata": {},
   "outputs": [],
   "source": [
    "text = 'Tata Power, Dixon Technologies among 5 stocks with short buildup - The Economic Times'"
   ]
  },
  {
   "cell_type": "markdown",
   "id": "f0779d6a-574b-41bc-8183-32755d2656eb",
   "metadata": {},
   "source": [
    "!python -m spacy download en_core_web_lg"
   ]
  },
  {
   "cell_type": "code",
   "execution_count": 3,
   "id": "3fa1aba1-f7cd-4058-a2e9-54d12a848b2f",
   "metadata": {},
   "outputs": [
    {
     "data": {
      "text/plain": [
       "<spacy.lang.en.English at 0x1af26147550>"
      ]
     },
     "execution_count": 3,
     "metadata": {},
     "output_type": "execute_result"
    }
   ],
   "source": [
    "nlp = spacy.load('en_core_web_lg')\n",
    "nlp"
   ]
  },
  {
   "cell_type": "code",
   "execution_count": 4,
   "id": "c1d8c8f3-541e-4dd3-be2e-33286f73d8ce",
   "metadata": {},
   "outputs": [],
   "source": [
    "doc = nlp(text)\n"
   ]
  },
  {
   "cell_type": "code",
   "execution_count": 5,
   "id": "c16e84d2-b794-4344-8786-877bfe576658",
   "metadata": {},
   "outputs": [
    {
     "data": {
      "text/plain": [
       "spacy.tokens.doc.Doc"
      ]
     },
     "execution_count": 5,
     "metadata": {},
     "output_type": "execute_result"
    }
   ],
   "source": [
    "type(doc)"
   ]
  },
  {
   "cell_type": "code",
   "execution_count": 6,
   "id": "28484bff-37f5-4c47-8f74-59ad223e7099",
   "metadata": {},
   "outputs": [
    {
     "data": {
      "text/plain": [
       "'Tata Power, Dixon Technologies among 5 stocks with short buildup - The Economic Times'"
      ]
     },
     "execution_count": 6,
     "metadata": {},
     "output_type": "execute_result"
    }
   ],
   "source": [
    "text"
   ]
  },
  {
   "cell_type": "code",
   "execution_count": 7,
   "id": "16d60d20-792a-443c-9865-5cc7d2b776f8",
   "metadata": {},
   "outputs": [
    {
     "data": {
      "text/plain": [
       "(Tata Power, Dixon Technologies, 5)"
      ]
     },
     "execution_count": 7,
     "metadata": {},
     "output_type": "execute_result"
    }
   ],
   "source": [
    "doc.ents"
   ]
  },
  {
   "cell_type": "code",
   "execution_count": 8,
   "id": "4601af91-e475-49fe-a57c-a5c26a7208cf",
   "metadata": {},
   "outputs": [
    {
     "data": {
      "text/html": [
       "<span class=\"tex2jax_ignore\"><div class=\"entities\" style=\"line-height: 2.5; direction: ltr\">\n",
       "<mark class=\"entity\" style=\"background: #7aecec; padding: 0.45em 0.6em; margin: 0 0.25em; line-height: 1; border-radius: 0.35em;\">\n",
       "    Tata Power\n",
       "    <span style=\"font-size: 0.8em; font-weight: bold; line-height: 1; border-radius: 0.35em; vertical-align: middle; margin-left: 0.5rem\">ORG</span>\n",
       "</mark>\n",
       ", \n",
       "<mark class=\"entity\" style=\"background: #7aecec; padding: 0.45em 0.6em; margin: 0 0.25em; line-height: 1; border-radius: 0.35em;\">\n",
       "    Dixon Technologies\n",
       "    <span style=\"font-size: 0.8em; font-weight: bold; line-height: 1; border-radius: 0.35em; vertical-align: middle; margin-left: 0.5rem\">ORG</span>\n",
       "</mark>\n",
       " among \n",
       "<mark class=\"entity\" style=\"background: #e4e7d2; padding: 0.45em 0.6em; margin: 0 0.25em; line-height: 1; border-radius: 0.35em;\">\n",
       "    5\n",
       "    <span style=\"font-size: 0.8em; font-weight: bold; line-height: 1; border-radius: 0.35em; vertical-align: middle; margin-left: 0.5rem\">CARDINAL</span>\n",
       "</mark>\n",
       " stocks with short buildup - The Economic Times</div></span>"
      ],
      "text/plain": [
       "<IPython.core.display.HTML object>"
      ]
     },
     "metadata": {},
     "output_type": "display_data"
    }
   ],
   "source": [
    "spacy.displacy.render(doc,style = 'ent')"
   ]
  },
  {
   "cell_type": "code",
   "execution_count": 88,
   "id": "b8c2a7cb-7a01-4cd1-b37b-f439d314743b",
   "metadata": {},
   "outputs": [],
   "source": [
    "import pymysql"
   ]
  },
  {
   "cell_type": "code",
   "execution_count": 89,
   "id": "30f7afce-4bcb-4fb7-a0cb-443452ffafed",
   "metadata": {},
   "outputs": [],
   "source": [
    "connection = pymysql.Connect(user = 'root',\n",
    "                         password = 'Thermodynamics@1',\n",
    "                         host = 'localhost',\n",
    "                         database = 'stocks')"
   ]
  },
  {
   "cell_type": "code",
   "execution_count": 90,
   "id": "263c7fba-9755-4b07-848b-53c9c6467de9",
   "metadata": {},
   "outputs": [],
   "source": [
    "mycursor = connection.cursor()"
   ]
  },
  {
   "cell_type": "code",
   "execution_count": 91,
   "id": "f33ef828-35dc-4435-b886-12bf7944c9af",
   "metadata": {},
   "outputs": [],
   "source": [
    "query = 'select * from goog_rss'\n"
   ]
  },
  {
   "cell_type": "code",
   "execution_count": 87,
   "id": "fb42e9f4-b8a2-4825-83ee-9d8e22dc4fe8",
   "metadata": {},
   "outputs": [],
   "source": [
    "import pandas as pd\n",
    "\n",
    "def get_connection():\n",
    "    try:\n",
    "        user = 'root',\n",
    "        password = 'Thermodynamics@1',\n",
    "        host = 'localhost',\n",
    "        database = 'stocks'\n",
    "        \n",
    "        print(\"Connection to MySQL database was successful\")\n",
    "        return connection\n",
    "    except pymysql.MySQLError as e:\n",
    "        print(f\"Error while connecting to MySQL: {e}\")\n",
    "        return None"
   ]
  },
  {
   "cell_type": "code",
   "execution_count": 92,
   "id": "e243a7c9-22c2-4b5d-bc7a-8929f37dfd8c",
   "metadata": {},
   "outputs": [
    {
     "name": "stdout",
     "output_type": "stream",
     "text": [
      "Connection to MySQL database was successful\n"
     ]
    }
   ],
   "source": [
    "mydb = get_connection()"
   ]
  },
  {
   "cell_type": "code",
   "execution_count": 93,
   "id": "30398842-698b-4da7-8be5-698f82f71492",
   "metadata": {},
   "outputs": [
    {
     "data": {
      "text/plain": [
       "1079"
      ]
     },
     "execution_count": 93,
     "metadata": {},
     "output_type": "execute_result"
    }
   ],
   "source": [
    "query = \"SELECT * FROM goog_rss\"\n",
    "mycursor.execute(query)"
   ]
  },
  {
   "cell_type": "code",
   "execution_count": 94,
   "id": "578df56c-5117-4b0a-91ea-582fe7439580",
   "metadata": {},
   "outputs": [],
   "source": [
    "results = mycursor.fetchall()"
   ]
  },
  {
   "cell_type": "code",
   "execution_count": 95,
   "id": "c414e8a5-da86-4f59-aa04-acc494339ab5",
   "metadata": {},
   "outputs": [],
   "source": [
    "import pandas as pd"
   ]
  },
  {
   "cell_type": "code",
   "execution_count": 96,
   "id": "d758e769-4ecf-488e-939d-30ba1d1fb6d5",
   "metadata": {},
   "outputs": [
    {
     "data": {
      "text/html": [
       "<div>\n",
       "<style scoped>\n",
       "    .dataframe tbody tr th:only-of-type {\n",
       "        vertical-align: middle;\n",
       "    }\n",
       "\n",
       "    .dataframe tbody tr th {\n",
       "        vertical-align: top;\n",
       "    }\n",
       "\n",
       "    .dataframe thead th {\n",
       "        text-align: right;\n",
       "    }\n",
       "</style>\n",
       "<table border=\"1\" class=\"dataframe\">\n",
       "  <thead>\n",
       "    <tr style=\"text-align: right;\">\n",
       "      <th></th>\n",
       "      <th>headline</th>\n",
       "      <th>url</th>\n",
       "    </tr>\n",
       "  </thead>\n",
       "  <tbody>\n",
       "    <tr>\n",
       "      <th>1074</th>\n",
       "      <td>Four Unexplored Indian Basins May Hold More Oi...</td>\n",
       "      <td>https://news.google.com/rss/articles/CBMia2h0d...</td>\n",
       "    </tr>\n",
       "    <tr>\n",
       "      <th>1075</th>\n",
       "      <td>IRDAI imposes Rs 2 crore penalty on Bajaj Fina...</td>\n",
       "      <td>https://news.google.com/rss/articles/CBMijgFod...</td>\n",
       "    </tr>\n",
       "    <tr>\n",
       "      <th>1076</th>\n",
       "      <td>Camlin Founder Subhash Dandekar Passes Away At...</td>\n",
       "      <td>https://news.google.com/rss/articles/CBMiXmh0d...</td>\n",
       "    </tr>\n",
       "    <tr>\n",
       "      <th>1077</th>\n",
       "      <td>Exclusive: Crisis-Hit BYJU’S Locked Out Of Ove...</td>\n",
       "      <td>https://news.google.com/rss/articles/CBMiamh0d...</td>\n",
       "    </tr>\n",
       "    <tr>\n",
       "      <th>1078</th>\n",
       "      <td>Stock Radar: Jio Financial, Angel One, Unichem...</td>\n",
       "      <td>https://news.google.com/rss/articles/CBMikQFod...</td>\n",
       "    </tr>\n",
       "  </tbody>\n",
       "</table>\n",
       "</div>"
      ],
      "text/plain": [
       "                                               headline  \\\n",
       "1074  Four Unexplored Indian Basins May Hold More Oi...   \n",
       "1075  IRDAI imposes Rs 2 crore penalty on Bajaj Fina...   \n",
       "1076  Camlin Founder Subhash Dandekar Passes Away At...   \n",
       "1077  Exclusive: Crisis-Hit BYJU’S Locked Out Of Ove...   \n",
       "1078  Stock Radar: Jio Financial, Angel One, Unichem...   \n",
       "\n",
       "                                                    url  \n",
       "1074  https://news.google.com/rss/articles/CBMia2h0d...  \n",
       "1075  https://news.google.com/rss/articles/CBMijgFod...  \n",
       "1076  https://news.google.com/rss/articles/CBMiXmh0d...  \n",
       "1077  https://news.google.com/rss/articles/CBMiamh0d...  \n",
       "1078  https://news.google.com/rss/articles/CBMikQFod...  "
      ]
     },
     "execution_count": 96,
     "metadata": {},
     "output_type": "execute_result"
    }
   ],
   "source": [
    "df= pd.DataFrame(results, columns = ['headline','url'])\n",
    "df.tail()"
   ]
  },
  {
   "cell_type": "code",
   "execution_count": 20,
   "id": "bbde5474-73be-4d6e-905d-57b0740f5c81",
   "metadata": {},
   "outputs": [
    {
     "data": {
      "text/plain": [
       "'Stock to buy before Budget 2024: Anil Singhvi picks this PSU stock for up to 47% gains; check details - Zee Business'"
      ]
     },
     "execution_count": 20,
     "metadata": {},
     "output_type": "execute_result"
    }
   ],
   "source": [
    "df.headline.loc[851]"
   ]
  },
  {
   "cell_type": "code",
   "execution_count": 21,
   "id": "dc5ea621-577b-4d0c-8421-ba1fa4636773",
   "metadata": {},
   "outputs": [],
   "source": [
    "\n",
    "mycursor.close()\n",
    "mydb.close()"
   ]
  },
  {
   "cell_type": "code",
   "execution_count": null,
   "id": "2e19ee4e-a774-424d-8b86-a42ecebca536",
   "metadata": {},
   "outputs": [],
   "source": [
    "for text in df.headline:\n",
    "    doc = nlp(text)\n",
    "    print(spacy.displacy.render(doc,style = 'ent'))\n",
    "    \n",
    "    "
   ]
  },
  {
   "cell_type": "markdown",
   "id": "83b33db4-9696-4547-be53-e02044d2d1d9",
   "metadata": {},
   "source": [
    "for text in df.headline:\n",
    "    doc = nlp(text)\n",
    "    for token in doc:\n",
    "    # Check if the token resembles a number\n",
    "        if token.like_num:\n",
    "            # Get the next token in the document\n",
    "            next_token = doc[token.i + 1]\n",
    "            # Check if the next token's text equals \"%\"\n",
    "            if next_token.text == \"%\":\n",
    "                print(\"Percentage found:\", token.text)\n",
    "            else:\n",
    "                pass"
   ]
  },
  {
   "cell_type": "code",
   "execution_count": 41,
   "id": "fd8fb25f-209a-4e2a-9bed-e62f5579d53a",
   "metadata": {},
   "outputs": [
    {
     "data": {
      "text/plain": [
       "Tata Power, Dixon Technologies among 5 stocks with short buildup - The Economic Times"
      ]
     },
     "execution_count": 41,
     "metadata": {},
     "output_type": "execute_result"
    }
   ],
   "source": [
    "spacy.vocab.Lookups."
   ]
  },
  {
   "cell_type": "code",
   "execution_count": 43,
   "id": "d145f89a-e860-47ab-804c-4602b5731866",
   "metadata": {},
   "outputs": [
    {
     "name": "stdout",
     "output_type": "stream",
     "text": [
      "not found\n",
      "not found\n",
      "not found\n",
      "not found\n",
      "not found\n",
      "not found\n",
      "not found\n",
      "not found\n",
      "not found\n",
      "not found\n",
      "not found\n",
      "not found\n",
      "not found\n",
      "not found\n",
      "not found\n"
     ]
    }
   ],
   "source": [
    "for token in doc:\n",
    "    # Check if the token resembles a number\n",
    "   for token in doc:\n",
    "    # Check if the token resembles a number\n",
    "    if token.like_num:\n",
    "        # Get the next token in the document\n",
    "        next_token = doc[token.i + 1]\n",
    "        # Check if the next token's text equals \"%\"\n",
    "        if next_token.text == \"%\":\n",
    "            print(\"Percentage found:\", token.text)\n",
    "        else:\n",
    "            print(\"not found\")"
   ]
  },
  {
   "cell_type": "markdown",
   "id": "ff466be8-d0c1-4683-a7ce-2c40fd55f6a4",
   "metadata": {},
   "source": [
    "!pip install stanford_openie"
   ]
  },
  {
   "cell_type": "code",
   "execution_count": 23,
   "id": "4648d5aa-c9bd-4fc2-9b49-2f55fb4782b2",
   "metadata": {},
   "outputs": [
    {
     "name": "stdout",
     "output_type": "stream",
     "text": [
      "Collecting transformers\n",
      "  Downloading transformers-4.42.4-py3-none-any.whl.metadata (43 kB)\n",
      "     ---------------------------------------- 0.0/43.6 kB ? eta -:--:--\n",
      "     --------- ------------------------------ 10.2/43.6 kB ? eta -:--:--\n",
      "     -------------------------- ----------- 30.7/43.6 kB 262.6 kB/s eta 0:00:01\n",
      "     -------------------------------------- 43.6/43.6 kB 306.3 kB/s eta 0:00:00\n",
      "Requirement already satisfied: filelock in c:\\users\\modza\\documents\\nlp\\env\\lib\\site-packages (from transformers) (3.13.1)\n",
      "Collecting huggingface-hub<1.0,>=0.23.2 (from transformers)\n",
      "  Downloading huggingface_hub-0.23.4-py3-none-any.whl.metadata (12 kB)\n",
      "Requirement already satisfied: numpy<2.0,>=1.17 in c:\\users\\modza\\appdata\\roaming\\python\\python311\\site-packages (from transformers) (1.24.3)\n",
      "Requirement already satisfied: packaging>=20.0 in c:\\users\\modza\\documents\\nlp\\env\\lib\\site-packages (from transformers) (23.1)\n",
      "Requirement already satisfied: pyyaml>=5.1 in c:\\users\\modza\\documents\\nlp\\env\\lib\\site-packages (from transformers) (6.0.1)\n",
      "Requirement already satisfied: regex!=2019.12.17 in c:\\users\\modza\\documents\\nlp\\env\\lib\\site-packages (from transformers) (2023.10.3)\n",
      "Requirement already satisfied: requests in c:\\users\\modza\\documents\\nlp\\env\\lib\\site-packages (from transformers) (2.31.0)\n",
      "Collecting safetensors>=0.4.1 (from transformers)\n",
      "  Downloading safetensors-0.4.3-cp311-none-win_amd64.whl.metadata (3.9 kB)\n",
      "Collecting tokenizers<0.20,>=0.19 (from transformers)\n",
      "  Downloading tokenizers-0.19.1-cp311-none-win_amd64.whl.metadata (6.9 kB)\n",
      "Requirement already satisfied: tqdm>=4.27 in c:\\users\\modza\\documents\\nlp\\env\\lib\\site-packages (from transformers) (4.65.0)\n",
      "Requirement already satisfied: fsspec>=2023.5.0 in c:\\users\\modza\\documents\\nlp\\env\\lib\\site-packages (from huggingface-hub<1.0,>=0.23.2->transformers) (2023.10.0)\n",
      "Requirement already satisfied: typing-extensions>=3.7.4.3 in c:\\users\\modza\\documents\\nlp\\env\\lib\\site-packages (from huggingface-hub<1.0,>=0.23.2->transformers) (4.12.2)\n",
      "Requirement already satisfied: colorama in c:\\users\\modza\\documents\\nlp\\env\\lib\\site-packages (from tqdm>=4.27->transformers) (0.4.6)\n",
      "Requirement already satisfied: charset-normalizer<4,>=2 in c:\\users\\modza\\documents\\nlp\\env\\lib\\site-packages (from requests->transformers) (2.0.4)\n",
      "Requirement already satisfied: idna<4,>=2.5 in c:\\users\\modza\\documents\\nlp\\env\\lib\\site-packages (from requests->transformers) (3.4)\n",
      "Requirement already satisfied: urllib3<3,>=1.21.1 in c:\\users\\modza\\documents\\nlp\\env\\lib\\site-packages (from requests->transformers) (1.26.18)\n",
      "Requirement already satisfied: certifi>=2017.4.17 in c:\\users\\modza\\documents\\nlp\\env\\lib\\site-packages (from requests->transformers) (2023.11.17)\n",
      "Downloading transformers-4.42.4-py3-none-any.whl (9.3 MB)\n",
      "   ---------------------------------------- 0.0/9.3 MB ? eta -:--:--\n",
      "   - -------------------------------------- 0.5/9.3 MB 14.5 MB/s eta 0:00:01\n",
      "   ------ --------------------------------- 1.4/9.3 MB 23.1 MB/s eta 0:00:01\n",
      "   ------ --------------------------------- 1.4/9.3 MB 23.1 MB/s eta 0:00:01\n",
      "   ------ --------------------------------- 1.4/9.3 MB 23.1 MB/s eta 0:00:01\n",
      "   ------ --------------------------------- 1.4/9.3 MB 23.1 MB/s eta 0:00:01\n",
      "   ------ --------------------------------- 1.4/9.3 MB 23.1 MB/s eta 0:00:01\n",
      "   ------ --------------------------------- 1.4/9.3 MB 23.1 MB/s eta 0:00:01\n",
      "   ------ --------------------------------- 1.5/9.3 MB 4.5 MB/s eta 0:00:02\n",
      "   -------- ------------------------------- 1.9/9.3 MB 4.8 MB/s eta 0:00:02\n",
      "   ------------ --------------------------- 2.9/9.3 MB 6.7 MB/s eta 0:00:01\n",
      "   ------------- -------------------------- 3.2/9.3 MB 6.6 MB/s eta 0:00:01\n",
      "   -------------- ------------------------- 3.4/9.3 MB 6.2 MB/s eta 0:00:01\n",
      "   ---------------- ----------------------- 3.8/9.3 MB 6.4 MB/s eta 0:00:01\n",
      "   ----------------- ---------------------- 4.1/9.3 MB 6.5 MB/s eta 0:00:01\n",
      "   ------------------ --------------------- 4.3/9.3 MB 6.4 MB/s eta 0:00:01\n",
      "   ------------------- -------------------- 4.5/9.3 MB 6.1 MB/s eta 0:00:01\n",
      "   --------------------- ------------------ 5.0/9.3 MB 6.5 MB/s eta 0:00:01\n",
      "   ---------------------- ----------------- 5.3/9.3 MB 6.5 MB/s eta 0:00:01\n",
      "   ----------------------- ---------------- 5.4/9.3 MB 6.3 MB/s eta 0:00:01\n",
      "   ------------------------- -------------- 6.0/9.3 MB 6.5 MB/s eta 0:00:01\n",
      "   --------------------------- ------------ 6.4/9.3 MB 6.6 MB/s eta 0:00:01\n",
      "   ---------------------------- ----------- 6.6/9.3 MB 6.5 MB/s eta 0:00:01\n",
      "   ----------------------------- ---------- 6.8/9.3 MB 6.4 MB/s eta 0:00:01\n",
      "   ----------------------------- ---------- 6.9/9.3 MB 6.3 MB/s eta 0:00:01\n",
      "   ----------------------------- ---------- 6.9/9.3 MB 6.0 MB/s eta 0:00:01\n",
      "   ------------------------------ --------- 7.1/9.3 MB 5.9 MB/s eta 0:00:01\n",
      "   ------------------------------- -------- 7.3/9.3 MB 5.8 MB/s eta 0:00:01\n",
      "   -------------------------------- ------- 7.5/9.3 MB 5.8 MB/s eta 0:00:01\n",
      "   --------------------------------- ------ 7.7/9.3 MB 5.7 MB/s eta 0:00:01\n",
      "   ---------------------------------- ----- 7.9/9.3 MB 5.7 MB/s eta 0:00:01\n",
      "   ----------------------------------- ---- 8.2/9.3 MB 5.7 MB/s eta 0:00:01\n",
      "   ------------------------------------ --- 8.5/9.3 MB 5.7 MB/s eta 0:00:01\n",
      "   ------------------------------------- -- 8.8/9.3 MB 5.8 MB/s eta 0:00:01\n",
      "   ---------------------------------------  9.1/9.3 MB 5.8 MB/s eta 0:00:01\n",
      "   ---------------------------------------  9.3/9.3 MB 5.8 MB/s eta 0:00:01\n",
      "   ---------------------------------------- 9.3/9.3 MB 5.6 MB/s eta 0:00:00\n",
      "Downloading huggingface_hub-0.23.4-py3-none-any.whl (402 kB)\n",
      "   ---------------------------------------- 0.0/402.6 kB ? eta -:--:--\n",
      "   ------------------------------ --------- 307.2/402.6 kB 6.3 MB/s eta 0:00:01\n",
      "   ---------------------------------------- 402.6/402.6 kB 6.3 MB/s eta 0:00:00\n",
      "Downloading safetensors-0.4.3-cp311-none-win_amd64.whl (287 kB)\n",
      "   ---------------------------------------- 0.0/287.3 kB ? eta -:--:--\n",
      "   ---------------------------------------- 287.3/287.3 kB 5.9 MB/s eta 0:00:00\n",
      "Downloading tokenizers-0.19.1-cp311-none-win_amd64.whl (2.2 MB)\n",
      "   ---------------------------------------- 0.0/2.2 MB ? eta -:--:--\n",
      "   ------ --------------------------------- 0.4/2.2 MB 10.9 MB/s eta 0:00:01\n",
      "   ------------- -------------------------- 0.8/2.2 MB 9.6 MB/s eta 0:00:01\n",
      "   --------------------- ------------------ 1.2/2.2 MB 9.4 MB/s eta 0:00:01\n",
      "   ----------------------------- ---------- 1.7/2.2 MB 9.6 MB/s eta 0:00:01\n",
      "   -------------------------------------- - 2.1/2.2 MB 9.7 MB/s eta 0:00:01\n",
      "   ---------------------------------------  2.2/2.2 MB 9.4 MB/s eta 0:00:01\n",
      "   ---------------------------------------- 2.2/2.2 MB 7.8 MB/s eta 0:00:00\n",
      "Installing collected packages: safetensors, huggingface-hub, tokenizers, transformers\n",
      "  Attempting uninstall: huggingface-hub\n",
      "    Found existing installation: huggingface-hub 0.20.3\n",
      "    Uninstalling huggingface-hub-0.20.3:\n",
      "      Successfully uninstalled huggingface-hub-0.20.3\n",
      "Successfully installed huggingface-hub-0.23.4 safetensors-0.4.3 tokenizers-0.19.1 transformers-4.42.4\n"
     ]
    }
   ],
   "source": [
    "!pip install transformers"
   ]
  },
  {
   "cell_type": "code",
   "execution_count": 25,
   "id": "466c672e-9e56-47e7-a768-3a69537f49d0",
   "metadata": {},
   "outputs": [
    {
     "name": "stdout",
     "output_type": "stream",
     "text": [
      "Requirement already satisfied: torch in c:\\users\\modza\\documents\\nlp\\env\\lib\\site-packages (2.1.2)\n",
      "Requirement already satisfied: filelock in c:\\users\\modza\\documents\\nlp\\env\\lib\\site-packages (from torch) (3.13.1)\n",
      "Requirement already satisfied: typing-extensions in c:\\users\\modza\\documents\\nlp\\env\\lib\\site-packages (from torch) (4.12.2)\n",
      "Requirement already satisfied: sympy in c:\\users\\modza\\documents\\nlp\\env\\lib\\site-packages (from torch) (1.12)\n",
      "Requirement already satisfied: networkx in c:\\users\\modza\\documents\\nlp\\env\\lib\\site-packages (from torch) (3.2.1)\n",
      "Requirement already satisfied: jinja2 in c:\\users\\modza\\documents\\nlp\\env\\lib\\site-packages (from torch) (3.1.2)\n",
      "Requirement already satisfied: fsspec in c:\\users\\modza\\documents\\nlp\\env\\lib\\site-packages (from torch) (2023.10.0)\n",
      "Requirement already satisfied: MarkupSafe>=2.0 in c:\\users\\modza\\appdata\\roaming\\python\\python311\\site-packages (from jinja2->torch) (2.1.5)\n",
      "Requirement already satisfied: mpmath>=0.19 in c:\\users\\modza\\documents\\nlp\\env\\lib\\site-packages (from sympy->torch) (1.3.0)\n"
     ]
    }
   ],
   "source": [
    "!pip install torch"
   ]
  },
  {
   "cell_type": "code",
   "execution_count": 28,
   "id": "86df4e98-1e9a-4d8a-a986-3f79e2b7833e",
   "metadata": {},
   "outputs": [
    {
     "name": "stdout",
     "output_type": "stream",
     "text": [
      "Collecting pycorenlp\n",
      "  Downloading pycorenlp-0.3.0.tar.gz (1.3 kB)\n",
      "  Preparing metadata (setup.py): started\n",
      "  Preparing metadata (setup.py): finished with status 'done'\n",
      "Requirement already satisfied: requests in c:\\users\\modza\\documents\\nlp\\env\\lib\\site-packages (from pycorenlp) (2.31.0)\n",
      "Requirement already satisfied: charset-normalizer<4,>=2 in c:\\users\\modza\\documents\\nlp\\env\\lib\\site-packages (from requests->pycorenlp) (2.0.4)\n",
      "Requirement already satisfied: idna<4,>=2.5 in c:\\users\\modza\\documents\\nlp\\env\\lib\\site-packages (from requests->pycorenlp) (3.4)\n",
      "Requirement already satisfied: urllib3<3,>=1.21.1 in c:\\users\\modza\\documents\\nlp\\env\\lib\\site-packages (from requests->pycorenlp) (1.26.18)\n",
      "Requirement already satisfied: certifi>=2017.4.17 in c:\\users\\modza\\documents\\nlp\\env\\lib\\site-packages (from requests->pycorenlp) (2023.11.17)\n",
      "Building wheels for collected packages: pycorenlp\n",
      "  Building wheel for pycorenlp (setup.py): started\n",
      "  Building wheel for pycorenlp (setup.py): finished with status 'done'\n",
      "  Created wheel for pycorenlp: filename=pycorenlp-0.3.0-py3-none-any.whl size=2128 sha256=676827b45bd9ec3354c385b80faa1b588d2fa57023396fb4d453184e76313abc\n",
      "  Stored in directory: c:\\users\\modza\\appdata\\local\\pip\\cache\\wheels\\17\\02\\ab\\eb36312f7e3055fed374e5f0c129514fb7aca9a143f1b1b8a3\n",
      "Successfully built pycorenlp\n",
      "Installing collected packages: pycorenlp\n",
      "Successfully installed pycorenlp-0.3.0\n"
     ]
    }
   ],
   "source": [
    "!pip install pycorenlp"
   ]
  },
  {
   "cell_type": "markdown",
   "id": "50288ad0-544f-4503-9540-a505db4715a0",
   "metadata": {},
   "source": [
    "from openie import StanfordOpenIE\n",
    "\n",
    "# https://stanfordnlp.github.io/CoreNLP/openie.html#api\n",
    "# Default value of openie.affinity_probability_cap was 1/3.\n",
    "properties = {\n",
    "    'openie.affinity_probability_cap': 2 / 3,\n",
    "}\n",
    "\n",
    "with StanfordOpenIE(properties=properties) as client:\n",
    "    text = 'Barack Obama was born in Hawaii. Richard Manning wrote this sentence.'\n",
    "    print('Text: %s.' % text)\n",
    "    for triple in client.annotate(text):\n",
    "        print('|-', triple)\n",
    "\n",
    "    graph_image = 'graph.png'\n",
    "    client.generate_graphviz_graph(text, graph_image)\n",
    "    print('Graph generated: %s.' % graph_image)\n",
    "\n",
    "    with open('corpus/pg6130.txt', encoding='utf8') as r:\n",
    "        corpus = r.read().replace('\\n', ' ').replace('\\r', '')\n",
    "\n",
    "    triples_corpus = client.annotate(corpus[0:5000])\n",
    "    print('Corpus: %s [...].' % corpus[0:80])\n",
    "    print('Found %s triples in the corpus.' % len(triples_corpus))\n",
    "    for triple in triples_corpus[:3]:\n",
    "        print('|-', triple)\n",
    "    print('[...]')"
   ]
  },
  {
   "cell_type": "code",
   "execution_count": 2,
   "id": "9181b57a-7267-45ca-9de3-400245d83538",
   "metadata": {},
   "outputs": [
    {
     "name": "stdout",
     "output_type": "stream",
     "text": [
      "Collecting spacy_crfsuite\n",
      "  Downloading spacy_crfsuite-1.7.0-py3-none-any.whl.metadata (8.9 kB)\n",
      "Collecting sklearn-crfsuite (from spacy_crfsuite)\n",
      "  Downloading sklearn_crfsuite-0.5.0-py2.py3-none-any.whl.metadata (4.9 kB)\n",
      "Requirement already satisfied: spacy in c:\\users\\modza\\documents\\nlp\\env\\lib\\site-packages (from spacy_crfsuite) (3.7.2)\n",
      "Requirement already satisfied: joblib in c:\\users\\modza\\documents\\nlp\\env\\lib\\site-packages (from spacy_crfsuite) (1.2.0)\n",
      "Collecting plac (from spacy_crfsuite)\n",
      "  Downloading plac-1.4.3-py2.py3-none-any.whl.metadata (5.9 kB)\n",
      "Collecting python-crfsuite>=0.9.7 (from sklearn-crfsuite->spacy_crfsuite)\n",
      "  Downloading python_crfsuite-0.9.10-cp311-cp311-win_amd64.whl.metadata (4.3 kB)\n",
      "Requirement already satisfied: scikit-learn>=0.24.0 in c:\\users\\modza\\documents\\nlp\\env\\lib\\site-packages (from sklearn-crfsuite->spacy_crfsuite) (1.2.2)\n",
      "Collecting tabulate>=0.4.2 (from sklearn-crfsuite->spacy_crfsuite)\n",
      "  Using cached tabulate-0.9.0-py3-none-any.whl.metadata (34 kB)\n",
      "Requirement already satisfied: tqdm>=2.0 in c:\\users\\modza\\documents\\nlp\\env\\lib\\site-packages (from sklearn-crfsuite->spacy_crfsuite) (4.65.0)\n",
      "Requirement already satisfied: spacy-legacy<3.1.0,>=3.0.11 in c:\\users\\modza\\documents\\nlp\\env\\lib\\site-packages (from spacy->spacy_crfsuite) (3.0.12)\n",
      "Requirement already satisfied: spacy-loggers<2.0.0,>=1.0.0 in c:\\users\\modza\\documents\\nlp\\env\\lib\\site-packages (from spacy->spacy_crfsuite) (1.0.5)\n",
      "Requirement already satisfied: murmurhash<1.1.0,>=0.28.0 in c:\\users\\modza\\documents\\nlp\\env\\lib\\site-packages (from spacy->spacy_crfsuite) (1.0.10)\n",
      "Requirement already satisfied: cymem<2.1.0,>=2.0.2 in c:\\users\\modza\\documents\\nlp\\env\\lib\\site-packages (from spacy->spacy_crfsuite) (2.0.8)\n",
      "Requirement already satisfied: preshed<3.1.0,>=3.0.2 in c:\\users\\modza\\documents\\nlp\\env\\lib\\site-packages (from spacy->spacy_crfsuite) (3.0.9)\n",
      "Requirement already satisfied: thinc<8.3.0,>=8.1.8 in c:\\users\\modza\\documents\\nlp\\env\\lib\\site-packages (from spacy->spacy_crfsuite) (8.2.2)\n",
      "Requirement already satisfied: wasabi<1.2.0,>=0.9.1 in c:\\users\\modza\\documents\\nlp\\env\\lib\\site-packages (from spacy->spacy_crfsuite) (1.1.2)\n",
      "Requirement already satisfied: srsly<3.0.0,>=2.4.3 in c:\\users\\modza\\documents\\nlp\\env\\lib\\site-packages (from spacy->spacy_crfsuite) (2.4.8)\n",
      "Requirement already satisfied: catalogue<2.1.0,>=2.0.6 in c:\\users\\modza\\documents\\nlp\\env\\lib\\site-packages (from spacy->spacy_crfsuite) (2.0.10)\n",
      "Requirement already satisfied: weasel<0.4.0,>=0.1.0 in c:\\users\\modza\\documents\\nlp\\env\\lib\\site-packages (from spacy->spacy_crfsuite) (0.3.4)\n",
      "Requirement already satisfied: typer<0.10.0,>=0.3.0 in c:\\users\\modza\\documents\\nlp\\env\\lib\\site-packages (from spacy->spacy_crfsuite) (0.9.0)\n",
      "Requirement already satisfied: smart-open<7.0.0,>=5.2.1 in c:\\users\\modza\\documents\\nlp\\env\\lib\\site-packages (from spacy->spacy_crfsuite) (6.4.0)\n",
      "Requirement already satisfied: requests<3.0.0,>=2.13.0 in c:\\users\\modza\\documents\\nlp\\env\\lib\\site-packages (from spacy->spacy_crfsuite) (2.31.0)\n",
      "Requirement already satisfied: pydantic!=1.8,!=1.8.1,<3.0.0,>=1.7.4 in c:\\users\\modza\\documents\\nlp\\env\\lib\\site-packages (from spacy->spacy_crfsuite) (2.5.3)\n",
      "Requirement already satisfied: jinja2 in c:\\users\\modza\\documents\\nlp\\env\\lib\\site-packages (from spacy->spacy_crfsuite) (3.1.2)\n",
      "Requirement already satisfied: setuptools in c:\\users\\modza\\documents\\nlp\\env\\lib\\site-packages (from spacy->spacy_crfsuite) (68.2.2)\n",
      "Requirement already satisfied: packaging>=20.0 in c:\\users\\modza\\documents\\nlp\\env\\lib\\site-packages (from spacy->spacy_crfsuite) (23.1)\n",
      "Requirement already satisfied: langcodes<4.0.0,>=3.2.0 in c:\\users\\modza\\documents\\nlp\\env\\lib\\site-packages (from spacy->spacy_crfsuite) (3.3.0)\n",
      "Requirement already satisfied: numpy>=1.19.0 in c:\\users\\modza\\appdata\\roaming\\python\\python311\\site-packages (from spacy->spacy_crfsuite) (1.24.3)\n",
      "Requirement already satisfied: annotated-types>=0.4.0 in c:\\users\\modza\\documents\\nlp\\env\\lib\\site-packages (from pydantic!=1.8,!=1.8.1,<3.0.0,>=1.7.4->spacy->spacy_crfsuite) (0.6.0)\n",
      "Requirement already satisfied: pydantic-core==2.14.6 in c:\\users\\modza\\documents\\nlp\\env\\lib\\site-packages (from pydantic!=1.8,!=1.8.1,<3.0.0,>=1.7.4->spacy->spacy_crfsuite) (2.14.6)\n",
      "Requirement already satisfied: typing-extensions>=4.6.1 in c:\\users\\modza\\documents\\nlp\\env\\lib\\site-packages (from pydantic!=1.8,!=1.8.1,<3.0.0,>=1.7.4->spacy->spacy_crfsuite) (4.12.2)\n",
      "Requirement already satisfied: charset-normalizer<4,>=2 in c:\\users\\modza\\documents\\nlp\\env\\lib\\site-packages (from requests<3.0.0,>=2.13.0->spacy->spacy_crfsuite) (2.0.4)\n",
      "Requirement already satisfied: idna<4,>=2.5 in c:\\users\\modza\\documents\\nlp\\env\\lib\\site-packages (from requests<3.0.0,>=2.13.0->spacy->spacy_crfsuite) (3.4)\n",
      "Requirement already satisfied: urllib3<3,>=1.21.1 in c:\\users\\modza\\documents\\nlp\\env\\lib\\site-packages (from requests<3.0.0,>=2.13.0->spacy->spacy_crfsuite) (1.26.18)\n",
      "Requirement already satisfied: certifi>=2017.4.17 in c:\\users\\modza\\documents\\nlp\\env\\lib\\site-packages (from requests<3.0.0,>=2.13.0->spacy->spacy_crfsuite) (2023.11.17)\n",
      "Requirement already satisfied: scipy>=1.3.2 in c:\\users\\modza\\documents\\nlp\\env\\lib\\site-packages (from scikit-learn>=0.24.0->sklearn-crfsuite->spacy_crfsuite) (1.11.4)\n",
      "Requirement already satisfied: threadpoolctl>=2.0.0 in c:\\users\\modza\\documents\\nlp\\env\\lib\\site-packages (from scikit-learn>=0.24.0->sklearn-crfsuite->spacy_crfsuite) (2.2.0)\n",
      "Requirement already satisfied: blis<0.8.0,>=0.7.8 in c:\\users\\modza\\documents\\nlp\\env\\lib\\site-packages (from thinc<8.3.0,>=8.1.8->spacy->spacy_crfsuite) (0.7.11)\n",
      "Requirement already satisfied: confection<1.0.0,>=0.0.1 in c:\\users\\modza\\documents\\nlp\\env\\lib\\site-packages (from thinc<8.3.0,>=8.1.8->spacy->spacy_crfsuite) (0.1.4)\n",
      "Requirement already satisfied: colorama in c:\\users\\modza\\documents\\nlp\\env\\lib\\site-packages (from tqdm>=2.0->sklearn-crfsuite->spacy_crfsuite) (0.4.6)\n",
      "Requirement already satisfied: click<9.0.0,>=7.1.1 in c:\\users\\modza\\documents\\nlp\\env\\lib\\site-packages (from typer<0.10.0,>=0.3.0->spacy->spacy_crfsuite) (8.1.7)\n",
      "Requirement already satisfied: cloudpathlib<0.17.0,>=0.7.0 in c:\\users\\modza\\documents\\nlp\\env\\lib\\site-packages (from weasel<0.4.0,>=0.1.0->spacy->spacy_crfsuite) (0.16.0)\n",
      "Requirement already satisfied: MarkupSafe>=2.0 in c:\\users\\modza\\appdata\\roaming\\python\\python311\\site-packages (from jinja2->spacy->spacy_crfsuite) (2.1.5)\n",
      "Downloading spacy_crfsuite-1.7.0-py3-none-any.whl (26 kB)\n",
      "Downloading plac-1.4.3-py2.py3-none-any.whl (22 kB)\n",
      "Downloading sklearn_crfsuite-0.5.0-py2.py3-none-any.whl (10 kB)\n",
      "Downloading python_crfsuite-0.9.10-cp311-cp311-win_amd64.whl (155 kB)\n",
      "   ---------------------------------------- 0.0/155.8 kB ? eta -:--:--\n",
      "   ---------------------------------------- 155.8/155.8 kB 9.1 MB/s eta 0:00:00\n",
      "Using cached tabulate-0.9.0-py3-none-any.whl (35 kB)\n",
      "Installing collected packages: python-crfsuite, plac, tabulate, sklearn-crfsuite, spacy_crfsuite\n",
      "Successfully installed plac-1.4.3 python-crfsuite-0.9.10 sklearn-crfsuite-0.5.0 spacy_crfsuite-1.7.0 tabulate-0.9.0\n"
     ]
    }
   ],
   "source": [
    "!pip install spacy_crfsuite"
   ]
  },
  {
   "cell_type": "code",
   "execution_count": 3,
   "id": "4a74d733-82f2-43f8-aeeb-f5b444d384c6",
   "metadata": {},
   "outputs": [
    {
     "name": "stdout",
     "output_type": "stream",
     "text": [
      "[('Apple Inc.', 'ORG'), ('quarterly', 'DATE'), ('next week', 'DATE')]\n"
     ]
    }
   ],
   "source": [
    "import spacy\n",
    "from spacy_crfsuite import CRFEntityExtractor\n",
    "\n",
    "nlp = spacy.load('en_core_web_sm')\n",
    "ner = CRFEntityExtractor(nlp)\n",
    "doc = nlp(\"Apple Inc. is expected to release its quarterly earnings next week.\")\n",
    "print([(ent.text, ent.label_) for ent in doc.ents])\n"
   ]
  },
  {
   "cell_type": "code",
   "execution_count": 4,
   "id": "dadd656b-1aaf-493b-a926-336979833e2f",
   "metadata": {},
   "outputs": [
    {
     "name": "stdout",
     "output_type": "stream",
     "text": [
      "['Apple', 'Inc.', 'is', 'expected', 'to', 'release', 'its', 'quarterly', 'earnings', 'next', 'week', '.']\n"
     ]
    }
   ],
   "source": [
    "from nltk.tokenize import word_tokenize\n",
    "\n",
    "text = \"Apple Inc. is expected to release its quarterly earnings next week.\"\n",
    "tokens = word_tokenize(text)\n",
    "print(tokens)\n"
   ]
  },
  {
   "cell_type": "code",
   "execution_count": 5,
   "id": "3e7eaf6a-fc42-4e8a-a28f-9b235642214e",
   "metadata": {},
   "outputs": [
    {
     "name": "stderr",
     "output_type": "stream",
     "text": [
      "[nltk_data] Downloading package averaged_perceptron_tagger to\n",
      "[nltk_data]     C:\\Users\\modza\\AppData\\Roaming\\nltk_data...\n",
      "[nltk_data]   Package averaged_perceptron_tagger is already up-to-\n",
      "[nltk_data]       date!\n"
     ]
    },
    {
     "name": "stdout",
     "output_type": "stream",
     "text": [
      "[('Apple', 'NNP'), ('Inc.', 'NNP'), ('is', 'VBZ'), ('expected', 'VBN'), ('to', 'TO'), ('release', 'VB'), ('its', 'PRP$'), ('quarterly', 'JJ'), ('earnings', 'NNS'), ('next', 'IN'), ('week', 'NN'), ('.', '.')]\n"
     ]
    }
   ],
   "source": [
    "import nltk\n",
    "nltk.download('averaged_perceptron_tagger')\n",
    "\n",
    "tokens = nltk.word_tokenize(text)\n",
    "pos_tags = nltk.pos_tag(tokens)\n",
    "print(pos_tags)\n"
   ]
  },
  {
   "cell_type": "code",
   "execution_count": 7,
   "id": "8e2b8557-73e5-4d83-b4ff-5744a4a2a709",
   "metadata": {},
   "outputs": [
    {
     "name": "stdout",
     "output_type": "stream",
     "text": [
      "Apple ---- compound ------ Inc.\n",
      "Inc. ---- nsubjpass ------ expected\n",
      "is ---- auxpass ------ expected\n",
      "expected ---- ROOT ------ expected\n",
      "to ---- aux ------ release\n",
      "release ---- xcomp ------ expected\n",
      "its ---- poss ------ earnings\n",
      "quarterly ---- amod ------ earnings\n",
      "earnings ---- dobj ------ release\n",
      "next ---- amod ------ week\n",
      "week ---- npadvmod ------ release\n",
      ". ---- punct ------ expected\n"
     ]
    }
   ],
   "source": [
    "import spacy\n",
    "\n",
    "nlp = spacy.load(\"en_core_web_sm\")\n",
    "doc = nlp(text)\n",
    "\n",
    "for token in doc:\n",
    "    print(token.text,'----', token.dep_,'------', token.head.text)\n"
   ]
  },
  {
   "cell_type": "code",
   "execution_count": 8,
   "id": "cc39e435-163f-49c1-823d-a0c36d80fa65",
   "metadata": {},
   "outputs": [
    {
     "name": "stdout",
     "output_type": "stream",
     "text": [
      "Apple Inc. ORG\n",
      "quarterly DATE\n",
      "next week DATE\n"
     ]
    }
   ],
   "source": [
    "for ent in doc.ents:\n",
    "    print(ent.text, ent.label_)\n"
   ]
  },
  {
   "cell_type": "code",
   "execution_count": 128,
   "id": "45cff11b-6cdb-46d9-9693-5f6b009e10fc",
   "metadata": {},
   "outputs": [
    {
     "name": "stderr",
     "output_type": "stream",
     "text": [
      "[nltk_data] Downloading package wordnet to\n",
      "[nltk_data]     C:\\Users\\modza\\AppData\\Roaming\\nltk_data...\n",
      "[nltk_data]   Package wordnet is already up-to-date!\n",
      "[nltk_data] Downloading package omw-1.4 to\n",
      "[nltk_data]     C:\\Users\\modza\\AppData\\Roaming\\nltk_data...\n",
      "[nltk_data]   Package omw-1.4 is already up-to-date!\n",
      "[nltk_data] Downloading package punkt to\n",
      "[nltk_data]     C:\\Users\\modza\\AppData\\Roaming\\nltk_data...\n",
      "[nltk_data]   Package punkt is already up-to-date!\n"
     ]
    },
    {
     "data": {
      "text/plain": [
       "True"
      ]
     },
     "execution_count": 128,
     "metadata": {},
     "output_type": "execute_result"
    }
   ],
   "source": [
    "import nltk\n",
    "from nltk.corpus import wordnet as wn\n",
    "from nltk.wsd import lesk\n",
    "\n",
    "# Download required NLTK data\n",
    "nltk.download('wordnet')\n",
    "nltk.download('omw-1.4')\n",
    "nltk.download('punkt')\n"
   ]
  },
  {
   "cell_type": "code",
   "execution_count": 126,
   "id": "117ecfb4-fefa-44f7-88c7-745fddef9fa4",
   "metadata": {},
   "outputs": [],
   "source": [
    "import nltk"
   ]
  },
  {
   "cell_type": "code",
   "execution_count": 133,
   "id": "57dc024a-a628-4173-91f2-1d273af265c9",
   "metadata": {},
   "outputs": [
    {
     "name": "stdout",
     "output_type": "stream",
     "text": [
      "Context 1:  The bank can guarantee deposits will eventually cover future tuition costs.\n",
      "Sense 1:  Synset('depository_financial_institution.n.01') a financial institution that accepts deposits and channels the money into lending activities\n",
      "\n",
      "Context 2:  The river bank was steep and full of rocks in village.\n",
      "Sense 2:  Synset('bank.n.09') a building in which the business of banking transacted\n"
     ]
    }
   ],
   "source": [
    "# Define the sentences\n",
    "sentence1 = \"The bank can guarantee deposits will eventually cover future tuition costs.\"\n",
    "sentence2 = \"The river bank was steep and full of rocks in village.\"\n",
    "\n",
    "# Tokenize the sentences\n",
    "tokens1 = nltk.word_tokenize(sentence1)\n",
    "tokens2 = nltk.word_tokenize(sentence2)\n",
    "\n",
    "# Apply Lesk algorithm to find the correct sense\n",
    "sense1 = lesk(tokens1, 'bank')\n",
    "sense2 = lesk(tokens2, 'bank')\n",
    "\n",
    "# Print the results\n",
    "print(\"Context 1: \", sentence1)\n",
    "print(\"Sense 1: \", sense1, sense1.definition() if sense1 else \"No sense found\")\n",
    "\n",
    "print(\"\\nContext 2: \", sentence2)\n",
    "print(\"Sense 2: \", sense2, sense2.definition() if sense2 else \"No sense found\")\n"
   ]
  },
  {
   "cell_type": "code",
   "execution_count": 139,
   "id": "7e189a5c-2420-4782-9c43-61629df9cee6",
   "metadata": {},
   "outputs": [
    {
     "data": {
      "text/plain": [
       "Synset('depository_financial_institution.n.01')"
      ]
     },
     "execution_count": 139,
     "metadata": {},
     "output_type": "execute_result"
    }
   ],
   "source": [
    "lesk(tokens1, 'bank')"
   ]
  },
  {
   "cell_type": "code",
   "execution_count": 137,
   "id": "e3723b8e-4700-436e-adc6-72e6fbf978eb",
   "metadata": {},
   "outputs": [
    {
     "data": {
      "text/plain": [
       "['Multibagger',\n",
       " 'stock',\n",
       " 'under',\n",
       " 'Rs',\n",
       " '500',\n",
       " 'Rs',\n",
       " '1',\n",
       " 'lakh',\n",
       " 'investment',\n",
       " 'grows',\n",
       " 'to',\n",
       " 'Rs',\n",
       " '3',\n",
       " 'lakh',\n",
       " 'in',\n",
       " '1',\n",
       " 'yr',\n",
       " 'Q1',\n",
       " 'FY25',\n",
       " 'PAT',\n",
       " 'zooms',\n",
       " '42',\n",
       " '%',\n",
       " 'ET',\n",
       " 'Now']"
      ]
     },
     "execution_count": 137,
     "metadata": {},
     "output_type": "execute_result"
    }
   ],
   "source": [
    "nltk.word_tokenize(cleaned_string)"
   ]
  },
  {
   "cell_type": "code",
   "execution_count": 143,
   "id": "0c2d9232-874d-40f1-9ea8-bf1cd44f01e7",
   "metadata": {},
   "outputs": [
    {
     "name": "stdout",
     "output_type": "stream",
     "text": [
      "Context 1:  Multibagger stock under Rs 500 Rs 1 lakh investment grows to Rs 3 lakh in 1 yr Q1 FY25 PAT zooms 42%  ET Now\n",
      "Sense 1:  Synset('zoom.v.02') move with a low humming noise\n"
     ]
    }
   ],
   "source": [
    "cst = nltk.word_tokenize(cleaned_string)\n",
    "se = lesk(cst,'zooms')\n",
    "print(\"Context 1: \", cleaned_string)\n",
    "print(\"Sense 1: \", se, se.definition() if se else \"No sense found\")\n"
   ]
  },
  {
   "cell_type": "code",
   "execution_count": 145,
   "id": "40f3bd19-3c1d-4401-aeb2-8169b2452cf7",
   "metadata": {},
   "outputs": [],
   "source": [
    "lesk(cst,'Multibagger')"
   ]
  },
  {
   "cell_type": "code",
   "execution_count": 148,
   "id": "3148c7c3-8be8-431e-b766-b6ad74691a12",
   "metadata": {},
   "outputs": [
    {
     "data": {
      "text/plain": [
       "'the ceremonial act of clothing someone in the insignia of an office; the formal promotion of a person to an office or rank'"
      ]
     },
     "execution_count": 148,
     "metadata": {},
     "output_type": "execute_result"
    }
   ],
   "source": [
    "lesk(nlp('Multibagger stock under Rs 500 Rs 1 lakh investment grows to Rs 3 lakh in 1 yr Q1 FY25 PAT zooms 42%  ET Now'), 'investment').definition()"
   ]
  },
  {
   "cell_type": "code",
   "execution_count": 19,
   "id": "3e07b9c9-3649-4810-9e60-3c84cd0303b6",
   "metadata": {},
   "outputs": [
    {
     "name": "stdout",
     "output_type": "stream",
     "text": [
      "Requirement already satisfied: benepar in c:\\users\\modza\\documents\\nlp\\env\\lib\\site-packages (0.2.0)\n",
      "Requirement already satisfied: nltk>=3.2 in c:\\users\\modza\\documents\\nlp\\env\\lib\\site-packages (from benepar) (3.8.1)\n",
      "Requirement already satisfied: spacy>=2.0.9 in c:\\users\\modza\\documents\\nlp\\env\\lib\\site-packages (from benepar) (3.7.2)\n",
      "Requirement already satisfied: torch>=1.6.0 in c:\\users\\modza\\documents\\nlp\\env\\lib\\site-packages (from benepar) (2.1.2)\n",
      "Requirement already satisfied: torch-struct>=0.5 in c:\\users\\modza\\documents\\nlp\\env\\lib\\site-packages (from benepar) (0.5)\n",
      "Requirement already satisfied: tokenizers>=0.9.4 in c:\\users\\modza\\documents\\nlp\\env\\lib\\site-packages (from benepar) (0.19.1)\n",
      "Requirement already satisfied: transformers>=4.2.2 in c:\\users\\modza\\documents\\nlp\\env\\lib\\site-packages (from transformers[tokenizers,torch]>=4.2.2->benepar) (4.42.4)\n",
      "Requirement already satisfied: protobuf in c:\\users\\modza\\documents\\nlp\\env\\lib\\site-packages (from benepar) (3.20.0)\n",
      "Requirement already satisfied: sentencepiece>=0.1.91 in c:\\users\\modza\\documents\\nlp\\env\\lib\\site-packages (from benepar) (0.2.0)\n",
      "Requirement already satisfied: click in c:\\users\\modza\\documents\\nlp\\env\\lib\\site-packages (from nltk>=3.2->benepar) (8.1.7)\n",
      "Requirement already satisfied: joblib in c:\\users\\modza\\documents\\nlp\\env\\lib\\site-packages (from nltk>=3.2->benepar) (1.2.0)\n",
      "Requirement already satisfied: regex>=2021.8.3 in c:\\users\\modza\\documents\\nlp\\env\\lib\\site-packages (from nltk>=3.2->benepar) (2023.10.3)\n",
      "Requirement already satisfied: tqdm in c:\\users\\modza\\documents\\nlp\\env\\lib\\site-packages (from nltk>=3.2->benepar) (4.65.0)\n",
      "Requirement already satisfied: spacy-legacy<3.1.0,>=3.0.11 in c:\\users\\modza\\documents\\nlp\\env\\lib\\site-packages (from spacy>=2.0.9->benepar) (3.0.12)\n",
      "Requirement already satisfied: spacy-loggers<2.0.0,>=1.0.0 in c:\\users\\modza\\documents\\nlp\\env\\lib\\site-packages (from spacy>=2.0.9->benepar) (1.0.5)\n",
      "Requirement already satisfied: murmurhash<1.1.0,>=0.28.0 in c:\\users\\modza\\documents\\nlp\\env\\lib\\site-packages (from spacy>=2.0.9->benepar) (1.0.10)\n",
      "Requirement already satisfied: cymem<2.1.0,>=2.0.2 in c:\\users\\modza\\documents\\nlp\\env\\lib\\site-packages (from spacy>=2.0.9->benepar) (2.0.8)\n",
      "Requirement already satisfied: preshed<3.1.0,>=3.0.2 in c:\\users\\modza\\documents\\nlp\\env\\lib\\site-packages (from spacy>=2.0.9->benepar) (3.0.9)\n",
      "Requirement already satisfied: thinc<8.3.0,>=8.1.8 in c:\\users\\modza\\documents\\nlp\\env\\lib\\site-packages (from spacy>=2.0.9->benepar) (8.2.2)\n",
      "Requirement already satisfied: wasabi<1.2.0,>=0.9.1 in c:\\users\\modza\\documents\\nlp\\env\\lib\\site-packages (from spacy>=2.0.9->benepar) (1.1.2)\n",
      "Requirement already satisfied: srsly<3.0.0,>=2.4.3 in c:\\users\\modza\\documents\\nlp\\env\\lib\\site-packages (from spacy>=2.0.9->benepar) (2.4.8)\n",
      "Requirement already satisfied: catalogue<2.1.0,>=2.0.6 in c:\\users\\modza\\documents\\nlp\\env\\lib\\site-packages (from spacy>=2.0.9->benepar) (2.0.10)\n",
      "Requirement already satisfied: weasel<0.4.0,>=0.1.0 in c:\\users\\modza\\documents\\nlp\\env\\lib\\site-packages (from spacy>=2.0.9->benepar) (0.3.4)\n",
      "Requirement already satisfied: typer<0.10.0,>=0.3.0 in c:\\users\\modza\\documents\\nlp\\env\\lib\\site-packages (from spacy>=2.0.9->benepar) (0.9.0)\n",
      "Requirement already satisfied: smart-open<7.0.0,>=5.2.1 in c:\\users\\modza\\documents\\nlp\\env\\lib\\site-packages (from spacy>=2.0.9->benepar) (6.4.0)\n",
      "Requirement already satisfied: requests<3.0.0,>=2.13.0 in c:\\users\\modza\\documents\\nlp\\env\\lib\\site-packages (from spacy>=2.0.9->benepar) (2.31.0)\n",
      "Requirement already satisfied: pydantic!=1.8,!=1.8.1,<3.0.0,>=1.7.4 in c:\\users\\modza\\documents\\nlp\\env\\lib\\site-packages (from spacy>=2.0.9->benepar) (2.5.3)\n",
      "Requirement already satisfied: jinja2 in c:\\users\\modza\\documents\\nlp\\env\\lib\\site-packages (from spacy>=2.0.9->benepar) (3.1.2)\n",
      "Requirement already satisfied: setuptools in c:\\users\\modza\\documents\\nlp\\env\\lib\\site-packages (from spacy>=2.0.9->benepar) (68.2.2)\n",
      "Requirement already satisfied: packaging>=20.0 in c:\\users\\modza\\documents\\nlp\\env\\lib\\site-packages (from spacy>=2.0.9->benepar) (23.1)\n",
      "Requirement already satisfied: langcodes<4.0.0,>=3.2.0 in c:\\users\\modza\\documents\\nlp\\env\\lib\\site-packages (from spacy>=2.0.9->benepar) (3.3.0)\n",
      "Requirement already satisfied: numpy>=1.19.0 in c:\\users\\modza\\appdata\\roaming\\python\\python311\\site-packages (from spacy>=2.0.9->benepar) (1.24.3)\n",
      "Requirement already satisfied: huggingface-hub<1.0,>=0.16.4 in c:\\users\\modza\\documents\\nlp\\env\\lib\\site-packages (from tokenizers>=0.9.4->benepar) (0.23.4)\n",
      "Requirement already satisfied: filelock in c:\\users\\modza\\documents\\nlp\\env\\lib\\site-packages (from torch>=1.6.0->benepar) (3.13.1)\n",
      "Requirement already satisfied: typing-extensions in c:\\users\\modza\\documents\\nlp\\env\\lib\\site-packages (from torch>=1.6.0->benepar) (4.12.2)\n",
      "Requirement already satisfied: sympy in c:\\users\\modza\\documents\\nlp\\env\\lib\\site-packages (from torch>=1.6.0->benepar) (1.12)\n",
      "Requirement already satisfied: networkx in c:\\users\\modza\\documents\\nlp\\env\\lib\\site-packages (from torch>=1.6.0->benepar) (3.2.1)\n",
      "Requirement already satisfied: fsspec in c:\\users\\modza\\documents\\nlp\\env\\lib\\site-packages (from torch>=1.6.0->benepar) (2023.10.0)\n",
      "Requirement already satisfied: pyyaml>=5.1 in c:\\users\\modza\\documents\\nlp\\env\\lib\\site-packages (from transformers>=4.2.2->transformers[tokenizers,torch]>=4.2.2->benepar) (6.0.1)\n",
      "Requirement already satisfied: safetensors>=0.4.1 in c:\\users\\modza\\documents\\nlp\\env\\lib\\site-packages (from transformers>=4.2.2->transformers[tokenizers,torch]>=4.2.2->benepar) (0.4.3)\n",
      "Requirement already satisfied: accelerate>=0.21.0 in c:\\users\\modza\\documents\\nlp\\env\\lib\\site-packages (from transformers[tokenizers,torch]>=4.2.2->benepar) (0.32.1)\n",
      "Requirement already satisfied: psutil in c:\\users\\modza\\documents\\nlp\\env\\lib\\site-packages (from accelerate>=0.21.0->transformers[tokenizers,torch]>=4.2.2->benepar) (5.9.0)\n",
      "Requirement already satisfied: annotated-types>=0.4.0 in c:\\users\\modza\\documents\\nlp\\env\\lib\\site-packages (from pydantic!=1.8,!=1.8.1,<3.0.0,>=1.7.4->spacy>=2.0.9->benepar) (0.6.0)\n",
      "Requirement already satisfied: pydantic-core==2.14.6 in c:\\users\\modza\\documents\\nlp\\env\\lib\\site-packages (from pydantic!=1.8,!=1.8.1,<3.0.0,>=1.7.4->spacy>=2.0.9->benepar) (2.14.6)\n",
      "Requirement already satisfied: charset-normalizer<4,>=2 in c:\\users\\modza\\documents\\nlp\\env\\lib\\site-packages (from requests<3.0.0,>=2.13.0->spacy>=2.0.9->benepar) (2.0.4)\n",
      "Requirement already satisfied: idna<4,>=2.5 in c:\\users\\modza\\documents\\nlp\\env\\lib\\site-packages (from requests<3.0.0,>=2.13.0->spacy>=2.0.9->benepar) (3.4)\n",
      "Requirement already satisfied: urllib3<3,>=1.21.1 in c:\\users\\modza\\documents\\nlp\\env\\lib\\site-packages (from requests<3.0.0,>=2.13.0->spacy>=2.0.9->benepar) (1.26.18)\n",
      "Requirement already satisfied: certifi>=2017.4.17 in c:\\users\\modza\\documents\\nlp\\env\\lib\\site-packages (from requests<3.0.0,>=2.13.0->spacy>=2.0.9->benepar) (2023.11.17)\n",
      "Requirement already satisfied: blis<0.8.0,>=0.7.8 in c:\\users\\modza\\documents\\nlp\\env\\lib\\site-packages (from thinc<8.3.0,>=8.1.8->spacy>=2.0.9->benepar) (0.7.11)\n",
      "Requirement already satisfied: confection<1.0.0,>=0.0.1 in c:\\users\\modza\\documents\\nlp\\env\\lib\\site-packages (from thinc<8.3.0,>=8.1.8->spacy>=2.0.9->benepar) (0.1.4)\n",
      "Requirement already satisfied: colorama in c:\\users\\modza\\documents\\nlp\\env\\lib\\site-packages (from tqdm->nltk>=3.2->benepar) (0.4.6)\n",
      "Requirement already satisfied: cloudpathlib<0.17.0,>=0.7.0 in c:\\users\\modza\\documents\\nlp\\env\\lib\\site-packages (from weasel<0.4.0,>=0.1.0->spacy>=2.0.9->benepar) (0.16.0)\n",
      "Requirement already satisfied: MarkupSafe>=2.0 in c:\\users\\modza\\appdata\\roaming\\python\\python311\\site-packages (from jinja2->spacy>=2.0.9->benepar) (2.1.5)\n",
      "Requirement already satisfied: mpmath>=0.19 in c:\\users\\modza\\documents\\nlp\\env\\lib\\site-packages (from sympy->torch>=1.6.0->benepar) (1.3.0)\n"
     ]
    }
   ],
   "source": [
    "!pip install benepar"
   ]
  },
  {
   "cell_type": "code",
   "execution_count": 21,
   "id": "1da7547f-983f-438d-8ca5-9e375e076a79",
   "metadata": {},
   "outputs": [],
   "source": [
    "import benepar"
   ]
  },
  {
   "cell_type": "code",
   "execution_count": 23,
   "id": "10a1a4aa-49a6-44c3-8070-d46a4c55e488",
   "metadata": {},
   "outputs": [
    {
     "name": "stderr",
     "output_type": "stream",
     "text": [
      "[nltk_data] Error loading en2: Package 'en2' not found in index\n"
     ]
    },
    {
     "data": {
      "text/plain": [
       "False"
      ]
     },
     "execution_count": 23,
     "metadata": {},
     "output_type": "execute_result"
    }
   ],
   "source": [
    "benepar.download("
   ]
  },
  {
   "cell_type": "code",
   "execution_count": 15,
   "id": "c82398f3-298b-4709-824a-15fc80968c31",
   "metadata": {},
   "outputs": [
    {
     "name": "stdout",
     "output_type": "stream",
     "text": [
      "Requirement already satisfied: spacy in c:\\users\\modza\\documents\\nlp\\env\\lib\\site-packages (3.7.2)\n",
      "Collecting benepar\n",
      "  Downloading benepar-0.2.0.tar.gz (33 kB)\n",
      "  Preparing metadata (setup.py): started\n",
      "  Preparing metadata (setup.py): finished with status 'done'\n",
      "Requirement already satisfied: spacy-legacy<3.1.0,>=3.0.11 in c:\\users\\modza\\documents\\nlp\\env\\lib\\site-packages (from spacy) (3.0.12)\n",
      "Requirement already satisfied: spacy-loggers<2.0.0,>=1.0.0 in c:\\users\\modza\\documents\\nlp\\env\\lib\\site-packages (from spacy) (1.0.5)\n",
      "Requirement already satisfied: murmurhash<1.1.0,>=0.28.0 in c:\\users\\modza\\documents\\nlp\\env\\lib\\site-packages (from spacy) (1.0.10)\n",
      "Requirement already satisfied: cymem<2.1.0,>=2.0.2 in c:\\users\\modza\\documents\\nlp\\env\\lib\\site-packages (from spacy) (2.0.8)\n",
      "Requirement already satisfied: preshed<3.1.0,>=3.0.2 in c:\\users\\modza\\documents\\nlp\\env\\lib\\site-packages (from spacy) (3.0.9)\n",
      "Requirement already satisfied: thinc<8.3.0,>=8.1.8 in c:\\users\\modza\\documents\\nlp\\env\\lib\\site-packages (from spacy) (8.2.2)\n",
      "Requirement already satisfied: wasabi<1.2.0,>=0.9.1 in c:\\users\\modza\\documents\\nlp\\env\\lib\\site-packages (from spacy) (1.1.2)\n",
      "Requirement already satisfied: srsly<3.0.0,>=2.4.3 in c:\\users\\modza\\documents\\nlp\\env\\lib\\site-packages (from spacy) (2.4.8)\n",
      "Requirement already satisfied: catalogue<2.1.0,>=2.0.6 in c:\\users\\modza\\documents\\nlp\\env\\lib\\site-packages (from spacy) (2.0.10)\n",
      "Requirement already satisfied: weasel<0.4.0,>=0.1.0 in c:\\users\\modza\\documents\\nlp\\env\\lib\\site-packages (from spacy) (0.3.4)\n",
      "Requirement already satisfied: typer<0.10.0,>=0.3.0 in c:\\users\\modza\\documents\\nlp\\env\\lib\\site-packages (from spacy) (0.9.0)\n",
      "Requirement already satisfied: smart-open<7.0.0,>=5.2.1 in c:\\users\\modza\\documents\\nlp\\env\\lib\\site-packages (from spacy) (6.4.0)\n",
      "Requirement already satisfied: tqdm<5.0.0,>=4.38.0 in c:\\users\\modza\\documents\\nlp\\env\\lib\\site-packages (from spacy) (4.65.0)\n",
      "Requirement already satisfied: requests<3.0.0,>=2.13.0 in c:\\users\\modza\\documents\\nlp\\env\\lib\\site-packages (from spacy) (2.31.0)\n",
      "Requirement already satisfied: pydantic!=1.8,!=1.8.1,<3.0.0,>=1.7.4 in c:\\users\\modza\\documents\\nlp\\env\\lib\\site-packages (from spacy) (2.5.3)\n",
      "Requirement already satisfied: jinja2 in c:\\users\\modza\\documents\\nlp\\env\\lib\\site-packages (from spacy) (3.1.2)\n",
      "Requirement already satisfied: setuptools in c:\\users\\modza\\documents\\nlp\\env\\lib\\site-packages (from spacy) (68.2.2)\n",
      "Requirement already satisfied: packaging>=20.0 in c:\\users\\modza\\documents\\nlp\\env\\lib\\site-packages (from spacy) (23.1)\n",
      "Requirement already satisfied: langcodes<4.0.0,>=3.2.0 in c:\\users\\modza\\documents\\nlp\\env\\lib\\site-packages (from spacy) (3.3.0)\n",
      "Requirement already satisfied: numpy>=1.19.0 in c:\\users\\modza\\appdata\\roaming\\python\\python311\\site-packages (from spacy) (1.24.3)\n",
      "Requirement already satisfied: nltk>=3.2 in c:\\users\\modza\\documents\\nlp\\env\\lib\\site-packages (from benepar) (3.8.1)\n",
      "Requirement already satisfied: torch>=1.6.0 in c:\\users\\modza\\documents\\nlp\\env\\lib\\site-packages (from benepar) (2.1.2)\n",
      "Collecting torch-struct>=0.5 (from benepar)\n",
      "  Downloading torch_struct-0.5-py3-none-any.whl.metadata (4.3 kB)\n",
      "Requirement already satisfied: tokenizers>=0.9.4 in c:\\users\\modza\\documents\\nlp\\env\\lib\\site-packages (from benepar) (0.19.1)\n",
      "Requirement already satisfied: transformers>=4.2.2 in c:\\users\\modza\\documents\\nlp\\env\\lib\\site-packages (from transformers[tokenizers,torch]>=4.2.2->benepar) (4.42.4)\n",
      "Requirement already satisfied: protobuf in c:\\users\\modza\\documents\\nlp\\env\\lib\\site-packages (from benepar) (3.20.0)\n",
      "Collecting sentencepiece>=0.1.91 (from benepar)\n",
      "  Downloading sentencepiece-0.2.0-cp311-cp311-win_amd64.whl.metadata (8.3 kB)\n",
      "Requirement already satisfied: click in c:\\users\\modza\\documents\\nlp\\env\\lib\\site-packages (from nltk>=3.2->benepar) (8.1.7)\n",
      "Requirement already satisfied: joblib in c:\\users\\modza\\documents\\nlp\\env\\lib\\site-packages (from nltk>=3.2->benepar) (1.2.0)\n",
      "Requirement already satisfied: regex>=2021.8.3 in c:\\users\\modza\\documents\\nlp\\env\\lib\\site-packages (from nltk>=3.2->benepar) (2023.10.3)\n",
      "Requirement already satisfied: annotated-types>=0.4.0 in c:\\users\\modza\\documents\\nlp\\env\\lib\\site-packages (from pydantic!=1.8,!=1.8.1,<3.0.0,>=1.7.4->spacy) (0.6.0)\n",
      "Requirement already satisfied: pydantic-core==2.14.6 in c:\\users\\modza\\documents\\nlp\\env\\lib\\site-packages (from pydantic!=1.8,!=1.8.1,<3.0.0,>=1.7.4->spacy) (2.14.6)\n",
      "Requirement already satisfied: typing-extensions>=4.6.1 in c:\\users\\modza\\documents\\nlp\\env\\lib\\site-packages (from pydantic!=1.8,!=1.8.1,<3.0.0,>=1.7.4->spacy) (4.12.2)\n",
      "Requirement already satisfied: charset-normalizer<4,>=2 in c:\\users\\modza\\documents\\nlp\\env\\lib\\site-packages (from requests<3.0.0,>=2.13.0->spacy) (2.0.4)\n",
      "Requirement already satisfied: idna<4,>=2.5 in c:\\users\\modza\\documents\\nlp\\env\\lib\\site-packages (from requests<3.0.0,>=2.13.0->spacy) (3.4)\n",
      "Requirement already satisfied: urllib3<3,>=1.21.1 in c:\\users\\modza\\documents\\nlp\\env\\lib\\site-packages (from requests<3.0.0,>=2.13.0->spacy) (1.26.18)\n",
      "Requirement already satisfied: certifi>=2017.4.17 in c:\\users\\modza\\documents\\nlp\\env\\lib\\site-packages (from requests<3.0.0,>=2.13.0->spacy) (2023.11.17)\n",
      "Requirement already satisfied: blis<0.8.0,>=0.7.8 in c:\\users\\modza\\documents\\nlp\\env\\lib\\site-packages (from thinc<8.3.0,>=8.1.8->spacy) (0.7.11)\n",
      "Requirement already satisfied: confection<1.0.0,>=0.0.1 in c:\\users\\modza\\documents\\nlp\\env\\lib\\site-packages (from thinc<8.3.0,>=8.1.8->spacy) (0.1.4)\n",
      "Requirement already satisfied: huggingface-hub<1.0,>=0.16.4 in c:\\users\\modza\\documents\\nlp\\env\\lib\\site-packages (from tokenizers>=0.9.4->benepar) (0.23.4)\n",
      "Requirement already satisfied: filelock in c:\\users\\modza\\documents\\nlp\\env\\lib\\site-packages (from torch>=1.6.0->benepar) (3.13.1)\n",
      "Requirement already satisfied: sympy in c:\\users\\modza\\documents\\nlp\\env\\lib\\site-packages (from torch>=1.6.0->benepar) (1.12)\n",
      "Requirement already satisfied: networkx in c:\\users\\modza\\documents\\nlp\\env\\lib\\site-packages (from torch>=1.6.0->benepar) (3.2.1)\n",
      "Requirement already satisfied: fsspec in c:\\users\\modza\\documents\\nlp\\env\\lib\\site-packages (from torch>=1.6.0->benepar) (2023.10.0)\n",
      "Requirement already satisfied: colorama in c:\\users\\modza\\documents\\nlp\\env\\lib\\site-packages (from tqdm<5.0.0,>=4.38.0->spacy) (0.4.6)\n",
      "Requirement already satisfied: pyyaml>=5.1 in c:\\users\\modza\\documents\\nlp\\env\\lib\\site-packages (from transformers>=4.2.2->transformers[tokenizers,torch]>=4.2.2->benepar) (6.0.1)\n",
      "Requirement already satisfied: safetensors>=0.4.1 in c:\\users\\modza\\documents\\nlp\\env\\lib\\site-packages (from transformers>=4.2.2->transformers[tokenizers,torch]>=4.2.2->benepar) (0.4.3)\n",
      "Collecting accelerate>=0.21.0 (from transformers[tokenizers,torch]>=4.2.2->benepar)\n",
      "  Downloading accelerate-0.32.1-py3-none-any.whl.metadata (18 kB)\n",
      "Requirement already satisfied: cloudpathlib<0.17.0,>=0.7.0 in c:\\users\\modza\\documents\\nlp\\env\\lib\\site-packages (from weasel<0.4.0,>=0.1.0->spacy) (0.16.0)\n",
      "Requirement already satisfied: MarkupSafe>=2.0 in c:\\users\\modza\\appdata\\roaming\\python\\python311\\site-packages (from jinja2->spacy) (2.1.5)\n",
      "Requirement already satisfied: psutil in c:\\users\\modza\\documents\\nlp\\env\\lib\\site-packages (from accelerate>=0.21.0->transformers[tokenizers,torch]>=4.2.2->benepar) (5.9.0)\n",
      "Requirement already satisfied: mpmath>=0.19 in c:\\users\\modza\\documents\\nlp\\env\\lib\\site-packages (from sympy->torch>=1.6.0->benepar) (1.3.0)\n",
      "Downloading sentencepiece-0.2.0-cp311-cp311-win_amd64.whl (991 kB)\n",
      "   ---------------------------------------- 0.0/991.5 kB ? eta -:--:--\n",
      "   ---------------------- ---------------- 573.4/991.5 kB 12.0 MB/s eta 0:00:01\n",
      "   --------------------------------------- 991.5/991.5 kB 12.4 MB/s eta 0:00:00\n",
      "Downloading torch_struct-0.5-py3-none-any.whl (34 kB)\n",
      "Downloading accelerate-0.32.1-py3-none-any.whl (314 kB)\n",
      "   ---------------------------------------- 0.0/314.1 kB ? eta -:--:--\n",
      "   ---------------------------------------- 314.1/314.1 kB 9.8 MB/s eta 0:00:00\n",
      "Building wheels for collected packages: benepar\n",
      "  Building wheel for benepar (setup.py): started\n",
      "  Building wheel for benepar (setup.py): finished with status 'done'\n",
      "  Created wheel for benepar: filename=benepar-0.2.0-py3-none-any.whl size=37656 sha256=171d84bb100b7dbb260f6bb9ba6c902cf119cbf967f00bccd34fada2d886a54a\n",
      "  Stored in directory: c:\\users\\modza\\appdata\\local\\pip\\cache\\wheels\\a7\\06\\97\\846995c0825bbc92825ce41675b6d5477213b25e167115223f\n",
      "Successfully built benepar\n",
      "Installing collected packages: sentencepiece, torch-struct, accelerate, benepar\n",
      "Successfully installed accelerate-0.32.1 benepar-0.2.0 sentencepiece-0.2.0 torch-struct-0.5\n",
      "Collecting en-core-web-sm==3.7.1\n",
      "  Downloading https://github.com/explosion/spacy-models/releases/download/en_core_web_sm-3.7.1/en_core_web_sm-3.7.1-py3-none-any.whl (12.8 MB)\n",
      "     ---------------------------------------- 0.0/12.8 MB ? eta -:--:--\n",
      "     ---------------------------------------- 0.0/12.8 MB ? eta -:--:--\n",
      "     ---------------------------------------- 0.0/12.8 MB ? eta -:--:--\n",
      "     --------------------------------------- 0.0/12.8 MB 187.9 kB/s eta 0:01:08\n",
      "     --------------------------------------- 0.0/12.8 MB 196.9 kB/s eta 0:01:05\n",
      "     --------------------------------------- 0.1/12.8 MB 374.1 kB/s eta 0:00:34\n",
      "      -------------------------------------- 0.2/12.8 MB 811.5 kB/s eta 0:00:16\n",
      "     - -------------------------------------- 0.3/12.8 MB 1.0 MB/s eta 0:00:13\n",
      "     - -------------------------------------- 0.6/12.8 MB 1.5 MB/s eta 0:00:08\n",
      "     --- ------------------------------------ 1.1/12.8 MB 2.7 MB/s eta 0:00:05\n",
      "     ------ --------------------------------- 1.9/12.8 MB 4.3 MB/s eta 0:00:03\n",
      "     ------ --------------------------------- 2.1/12.8 MB 4.5 MB/s eta 0:00:03\n",
      "     ------- -------------------------------- 2.3/12.8 MB 4.4 MB/s eta 0:00:03\n",
      "     ------- -------------------------------- 2.4/12.8 MB 4.1 MB/s eta 0:00:03\n",
      "     -------- ------------------------------- 2.6/12.8 MB 4.3 MB/s eta 0:00:03\n",
      "     --------- ------------------------------ 3.1/12.8 MB 4.5 MB/s eta 0:00:03\n",
      "     ----------- ---------------------------- 3.7/12.8 MB 5.1 MB/s eta 0:00:02\n",
      "     ----------- ---------------------------- 3.8/12.8 MB 5.0 MB/s eta 0:00:02\n",
      "     ------------- -------------------------- 4.3/12.8 MB 5.2 MB/s eta 0:00:02\n",
      "     -------------- ------------------------- 4.5/12.8 MB 5.1 MB/s eta 0:00:02\n",
      "     -------------- ------------------------- 4.8/12.8 MB 5.2 MB/s eta 0:00:02\n",
      "     --------------- ------------------------ 5.1/12.8 MB 5.3 MB/s eta 0:00:02\n",
      "     ---------------- ----------------------- 5.2/12.8 MB 5.2 MB/s eta 0:00:02\n",
      "     ---------------- ----------------------- 5.3/12.8 MB 4.9 MB/s eta 0:00:02\n",
      "     ----------------- ---------------------- 5.5/12.8 MB 5.1 MB/s eta 0:00:02\n",
      "     ----------------- ---------------------- 5.5/12.8 MB 5.1 MB/s eta 0:00:02\n",
      "     ------------------- -------------------- 6.3/12.8 MB 5.3 MB/s eta 0:00:02\n",
      "     -------------------- ------------------- 6.4/12.8 MB 5.2 MB/s eta 0:00:02\n",
      "     -------------------- ------------------- 6.7/12.8 MB 5.1 MB/s eta 0:00:02\n",
      "     --------------------- ------------------ 6.8/12.8 MB 5.1 MB/s eta 0:00:02\n",
      "     ---------------------- ----------------- 7.0/12.8 MB 5.1 MB/s eta 0:00:02\n",
      "     ---------------------- ----------------- 7.3/12.8 MB 5.1 MB/s eta 0:00:02\n",
      "     ----------------------- ---------------- 7.5/12.8 MB 5.1 MB/s eta 0:00:02\n",
      "     ------------------------ --------------- 7.8/12.8 MB 5.1 MB/s eta 0:00:01\n",
      "     ------------------------- -------------- 8.1/12.8 MB 5.1 MB/s eta 0:00:01\n",
      "     -------------------------- ------------- 8.3/12.8 MB 5.1 MB/s eta 0:00:01\n",
      "     -------------------------- ------------- 8.6/12.8 MB 5.1 MB/s eta 0:00:01\n",
      "     --------------------------- ------------ 8.9/12.8 MB 5.2 MB/s eta 0:00:01\n",
      "     ---------------------------- ----------- 9.2/12.8 MB 5.2 MB/s eta 0:00:01\n",
      "     ----------------------------- ---------- 9.5/12.8 MB 5.2 MB/s eta 0:00:01\n",
      "     ------------------------------ --------- 9.8/12.8 MB 5.3 MB/s eta 0:00:01\n",
      "     ------------------------------- -------- 10.1/12.8 MB 5.3 MB/s eta 0:00:01\n",
      "     -------------------------------- ------- 10.4/12.8 MB 6.0 MB/s eta 0:00:01\n",
      "     --------------------------------- ------ 10.7/12.8 MB 6.2 MB/s eta 0:00:01\n",
      "     ---------------------------------- ----- 11.0/12.8 MB 6.2 MB/s eta 0:00:01\n",
      "     ----------------------------------- ---- 11.3/12.8 MB 6.1 MB/s eta 0:00:01\n",
      "     ------------------------------------ --- 11.6/12.8 MB 6.0 MB/s eta 0:00:01\n",
      "     ------------------------------------- -- 11.9/12.8 MB 5.9 MB/s eta 0:00:01\n",
      "     -------------------------------------- - 12.2/12.8 MB 5.8 MB/s eta 0:00:01\n",
      "     ---------------------------------------  12.5/12.8 MB 6.0 MB/s eta 0:00:01\n",
      "     ---------------------------------------  12.8/12.8 MB 6.0 MB/s eta 0:00:01\n",
      "     ---------------------------------------  12.8/12.8 MB 6.0 MB/s eta 0:00:01\n",
      "     ---------------------------------------- 12.8/12.8 MB 5.7 MB/s eta 0:00:00\n",
      "Requirement already satisfied: spacy<3.8.0,>=3.7.2 in c:\\users\\modza\\documents\\nlp\\env\\lib\\site-packages (from en-core-web-sm==3.7.1) (3.7.2)\n",
      "Requirement already satisfied: spacy-legacy<3.1.0,>=3.0.11 in c:\\users\\modza\\documents\\nlp\\env\\lib\\site-packages (from spacy<3.8.0,>=3.7.2->en-core-web-sm==3.7.1) (3.0.12)\n",
      "Requirement already satisfied: spacy-loggers<2.0.0,>=1.0.0 in c:\\users\\modza\\documents\\nlp\\env\\lib\\site-packages (from spacy<3.8.0,>=3.7.2->en-core-web-sm==3.7.1) (1.0.5)\n",
      "Requirement already satisfied: murmurhash<1.1.0,>=0.28.0 in c:\\users\\modza\\documents\\nlp\\env\\lib\\site-packages (from spacy<3.8.0,>=3.7.2->en-core-web-sm==3.7.1) (1.0.10)\n",
      "Requirement already satisfied: cymem<2.1.0,>=2.0.2 in c:\\users\\modza\\documents\\nlp\\env\\lib\\site-packages (from spacy<3.8.0,>=3.7.2->en-core-web-sm==3.7.1) (2.0.8)\n",
      "Requirement already satisfied: preshed<3.1.0,>=3.0.2 in c:\\users\\modza\\documents\\nlp\\env\\lib\\site-packages (from spacy<3.8.0,>=3.7.2->en-core-web-sm==3.7.1) (3.0.9)\n",
      "Requirement already satisfied: thinc<8.3.0,>=8.1.8 in c:\\users\\modza\\documents\\nlp\\env\\lib\\site-packages (from spacy<3.8.0,>=3.7.2->en-core-web-sm==3.7.1) (8.2.2)\n",
      "Requirement already satisfied: wasabi<1.2.0,>=0.9.1 in c:\\users\\modza\\documents\\nlp\\env\\lib\\site-packages (from spacy<3.8.0,>=3.7.2->en-core-web-sm==3.7.1) (1.1.2)\n",
      "Requirement already satisfied: srsly<3.0.0,>=2.4.3 in c:\\users\\modza\\documents\\nlp\\env\\lib\\site-packages (from spacy<3.8.0,>=3.7.2->en-core-web-sm==3.7.1) (2.4.8)\n",
      "Requirement already satisfied: catalogue<2.1.0,>=2.0.6 in c:\\users\\modza\\documents\\nlp\\env\\lib\\site-packages (from spacy<3.8.0,>=3.7.2->en-core-web-sm==3.7.1) (2.0.10)\n",
      "Requirement already satisfied: weasel<0.4.0,>=0.1.0 in c:\\users\\modza\\documents\\nlp\\env\\lib\\site-packages (from spacy<3.8.0,>=3.7.2->en-core-web-sm==3.7.1) (0.3.4)\n",
      "Requirement already satisfied: typer<0.10.0,>=0.3.0 in c:\\users\\modza\\documents\\nlp\\env\\lib\\site-packages (from spacy<3.8.0,>=3.7.2->en-core-web-sm==3.7.1) (0.9.0)\n",
      "Requirement already satisfied: smart-open<7.0.0,>=5.2.1 in c:\\users\\modza\\documents\\nlp\\env\\lib\\site-packages (from spacy<3.8.0,>=3.7.2->en-core-web-sm==3.7.1) (6.4.0)\n",
      "Requirement already satisfied: tqdm<5.0.0,>=4.38.0 in c:\\users\\modza\\documents\\nlp\\env\\lib\\site-packages (from spacy<3.8.0,>=3.7.2->en-core-web-sm==3.7.1) (4.65.0)\n",
      "Requirement already satisfied: requests<3.0.0,>=2.13.0 in c:\\users\\modza\\documents\\nlp\\env\\lib\\site-packages (from spacy<3.8.0,>=3.7.2->en-core-web-sm==3.7.1) (2.31.0)\n",
      "Requirement already satisfied: pydantic!=1.8,!=1.8.1,<3.0.0,>=1.7.4 in c:\\users\\modza\\documents\\nlp\\env\\lib\\site-packages (from spacy<3.8.0,>=3.7.2->en-core-web-sm==3.7.1) (2.5.3)\n",
      "Requirement already satisfied: jinja2 in c:\\users\\modza\\documents\\nlp\\env\\lib\\site-packages (from spacy<3.8.0,>=3.7.2->en-core-web-sm==3.7.1) (3.1.2)\n",
      "Requirement already satisfied: setuptools in c:\\users\\modza\\documents\\nlp\\env\\lib\\site-packages (from spacy<3.8.0,>=3.7.2->en-core-web-sm==3.7.1) (68.2.2)\n",
      "Requirement already satisfied: packaging>=20.0 in c:\\users\\modza\\documents\\nlp\\env\\lib\\site-packages (from spacy<3.8.0,>=3.7.2->en-core-web-sm==3.7.1) (23.1)\n",
      "Requirement already satisfied: langcodes<4.0.0,>=3.2.0 in c:\\users\\modza\\documents\\nlp\\env\\lib\\site-packages (from spacy<3.8.0,>=3.7.2->en-core-web-sm==3.7.1) (3.3.0)\n",
      "Requirement already satisfied: numpy>=1.19.0 in c:\\users\\modza\\appdata\\roaming\\python\\python311\\site-packages (from spacy<3.8.0,>=3.7.2->en-core-web-sm==3.7.1) (1.24.3)\n",
      "Requirement already satisfied: annotated-types>=0.4.0 in c:\\users\\modza\\documents\\nlp\\env\\lib\\site-packages (from pydantic!=1.8,!=1.8.1,<3.0.0,>=1.7.4->spacy<3.8.0,>=3.7.2->en-core-web-sm==3.7.1) (0.6.0)\n",
      "Requirement already satisfied: pydantic-core==2.14.6 in c:\\users\\modza\\documents\\nlp\\env\\lib\\site-packages (from pydantic!=1.8,!=1.8.1,<3.0.0,>=1.7.4->spacy<3.8.0,>=3.7.2->en-core-web-sm==3.7.1) (2.14.6)\n",
      "Requirement already satisfied: typing-extensions>=4.6.1 in c:\\users\\modza\\documents\\nlp\\env\\lib\\site-packages (from pydantic!=1.8,!=1.8.1,<3.0.0,>=1.7.4->spacy<3.8.0,>=3.7.2->en-core-web-sm==3.7.1) (4.12.2)\n",
      "Requirement already satisfied: charset-normalizer<4,>=2 in c:\\users\\modza\\documents\\nlp\\env\\lib\\site-packages (from requests<3.0.0,>=2.13.0->spacy<3.8.0,>=3.7.2->en-core-web-sm==3.7.1) (2.0.4)\n",
      "Requirement already satisfied: idna<4,>=2.5 in c:\\users\\modza\\documents\\nlp\\env\\lib\\site-packages (from requests<3.0.0,>=2.13.0->spacy<3.8.0,>=3.7.2->en-core-web-sm==3.7.1) (3.4)\n",
      "Requirement already satisfied: urllib3<3,>=1.21.1 in c:\\users\\modza\\documents\\nlp\\env\\lib\\site-packages (from requests<3.0.0,>=2.13.0->spacy<3.8.0,>=3.7.2->en-core-web-sm==3.7.1) (1.26.18)\n",
      "Requirement already satisfied: certifi>=2017.4.17 in c:\\users\\modza\\documents\\nlp\\env\\lib\\site-packages (from requests<3.0.0,>=2.13.0->spacy<3.8.0,>=3.7.2->en-core-web-sm==3.7.1) (2023.11.17)\n",
      "Requirement already satisfied: blis<0.8.0,>=0.7.8 in c:\\users\\modza\\documents\\nlp\\env\\lib\\site-packages (from thinc<8.3.0,>=8.1.8->spacy<3.8.0,>=3.7.2->en-core-web-sm==3.7.1) (0.7.11)\n",
      "Requirement already satisfied: confection<1.0.0,>=0.0.1 in c:\\users\\modza\\documents\\nlp\\env\\lib\\site-packages (from thinc<8.3.0,>=8.1.8->spacy<3.8.0,>=3.7.2->en-core-web-sm==3.7.1) (0.1.4)\n",
      "Requirement already satisfied: colorama in c:\\users\\modza\\documents\\nlp\\env\\lib\\site-packages (from tqdm<5.0.0,>=4.38.0->spacy<3.8.0,>=3.7.2->en-core-web-sm==3.7.1) (0.4.6)\n",
      "Requirement already satisfied: click<9.0.0,>=7.1.1 in c:\\users\\modza\\documents\\nlp\\env\\lib\\site-packages (from typer<0.10.0,>=0.3.0->spacy<3.8.0,>=3.7.2->en-core-web-sm==3.7.1) (8.1.7)\n",
      "Requirement already satisfied: cloudpathlib<0.17.0,>=0.7.0 in c:\\users\\modza\\documents\\nlp\\env\\lib\\site-packages (from weasel<0.4.0,>=0.1.0->spacy<3.8.0,>=3.7.2->en-core-web-sm==3.7.1) (0.16.0)\n",
      "Requirement already satisfied: MarkupSafe>=2.0 in c:\\users\\modza\\appdata\\roaming\\python\\python311\\site-packages (from jinja2->spacy<3.8.0,>=3.7.2->en-core-web-sm==3.7.1) (2.1.5)\n",
      "\u001b[38;5;2m[+] Download and installation successful\u001b[0m\n",
      "You can now load the package via spacy.load('en_core_web_sm')\n"
     ]
    }
   ],
   "source": [
    "!pip install spacy benepar\n",
    "!python -m spacy download en_core_web_sm\n"
   ]
  },
  {
   "cell_type": "code",
   "execution_count": 1,
   "id": "b75eccd5-1a22-4a78-976c-c38b3c5b21d5",
   "metadata": {},
   "outputs": [
    {
     "name": "stderr",
     "output_type": "stream",
     "text": [
      "c:\\users\\modza\\documents\\nlp\\env\\python.exe: No module named benepar.download_en2\n"
     ]
    }
   ],
   "source": [
    "!python -m benepar.download_en2"
   ]
  },
  {
   "cell_type": "code",
   "execution_count": 2,
   "id": "5a3ad716-7a2d-4259-bf66-c6b167982490",
   "metadata": {},
   "outputs": [
    {
     "name": "stdout",
     "output_type": "stream",
     "text": [
      "Requirement already satisfied: benepar[cpu] in c:\\users\\modza\\documents\\nlp\\env\\lib\\site-packages (0.2.0)\n",
      "Requirement already satisfied: nltk>=3.2 in c:\\users\\modza\\documents\\nlp\\env\\lib\\site-packages (from benepar[cpu]) (3.8.1)\n",
      "Requirement already satisfied: spacy>=2.0.9 in c:\\users\\modza\\documents\\nlp\\env\\lib\\site-packages (from benepar[cpu]) (3.7.2)\n",
      "Requirement already satisfied: torch>=1.6.0 in c:\\users\\modza\\documents\\nlp\\env\\lib\\site-packages (from benepar[cpu]) (2.1.2)\n",
      "Requirement already satisfied: torch-struct>=0.5 in c:\\users\\modza\\documents\\nlp\\env\\lib\\site-packages (from benepar[cpu]) (0.5)\n",
      "Requirement already satisfied: tokenizers>=0.9.4 in c:\\users\\modza\\documents\\nlp\\env\\lib\\site-packages (from benepar[cpu]) (0.19.1)\n",
      "Requirement already satisfied: transformers>=4.2.2 in c:\\users\\modza\\documents\\nlp\\env\\lib\\site-packages (from transformers[tokenizers,torch]>=4.2.2->benepar[cpu]) (4.42.4)\n",
      "Requirement already satisfied: protobuf in c:\\users\\modza\\documents\\nlp\\env\\lib\\site-packages (from benepar[cpu]) (3.20.0)\n",
      "Requirement already satisfied: sentencepiece>=0.1.91 in c:\\users\\modza\\documents\\nlp\\env\\lib\\site-packages (from benepar[cpu]) (0.2.0)\n",
      "Requirement already satisfied: click in c:\\users\\modza\\documents\\nlp\\env\\lib\\site-packages (from nltk>=3.2->benepar[cpu]) (8.1.7)\n",
      "Requirement already satisfied: joblib in c:\\users\\modza\\documents\\nlp\\env\\lib\\site-packages (from nltk>=3.2->benepar[cpu]) (1.2.0)\n",
      "Requirement already satisfied: regex>=2021.8.3 in c:\\users\\modza\\documents\\nlp\\env\\lib\\site-packages (from nltk>=3.2->benepar[cpu]) (2023.10.3)\n",
      "Requirement already satisfied: tqdm in c:\\users\\modza\\documents\\nlp\\env\\lib\\site-packages (from nltk>=3.2->benepar[cpu]) (4.65.0)\n",
      "Requirement already satisfied: spacy-legacy<3.1.0,>=3.0.11 in c:\\users\\modza\\documents\\nlp\\env\\lib\\site-packages (from spacy>=2.0.9->benepar[cpu]) (3.0.12)\n",
      "Requirement already satisfied: spacy-loggers<2.0.0,>=1.0.0 in c:\\users\\modza\\documents\\nlp\\env\\lib\\site-packages (from spacy>=2.0.9->benepar[cpu]) (1.0.5)\n",
      "Requirement already satisfied: murmurhash<1.1.0,>=0.28.0 in c:\\users\\modza\\documents\\nlp\\env\\lib\\site-packages (from spacy>=2.0.9->benepar[cpu]) (1.0.10)\n",
      "Requirement already satisfied: cymem<2.1.0,>=2.0.2 in c:\\users\\modza\\documents\\nlp\\env\\lib\\site-packages (from spacy>=2.0.9->benepar[cpu]) (2.0.8)\n",
      "Requirement already satisfied: preshed<3.1.0,>=3.0.2 in c:\\users\\modza\\documents\\nlp\\env\\lib\\site-packages (from spacy>=2.0.9->benepar[cpu]) (3.0.9)\n",
      "Requirement already satisfied: thinc<8.3.0,>=8.1.8 in c:\\users\\modza\\documents\\nlp\\env\\lib\\site-packages (from spacy>=2.0.9->benepar[cpu]) (8.2.2)\n",
      "Requirement already satisfied: wasabi<1.2.0,>=0.9.1 in c:\\users\\modza\\documents\\nlp\\env\\lib\\site-packages (from spacy>=2.0.9->benepar[cpu]) (1.1.2)\n",
      "Requirement already satisfied: srsly<3.0.0,>=2.4.3 in c:\\users\\modza\\documents\\nlp\\env\\lib\\site-packages (from spacy>=2.0.9->benepar[cpu]) (2.4.8)\n",
      "Requirement already satisfied: catalogue<2.1.0,>=2.0.6 in c:\\users\\modza\\documents\\nlp\\env\\lib\\site-packages (from spacy>=2.0.9->benepar[cpu]) (2.0.10)\n",
      "Requirement already satisfied: weasel<0.4.0,>=0.1.0 in c:\\users\\modza\\documents\\nlp\\env\\lib\\site-packages (from spacy>=2.0.9->benepar[cpu]) (0.3.4)\n",
      "Requirement already satisfied: typer<0.10.0,>=0.3.0 in c:\\users\\modza\\documents\\nlp\\env\\lib\\site-packages (from spacy>=2.0.9->benepar[cpu]) (0.9.0)\n",
      "Requirement already satisfied: smart-open<7.0.0,>=5.2.1 in c:\\users\\modza\\documents\\nlp\\env\\lib\\site-packages (from spacy>=2.0.9->benepar[cpu]) (6.4.0)\n",
      "Requirement already satisfied: requests<3.0.0,>=2.13.0 in c:\\users\\modza\\documents\\nlp\\env\\lib\\site-packages (from spacy>=2.0.9->benepar[cpu]) (2.31.0)\n",
      "Requirement already satisfied: pydantic!=1.8,!=1.8.1,<3.0.0,>=1.7.4 in c:\\users\\modza\\documents\\nlp\\env\\lib\\site-packages (from spacy>=2.0.9->benepar[cpu]) (2.5.3)\n",
      "Requirement already satisfied: jinja2 in c:\\users\\modza\\documents\\nlp\\env\\lib\\site-packages (from spacy>=2.0.9->benepar[cpu]) (3.1.2)\n",
      "Requirement already satisfied: setuptools in c:\\users\\modza\\documents\\nlp\\env\\lib\\site-packages (from spacy>=2.0.9->benepar[cpu]) (68.2.2)\n",
      "Requirement already satisfied: packaging>=20.0 in c:\\users\\modza\\documents\\nlp\\env\\lib\\site-packages (from spacy>=2.0.9->benepar[cpu]) (23.1)\n",
      "Requirement already satisfied: langcodes<4.0.0,>=3.2.0 in c:\\users\\modza\\documents\\nlp\\env\\lib\\site-packages (from spacy>=2.0.9->benepar[cpu]) (3.3.0)\n",
      "Requirement already satisfied: numpy>=1.19.0 in c:\\users\\modza\\appdata\\roaming\\python\\python311\\site-packages (from spacy>=2.0.9->benepar[cpu]) (1.24.3)\n",
      "Requirement already satisfied: huggingface-hub<1.0,>=0.16.4 in c:\\users\\modza\\documents\\nlp\\env\\lib\\site-packages (from tokenizers>=0.9.4->benepar[cpu]) (0.23.4)\n",
      "Requirement already satisfied: filelock in c:\\users\\modza\\documents\\nlp\\env\\lib\\site-packages (from torch>=1.6.0->benepar[cpu]) (3.13.1)\n",
      "Requirement already satisfied: typing-extensions in c:\\users\\modza\\documents\\nlp\\env\\lib\\site-packages (from torch>=1.6.0->benepar[cpu]) (4.12.2)\n",
      "Requirement already satisfied: sympy in c:\\users\\modza\\documents\\nlp\\env\\lib\\site-packages (from torch>=1.6.0->benepar[cpu]) (1.12)\n",
      "Requirement already satisfied: networkx in c:\\users\\modza\\documents\\nlp\\env\\lib\\site-packages (from torch>=1.6.0->benepar[cpu]) (3.2.1)\n",
      "Requirement already satisfied: fsspec in c:\\users\\modza\\documents\\nlp\\env\\lib\\site-packages (from torch>=1.6.0->benepar[cpu]) (2023.10.0)\n",
      "Requirement already satisfied: pyyaml>=5.1 in c:\\users\\modza\\documents\\nlp\\env\\lib\\site-packages (from transformers>=4.2.2->transformers[tokenizers,torch]>=4.2.2->benepar[cpu]) (6.0.1)\n",
      "Requirement already satisfied: safetensors>=0.4.1 in c:\\users\\modza\\documents\\nlp\\env\\lib\\site-packages (from transformers>=4.2.2->transformers[tokenizers,torch]>=4.2.2->benepar[cpu]) (0.4.3)\n",
      "Requirement already satisfied: accelerate>=0.21.0 in c:\\users\\modza\\documents\\nlp\\env\\lib\\site-packages (from transformers[tokenizers,torch]>=4.2.2->benepar[cpu]) (0.32.1)\n",
      "Requirement already satisfied: psutil in c:\\users\\modza\\documents\\nlp\\env\\lib\\site-packages (from accelerate>=0.21.0->transformers[tokenizers,torch]>=4.2.2->benepar[cpu]) (5.9.0)\n",
      "Requirement already satisfied: annotated-types>=0.4.0 in c:\\users\\modza\\documents\\nlp\\env\\lib\\site-packages (from pydantic!=1.8,!=1.8.1,<3.0.0,>=1.7.4->spacy>=2.0.9->benepar[cpu]) (0.6.0)\n",
      "Requirement already satisfied: pydantic-core==2.14.6 in c:\\users\\modza\\documents\\nlp\\env\\lib\\site-packages (from pydantic!=1.8,!=1.8.1,<3.0.0,>=1.7.4->spacy>=2.0.9->benepar[cpu]) (2.14.6)\n",
      "Requirement already satisfied: charset-normalizer<4,>=2 in c:\\users\\modza\\documents\\nlp\\env\\lib\\site-packages (from requests<3.0.0,>=2.13.0->spacy>=2.0.9->benepar[cpu]) (2.0.4)\n",
      "Requirement already satisfied: idna<4,>=2.5 in c:\\users\\modza\\documents\\nlp\\env\\lib\\site-packages (from requests<3.0.0,>=2.13.0->spacy>=2.0.9->benepar[cpu]) (3.4)\n",
      "Requirement already satisfied: urllib3<3,>=1.21.1 in c:\\users\\modza\\documents\\nlp\\env\\lib\\site-packages (from requests<3.0.0,>=2.13.0->spacy>=2.0.9->benepar[cpu]) (1.26.18)\n",
      "Requirement already satisfied: certifi>=2017.4.17 in c:\\users\\modza\\documents\\nlp\\env\\lib\\site-packages (from requests<3.0.0,>=2.13.0->spacy>=2.0.9->benepar[cpu]) (2023.11.17)\n",
      "Requirement already satisfied: blis<0.8.0,>=0.7.8 in c:\\users\\modza\\documents\\nlp\\env\\lib\\site-packages (from thinc<8.3.0,>=8.1.8->spacy>=2.0.9->benepar[cpu]) (0.7.11)\n",
      "Requirement already satisfied: confection<1.0.0,>=0.0.1 in c:\\users\\modza\\documents\\nlp\\env\\lib\\site-packages (from thinc<8.3.0,>=8.1.8->spacy>=2.0.9->benepar[cpu]) (0.1.4)\n",
      "Requirement already satisfied: colorama in c:\\users\\modza\\documents\\nlp\\env\\lib\\site-packages (from tqdm->nltk>=3.2->benepar[cpu]) (0.4.6)\n",
      "Requirement already satisfied: cloudpathlib<0.17.0,>=0.7.0 in c:\\users\\modza\\documents\\nlp\\env\\lib\\site-packages (from weasel<0.4.0,>=0.1.0->spacy>=2.0.9->benepar[cpu]) (0.16.0)\n",
      "Requirement already satisfied: MarkupSafe>=2.0 in c:\\users\\modza\\appdata\\roaming\\python\\python311\\site-packages (from jinja2->spacy>=2.0.9->benepar[cpu]) (2.1.5)\n",
      "Requirement already satisfied: mpmath>=0.19 in c:\\users\\modza\\documents\\nlp\\env\\lib\\site-packages (from sympy->torch>=1.6.0->benepar[cpu]) (1.3.0)\n"
     ]
    },
    {
     "name": "stderr",
     "output_type": "stream",
     "text": [
      "WARNING: benepar 0.2.0 does not provide the extra 'cpu'\n",
      "c:\\users\\modza\\documents\\nlp\\env\\python.exe: No module named benepar.download\n"
     ]
    }
   ],
   "source": [
    "!pip install benepar[cpu]\n",
    "!python -m benepar.download 'benepar_en3'\n"
   ]
  },
  {
   "cell_type": "code",
   "execution_count": 25,
   "id": "ee24327e-61be-4f04-9256-e17d15b3c249",
   "metadata": {},
   "outputs": [],
   "source": [
    "import nltk"
   ]
  },
  {
   "cell_type": "code",
   "execution_count": 3,
   "id": "d4e02e8f-56f2-4ba4-b22f-5f0e43e7734a",
   "metadata": {},
   "outputs": [],
   "source": [
    "import benepar"
   ]
  },
  {
   "cell_type": "code",
   "execution_count": null,
   "id": "5a62c875-784f-42d7-9c84-c8da184f9283",
   "metadata": {},
   "outputs": [],
   "source": [
    "benepar.integrations.spacy_plugin()"
   ]
  },
  {
   "cell_type": "code",
   "execution_count": null,
   "id": "674f1fad-2de1-4741-87b7-f83de9b20a2c",
   "metadata": {},
   "outputs": [
    {
     "name": "stdout",
     "output_type": "stream",
     "text": [
      "showing info https://raw.githubusercontent.com/nltk/nltk_data/gh-pages/index.xml\n"
     ]
    }
   ],
   "source": [
    "nltk.download()\n"
   ]
  },
  {
   "cell_type": "code",
   "execution_count": 26,
   "id": "49430a62-4d5f-4e5a-adab-78cb53d2e1c4",
   "metadata": {},
   "outputs": [
    {
     "name": "stderr",
     "output_type": "stream",
     "text": [
      "[nltk_data] Error loading benepar_en2: Package 'benepar_en2' not found\n",
      "[nltk_data]     in index\n"
     ]
    },
    {
     "data": {
      "text/plain": [
       "False"
      ]
     },
     "execution_count": 26,
     "metadata": {},
     "output_type": "execute_result"
    }
   ],
   "source": [
    "nltk.download('benepar_en2')"
   ]
  },
  {
   "cell_type": "code",
   "execution_count": 24,
   "id": "10afbadd-e85c-4940-bf2d-0b6bfad8ee13",
   "metadata": {},
   "outputs": [
    {
     "name": "stderr",
     "output_type": "stream",
     "text": [
      "[nltk_data] Error loading benepar_en2: Package 'benepar_en2' not found\n",
      "[nltk_data]     in index\n"
     ]
    },
    {
     "data": {
      "text/plain": [
       "False"
      ]
     },
     "execution_count": 24,
     "metadata": {},
     "output_type": "execute_result"
    }
   ],
   "source": [
    "import benepar\n",
    "benepar.download('benepar_en2')"
   ]
  },
  {
   "cell_type": "code",
   "execution_count": 17,
   "id": "2cf018c8-eba5-4c87-a6f4-525dde7dac28",
   "metadata": {},
   "outputs": [
    {
     "ename": "LookupError",
     "evalue": "\n**********************************************************************\n  Resource \u001b[93mbenepar_en2\u001b[0m not found.\n  Please use the NLTK Downloader to obtain the resource:\n\n  \u001b[31m>>> import nltk\n  >>> benepar.download('benepar_en2')\n  \u001b[0m\n  For more information see: https://www.nltk.org/data.html\n\n  Attempted to load \u001b[93mmodels/benepar_en2\u001b[0m\n\n  Searched in:\n    - 'C:\\\\Users\\\\modza/nltk_data'\n    - 'C:\\\\Users\\\\modza\\\\Documents\\\\nlp\\\\env\\\\nltk_data'\n    - 'C:\\\\Users\\\\modza\\\\Documents\\\\nlp\\\\env\\\\share\\\\nltk_data'\n    - 'C:\\\\Users\\\\modza\\\\Documents\\\\nlp\\\\env\\\\lib\\\\nltk_data'\n    - 'C:\\\\Users\\\\modza\\\\AppData\\\\Roaming\\\\nltk_data'\n    - 'C:\\\\nltk_data'\n    - 'D:\\\\nltk_data'\n    - 'E:\\\\nltk_data'\n**********************************************************************\n",
     "output_type": "error",
     "traceback": [
      "\u001b[1;31m---------------------------------------------------------------------------\u001b[0m",
      "\u001b[1;31mLookupError\u001b[0m                               Traceback (most recent call last)",
      "Cell \u001b[1;32mIn[17], line 6\u001b[0m\n\u001b[0;32m      4\u001b[0m \u001b[38;5;66;03m# Load SpaCy model and add Benepar component\u001b[39;00m\n\u001b[0;32m      5\u001b[0m nlp \u001b[38;5;241m=\u001b[39m spacy\u001b[38;5;241m.\u001b[39mload(\u001b[38;5;124m'\u001b[39m\u001b[38;5;124men_core_web_sm\u001b[39m\u001b[38;5;124m'\u001b[39m)\n\u001b[1;32m----> 6\u001b[0m \u001b[38;5;28;01mif\u001b[39;00m \u001b[38;5;129;01mnot\u001b[39;00m benepar\u001b[38;5;241m.\u001b[39mBeneparComponent(\u001b[38;5;124m'\u001b[39m\u001b[38;5;124mbenepar_en2\u001b[39m\u001b[38;5;124m'\u001b[39m):\n\u001b[0;32m      7\u001b[0m     benepar\u001b[38;5;241m.\u001b[39mdownload(\u001b[38;5;124m'\u001b[39m\u001b[38;5;124mbenepar_en2\u001b[39m\u001b[38;5;124m'\u001b[39m)\n\u001b[0;32m      8\u001b[0m nlp\u001b[38;5;241m.\u001b[39madd_pipe(\u001b[38;5;124m\"\u001b[39m\u001b[38;5;124mbenepar\u001b[39m\u001b[38;5;124m\"\u001b[39m, config\u001b[38;5;241m=\u001b[39m{\u001b[38;5;124m\"\u001b[39m\u001b[38;5;124mmodel\u001b[39m\u001b[38;5;124m\"\u001b[39m: \u001b[38;5;124m\"\u001b[39m\u001b[38;5;124mbenepar_en2\u001b[39m\u001b[38;5;124m\"\u001b[39m})\n",
      "File \u001b[1;32m~\\Documents\\nlp\\env\\Lib\\site-packages\\benepar\\integrations\\spacy_plugin.py:116\u001b[0m, in \u001b[0;36mBeneparComponent.__init__\u001b[1;34m(self, name, subbatch_max_tokens, disable_tagger, batch_size)\u001b[0m\n\u001b[0;32m     96\u001b[0m \u001b[38;5;28;01mdef\u001b[39;00m \u001b[38;5;21m__init__\u001b[39m(\n\u001b[0;32m     97\u001b[0m     \u001b[38;5;28mself\u001b[39m,\n\u001b[0;32m     98\u001b[0m     name,\n\u001b[1;32m   (...)\u001b[0m\n\u001b[0;32m    101\u001b[0m     batch_size\u001b[38;5;241m=\u001b[39m\u001b[38;5;124m\"\u001b[39m\u001b[38;5;124mignored\u001b[39m\u001b[38;5;124m\"\u001b[39m,\n\u001b[0;32m    102\u001b[0m ):\n\u001b[0;32m    103\u001b[0m \u001b[38;5;250m    \u001b[39m\u001b[38;5;124;03m\"\"\"Load a trained parser model.\u001b[39;00m\n\u001b[0;32m    104\u001b[0m \n\u001b[0;32m    105\u001b[0m \u001b[38;5;124;03m    Args:\u001b[39;00m\n\u001b[1;32m   (...)\u001b[0m\n\u001b[0;32m    114\u001b[0m \u001b[38;5;124;03m        batch_size: deprecated and ignored; use subbatch_max_tokens instead\u001b[39;00m\n\u001b[0;32m    115\u001b[0m \u001b[38;5;124;03m    \"\"\"\u001b[39;00m\n\u001b[1;32m--> 116\u001b[0m     \u001b[38;5;28mself\u001b[39m\u001b[38;5;241m.\u001b[39m_parser \u001b[38;5;241m=\u001b[39m load_trained_model(name)\n\u001b[0;32m    117\u001b[0m     \u001b[38;5;28;01mif\u001b[39;00m torch\u001b[38;5;241m.\u001b[39mcuda\u001b[38;5;241m.\u001b[39mis_available():\n\u001b[0;32m    118\u001b[0m         \u001b[38;5;28mself\u001b[39m\u001b[38;5;241m.\u001b[39m_parser\u001b[38;5;241m.\u001b[39mcuda()\n",
      "File \u001b[1;32m~\\Documents\\nlp\\env\\Lib\\site-packages\\benepar\\integrations\\downloader.py:32\u001b[0m, in \u001b[0;36mload_trained_model\u001b[1;34m(model_name_or_path)\u001b[0m\n\u001b[0;32m     31\u001b[0m \u001b[38;5;28;01mdef\u001b[39;00m \u001b[38;5;21mload_trained_model\u001b[39m(model_name_or_path):\n\u001b[1;32m---> 32\u001b[0m     model_path \u001b[38;5;241m=\u001b[39m locate_model(model_name_or_path)\n\u001b[0;32m     33\u001b[0m     \u001b[38;5;28;01mfrom\u001b[39;00m \u001b[38;5;21;01m.\u001b[39;00m\u001b[38;5;21;01m.\u001b[39;00m\u001b[38;5;21;01mparse_chart\u001b[39;00m \u001b[38;5;28;01mimport\u001b[39;00m ChartParser\n\u001b[0;32m     34\u001b[0m     parser \u001b[38;5;241m=\u001b[39m ChartParser\u001b[38;5;241m.\u001b[39mfrom_trained(model_path)\n",
      "File \u001b[1;32m~\\Documents\\nlp\\env\\Lib\\site-packages\\benepar\\integrations\\downloader.py:27\u001b[0m, in \u001b[0;36mlocate_model\u001b[1;34m(name)\u001b[0m\n\u001b[0;32m     24\u001b[0m     \u001b[38;5;28;01mexcept\u001b[39;00m \u001b[38;5;167;01mLookupError\u001b[39;00m \u001b[38;5;28;01mas\u001b[39;00m e:\n\u001b[0;32m     25\u001b[0m         arg \u001b[38;5;241m=\u001b[39m e\u001b[38;5;241m.\u001b[39margs[\u001b[38;5;241m0\u001b[39m]\u001b[38;5;241m.\u001b[39mreplace(\u001b[38;5;124m\"\u001b[39m\u001b[38;5;124mnltk.download\u001b[39m\u001b[38;5;124m\"\u001b[39m, \u001b[38;5;124m\"\u001b[39m\u001b[38;5;124mbenepar.download\u001b[39m\u001b[38;5;124m\"\u001b[39m)\n\u001b[1;32m---> 27\u001b[0m     \u001b[38;5;28;01mraise\u001b[39;00m \u001b[38;5;167;01mLookupError\u001b[39;00m(arg)\n\u001b[0;32m     29\u001b[0m \u001b[38;5;28;01mraise\u001b[39;00m \u001b[38;5;167;01mLookupError\u001b[39;00m(\u001b[38;5;124m\"\u001b[39m\u001b[38;5;124mCan\u001b[39m\u001b[38;5;124m'\u001b[39m\u001b[38;5;124mt find \u001b[39m\u001b[38;5;132;01m{}\u001b[39;00m\u001b[38;5;124m\"\u001b[39m\u001b[38;5;241m.\u001b[39mformat(name))\n",
      "\u001b[1;31mLookupError\u001b[0m: \n**********************************************************************\n  Resource \u001b[93mbenepar_en2\u001b[0m not found.\n  Please use the NLTK Downloader to obtain the resource:\n\n  \u001b[31m>>> import nltk\n  >>> benepar.download('benepar_en2')\n  \u001b[0m\n  For more information see: https://www.nltk.org/data.html\n\n  Attempted to load \u001b[93mmodels/benepar_en2\u001b[0m\n\n  Searched in:\n    - 'C:\\\\Users\\\\modza/nltk_data'\n    - 'C:\\\\Users\\\\modza\\\\Documents\\\\nlp\\\\env\\\\nltk_data'\n    - 'C:\\\\Users\\\\modza\\\\Documents\\\\nlp\\\\env\\\\share\\\\nltk_data'\n    - 'C:\\\\Users\\\\modza\\\\Documents\\\\nlp\\\\env\\\\lib\\\\nltk_data'\n    - 'C:\\\\Users\\\\modza\\\\AppData\\\\Roaming\\\\nltk_data'\n    - 'C:\\\\nltk_data'\n    - 'D:\\\\nltk_data'\n    - 'E:\\\\nltk_data'\n**********************************************************************\n"
     ]
    }
   ],
   "source": [
    "import spacy\n",
    "import benepar\n",
    "\n",
    "# Load SpaCy model and add Benepar component\n",
    "nlp = spacy.load('en_core_web_sm')\n",
    "if not benepar.BeneparComponent('benepar_en2'):\n",
    "    benepar.download('benepar_en2')\n",
    "nlp.add_pipe(\"benepar\", config={\"model\": \"benepar_en2\"})\n",
    "\n",
    "# Define sentences\n",
    "sentence1 = \"The bank can guarantee deposits will eventually cover future tuition costs.\"\n",
    "sentence2 = \"The river bank was steep and full of rocks.\"\n",
    "\n",
    "# Function to get constituency parse\n",
    "def get_constituency_parse(sentence):\n",
    "    doc = nlp(sentence)\n",
    "    sent = list(doc.sents)[0]\n",
    "    return sent._.parse_string\n",
    "\n",
    "# Function to get dependency parse\n",
    "def get_dependency_parse(sentence):\n",
    "    doc = nlp(sentence)\n",
    "    return [(token.text, token.dep_, token.head.text) for token in doc]\n",
    "\n",
    "# Function to get named entities\n",
    "def get_named_entities(sentence):\n",
    "    doc = nlp(sentence)\n",
    "    return [(ent.text, ent.label_) for ent in doc.ents]\n",
    "\n",
    "# Function to get all representations\n",
    "def get_meaning_representation(sentence):\n",
    "    constituency_parse = get_constituency_parse(sentence)\n",
    "    dependency_parse = get_dependency_parse(sentence)\n",
    "    named_entities = get_named_entities(sentence)\n",
    "    return constituency_parse, dependency_parse, named_entities\n",
    "\n",
    "# Get representations for each sentence\n",
    "const_parse1, dep_parse1, ner1 = get_meaning_representation(sentence1)\n",
    "const_parse2, dep_parse2, ner2 = get_meaning_representation(sentence2)\n",
    "\n",
    "print(\"Constituency Parse for Sentence 1:\")\n",
    "print(const_parse1)\n",
    "print(\"\\nDependency Parse for Sentence 1:\")\n",
    "print(dep_parse1)\n",
    "print(\"\\nNamed Entities for Sentence 1:\")\n",
    "print(ner1)\n",
    "\n",
    "print(\"\\nConstituency Parse for Sentence 2:\")\n",
    "print(const_parse2)\n",
    "print(\"\\nDependency Parse for Sentence 2:\")\n",
    "print(dep_parse2)\n",
    "print(\"\\nNamed Entities for Sentence 2:\")\n",
    "print(ner2)\n"
   ]
  },
  {
   "cell_type": "code",
   "execution_count": 4,
   "id": "f899395f-5aec-4804-9cc5-63c95db3b65c",
   "metadata": {},
   "outputs": [
    {
     "name": "stdout",
     "output_type": "stream",
     "text": [
      "Dependency Parse for Sentence 1:\n",
      "[('The', 'det', 'bank'), ('bank', 'nsubj', 'guarantee'), ('can', 'aux', 'guarantee'), ('guarantee', 'ROOT', 'guarantee'), ('deposits', 'dobj', 'guarantee'), ('will', 'aux', 'cover'), ('eventually', 'advmod', 'cover'), ('cover', 'ccomp', 'guarantee'), ('future', 'amod', 'costs'), ('tuition', 'compound', 'costs'), ('costs', 'dobj', 'cover'), ('.', 'punct', 'guarantee')]\n",
      "\n",
      "Named Entities for Sentence 1:\n",
      "[]\n",
      "\n",
      "Predicates for Sentence 1:\n",
      "['guarantee', 'cover']\n",
      "\n",
      "Concepts for Sentence 1:\n",
      "[]\n",
      "\n",
      "Dependency Parse for Sentence 2:\n",
      "[('The', 'det', 'bank'), ('river', 'compound', 'bank'), ('bank', 'nsubj', 'was'), ('was', 'ROOT', 'was'), ('steep', 'acomp', 'was'), ('and', 'cc', 'steep'), ('full', 'conj', 'steep'), ('of', 'prep', 'full'), ('rocks', 'pobj', 'of'), ('.', 'punct', 'was')]\n",
      "\n",
      "Named Entities for Sentence 2:\n",
      "[]\n",
      "\n",
      "Predicates for Sentence 2:\n",
      "[]\n",
      "\n",
      "Concepts for Sentence 2:\n",
      "[]\n"
     ]
    }
   ],
   "source": [
    "import spacy\n",
    "\n",
    "# Load SpaCy model\n",
    "nlp = spacy.load('en_core_web_sm')\n",
    "\n",
    "# Define sentences\n",
    "sentence1 = \"The bank can guarantee deposits will eventually cover future tuition costs.\"\n",
    "sentence2 = \"The river bank was steep and full of rocks.\"\n",
    "\n",
    "# Function to get dependency parse\n",
    "def get_dependency_parse(sentence):\n",
    "    doc = nlp(sentence)\n",
    "    return [(token.text, token.dep_, token.head.text) for token in doc]\n",
    "\n",
    "# Function to get named entities\n",
    "def get_named_entities(sentence):\n",
    "    doc = nlp(sentence)\n",
    "    return [(ent.text, ent.label_) for ent in doc.ents]\n",
    "\n",
    "# Function to get predicates\n",
    "def get_predicates(sentence):\n",
    "    doc = nlp(sentence)\n",
    "    return [token.lemma_ for token in doc if token.pos_ == 'VERB']\n",
    "\n",
    "# Function to get concepts (basic categorization example)\n",
    "def get_concepts(sentence):\n",
    "    doc = nlp(sentence)\n",
    "    concepts = []\n",
    "    for ent in doc.ents:\n",
    "        if ent.label_ in ['ORG', 'PERSON']:\n",
    "            concepts.append((ent.text, 'Entity'))\n",
    "        elif ent.label_ in ['GPE']:\n",
    "            concepts.append((ent.text, 'Location'))\n",
    "    return concepts\n",
    "\n",
    "# Function to get all representations\n",
    "def get_meaning_representation(sentence):\n",
    "    dependency_parse = get_dependency_parse(sentence)\n",
    "    named_entities = get_named_entities(sentence)\n",
    "    predicates = get_predicates(sentence)\n",
    "    concepts = get_concepts(sentence)\n",
    "    return dependency_parse, named_entities, predicates, concepts\n",
    "\n",
    "# Get representations for each sentence\n",
    "dep_parse1, ner1, preds1, concs1 = get_meaning_representation(sentence1)\n",
    "dep_parse2, ner2, preds2, concs2 = get_meaning_representation(sentence2)\n",
    "\n",
    "print(\"Dependency Parse for Sentence 1:\")\n",
    "print(dep_parse1)\n",
    "print(\"\\nNamed Entities for Sentence 1:\")\n",
    "print(ner1)\n",
    "print(\"\\nPredicates for Sentence 1:\")\n",
    "print(preds1)\n",
    "print(\"\\nConcepts for Sentence 1:\")\n",
    "print(concs1)\n",
    "\n",
    "print(\"\\nDependency Parse for Sentence 2:\")\n",
    "print(dep_parse2)\n",
    "print(\"\\nNamed Entities for Sentence 2:\")\n",
    "print(ner2)\n",
    "print(\"\\nPredicates for Sentence 2:\")\n",
    "print(preds2)\n",
    "print(\"\\nConcepts for Sentence 2:\")\n",
    "print(concs2)\n"
   ]
  },
  {
   "cell_type": "code",
   "execution_count": 5,
   "id": "c9b7b96a-ff26-45c9-8a0b-fb02cec9ec06",
   "metadata": {},
   "outputs": [
    {
     "data": {
      "text/html": [
       "<span class=\"tex2jax_ignore\"><svg xmlns=\"http://www.w3.org/2000/svg\" xmlns:xlink=\"http://www.w3.org/1999/xlink\" xml:lang=\"en\" id=\"d134dae17ce041f1a1bd519fb8baa6ac-0\" class=\"displacy\" width=\"1975\" height=\"399.5\" direction=\"ltr\" style=\"max-width: none; height: 399.5px; color: #000000; background: #ffffff; font-family: Arial; direction: ltr\">\n",
       "<text class=\"displacy-token\" fill=\"currentColor\" text-anchor=\"middle\" y=\"309.5\">\n",
       "    <tspan class=\"displacy-word\" fill=\"currentColor\" x=\"50\">The</tspan>\n",
       "    <tspan class=\"displacy-tag\" dy=\"2em\" fill=\"currentColor\" x=\"50\">DET</tspan>\n",
       "</text>\n",
       "\n",
       "<text class=\"displacy-token\" fill=\"currentColor\" text-anchor=\"middle\" y=\"309.5\">\n",
       "    <tspan class=\"displacy-word\" fill=\"currentColor\" x=\"225\">bank</tspan>\n",
       "    <tspan class=\"displacy-tag\" dy=\"2em\" fill=\"currentColor\" x=\"225\">NOUN</tspan>\n",
       "</text>\n",
       "\n",
       "<text class=\"displacy-token\" fill=\"currentColor\" text-anchor=\"middle\" y=\"309.5\">\n",
       "    <tspan class=\"displacy-word\" fill=\"currentColor\" x=\"400\">can</tspan>\n",
       "    <tspan class=\"displacy-tag\" dy=\"2em\" fill=\"currentColor\" x=\"400\">AUX</tspan>\n",
       "</text>\n",
       "\n",
       "<text class=\"displacy-token\" fill=\"currentColor\" text-anchor=\"middle\" y=\"309.5\">\n",
       "    <tspan class=\"displacy-word\" fill=\"currentColor\" x=\"575\">guarantee</tspan>\n",
       "    <tspan class=\"displacy-tag\" dy=\"2em\" fill=\"currentColor\" x=\"575\">VERB</tspan>\n",
       "</text>\n",
       "\n",
       "<text class=\"displacy-token\" fill=\"currentColor\" text-anchor=\"middle\" y=\"309.5\">\n",
       "    <tspan class=\"displacy-word\" fill=\"currentColor\" x=\"750\">deposits</tspan>\n",
       "    <tspan class=\"displacy-tag\" dy=\"2em\" fill=\"currentColor\" x=\"750\">NOUN</tspan>\n",
       "</text>\n",
       "\n",
       "<text class=\"displacy-token\" fill=\"currentColor\" text-anchor=\"middle\" y=\"309.5\">\n",
       "    <tspan class=\"displacy-word\" fill=\"currentColor\" x=\"925\">will</tspan>\n",
       "    <tspan class=\"displacy-tag\" dy=\"2em\" fill=\"currentColor\" x=\"925\">AUX</tspan>\n",
       "</text>\n",
       "\n",
       "<text class=\"displacy-token\" fill=\"currentColor\" text-anchor=\"middle\" y=\"309.5\">\n",
       "    <tspan class=\"displacy-word\" fill=\"currentColor\" x=\"1100\">eventually</tspan>\n",
       "    <tspan class=\"displacy-tag\" dy=\"2em\" fill=\"currentColor\" x=\"1100\">ADV</tspan>\n",
       "</text>\n",
       "\n",
       "<text class=\"displacy-token\" fill=\"currentColor\" text-anchor=\"middle\" y=\"309.5\">\n",
       "    <tspan class=\"displacy-word\" fill=\"currentColor\" x=\"1275\">cover</tspan>\n",
       "    <tspan class=\"displacy-tag\" dy=\"2em\" fill=\"currentColor\" x=\"1275\">VERB</tspan>\n",
       "</text>\n",
       "\n",
       "<text class=\"displacy-token\" fill=\"currentColor\" text-anchor=\"middle\" y=\"309.5\">\n",
       "    <tspan class=\"displacy-word\" fill=\"currentColor\" x=\"1450\">future</tspan>\n",
       "    <tspan class=\"displacy-tag\" dy=\"2em\" fill=\"currentColor\" x=\"1450\">ADJ</tspan>\n",
       "</text>\n",
       "\n",
       "<text class=\"displacy-token\" fill=\"currentColor\" text-anchor=\"middle\" y=\"309.5\">\n",
       "    <tspan class=\"displacy-word\" fill=\"currentColor\" x=\"1625\">tuition</tspan>\n",
       "    <tspan class=\"displacy-tag\" dy=\"2em\" fill=\"currentColor\" x=\"1625\">NOUN</tspan>\n",
       "</text>\n",
       "\n",
       "<text class=\"displacy-token\" fill=\"currentColor\" text-anchor=\"middle\" y=\"309.5\">\n",
       "    <tspan class=\"displacy-word\" fill=\"currentColor\" x=\"1800\">costs.</tspan>\n",
       "    <tspan class=\"displacy-tag\" dy=\"2em\" fill=\"currentColor\" x=\"1800\">NOUN</tspan>\n",
       "</text>\n",
       "\n",
       "<g class=\"displacy-arrow\">\n",
       "    <path class=\"displacy-arc\" id=\"arrow-d134dae17ce041f1a1bd519fb8baa6ac-0-0\" stroke-width=\"2px\" d=\"M70,264.5 C70,177.0 215.0,177.0 215.0,264.5\" fill=\"none\" stroke=\"currentColor\"/>\n",
       "    <text dy=\"1.25em\" style=\"font-size: 0.8em; letter-spacing: 1px\">\n",
       "        <textPath xlink:href=\"#arrow-d134dae17ce041f1a1bd519fb8baa6ac-0-0\" class=\"displacy-label\" startOffset=\"50%\" side=\"left\" fill=\"currentColor\" text-anchor=\"middle\">det</textPath>\n",
       "    </text>\n",
       "    <path class=\"displacy-arrowhead\" d=\"M70,266.5 L62,254.5 78,254.5\" fill=\"currentColor\"/>\n",
       "</g>\n",
       "\n",
       "<g class=\"displacy-arrow\">\n",
       "    <path class=\"displacy-arc\" id=\"arrow-d134dae17ce041f1a1bd519fb8baa6ac-0-1\" stroke-width=\"2px\" d=\"M245,264.5 C245,89.5 570.0,89.5 570.0,264.5\" fill=\"none\" stroke=\"currentColor\"/>\n",
       "    <text dy=\"1.25em\" style=\"font-size: 0.8em; letter-spacing: 1px\">\n",
       "        <textPath xlink:href=\"#arrow-d134dae17ce041f1a1bd519fb8baa6ac-0-1\" class=\"displacy-label\" startOffset=\"50%\" side=\"left\" fill=\"currentColor\" text-anchor=\"middle\">nsubj</textPath>\n",
       "    </text>\n",
       "    <path class=\"displacy-arrowhead\" d=\"M245,266.5 L237,254.5 253,254.5\" fill=\"currentColor\"/>\n",
       "</g>\n",
       "\n",
       "<g class=\"displacy-arrow\">\n",
       "    <path class=\"displacy-arc\" id=\"arrow-d134dae17ce041f1a1bd519fb8baa6ac-0-2\" stroke-width=\"2px\" d=\"M420,264.5 C420,177.0 565.0,177.0 565.0,264.5\" fill=\"none\" stroke=\"currentColor\"/>\n",
       "    <text dy=\"1.25em\" style=\"font-size: 0.8em; letter-spacing: 1px\">\n",
       "        <textPath xlink:href=\"#arrow-d134dae17ce041f1a1bd519fb8baa6ac-0-2\" class=\"displacy-label\" startOffset=\"50%\" side=\"left\" fill=\"currentColor\" text-anchor=\"middle\">aux</textPath>\n",
       "    </text>\n",
       "    <path class=\"displacy-arrowhead\" d=\"M420,266.5 L412,254.5 428,254.5\" fill=\"currentColor\"/>\n",
       "</g>\n",
       "\n",
       "<g class=\"displacy-arrow\">\n",
       "    <path class=\"displacy-arc\" id=\"arrow-d134dae17ce041f1a1bd519fb8baa6ac-0-3\" stroke-width=\"2px\" d=\"M595,264.5 C595,177.0 740.0,177.0 740.0,264.5\" fill=\"none\" stroke=\"currentColor\"/>\n",
       "    <text dy=\"1.25em\" style=\"font-size: 0.8em; letter-spacing: 1px\">\n",
       "        <textPath xlink:href=\"#arrow-d134dae17ce041f1a1bd519fb8baa6ac-0-3\" class=\"displacy-label\" startOffset=\"50%\" side=\"left\" fill=\"currentColor\" text-anchor=\"middle\">dobj</textPath>\n",
       "    </text>\n",
       "    <path class=\"displacy-arrowhead\" d=\"M740.0,266.5 L748.0,254.5 732.0,254.5\" fill=\"currentColor\"/>\n",
       "</g>\n",
       "\n",
       "<g class=\"displacy-arrow\">\n",
       "    <path class=\"displacy-arc\" id=\"arrow-d134dae17ce041f1a1bd519fb8baa6ac-0-4\" stroke-width=\"2px\" d=\"M945,264.5 C945,89.5 1270.0,89.5 1270.0,264.5\" fill=\"none\" stroke=\"currentColor\"/>\n",
       "    <text dy=\"1.25em\" style=\"font-size: 0.8em; letter-spacing: 1px\">\n",
       "        <textPath xlink:href=\"#arrow-d134dae17ce041f1a1bd519fb8baa6ac-0-4\" class=\"displacy-label\" startOffset=\"50%\" side=\"left\" fill=\"currentColor\" text-anchor=\"middle\">aux</textPath>\n",
       "    </text>\n",
       "    <path class=\"displacy-arrowhead\" d=\"M945,266.5 L937,254.5 953,254.5\" fill=\"currentColor\"/>\n",
       "</g>\n",
       "\n",
       "<g class=\"displacy-arrow\">\n",
       "    <path class=\"displacy-arc\" id=\"arrow-d134dae17ce041f1a1bd519fb8baa6ac-0-5\" stroke-width=\"2px\" d=\"M1120,264.5 C1120,177.0 1265.0,177.0 1265.0,264.5\" fill=\"none\" stroke=\"currentColor\"/>\n",
       "    <text dy=\"1.25em\" style=\"font-size: 0.8em; letter-spacing: 1px\">\n",
       "        <textPath xlink:href=\"#arrow-d134dae17ce041f1a1bd519fb8baa6ac-0-5\" class=\"displacy-label\" startOffset=\"50%\" side=\"left\" fill=\"currentColor\" text-anchor=\"middle\">advmod</textPath>\n",
       "    </text>\n",
       "    <path class=\"displacy-arrowhead\" d=\"M1120,266.5 L1112,254.5 1128,254.5\" fill=\"currentColor\"/>\n",
       "</g>\n",
       "\n",
       "<g class=\"displacy-arrow\">\n",
       "    <path class=\"displacy-arc\" id=\"arrow-d134dae17ce041f1a1bd519fb8baa6ac-0-6\" stroke-width=\"2px\" d=\"M595,264.5 C595,2.0 1275.0,2.0 1275.0,264.5\" fill=\"none\" stroke=\"currentColor\"/>\n",
       "    <text dy=\"1.25em\" style=\"font-size: 0.8em; letter-spacing: 1px\">\n",
       "        <textPath xlink:href=\"#arrow-d134dae17ce041f1a1bd519fb8baa6ac-0-6\" class=\"displacy-label\" startOffset=\"50%\" side=\"left\" fill=\"currentColor\" text-anchor=\"middle\">ccomp</textPath>\n",
       "    </text>\n",
       "    <path class=\"displacy-arrowhead\" d=\"M1275.0,266.5 L1283.0,254.5 1267.0,254.5\" fill=\"currentColor\"/>\n",
       "</g>\n",
       "\n",
       "<g class=\"displacy-arrow\">\n",
       "    <path class=\"displacy-arc\" id=\"arrow-d134dae17ce041f1a1bd519fb8baa6ac-0-7\" stroke-width=\"2px\" d=\"M1470,264.5 C1470,89.5 1795.0,89.5 1795.0,264.5\" fill=\"none\" stroke=\"currentColor\"/>\n",
       "    <text dy=\"1.25em\" style=\"font-size: 0.8em; letter-spacing: 1px\">\n",
       "        <textPath xlink:href=\"#arrow-d134dae17ce041f1a1bd519fb8baa6ac-0-7\" class=\"displacy-label\" startOffset=\"50%\" side=\"left\" fill=\"currentColor\" text-anchor=\"middle\">amod</textPath>\n",
       "    </text>\n",
       "    <path class=\"displacy-arrowhead\" d=\"M1470,266.5 L1462,254.5 1478,254.5\" fill=\"currentColor\"/>\n",
       "</g>\n",
       "\n",
       "<g class=\"displacy-arrow\">\n",
       "    <path class=\"displacy-arc\" id=\"arrow-d134dae17ce041f1a1bd519fb8baa6ac-0-8\" stroke-width=\"2px\" d=\"M1645,264.5 C1645,177.0 1790.0,177.0 1790.0,264.5\" fill=\"none\" stroke=\"currentColor\"/>\n",
       "    <text dy=\"1.25em\" style=\"font-size: 0.8em; letter-spacing: 1px\">\n",
       "        <textPath xlink:href=\"#arrow-d134dae17ce041f1a1bd519fb8baa6ac-0-8\" class=\"displacy-label\" startOffset=\"50%\" side=\"left\" fill=\"currentColor\" text-anchor=\"middle\">compound</textPath>\n",
       "    </text>\n",
       "    <path class=\"displacy-arrowhead\" d=\"M1645,266.5 L1637,254.5 1653,254.5\" fill=\"currentColor\"/>\n",
       "</g>\n",
       "\n",
       "<g class=\"displacy-arrow\">\n",
       "    <path class=\"displacy-arc\" id=\"arrow-d134dae17ce041f1a1bd519fb8baa6ac-0-9\" stroke-width=\"2px\" d=\"M1295,264.5 C1295,2.0 1800.0,2.0 1800.0,264.5\" fill=\"none\" stroke=\"currentColor\"/>\n",
       "    <text dy=\"1.25em\" style=\"font-size: 0.8em; letter-spacing: 1px\">\n",
       "        <textPath xlink:href=\"#arrow-d134dae17ce041f1a1bd519fb8baa6ac-0-9\" class=\"displacy-label\" startOffset=\"50%\" side=\"left\" fill=\"currentColor\" text-anchor=\"middle\">dobj</textPath>\n",
       "    </text>\n",
       "    <path class=\"displacy-arrowhead\" d=\"M1800.0,266.5 L1808.0,254.5 1792.0,254.5\" fill=\"currentColor\"/>\n",
       "</g>\n",
       "</svg></span>"
      ],
      "text/plain": [
       "<IPython.core.display.HTML object>"
      ]
     },
     "metadata": {},
     "output_type": "display_data"
    },
    {
     "name": "stderr",
     "output_type": "stream",
     "text": [
      "C:\\Users\\modza\\Documents\\nlp\\env\\Lib\\site-packages\\spacy\\displacy\\__init__.py:213: UserWarning: [W006] No entities to visualize found in Doc object. If this is surprising to you, make sure the Doc was processed using a model that supports named entity recognition, and check the `doc.ents` property manually if necessary.\n",
      "  warnings.warn(Warnings.W006)\n"
     ]
    },
    {
     "data": {
      "text/html": [
       "<span class=\"tex2jax_ignore\"><div class=\"entities\" style=\"line-height: 2.5; direction: ltr\">The bank can guarantee deposits will eventually cover future tuition costs.</div></span>"
      ],
      "text/plain": [
       "<IPython.core.display.HTML object>"
      ]
     },
     "metadata": {},
     "output_type": "display_data"
    },
    {
     "data": {
      "text/html": [
       "<span class=\"tex2jax_ignore\"><svg xmlns=\"http://www.w3.org/2000/svg\" xmlns:xlink=\"http://www.w3.org/1999/xlink\" xml:lang=\"en\" id=\"bdaad038a32a4d96a51a7289bb168968-0\" class=\"displacy\" width=\"1625\" height=\"312.0\" direction=\"ltr\" style=\"max-width: none; height: 312.0px; color: #000000; background: #ffffff; font-family: Arial; direction: ltr\">\n",
       "<text class=\"displacy-token\" fill=\"currentColor\" text-anchor=\"middle\" y=\"222.0\">\n",
       "    <tspan class=\"displacy-word\" fill=\"currentColor\" x=\"50\">The</tspan>\n",
       "    <tspan class=\"displacy-tag\" dy=\"2em\" fill=\"currentColor\" x=\"50\">DET</tspan>\n",
       "</text>\n",
       "\n",
       "<text class=\"displacy-token\" fill=\"currentColor\" text-anchor=\"middle\" y=\"222.0\">\n",
       "    <tspan class=\"displacy-word\" fill=\"currentColor\" x=\"225\">river</tspan>\n",
       "    <tspan class=\"displacy-tag\" dy=\"2em\" fill=\"currentColor\" x=\"225\">NOUN</tspan>\n",
       "</text>\n",
       "\n",
       "<text class=\"displacy-token\" fill=\"currentColor\" text-anchor=\"middle\" y=\"222.0\">\n",
       "    <tspan class=\"displacy-word\" fill=\"currentColor\" x=\"400\">bank</tspan>\n",
       "    <tspan class=\"displacy-tag\" dy=\"2em\" fill=\"currentColor\" x=\"400\">NOUN</tspan>\n",
       "</text>\n",
       "\n",
       "<text class=\"displacy-token\" fill=\"currentColor\" text-anchor=\"middle\" y=\"222.0\">\n",
       "    <tspan class=\"displacy-word\" fill=\"currentColor\" x=\"575\">was</tspan>\n",
       "    <tspan class=\"displacy-tag\" dy=\"2em\" fill=\"currentColor\" x=\"575\">AUX</tspan>\n",
       "</text>\n",
       "\n",
       "<text class=\"displacy-token\" fill=\"currentColor\" text-anchor=\"middle\" y=\"222.0\">\n",
       "    <tspan class=\"displacy-word\" fill=\"currentColor\" x=\"750\">steep</tspan>\n",
       "    <tspan class=\"displacy-tag\" dy=\"2em\" fill=\"currentColor\" x=\"750\">ADJ</tspan>\n",
       "</text>\n",
       "\n",
       "<text class=\"displacy-token\" fill=\"currentColor\" text-anchor=\"middle\" y=\"222.0\">\n",
       "    <tspan class=\"displacy-word\" fill=\"currentColor\" x=\"925\">and</tspan>\n",
       "    <tspan class=\"displacy-tag\" dy=\"2em\" fill=\"currentColor\" x=\"925\">CCONJ</tspan>\n",
       "</text>\n",
       "\n",
       "<text class=\"displacy-token\" fill=\"currentColor\" text-anchor=\"middle\" y=\"222.0\">\n",
       "    <tspan class=\"displacy-word\" fill=\"currentColor\" x=\"1100\">full</tspan>\n",
       "    <tspan class=\"displacy-tag\" dy=\"2em\" fill=\"currentColor\" x=\"1100\">ADJ</tspan>\n",
       "</text>\n",
       "\n",
       "<text class=\"displacy-token\" fill=\"currentColor\" text-anchor=\"middle\" y=\"222.0\">\n",
       "    <tspan class=\"displacy-word\" fill=\"currentColor\" x=\"1275\">of</tspan>\n",
       "    <tspan class=\"displacy-tag\" dy=\"2em\" fill=\"currentColor\" x=\"1275\">ADP</tspan>\n",
       "</text>\n",
       "\n",
       "<text class=\"displacy-token\" fill=\"currentColor\" text-anchor=\"middle\" y=\"222.0\">\n",
       "    <tspan class=\"displacy-word\" fill=\"currentColor\" x=\"1450\">rocks.</tspan>\n",
       "    <tspan class=\"displacy-tag\" dy=\"2em\" fill=\"currentColor\" x=\"1450\">NOUN</tspan>\n",
       "</text>\n",
       "\n",
       "<g class=\"displacy-arrow\">\n",
       "    <path class=\"displacy-arc\" id=\"arrow-bdaad038a32a4d96a51a7289bb168968-0-0\" stroke-width=\"2px\" d=\"M70,177.0 C70,2.0 400.0,2.0 400.0,177.0\" fill=\"none\" stroke=\"currentColor\"/>\n",
       "    <text dy=\"1.25em\" style=\"font-size: 0.8em; letter-spacing: 1px\">\n",
       "        <textPath xlink:href=\"#arrow-bdaad038a32a4d96a51a7289bb168968-0-0\" class=\"displacy-label\" startOffset=\"50%\" side=\"left\" fill=\"currentColor\" text-anchor=\"middle\">det</textPath>\n",
       "    </text>\n",
       "    <path class=\"displacy-arrowhead\" d=\"M70,179.0 L62,167.0 78,167.0\" fill=\"currentColor\"/>\n",
       "</g>\n",
       "\n",
       "<g class=\"displacy-arrow\">\n",
       "    <path class=\"displacy-arc\" id=\"arrow-bdaad038a32a4d96a51a7289bb168968-0-1\" stroke-width=\"2px\" d=\"M245,177.0 C245,89.5 395.0,89.5 395.0,177.0\" fill=\"none\" stroke=\"currentColor\"/>\n",
       "    <text dy=\"1.25em\" style=\"font-size: 0.8em; letter-spacing: 1px\">\n",
       "        <textPath xlink:href=\"#arrow-bdaad038a32a4d96a51a7289bb168968-0-1\" class=\"displacy-label\" startOffset=\"50%\" side=\"left\" fill=\"currentColor\" text-anchor=\"middle\">compound</textPath>\n",
       "    </text>\n",
       "    <path class=\"displacy-arrowhead\" d=\"M245,179.0 L237,167.0 253,167.0\" fill=\"currentColor\"/>\n",
       "</g>\n",
       "\n",
       "<g class=\"displacy-arrow\">\n",
       "    <path class=\"displacy-arc\" id=\"arrow-bdaad038a32a4d96a51a7289bb168968-0-2\" stroke-width=\"2px\" d=\"M420,177.0 C420,89.5 570.0,89.5 570.0,177.0\" fill=\"none\" stroke=\"currentColor\"/>\n",
       "    <text dy=\"1.25em\" style=\"font-size: 0.8em; letter-spacing: 1px\">\n",
       "        <textPath xlink:href=\"#arrow-bdaad038a32a4d96a51a7289bb168968-0-2\" class=\"displacy-label\" startOffset=\"50%\" side=\"left\" fill=\"currentColor\" text-anchor=\"middle\">nsubj</textPath>\n",
       "    </text>\n",
       "    <path class=\"displacy-arrowhead\" d=\"M420,179.0 L412,167.0 428,167.0\" fill=\"currentColor\"/>\n",
       "</g>\n",
       "\n",
       "<g class=\"displacy-arrow\">\n",
       "    <path class=\"displacy-arc\" id=\"arrow-bdaad038a32a4d96a51a7289bb168968-0-3\" stroke-width=\"2px\" d=\"M595,177.0 C595,89.5 745.0,89.5 745.0,177.0\" fill=\"none\" stroke=\"currentColor\"/>\n",
       "    <text dy=\"1.25em\" style=\"font-size: 0.8em; letter-spacing: 1px\">\n",
       "        <textPath xlink:href=\"#arrow-bdaad038a32a4d96a51a7289bb168968-0-3\" class=\"displacy-label\" startOffset=\"50%\" side=\"left\" fill=\"currentColor\" text-anchor=\"middle\">acomp</textPath>\n",
       "    </text>\n",
       "    <path class=\"displacy-arrowhead\" d=\"M745.0,179.0 L753.0,167.0 737.0,167.0\" fill=\"currentColor\"/>\n",
       "</g>\n",
       "\n",
       "<g class=\"displacy-arrow\">\n",
       "    <path class=\"displacy-arc\" id=\"arrow-bdaad038a32a4d96a51a7289bb168968-0-4\" stroke-width=\"2px\" d=\"M770,177.0 C770,89.5 920.0,89.5 920.0,177.0\" fill=\"none\" stroke=\"currentColor\"/>\n",
       "    <text dy=\"1.25em\" style=\"font-size: 0.8em; letter-spacing: 1px\">\n",
       "        <textPath xlink:href=\"#arrow-bdaad038a32a4d96a51a7289bb168968-0-4\" class=\"displacy-label\" startOffset=\"50%\" side=\"left\" fill=\"currentColor\" text-anchor=\"middle\">cc</textPath>\n",
       "    </text>\n",
       "    <path class=\"displacy-arrowhead\" d=\"M920.0,179.0 L928.0,167.0 912.0,167.0\" fill=\"currentColor\"/>\n",
       "</g>\n",
       "\n",
       "<g class=\"displacy-arrow\">\n",
       "    <path class=\"displacy-arc\" id=\"arrow-bdaad038a32a4d96a51a7289bb168968-0-5\" stroke-width=\"2px\" d=\"M770,177.0 C770,2.0 1100.0,2.0 1100.0,177.0\" fill=\"none\" stroke=\"currentColor\"/>\n",
       "    <text dy=\"1.25em\" style=\"font-size: 0.8em; letter-spacing: 1px\">\n",
       "        <textPath xlink:href=\"#arrow-bdaad038a32a4d96a51a7289bb168968-0-5\" class=\"displacy-label\" startOffset=\"50%\" side=\"left\" fill=\"currentColor\" text-anchor=\"middle\">conj</textPath>\n",
       "    </text>\n",
       "    <path class=\"displacy-arrowhead\" d=\"M1100.0,179.0 L1108.0,167.0 1092.0,167.0\" fill=\"currentColor\"/>\n",
       "</g>\n",
       "\n",
       "<g class=\"displacy-arrow\">\n",
       "    <path class=\"displacy-arc\" id=\"arrow-bdaad038a32a4d96a51a7289bb168968-0-6\" stroke-width=\"2px\" d=\"M1120,177.0 C1120,89.5 1270.0,89.5 1270.0,177.0\" fill=\"none\" stroke=\"currentColor\"/>\n",
       "    <text dy=\"1.25em\" style=\"font-size: 0.8em; letter-spacing: 1px\">\n",
       "        <textPath xlink:href=\"#arrow-bdaad038a32a4d96a51a7289bb168968-0-6\" class=\"displacy-label\" startOffset=\"50%\" side=\"left\" fill=\"currentColor\" text-anchor=\"middle\">prep</textPath>\n",
       "    </text>\n",
       "    <path class=\"displacy-arrowhead\" d=\"M1270.0,179.0 L1278.0,167.0 1262.0,167.0\" fill=\"currentColor\"/>\n",
       "</g>\n",
       "\n",
       "<g class=\"displacy-arrow\">\n",
       "    <path class=\"displacy-arc\" id=\"arrow-bdaad038a32a4d96a51a7289bb168968-0-7\" stroke-width=\"2px\" d=\"M1295,177.0 C1295,89.5 1445.0,89.5 1445.0,177.0\" fill=\"none\" stroke=\"currentColor\"/>\n",
       "    <text dy=\"1.25em\" style=\"font-size: 0.8em; letter-spacing: 1px\">\n",
       "        <textPath xlink:href=\"#arrow-bdaad038a32a4d96a51a7289bb168968-0-7\" class=\"displacy-label\" startOffset=\"50%\" side=\"left\" fill=\"currentColor\" text-anchor=\"middle\">pobj</textPath>\n",
       "    </text>\n",
       "    <path class=\"displacy-arrowhead\" d=\"M1445.0,179.0 L1453.0,167.0 1437.0,167.0\" fill=\"currentColor\"/>\n",
       "</g>\n",
       "</svg></span>"
      ],
      "text/plain": [
       "<IPython.core.display.HTML object>"
      ]
     },
     "metadata": {},
     "output_type": "display_data"
    },
    {
     "data": {
      "text/html": [
       "<span class=\"tex2jax_ignore\"><div class=\"entities\" style=\"line-height: 2.5; direction: ltr\">The river bank was steep and full of rocks.</div></span>"
      ],
      "text/plain": [
       "<IPython.core.display.HTML object>"
      ]
     },
     "metadata": {},
     "output_type": "display_data"
    },
    {
     "name": "stdout",
     "output_type": "stream",
     "text": [
      "Dependency Parse for Sentence 1:\n",
      "[('The', 'det', 'bank'), ('bank', 'nsubj', 'guarantee'), ('can', 'aux', 'guarantee'), ('guarantee', 'ROOT', 'guarantee'), ('deposits', 'dobj', 'guarantee'), ('will', 'aux', 'cover'), ('eventually', 'advmod', 'cover'), ('cover', 'ccomp', 'guarantee'), ('future', 'amod', 'costs'), ('tuition', 'compound', 'costs'), ('costs', 'dobj', 'cover'), ('.', 'punct', 'guarantee')]\n",
      "\n",
      "Named Entities for Sentence 1:\n",
      "[]\n",
      "\n",
      "Predicates for Sentence 1:\n",
      "['guarantee', 'cover']\n",
      "\n",
      "Concepts for Sentence 1:\n",
      "[]\n",
      "\n",
      "Dependency Parse for Sentence 2:\n",
      "[('The', 'det', 'bank'), ('river', 'compound', 'bank'), ('bank', 'nsubj', 'was'), ('was', 'ROOT', 'was'), ('steep', 'acomp', 'was'), ('and', 'cc', 'steep'), ('full', 'conj', 'steep'), ('of', 'prep', 'full'), ('rocks', 'pobj', 'of'), ('.', 'punct', 'was')]\n",
      "\n",
      "Named Entities for Sentence 2:\n",
      "[]\n",
      "\n",
      "Predicates for Sentence 2:\n",
      "[]\n",
      "\n",
      "Concepts for Sentence 2:\n",
      "[]\n"
     ]
    }
   ],
   "source": [
    "import spacy\n",
    "from spacy import displacy\n",
    "\n",
    "# Load SpaCy model\n",
    "nlp = spacy.load('en_core_web_sm')\n",
    "\n",
    "# Define sentences\n",
    "sentence1 = \"The bank can guarantee deposits will eventually cover future tuition costs.\"\n",
    "sentence2 = \"The river bank was steep and full of rocks.\"\n",
    "\n",
    "# Function to get dependency parse\n",
    "def get_dependency_parse(sentence):\n",
    "    doc = nlp(sentence)\n",
    "    return [(token.text, token.dep_, token.head.text) for token in doc]\n",
    "\n",
    "# Function to get named entities\n",
    "def get_named_entities(sentence):\n",
    "    doc = nlp(sentence)\n",
    "    return [(ent.text, ent.label_) for ent in doc.ents]\n",
    "\n",
    "# Function to get predicates\n",
    "def get_predicates(sentence):\n",
    "    doc = nlp(sentence)\n",
    "    return [token.lemma_ for token in doc if token.pos_ == 'VERB']\n",
    "\n",
    "# Function to get concepts (basic categorization example)\n",
    "def get_concepts(sentence):\n",
    "    doc = nlp(sentence)\n",
    "    concepts = []\n",
    "    for ent in doc.ents:\n",
    "        if ent.label_ in ['ORG', 'PERSON']:\n",
    "            concepts.append((ent.text, 'Entity'))\n",
    "        elif ent.label_ in ['GPE']:\n",
    "            concepts.append((ent.text, 'Location'))\n",
    "    return concepts\n",
    "\n",
    "# Function to visualize dependency parse and named entities\n",
    "def visualize_relations(sentence):\n",
    "    doc = nlp(sentence)\n",
    "    displacy.render(doc, style='dep', jupyter=True)\n",
    "    displacy.render(doc, style='ent', jupyter=True)\n",
    "\n",
    "# Function to get all representations and visualize relations\n",
    "def get_meaning_representation(sentence):\n",
    "    dependency_parse = get_dependency_parse(sentence)\n",
    "    named_entities = get_named_entities(sentence)\n",
    "    predicates = get_predicates(sentence)\n",
    "    concepts = get_concepts(sentence)\n",
    "    visualize_relations(sentence)\n",
    "    return dependency_parse, named_entities, predicates, concepts\n",
    "\n",
    "# Get representations and visualize relations for each sentence\n",
    "dep_parse1, ner1, preds1, concs1 = get_meaning_representation(sentence1)\n",
    "dep_parse2, ner2, preds2, concs2 = get_meaning_representation(sentence2)\n",
    "\n",
    "print(\"Dependency Parse for Sentence 1:\")\n",
    "print(dep_parse1)\n",
    "print(\"\\nNamed Entities for Sentence 1:\")\n",
    "print(ner1)\n",
    "print(\"\\nPredicates for Sentence 1:\")\n",
    "print(preds1)\n",
    "print(\"\\nConcepts for Sentence 1:\")\n",
    "print(concs1)\n",
    "\n",
    "print(\"\\nDependency Parse for Sentence 2:\")\n",
    "print(dep_parse2)\n",
    "print(\"\\nNamed Entities for Sentence 2:\")\n",
    "print(ner2)\n",
    "print(\"\\nPredicates for Sentence 2:\")\n",
    "print(preds2)\n",
    "print(\"\\nConcepts for Sentence 2:\")\n",
    "print(concs2)\n"
   ]
  },
  {
   "cell_type": "code",
   "execution_count": 45,
   "id": "03fb6dbe-4dee-43d2-ad46-49feb765f968",
   "metadata": {},
   "outputs": [
    {
     "name": "stdout",
     "output_type": "stream",
     "text": [
      "Entities in Sentence 1: [('Garden Reach Shipbuilders', 'ORG'), ('3%', 'PERCENT'), ('840 Cr', 'PRODUCT')]\n",
      "Dependencies in Sentence 1: [('Garden', 'compound', 'Shipbuilders'), ('Reach', 'compound', 'Shipbuilders'), ('Shipbuilders', 'compound', 'shares'), ('shares', 'nsubj', 'jump'), ('jump', 'ROOT', 'jump'), ('3', 'nummod', '%'), ('%', 'npadvmod', 'jump'), ('after', 'prep', 'jump'), ('bagging', 'pcomp', 'after'), ('₹', 'nmod', '840'), ('840', 'nummod', 'order'), ('Cr', 'compound', 'order'), ('order', 'dobj', 'bagging'), ('.', 'punct', 'jump')]\n",
      "Entities in Sentence 2: [('Motilal Oswal', 'PERSON'), ('Varun Beverages', 'ORG'), ('1900', 'MONEY')]\n",
      "Dependencies in Sentence 2: [('Motilal', 'compound', 'Oswal'), ('Oswal', 'nsubj', 'recommends'), ('recommends', 'ROOT', 'recommends'), ('buying', 'xcomp', 'recommends'), ('Varun', 'compound', 'Beverages'), ('Beverages', 'dobj', 'buying'), ('with', 'prep', 'buying'), ('a', 'det', 'price'), ('target', 'compound', 'price'), ('price', 'pobj', 'with'), ('of', 'prep', 'price'), ('Rs', 'nmod', '1900'), ('1900', 'pobj', 'of'), ('.', 'punct', 'recommends')]\n"
     ]
    },
    {
     "data": {
      "text/html": [
       "<span class=\"tex2jax_ignore\"><svg xmlns=\"http://www.w3.org/2000/svg\" xmlns:xlink=\"http://www.w3.org/1999/xlink\" xml:lang=\"en\" id=\"fcfa5d287a024454aac186eb9913f994-0\" class=\"displacy\" width=\"2150\" height=\"399.5\" direction=\"ltr\" style=\"max-width: none; height: 399.5px; color: #000000; background: #ffffff; font-family: Arial; direction: ltr\">\n",
       "<text class=\"displacy-token\" fill=\"currentColor\" text-anchor=\"middle\" y=\"309.5\">\n",
       "    <tspan class=\"displacy-word\" fill=\"currentColor\" x=\"50\">Garden</tspan>\n",
       "    <tspan class=\"displacy-tag\" dy=\"2em\" fill=\"currentColor\" x=\"50\">PROPN</tspan>\n",
       "</text>\n",
       "\n",
       "<text class=\"displacy-token\" fill=\"currentColor\" text-anchor=\"middle\" y=\"309.5\">\n",
       "    <tspan class=\"displacy-word\" fill=\"currentColor\" x=\"225\">Reach</tspan>\n",
       "    <tspan class=\"displacy-tag\" dy=\"2em\" fill=\"currentColor\" x=\"225\">PROPN</tspan>\n",
       "</text>\n",
       "\n",
       "<text class=\"displacy-token\" fill=\"currentColor\" text-anchor=\"middle\" y=\"309.5\">\n",
       "    <tspan class=\"displacy-word\" fill=\"currentColor\" x=\"400\">Shipbuilders</tspan>\n",
       "    <tspan class=\"displacy-tag\" dy=\"2em\" fill=\"currentColor\" x=\"400\">PROPN</tspan>\n",
       "</text>\n",
       "\n",
       "<text class=\"displacy-token\" fill=\"currentColor\" text-anchor=\"middle\" y=\"309.5\">\n",
       "    <tspan class=\"displacy-word\" fill=\"currentColor\" x=\"575\">shares</tspan>\n",
       "    <tspan class=\"displacy-tag\" dy=\"2em\" fill=\"currentColor\" x=\"575\">NOUN</tspan>\n",
       "</text>\n",
       "\n",
       "<text class=\"displacy-token\" fill=\"currentColor\" text-anchor=\"middle\" y=\"309.5\">\n",
       "    <tspan class=\"displacy-word\" fill=\"currentColor\" x=\"750\">jump</tspan>\n",
       "    <tspan class=\"displacy-tag\" dy=\"2em\" fill=\"currentColor\" x=\"750\">VERB</tspan>\n",
       "</text>\n",
       "\n",
       "<text class=\"displacy-token\" fill=\"currentColor\" text-anchor=\"middle\" y=\"309.5\">\n",
       "    <tspan class=\"displacy-word\" fill=\"currentColor\" x=\"925\">3%</tspan>\n",
       "    <tspan class=\"displacy-tag\" dy=\"2em\" fill=\"currentColor\" x=\"925\">NOUN</tspan>\n",
       "</text>\n",
       "\n",
       "<text class=\"displacy-token\" fill=\"currentColor\" text-anchor=\"middle\" y=\"309.5\">\n",
       "    <tspan class=\"displacy-word\" fill=\"currentColor\" x=\"1100\">after</tspan>\n",
       "    <tspan class=\"displacy-tag\" dy=\"2em\" fill=\"currentColor\" x=\"1100\">ADP</tspan>\n",
       "</text>\n",
       "\n",
       "<text class=\"displacy-token\" fill=\"currentColor\" text-anchor=\"middle\" y=\"309.5\">\n",
       "    <tspan class=\"displacy-word\" fill=\"currentColor\" x=\"1275\">bagging</tspan>\n",
       "    <tspan class=\"displacy-tag\" dy=\"2em\" fill=\"currentColor\" x=\"1275\">VERB</tspan>\n",
       "</text>\n",
       "\n",
       "<text class=\"displacy-token\" fill=\"currentColor\" text-anchor=\"middle\" y=\"309.5\">\n",
       "    <tspan class=\"displacy-word\" fill=\"currentColor\" x=\"1450\">₹</tspan>\n",
       "    <tspan class=\"displacy-tag\" dy=\"2em\" fill=\"currentColor\" x=\"1450\">SYM</tspan>\n",
       "</text>\n",
       "\n",
       "<text class=\"displacy-token\" fill=\"currentColor\" text-anchor=\"middle\" y=\"309.5\">\n",
       "    <tspan class=\"displacy-word\" fill=\"currentColor\" x=\"1625\">840</tspan>\n",
       "    <tspan class=\"displacy-tag\" dy=\"2em\" fill=\"currentColor\" x=\"1625\">NUM</tspan>\n",
       "</text>\n",
       "\n",
       "<text class=\"displacy-token\" fill=\"currentColor\" text-anchor=\"middle\" y=\"309.5\">\n",
       "    <tspan class=\"displacy-word\" fill=\"currentColor\" x=\"1800\">Cr</tspan>\n",
       "    <tspan class=\"displacy-tag\" dy=\"2em\" fill=\"currentColor\" x=\"1800\">NOUN</tspan>\n",
       "</text>\n",
       "\n",
       "<text class=\"displacy-token\" fill=\"currentColor\" text-anchor=\"middle\" y=\"309.5\">\n",
       "    <tspan class=\"displacy-word\" fill=\"currentColor\" x=\"1975\">order.</tspan>\n",
       "    <tspan class=\"displacy-tag\" dy=\"2em\" fill=\"currentColor\" x=\"1975\">NOUN</tspan>\n",
       "</text>\n",
       "\n",
       "<g class=\"displacy-arrow\">\n",
       "    <path class=\"displacy-arc\" id=\"arrow-fcfa5d287a024454aac186eb9913f994-0-0\" stroke-width=\"2px\" d=\"M70,264.5 C70,89.5 395.0,89.5 395.0,264.5\" fill=\"none\" stroke=\"currentColor\"/>\n",
       "    <text dy=\"1.25em\" style=\"font-size: 0.8em; letter-spacing: 1px\">\n",
       "        <textPath xlink:href=\"#arrow-fcfa5d287a024454aac186eb9913f994-0-0\" class=\"displacy-label\" startOffset=\"50%\" side=\"left\" fill=\"currentColor\" text-anchor=\"middle\">compound</textPath>\n",
       "    </text>\n",
       "    <path class=\"displacy-arrowhead\" d=\"M70,266.5 L62,254.5 78,254.5\" fill=\"currentColor\"/>\n",
       "</g>\n",
       "\n",
       "<g class=\"displacy-arrow\">\n",
       "    <path class=\"displacy-arc\" id=\"arrow-fcfa5d287a024454aac186eb9913f994-0-1\" stroke-width=\"2px\" d=\"M245,264.5 C245,177.0 390.0,177.0 390.0,264.5\" fill=\"none\" stroke=\"currentColor\"/>\n",
       "    <text dy=\"1.25em\" style=\"font-size: 0.8em; letter-spacing: 1px\">\n",
       "        <textPath xlink:href=\"#arrow-fcfa5d287a024454aac186eb9913f994-0-1\" class=\"displacy-label\" startOffset=\"50%\" side=\"left\" fill=\"currentColor\" text-anchor=\"middle\">compound</textPath>\n",
       "    </text>\n",
       "    <path class=\"displacy-arrowhead\" d=\"M245,266.5 L237,254.5 253,254.5\" fill=\"currentColor\"/>\n",
       "</g>\n",
       "\n",
       "<g class=\"displacy-arrow\">\n",
       "    <path class=\"displacy-arc\" id=\"arrow-fcfa5d287a024454aac186eb9913f994-0-2\" stroke-width=\"2px\" d=\"M420,264.5 C420,177.0 565.0,177.0 565.0,264.5\" fill=\"none\" stroke=\"currentColor\"/>\n",
       "    <text dy=\"1.25em\" style=\"font-size: 0.8em; letter-spacing: 1px\">\n",
       "        <textPath xlink:href=\"#arrow-fcfa5d287a024454aac186eb9913f994-0-2\" class=\"displacy-label\" startOffset=\"50%\" side=\"left\" fill=\"currentColor\" text-anchor=\"middle\">compound</textPath>\n",
       "    </text>\n",
       "    <path class=\"displacy-arrowhead\" d=\"M420,266.5 L412,254.5 428,254.5\" fill=\"currentColor\"/>\n",
       "</g>\n",
       "\n",
       "<g class=\"displacy-arrow\">\n",
       "    <path class=\"displacy-arc\" id=\"arrow-fcfa5d287a024454aac186eb9913f994-0-3\" stroke-width=\"2px\" d=\"M595,264.5 C595,177.0 740.0,177.0 740.0,264.5\" fill=\"none\" stroke=\"currentColor\"/>\n",
       "    <text dy=\"1.25em\" style=\"font-size: 0.8em; letter-spacing: 1px\">\n",
       "        <textPath xlink:href=\"#arrow-fcfa5d287a024454aac186eb9913f994-0-3\" class=\"displacy-label\" startOffset=\"50%\" side=\"left\" fill=\"currentColor\" text-anchor=\"middle\">nsubj</textPath>\n",
       "    </text>\n",
       "    <path class=\"displacy-arrowhead\" d=\"M595,266.5 L587,254.5 603,254.5\" fill=\"currentColor\"/>\n",
       "</g>\n",
       "\n",
       "<g class=\"displacy-arrow\">\n",
       "    <path class=\"displacy-arc\" id=\"arrow-fcfa5d287a024454aac186eb9913f994-0-4\" stroke-width=\"2px\" d=\"M770,264.5 C770,177.0 915.0,177.0 915.0,264.5\" fill=\"none\" stroke=\"currentColor\"/>\n",
       "    <text dy=\"1.25em\" style=\"font-size: 0.8em; letter-spacing: 1px\">\n",
       "        <textPath xlink:href=\"#arrow-fcfa5d287a024454aac186eb9913f994-0-4\" class=\"displacy-label\" startOffset=\"50%\" side=\"left\" fill=\"currentColor\" text-anchor=\"middle\">npadvmod</textPath>\n",
       "    </text>\n",
       "    <path class=\"displacy-arrowhead\" d=\"M915.0,266.5 L923.0,254.5 907.0,254.5\" fill=\"currentColor\"/>\n",
       "</g>\n",
       "\n",
       "<g class=\"displacy-arrow\">\n",
       "    <path class=\"displacy-arc\" id=\"arrow-fcfa5d287a024454aac186eb9913f994-0-5\" stroke-width=\"2px\" d=\"M770,264.5 C770,89.5 1095.0,89.5 1095.0,264.5\" fill=\"none\" stroke=\"currentColor\"/>\n",
       "    <text dy=\"1.25em\" style=\"font-size: 0.8em; letter-spacing: 1px\">\n",
       "        <textPath xlink:href=\"#arrow-fcfa5d287a024454aac186eb9913f994-0-5\" class=\"displacy-label\" startOffset=\"50%\" side=\"left\" fill=\"currentColor\" text-anchor=\"middle\">prep</textPath>\n",
       "    </text>\n",
       "    <path class=\"displacy-arrowhead\" d=\"M1095.0,266.5 L1103.0,254.5 1087.0,254.5\" fill=\"currentColor\"/>\n",
       "</g>\n",
       "\n",
       "<g class=\"displacy-arrow\">\n",
       "    <path class=\"displacy-arc\" id=\"arrow-fcfa5d287a024454aac186eb9913f994-0-6\" stroke-width=\"2px\" d=\"M1120,264.5 C1120,177.0 1265.0,177.0 1265.0,264.5\" fill=\"none\" stroke=\"currentColor\"/>\n",
       "    <text dy=\"1.25em\" style=\"font-size: 0.8em; letter-spacing: 1px\">\n",
       "        <textPath xlink:href=\"#arrow-fcfa5d287a024454aac186eb9913f994-0-6\" class=\"displacy-label\" startOffset=\"50%\" side=\"left\" fill=\"currentColor\" text-anchor=\"middle\">pcomp</textPath>\n",
       "    </text>\n",
       "    <path class=\"displacy-arrowhead\" d=\"M1265.0,266.5 L1273.0,254.5 1257.0,254.5\" fill=\"currentColor\"/>\n",
       "</g>\n",
       "\n",
       "<g class=\"displacy-arrow\">\n",
       "    <path class=\"displacy-arc\" id=\"arrow-fcfa5d287a024454aac186eb9913f994-0-7\" stroke-width=\"2px\" d=\"M1470,264.5 C1470,177.0 1615.0,177.0 1615.0,264.5\" fill=\"none\" stroke=\"currentColor\"/>\n",
       "    <text dy=\"1.25em\" style=\"font-size: 0.8em; letter-spacing: 1px\">\n",
       "        <textPath xlink:href=\"#arrow-fcfa5d287a024454aac186eb9913f994-0-7\" class=\"displacy-label\" startOffset=\"50%\" side=\"left\" fill=\"currentColor\" text-anchor=\"middle\">nmod</textPath>\n",
       "    </text>\n",
       "    <path class=\"displacy-arrowhead\" d=\"M1470,266.5 L1462,254.5 1478,254.5\" fill=\"currentColor\"/>\n",
       "</g>\n",
       "\n",
       "<g class=\"displacy-arrow\">\n",
       "    <path class=\"displacy-arc\" id=\"arrow-fcfa5d287a024454aac186eb9913f994-0-8\" stroke-width=\"2px\" d=\"M1645,264.5 C1645,89.5 1970.0,89.5 1970.0,264.5\" fill=\"none\" stroke=\"currentColor\"/>\n",
       "    <text dy=\"1.25em\" style=\"font-size: 0.8em; letter-spacing: 1px\">\n",
       "        <textPath xlink:href=\"#arrow-fcfa5d287a024454aac186eb9913f994-0-8\" class=\"displacy-label\" startOffset=\"50%\" side=\"left\" fill=\"currentColor\" text-anchor=\"middle\">nummod</textPath>\n",
       "    </text>\n",
       "    <path class=\"displacy-arrowhead\" d=\"M1645,266.5 L1637,254.5 1653,254.5\" fill=\"currentColor\"/>\n",
       "</g>\n",
       "\n",
       "<g class=\"displacy-arrow\">\n",
       "    <path class=\"displacy-arc\" id=\"arrow-fcfa5d287a024454aac186eb9913f994-0-9\" stroke-width=\"2px\" d=\"M1820,264.5 C1820,177.0 1965.0,177.0 1965.0,264.5\" fill=\"none\" stroke=\"currentColor\"/>\n",
       "    <text dy=\"1.25em\" style=\"font-size: 0.8em; letter-spacing: 1px\">\n",
       "        <textPath xlink:href=\"#arrow-fcfa5d287a024454aac186eb9913f994-0-9\" class=\"displacy-label\" startOffset=\"50%\" side=\"left\" fill=\"currentColor\" text-anchor=\"middle\">compound</textPath>\n",
       "    </text>\n",
       "    <path class=\"displacy-arrowhead\" d=\"M1820,266.5 L1812,254.5 1828,254.5\" fill=\"currentColor\"/>\n",
       "</g>\n",
       "\n",
       "<g class=\"displacy-arrow\">\n",
       "    <path class=\"displacy-arc\" id=\"arrow-fcfa5d287a024454aac186eb9913f994-0-10\" stroke-width=\"2px\" d=\"M1295,264.5 C1295,2.0 1975.0,2.0 1975.0,264.5\" fill=\"none\" stroke=\"currentColor\"/>\n",
       "    <text dy=\"1.25em\" style=\"font-size: 0.8em; letter-spacing: 1px\">\n",
       "        <textPath xlink:href=\"#arrow-fcfa5d287a024454aac186eb9913f994-0-10\" class=\"displacy-label\" startOffset=\"50%\" side=\"left\" fill=\"currentColor\" text-anchor=\"middle\">dobj</textPath>\n",
       "    </text>\n",
       "    <path class=\"displacy-arrowhead\" d=\"M1975.0,266.5 L1983.0,254.5 1967.0,254.5\" fill=\"currentColor\"/>\n",
       "</g>\n",
       "</svg></span>"
      ],
      "text/plain": [
       "<IPython.core.display.HTML object>"
      ]
     },
     "metadata": {},
     "output_type": "display_data"
    },
    {
     "data": {
      "text/html": [
       "<span class=\"tex2jax_ignore\"><svg xmlns=\"http://www.w3.org/2000/svg\" xmlns:xlink=\"http://www.w3.org/1999/xlink\" xml:lang=\"en\" id=\"f5c669fb3aed428789fd717116d011a8-0\" class=\"displacy\" width=\"2325\" height=\"399.5\" direction=\"ltr\" style=\"max-width: none; height: 399.5px; color: #000000; background: #ffffff; font-family: Arial; direction: ltr\">\n",
       "<text class=\"displacy-token\" fill=\"currentColor\" text-anchor=\"middle\" y=\"309.5\">\n",
       "    <tspan class=\"displacy-word\" fill=\"currentColor\" x=\"50\">Motilal</tspan>\n",
       "    <tspan class=\"displacy-tag\" dy=\"2em\" fill=\"currentColor\" x=\"50\">PROPN</tspan>\n",
       "</text>\n",
       "\n",
       "<text class=\"displacy-token\" fill=\"currentColor\" text-anchor=\"middle\" y=\"309.5\">\n",
       "    <tspan class=\"displacy-word\" fill=\"currentColor\" x=\"225\">Oswal</tspan>\n",
       "    <tspan class=\"displacy-tag\" dy=\"2em\" fill=\"currentColor\" x=\"225\">PROPN</tspan>\n",
       "</text>\n",
       "\n",
       "<text class=\"displacy-token\" fill=\"currentColor\" text-anchor=\"middle\" y=\"309.5\">\n",
       "    <tspan class=\"displacy-word\" fill=\"currentColor\" x=\"400\">recommends</tspan>\n",
       "    <tspan class=\"displacy-tag\" dy=\"2em\" fill=\"currentColor\" x=\"400\">VERB</tspan>\n",
       "</text>\n",
       "\n",
       "<text class=\"displacy-token\" fill=\"currentColor\" text-anchor=\"middle\" y=\"309.5\">\n",
       "    <tspan class=\"displacy-word\" fill=\"currentColor\" x=\"575\">buying</tspan>\n",
       "    <tspan class=\"displacy-tag\" dy=\"2em\" fill=\"currentColor\" x=\"575\">VERB</tspan>\n",
       "</text>\n",
       "\n",
       "<text class=\"displacy-token\" fill=\"currentColor\" text-anchor=\"middle\" y=\"309.5\">\n",
       "    <tspan class=\"displacy-word\" fill=\"currentColor\" x=\"750\">Varun</tspan>\n",
       "    <tspan class=\"displacy-tag\" dy=\"2em\" fill=\"currentColor\" x=\"750\">PROPN</tspan>\n",
       "</text>\n",
       "\n",
       "<text class=\"displacy-token\" fill=\"currentColor\" text-anchor=\"middle\" y=\"309.5\">\n",
       "    <tspan class=\"displacy-word\" fill=\"currentColor\" x=\"925\">Beverages</tspan>\n",
       "    <tspan class=\"displacy-tag\" dy=\"2em\" fill=\"currentColor\" x=\"925\">NOUN</tspan>\n",
       "</text>\n",
       "\n",
       "<text class=\"displacy-token\" fill=\"currentColor\" text-anchor=\"middle\" y=\"309.5\">\n",
       "    <tspan class=\"displacy-word\" fill=\"currentColor\" x=\"1100\">with</tspan>\n",
       "    <tspan class=\"displacy-tag\" dy=\"2em\" fill=\"currentColor\" x=\"1100\">ADP</tspan>\n",
       "</text>\n",
       "\n",
       "<text class=\"displacy-token\" fill=\"currentColor\" text-anchor=\"middle\" y=\"309.5\">\n",
       "    <tspan class=\"displacy-word\" fill=\"currentColor\" x=\"1275\">a</tspan>\n",
       "    <tspan class=\"displacy-tag\" dy=\"2em\" fill=\"currentColor\" x=\"1275\">DET</tspan>\n",
       "</text>\n",
       "\n",
       "<text class=\"displacy-token\" fill=\"currentColor\" text-anchor=\"middle\" y=\"309.5\">\n",
       "    <tspan class=\"displacy-word\" fill=\"currentColor\" x=\"1450\">target</tspan>\n",
       "    <tspan class=\"displacy-tag\" dy=\"2em\" fill=\"currentColor\" x=\"1450\">NOUN</tspan>\n",
       "</text>\n",
       "\n",
       "<text class=\"displacy-token\" fill=\"currentColor\" text-anchor=\"middle\" y=\"309.5\">\n",
       "    <tspan class=\"displacy-word\" fill=\"currentColor\" x=\"1625\">price</tspan>\n",
       "    <tspan class=\"displacy-tag\" dy=\"2em\" fill=\"currentColor\" x=\"1625\">NOUN</tspan>\n",
       "</text>\n",
       "\n",
       "<text class=\"displacy-token\" fill=\"currentColor\" text-anchor=\"middle\" y=\"309.5\">\n",
       "    <tspan class=\"displacy-word\" fill=\"currentColor\" x=\"1800\">of</tspan>\n",
       "    <tspan class=\"displacy-tag\" dy=\"2em\" fill=\"currentColor\" x=\"1800\">ADP</tspan>\n",
       "</text>\n",
       "\n",
       "<text class=\"displacy-token\" fill=\"currentColor\" text-anchor=\"middle\" y=\"309.5\">\n",
       "    <tspan class=\"displacy-word\" fill=\"currentColor\" x=\"1975\">Rs</tspan>\n",
       "    <tspan class=\"displacy-tag\" dy=\"2em\" fill=\"currentColor\" x=\"1975\">NOUN</tspan>\n",
       "</text>\n",
       "\n",
       "<text class=\"displacy-token\" fill=\"currentColor\" text-anchor=\"middle\" y=\"309.5\">\n",
       "    <tspan class=\"displacy-word\" fill=\"currentColor\" x=\"2150\">1900.</tspan>\n",
       "    <tspan class=\"displacy-tag\" dy=\"2em\" fill=\"currentColor\" x=\"2150\">NUM</tspan>\n",
       "</text>\n",
       "\n",
       "<g class=\"displacy-arrow\">\n",
       "    <path class=\"displacy-arc\" id=\"arrow-f5c669fb3aed428789fd717116d011a8-0-0\" stroke-width=\"2px\" d=\"M70,264.5 C70,177.0 215.0,177.0 215.0,264.5\" fill=\"none\" stroke=\"currentColor\"/>\n",
       "    <text dy=\"1.25em\" style=\"font-size: 0.8em; letter-spacing: 1px\">\n",
       "        <textPath xlink:href=\"#arrow-f5c669fb3aed428789fd717116d011a8-0-0\" class=\"displacy-label\" startOffset=\"50%\" side=\"left\" fill=\"currentColor\" text-anchor=\"middle\">compound</textPath>\n",
       "    </text>\n",
       "    <path class=\"displacy-arrowhead\" d=\"M70,266.5 L62,254.5 78,254.5\" fill=\"currentColor\"/>\n",
       "</g>\n",
       "\n",
       "<g class=\"displacy-arrow\">\n",
       "    <path class=\"displacy-arc\" id=\"arrow-f5c669fb3aed428789fd717116d011a8-0-1\" stroke-width=\"2px\" d=\"M245,264.5 C245,177.0 390.0,177.0 390.0,264.5\" fill=\"none\" stroke=\"currentColor\"/>\n",
       "    <text dy=\"1.25em\" style=\"font-size: 0.8em; letter-spacing: 1px\">\n",
       "        <textPath xlink:href=\"#arrow-f5c669fb3aed428789fd717116d011a8-0-1\" class=\"displacy-label\" startOffset=\"50%\" side=\"left\" fill=\"currentColor\" text-anchor=\"middle\">nsubj</textPath>\n",
       "    </text>\n",
       "    <path class=\"displacy-arrowhead\" d=\"M245,266.5 L237,254.5 253,254.5\" fill=\"currentColor\"/>\n",
       "</g>\n",
       "\n",
       "<g class=\"displacy-arrow\">\n",
       "    <path class=\"displacy-arc\" id=\"arrow-f5c669fb3aed428789fd717116d011a8-0-2\" stroke-width=\"2px\" d=\"M420,264.5 C420,177.0 565.0,177.0 565.0,264.5\" fill=\"none\" stroke=\"currentColor\"/>\n",
       "    <text dy=\"1.25em\" style=\"font-size: 0.8em; letter-spacing: 1px\">\n",
       "        <textPath xlink:href=\"#arrow-f5c669fb3aed428789fd717116d011a8-0-2\" class=\"displacy-label\" startOffset=\"50%\" side=\"left\" fill=\"currentColor\" text-anchor=\"middle\">xcomp</textPath>\n",
       "    </text>\n",
       "    <path class=\"displacy-arrowhead\" d=\"M565.0,266.5 L573.0,254.5 557.0,254.5\" fill=\"currentColor\"/>\n",
       "</g>\n",
       "\n",
       "<g class=\"displacy-arrow\">\n",
       "    <path class=\"displacy-arc\" id=\"arrow-f5c669fb3aed428789fd717116d011a8-0-3\" stroke-width=\"2px\" d=\"M770,264.5 C770,177.0 915.0,177.0 915.0,264.5\" fill=\"none\" stroke=\"currentColor\"/>\n",
       "    <text dy=\"1.25em\" style=\"font-size: 0.8em; letter-spacing: 1px\">\n",
       "        <textPath xlink:href=\"#arrow-f5c669fb3aed428789fd717116d011a8-0-3\" class=\"displacy-label\" startOffset=\"50%\" side=\"left\" fill=\"currentColor\" text-anchor=\"middle\">compound</textPath>\n",
       "    </text>\n",
       "    <path class=\"displacy-arrowhead\" d=\"M770,266.5 L762,254.5 778,254.5\" fill=\"currentColor\"/>\n",
       "</g>\n",
       "\n",
       "<g class=\"displacy-arrow\">\n",
       "    <path class=\"displacy-arc\" id=\"arrow-f5c669fb3aed428789fd717116d011a8-0-4\" stroke-width=\"2px\" d=\"M595,264.5 C595,89.5 920.0,89.5 920.0,264.5\" fill=\"none\" stroke=\"currentColor\"/>\n",
       "    <text dy=\"1.25em\" style=\"font-size: 0.8em; letter-spacing: 1px\">\n",
       "        <textPath xlink:href=\"#arrow-f5c669fb3aed428789fd717116d011a8-0-4\" class=\"displacy-label\" startOffset=\"50%\" side=\"left\" fill=\"currentColor\" text-anchor=\"middle\">dobj</textPath>\n",
       "    </text>\n",
       "    <path class=\"displacy-arrowhead\" d=\"M920.0,266.5 L928.0,254.5 912.0,254.5\" fill=\"currentColor\"/>\n",
       "</g>\n",
       "\n",
       "<g class=\"displacy-arrow\">\n",
       "    <path class=\"displacy-arc\" id=\"arrow-f5c669fb3aed428789fd717116d011a8-0-5\" stroke-width=\"2px\" d=\"M595,264.5 C595,2.0 1100.0,2.0 1100.0,264.5\" fill=\"none\" stroke=\"currentColor\"/>\n",
       "    <text dy=\"1.25em\" style=\"font-size: 0.8em; letter-spacing: 1px\">\n",
       "        <textPath xlink:href=\"#arrow-f5c669fb3aed428789fd717116d011a8-0-5\" class=\"displacy-label\" startOffset=\"50%\" side=\"left\" fill=\"currentColor\" text-anchor=\"middle\">prep</textPath>\n",
       "    </text>\n",
       "    <path class=\"displacy-arrowhead\" d=\"M1100.0,266.5 L1108.0,254.5 1092.0,254.5\" fill=\"currentColor\"/>\n",
       "</g>\n",
       "\n",
       "<g class=\"displacy-arrow\">\n",
       "    <path class=\"displacy-arc\" id=\"arrow-f5c669fb3aed428789fd717116d011a8-0-6\" stroke-width=\"2px\" d=\"M1295,264.5 C1295,89.5 1620.0,89.5 1620.0,264.5\" fill=\"none\" stroke=\"currentColor\"/>\n",
       "    <text dy=\"1.25em\" style=\"font-size: 0.8em; letter-spacing: 1px\">\n",
       "        <textPath xlink:href=\"#arrow-f5c669fb3aed428789fd717116d011a8-0-6\" class=\"displacy-label\" startOffset=\"50%\" side=\"left\" fill=\"currentColor\" text-anchor=\"middle\">det</textPath>\n",
       "    </text>\n",
       "    <path class=\"displacy-arrowhead\" d=\"M1295,266.5 L1287,254.5 1303,254.5\" fill=\"currentColor\"/>\n",
       "</g>\n",
       "\n",
       "<g class=\"displacy-arrow\">\n",
       "    <path class=\"displacy-arc\" id=\"arrow-f5c669fb3aed428789fd717116d011a8-0-7\" stroke-width=\"2px\" d=\"M1470,264.5 C1470,177.0 1615.0,177.0 1615.0,264.5\" fill=\"none\" stroke=\"currentColor\"/>\n",
       "    <text dy=\"1.25em\" style=\"font-size: 0.8em; letter-spacing: 1px\">\n",
       "        <textPath xlink:href=\"#arrow-f5c669fb3aed428789fd717116d011a8-0-7\" class=\"displacy-label\" startOffset=\"50%\" side=\"left\" fill=\"currentColor\" text-anchor=\"middle\">compound</textPath>\n",
       "    </text>\n",
       "    <path class=\"displacy-arrowhead\" d=\"M1470,266.5 L1462,254.5 1478,254.5\" fill=\"currentColor\"/>\n",
       "</g>\n",
       "\n",
       "<g class=\"displacy-arrow\">\n",
       "    <path class=\"displacy-arc\" id=\"arrow-f5c669fb3aed428789fd717116d011a8-0-8\" stroke-width=\"2px\" d=\"M1120,264.5 C1120,2.0 1625.0,2.0 1625.0,264.5\" fill=\"none\" stroke=\"currentColor\"/>\n",
       "    <text dy=\"1.25em\" style=\"font-size: 0.8em; letter-spacing: 1px\">\n",
       "        <textPath xlink:href=\"#arrow-f5c669fb3aed428789fd717116d011a8-0-8\" class=\"displacy-label\" startOffset=\"50%\" side=\"left\" fill=\"currentColor\" text-anchor=\"middle\">pobj</textPath>\n",
       "    </text>\n",
       "    <path class=\"displacy-arrowhead\" d=\"M1625.0,266.5 L1633.0,254.5 1617.0,254.5\" fill=\"currentColor\"/>\n",
       "</g>\n",
       "\n",
       "<g class=\"displacy-arrow\">\n",
       "    <path class=\"displacy-arc\" id=\"arrow-f5c669fb3aed428789fd717116d011a8-0-9\" stroke-width=\"2px\" d=\"M1645,264.5 C1645,177.0 1790.0,177.0 1790.0,264.5\" fill=\"none\" stroke=\"currentColor\"/>\n",
       "    <text dy=\"1.25em\" style=\"font-size: 0.8em; letter-spacing: 1px\">\n",
       "        <textPath xlink:href=\"#arrow-f5c669fb3aed428789fd717116d011a8-0-9\" class=\"displacy-label\" startOffset=\"50%\" side=\"left\" fill=\"currentColor\" text-anchor=\"middle\">prep</textPath>\n",
       "    </text>\n",
       "    <path class=\"displacy-arrowhead\" d=\"M1790.0,266.5 L1798.0,254.5 1782.0,254.5\" fill=\"currentColor\"/>\n",
       "</g>\n",
       "\n",
       "<g class=\"displacy-arrow\">\n",
       "    <path class=\"displacy-arc\" id=\"arrow-f5c669fb3aed428789fd717116d011a8-0-10\" stroke-width=\"2px\" d=\"M1995,264.5 C1995,177.0 2140.0,177.0 2140.0,264.5\" fill=\"none\" stroke=\"currentColor\"/>\n",
       "    <text dy=\"1.25em\" style=\"font-size: 0.8em; letter-spacing: 1px\">\n",
       "        <textPath xlink:href=\"#arrow-f5c669fb3aed428789fd717116d011a8-0-10\" class=\"displacy-label\" startOffset=\"50%\" side=\"left\" fill=\"currentColor\" text-anchor=\"middle\">nmod</textPath>\n",
       "    </text>\n",
       "    <path class=\"displacy-arrowhead\" d=\"M1995,266.5 L1987,254.5 2003,254.5\" fill=\"currentColor\"/>\n",
       "</g>\n",
       "\n",
       "<g class=\"displacy-arrow\">\n",
       "    <path class=\"displacy-arc\" id=\"arrow-f5c669fb3aed428789fd717116d011a8-0-11\" stroke-width=\"2px\" d=\"M1820,264.5 C1820,89.5 2145.0,89.5 2145.0,264.5\" fill=\"none\" stroke=\"currentColor\"/>\n",
       "    <text dy=\"1.25em\" style=\"font-size: 0.8em; letter-spacing: 1px\">\n",
       "        <textPath xlink:href=\"#arrow-f5c669fb3aed428789fd717116d011a8-0-11\" class=\"displacy-label\" startOffset=\"50%\" side=\"left\" fill=\"currentColor\" text-anchor=\"middle\">pobj</textPath>\n",
       "    </text>\n",
       "    <path class=\"displacy-arrowhead\" d=\"M2145.0,266.5 L2153.0,254.5 2137.0,254.5\" fill=\"currentColor\"/>\n",
       "</g>\n",
       "</svg></span>"
      ],
      "text/plain": [
       "<IPython.core.display.HTML object>"
      ]
     },
     "metadata": {},
     "output_type": "display_data"
    }
   ],
   "source": [
    "import spacy\n",
    "from spacy import displacy\n",
    "\n",
    "# Load SpaCy model\n",
    "nlp = spacy.load('en_core_web_lg')\n",
    "\n",
    "# Sample sentences\n",
    "sentence1 = \"Garden Reach Shipbuilders shares jump 3% after bagging ₹840 Cr order.\"\n",
    "sentence2 = \"Motilal Oswal recommends buying Varun Beverages with a target price of Rs 1900.\"\n",
    "\n",
    "# Function to preprocess and analyze text\n",
    "def analyze_text(text):\n",
    "    doc = nlp(text)\n",
    "    entities = [(ent.text, ent.label_) for ent in doc.ents]\n",
    "    dependencies = [(token.text, token.dep_, token.head.text) for token in doc]\n",
    "    return entities, dependencies\n",
    "\n",
    "# Analyze sentences\n",
    "entities1, deps1 = analyze_text(sentence1)\n",
    "entities2, deps2 = analyze_text(sentence2)\n",
    "\n",
    "print(\"Entities in Sentence 1:\", entities1)\n",
    "print(\"Dependencies in Sentence 1:\", deps1)\n",
    "\n",
    "print(\"Entities in Sentence 2:\", entities2)\n",
    "print(\"Dependencies in Sentence 2:\", deps2)\n",
    "\n",
    "# Visualize Dependency Parse\n",
    "displacy.render(nlp(sentence1), style='dep', jupyter=True)\n",
    "displacy.render(nlp(sentence2), style='dep', jupyter=True)\n"
   ]
  },
  {
   "cell_type": "code",
   "execution_count": 20,
   "id": "ce2018dd-776b-4b0a-ad91-ce8e5c7e5607",
   "metadata": {},
   "outputs": [
    {
     "data": {
      "text/plain": [
       "Motilal Oswal recommends buying Varun Beverages with a target price of Rs 1900."
      ]
     },
     "execution_count": 20,
     "metadata": {},
     "output_type": "execute_result"
    }
   ],
   "source": []
  },
  {
   "cell_type": "markdown",
   "id": "44576af9-3135-4c54-b086-fe8885369bf3",
   "metadata": {},
   "source": [
    "# Entity Recognition Model (ERM)"
   ]
  },
  {
   "cell_type": "code",
   "execution_count": 10,
   "id": "5332287e-f136-4ccb-bc87-b15599757db9",
   "metadata": {},
   "outputs": [],
   "source": [
    "import spacy"
   ]
  },
  {
   "cell_type": "code",
   "execution_count": 12,
   "id": "cb674718-7d3c-43d5-9659-de40ab66ab3d",
   "metadata": {},
   "outputs": [],
   "source": [
    "nlp = spacy.load('en_core_web_lg')"
   ]
  },
  {
   "cell_type": "code",
   "execution_count": 49,
   "id": "92d2bf1d-424a-45aa-a1c0-ac87e80f458a",
   "metadata": {},
   "outputs": [],
   "source": [
    "text = \"Garden Reach Shipbuilders shares jump 3% after bagging ₹840 Cr order.\"\n",
    "\n",
    "doc = nlp(text)"
   ]
  },
  {
   "cell_type": "code",
   "execution_count": 14,
   "id": "d0a54c8a-5ecf-4075-bdd3-0c6949bb8038",
   "metadata": {},
   "outputs": [
    {
     "data": {
      "text/plain": [
       "(Garden Reach Shipbuilders, 3%, 840 Cr)"
      ]
     },
     "execution_count": 14,
     "metadata": {},
     "output_type": "execute_result"
    }
   ],
   "source": [
    "doc.ents"
   ]
  },
  {
   "cell_type": "code",
   "execution_count": 8,
   "id": "bcb4e9e5-5cc9-4237-8f59-88b7dc20a72a",
   "metadata": {},
   "outputs": [
    {
     "data": {
      "text/plain": [
       "(3%, 840)"
      ]
     },
     "execution_count": 8,
     "metadata": {},
     "output_type": "execute_result"
    }
   ],
   "source": [
    "doc.ents"
   ]
  },
  {
   "cell_type": "code",
   "execution_count": 17,
   "id": "c520f35f-b01d-48a6-84c1-be9fa9d6814f",
   "metadata": {},
   "outputs": [
    {
     "data": {
      "text/plain": [
       "(Motilal Oswal, Varun Beverages, 1900)"
      ]
     },
     "execution_count": 17,
     "metadata": {},
     "output_type": "execute_result"
    }
   ],
   "source": [
    "doc = nlp(sentence2)\n",
    "doc.ents"
   ]
  },
  {
   "cell_type": "markdown",
   "id": "1c2f542d-f85d-445e-b4df-5a68668c2904",
   "metadata": {},
   "source": [
    "#  Dependency Parsing"
   ]
  },
  {
   "cell_type": "code",
   "execution_count": 26,
   "id": "08412a71-43eb-48a8-be5b-0162f2fbba67",
   "metadata": {},
   "outputs": [],
   "source": [
    "import pandas as pd"
   ]
  },
  {
   "cell_type": "code",
   "execution_count": null,
   "id": "59fce40c-57d8-47be-b7d9-611c01667f8e",
   "metadata": {},
   "outputs": [],
   "source": [
    "pd.DataFrame("
   ]
  },
  {
   "cell_type": "code",
   "execution_count": 50,
   "id": "85fbac70-6c06-4532-9fbb-a140ffe5bd77",
   "metadata": {},
   "outputs": [
    {
     "data": {
      "text/plain": [
       "Garden Reach Shipbuilders shares jump 3% after bagging ₹840 Cr order."
      ]
     },
     "execution_count": 50,
     "metadata": {},
     "output_type": "execute_result"
    }
   ],
   "source": [
    "doc"
   ]
  },
  {
   "cell_type": "code",
   "execution_count": 33,
   "id": "8aa5f5dd-5d34-4406-a78a-87823fe4c123",
   "metadata": {},
   "outputs": [
    {
     "name": "stdout",
     "output_type": "stream",
     "text": [
      "Motilal Oswal ---- Oswal ----- nsubj ----- recommends\n",
      "Varun Beverages ---- Beverages ----- dobj ----- buying\n",
      "a target price ---- price ----- pobj ----- with\n"
     ]
    }
   ],
   "source": [
    "for chunka in doc.noun_chunks:\n",
    "    print(chunk.text,'----', chunk.root.text,'-----', chunk.root.dep_,'-----',chunk.root.head.text)\n",
    "    #df = pd.DataFrame(chunk.text, chunk.root.text, chunk.root.dep_,chunk.root.head.text, dtype = None)#columns = 'text','root.text','root.dep','root.head')"
   ]
  },
  {
   "cell_type": "code",
   "execution_count": 23,
   "id": "46dde909-d934-4c61-a003-c768187e1df7",
   "metadata": {},
   "outputs": [],
   "source": [
    "a = doc[0]"
   ]
  },
  {
   "cell_type": "code",
   "execution_count": 25,
   "id": "2039d378-214c-413e-9758-ed1f90744df9",
   "metadata": {},
   "outputs": [
    {
     "data": {
      "text/plain": [
       "spacy.tokens.doc.Doc"
      ]
     },
     "execution_count": 25,
     "metadata": {},
     "output_type": "execute_result"
    }
   ],
   "source": [
    "type(doc)"
   ]
  },
  {
   "cell_type": "code",
   "execution_count": 24,
   "id": "b7baaf38-320a-403e-90da-12309a1cfa06",
   "metadata": {},
   "outputs": [
    {
     "data": {
      "text/plain": [
       "spacy.tokens.token.Token"
      ]
     },
     "execution_count": 24,
     "metadata": {},
     "output_type": "execute_result"
    }
   ],
   "source": [
    "type(a)"
   ]
  },
  {
   "cell_type": "markdown",
   "id": "70b515d7-7e67-4b4a-9309-0e8d6ea2c4f8",
   "metadata": {},
   "source": [
    "# Concept Extraction"
   ]
  },
  {
   "cell_type": "code",
   "execution_count": 39,
   "id": "2b7770fc-ab50-44a0-824f-d49af56d41da",
   "metadata": {},
   "outputs": [
    {
     "name": "stdout",
     "output_type": "stream",
     "text": [
      "Collecting git+https://github.com/mmxgn/spacy-clausie.git\n",
      "  Cloning https://github.com/mmxgn/spacy-clausie.git to c:\\users\\modza\\appdata\\local\\temp\\pip-req-build-wp5gobu0\n",
      "  Resolved https://github.com/mmxgn/spacy-clausie.git to commit ac8c7d9ee89f3ed26344e4a0ce4f58ef63df3a87\n",
      "  Preparing metadata (setup.py): started\n",
      "  Preparing metadata (setup.py): finished with status 'done'\n",
      "Requirement already satisfied: spacy>=3.0.0 in c:\\users\\modza\\documents\\nlp\\env\\lib\\site-packages (from claucy==0.0.2.0) (3.7.2)\n",
      "Collecting lemminflect>=0.2.1 (from claucy==0.0.2.0)\n",
      "  Downloading lemminflect-0.2.3-py3-none-any.whl.metadata (7.0 kB)\n",
      "Requirement already satisfied: numpy in c:\\users\\modza\\appdata\\roaming\\python\\python311\\site-packages (from lemminflect>=0.2.1->claucy==0.0.2.0) (1.24.3)\n",
      "Requirement already satisfied: spacy-legacy<3.1.0,>=3.0.11 in c:\\users\\modza\\documents\\nlp\\env\\lib\\site-packages (from spacy>=3.0.0->claucy==0.0.2.0) (3.0.12)\n",
      "Requirement already satisfied: spacy-loggers<2.0.0,>=1.0.0 in c:\\users\\modza\\documents\\nlp\\env\\lib\\site-packages (from spacy>=3.0.0->claucy==0.0.2.0) (1.0.5)\n",
      "Requirement already satisfied: murmurhash<1.1.0,>=0.28.0 in c:\\users\\modza\\documents\\nlp\\env\\lib\\site-packages (from spacy>=3.0.0->claucy==0.0.2.0) (1.0.10)\n",
      "Requirement already satisfied: cymem<2.1.0,>=2.0.2 in c:\\users\\modza\\documents\\nlp\\env\\lib\\site-packages (from spacy>=3.0.0->claucy==0.0.2.0) (2.0.8)\n",
      "Requirement already satisfied: preshed<3.1.0,>=3.0.2 in c:\\users\\modza\\documents\\nlp\\env\\lib\\site-packages (from spacy>=3.0.0->claucy==0.0.2.0) (3.0.9)\n",
      "Requirement already satisfied: thinc<8.3.0,>=8.1.8 in c:\\users\\modza\\documents\\nlp\\env\\lib\\site-packages (from spacy>=3.0.0->claucy==0.0.2.0) (8.2.2)\n",
      "Requirement already satisfied: wasabi<1.2.0,>=0.9.1 in c:\\users\\modza\\documents\\nlp\\env\\lib\\site-packages (from spacy>=3.0.0->claucy==0.0.2.0) (1.1.2)\n",
      "Requirement already satisfied: srsly<3.0.0,>=2.4.3 in c:\\users\\modza\\documents\\nlp\\env\\lib\\site-packages (from spacy>=3.0.0->claucy==0.0.2.0) (2.4.8)\n",
      "Requirement already satisfied: catalogue<2.1.0,>=2.0.6 in c:\\users\\modza\\documents\\nlp\\env\\lib\\site-packages (from spacy>=3.0.0->claucy==0.0.2.0) (2.0.10)\n",
      "Requirement already satisfied: weasel<0.4.0,>=0.1.0 in c:\\users\\modza\\documents\\nlp\\env\\lib\\site-packages (from spacy>=3.0.0->claucy==0.0.2.0) (0.3.4)\n",
      "Requirement already satisfied: typer<0.10.0,>=0.3.0 in c:\\users\\modza\\documents\\nlp\\env\\lib\\site-packages (from spacy>=3.0.0->claucy==0.0.2.0) (0.9.0)\n",
      "Requirement already satisfied: smart-open<7.0.0,>=5.2.1 in c:\\users\\modza\\documents\\nlp\\env\\lib\\site-packages (from spacy>=3.0.0->claucy==0.0.2.0) (6.4.0)\n",
      "Requirement already satisfied: tqdm<5.0.0,>=4.38.0 in c:\\users\\modza\\documents\\nlp\\env\\lib\\site-packages (from spacy>=3.0.0->claucy==0.0.2.0) (4.65.0)\n",
      "Requirement already satisfied: requests<3.0.0,>=2.13.0 in c:\\users\\modza\\documents\\nlp\\env\\lib\\site-packages (from spacy>=3.0.0->claucy==0.0.2.0) (2.31.0)\n",
      "Requirement already satisfied: pydantic!=1.8,!=1.8.1,<3.0.0,>=1.7.4 in c:\\users\\modza\\documents\\nlp\\env\\lib\\site-packages (from spacy>=3.0.0->claucy==0.0.2.0) (2.5.3)\n",
      "Requirement already satisfied: jinja2 in c:\\users\\modza\\documents\\nlp\\env\\lib\\site-packages (from spacy>=3.0.0->claucy==0.0.2.0) (3.1.2)\n",
      "Requirement already satisfied: setuptools in c:\\users\\modza\\documents\\nlp\\env\\lib\\site-packages (from spacy>=3.0.0->claucy==0.0.2.0) (68.2.2)\n",
      "Requirement already satisfied: packaging>=20.0 in c:\\users\\modza\\documents\\nlp\\env\\lib\\site-packages (from spacy>=3.0.0->claucy==0.0.2.0) (23.1)\n",
      "Requirement already satisfied: langcodes<4.0.0,>=3.2.0 in c:\\users\\modza\\documents\\nlp\\env\\lib\\site-packages (from spacy>=3.0.0->claucy==0.0.2.0) (3.3.0)\n",
      "Requirement already satisfied: annotated-types>=0.4.0 in c:\\users\\modza\\documents\\nlp\\env\\lib\\site-packages (from pydantic!=1.8,!=1.8.1,<3.0.0,>=1.7.4->spacy>=3.0.0->claucy==0.0.2.0) (0.6.0)\n",
      "Requirement already satisfied: pydantic-core==2.14.6 in c:\\users\\modza\\documents\\nlp\\env\\lib\\site-packages (from pydantic!=1.8,!=1.8.1,<3.0.0,>=1.7.4->spacy>=3.0.0->claucy==0.0.2.0) (2.14.6)\n",
      "Requirement already satisfied: typing-extensions>=4.6.1 in c:\\users\\modza\\documents\\nlp\\env\\lib\\site-packages (from pydantic!=1.8,!=1.8.1,<3.0.0,>=1.7.4->spacy>=3.0.0->claucy==0.0.2.0) (4.12.2)\n",
      "Requirement already satisfied: charset-normalizer<4,>=2 in c:\\users\\modza\\documents\\nlp\\env\\lib\\site-packages (from requests<3.0.0,>=2.13.0->spacy>=3.0.0->claucy==0.0.2.0) (2.0.4)\n",
      "Requirement already satisfied: idna<4,>=2.5 in c:\\users\\modza\\documents\\nlp\\env\\lib\\site-packages (from requests<3.0.0,>=2.13.0->spacy>=3.0.0->claucy==0.0.2.0) (3.4)\n",
      "Requirement already satisfied: urllib3<3,>=1.21.1 in c:\\users\\modza\\documents\\nlp\\env\\lib\\site-packages (from requests<3.0.0,>=2.13.0->spacy>=3.0.0->claucy==0.0.2.0) (1.26.18)\n",
      "Requirement already satisfied: certifi>=2017.4.17 in c:\\users\\modza\\documents\\nlp\\env\\lib\\site-packages (from requests<3.0.0,>=2.13.0->spacy>=3.0.0->claucy==0.0.2.0) (2023.11.17)\n",
      "Requirement already satisfied: blis<0.8.0,>=0.7.8 in c:\\users\\modza\\documents\\nlp\\env\\lib\\site-packages (from thinc<8.3.0,>=8.1.8->spacy>=3.0.0->claucy==0.0.2.0) (0.7.11)\n",
      "Requirement already satisfied: confection<1.0.0,>=0.0.1 in c:\\users\\modza\\documents\\nlp\\env\\lib\\site-packages (from thinc<8.3.0,>=8.1.8->spacy>=3.0.0->claucy==0.0.2.0) (0.1.4)\n",
      "Requirement already satisfied: colorama in c:\\users\\modza\\documents\\nlp\\env\\lib\\site-packages (from tqdm<5.0.0,>=4.38.0->spacy>=3.0.0->claucy==0.0.2.0) (0.4.6)\n",
      "Requirement already satisfied: click<9.0.0,>=7.1.1 in c:\\users\\modza\\documents\\nlp\\env\\lib\\site-packages (from typer<0.10.0,>=0.3.0->spacy>=3.0.0->claucy==0.0.2.0) (8.1.7)\n",
      "Requirement already satisfied: cloudpathlib<0.17.0,>=0.7.0 in c:\\users\\modza\\documents\\nlp\\env\\lib\\site-packages (from weasel<0.4.0,>=0.1.0->spacy>=3.0.0->claucy==0.0.2.0) (0.16.0)\n",
      "Requirement already satisfied: MarkupSafe>=2.0 in c:\\users\\modza\\appdata\\roaming\\python\\python311\\site-packages (from jinja2->spacy>=3.0.0->claucy==0.0.2.0) (2.1.5)\n",
      "Downloading lemminflect-0.2.3-py3-none-any.whl (769 kB)\n",
      "   ---------------------------------------- 0.0/769.7 kB ? eta -:--:--\n",
      "    --------------------------------------- 10.2/769.7 kB ? eta -:--:--\n",
      "    --------------------------------------- 10.2/769.7 kB ? eta -:--:--\n",
      "   ----- -------------------------------- 112.6/769.7 kB 930.9 kB/s eta 0:00:01\n",
      "   -------------------------------------- - 737.3/769.7 kB 4.6 MB/s eta 0:00:01\n",
      "   ---------------------------------------- 769.7/769.7 kB 4.4 MB/s eta 0:00:00\n",
      "Building wheels for collected packages: claucy\n",
      "  Building wheel for claucy (setup.py): started\n",
      "  Building wheel for claucy (setup.py): finished with status 'done'\n",
      "  Created wheel for claucy: filename=claucy-0.0.2.0-py3-none-any.whl size=19748 sha256=821c59e1db450fae2066573cf39f5c953e2c23bcb9c6985e7f1bce4af8a46a0d\n",
      "  Stored in directory: C:\\Users\\modza\\AppData\\Local\\Temp\\pip-ephem-wheel-cache-5_au5fyk\\wheels\\71\\f4\\cc\\b5fd98c5006ba228f7ab0c6b0e521f0fffa38707602a85a9c9\n",
      "Successfully built claucy\n",
      "Installing collected packages: lemminflect, claucy\n",
      "Successfully installed claucy-0.0.2.0 lemminflect-0.2.3\n"
     ]
    },
    {
     "name": "stderr",
     "output_type": "stream",
     "text": [
      "  Running command git clone --filter=blob:none --quiet https://github.com/mmxgn/spacy-clausie.git 'C:\\Users\\modza\\AppData\\Local\\Temp\\pip-req-build-wp5gobu0'\n"
     ]
    }
   ],
   "source": [
    "!python -m pip install git+https://github.com/mmxgn/spacy-clausie.git"
   ]
  },
  {
   "cell_type": "code",
   "execution_count": null,
   "id": "30e45892-96a7-47b3-a93d-051ec60a6d78",
   "metadata": {},
   "outputs": [],
   "source": []
  },
  {
   "cell_type": "code",
   "execution_count": 37,
   "id": "74febab4-6470-45a7-82b7-709ea11f4d2b",
   "metadata": {},
   "outputs": [
    {
     "name": "stderr",
     "output_type": "stream",
     "text": [
      "ERROR: Could not find a version that satisfies the requirement claucy (from versions: none)\n",
      "ERROR: No matching distribution found for claucy\n"
     ]
    }
   ],
   "source": [
    "!pip install claucy"
   ]
  },
  {
   "cell_type": "code",
   "execution_count": 40,
   "id": "fb96d15e-5944-4789-8a77-19febd931c4e",
   "metadata": {},
   "outputs": [],
   "source": [
    "import claucy"
   ]
  },
  {
   "cell_type": "code",
   "execution_count": 83,
   "id": "5085deed-4ae3-49cb-bc66-4233879e7d72",
   "metadata": {},
   "outputs": [
    {
     "data": {
      "text/plain": [
       "[<SVC, Motilal Oswal, recommends, None, None, buying Varun Beverages with a target price of Rs 1900, []>]"
      ]
     },
     "execution_count": 83,
     "metadata": {},
     "output_type": "execute_result"
    }
   ],
   "source": [
    "claucy.extract_clauses(doc)"
   ]
  },
  {
   "cell_type": "code",
   "execution_count": 103,
   "id": "7034a634-c657-4036-8ef7-040eb96875cc",
   "metadata": {},
   "outputs": [
    {
     "data": {
      "text/plain": [
       "[<SVC, Motilal Oswal, recommends, None, None, buying Varun Beverages with a target price of Rs 1900, []>]"
      ]
     },
     "execution_count": 103,
     "metadata": {},
     "output_type": "execute_result"
    }
   ],
   "source": [
    "claucy.extract_clauses(doc)"
   ]
  },
  {
   "cell_type": "code",
   "execution_count": 82,
   "id": "d4f170a2-b3cd-4df1-95cd-ee8d0da8ede2",
   "metadata": {},
   "outputs": [
    {
     "data": {
      "text/plain": [
       "Motilal Oswal recommends buying Varun Beverages with a target price of Rs 1900"
      ]
     },
     "execution_count": 82,
     "metadata": {},
     "output_type": "execute_result"
    }
   ],
   "source": [
    "claucy.extract_clauses_doc(doc)"
   ]
  },
  {
   "cell_type": "code",
   "execution_count": 84,
   "id": "94078a98-c78f-4a92-83df-60f628c380d1",
   "metadata": {},
   "outputs": [],
   "source": [
    "b = \"A cat, hearing that the birds in a certain aviary were ailing dressed himself up as a physician,and, taking his cane and a bag of instruments becoming his profession, went to call on them.\""
   ]
  },
  {
   "cell_type": "code",
   "execution_count": 85,
   "id": "06e8d37f-44df-47c2-bfac-a5de6efc153e",
   "metadata": {},
   "outputs": [],
   "source": [
    "doc1 = nlp(b)"
   ]
  },
  {
   "cell_type": "code",
   "execution_count": 102,
   "id": "3270508f-595d-4077-9527-d82ae97c50dc",
   "metadata": {},
   "outputs": [
    {
     "data": {
      "text/plain": [
       "<SVC, Motilal Oswal recommends buying Varun Beverages with a target price of Rs 1900, None, None, None, None, []>"
      ]
     },
     "execution_count": 102,
     "metadata": {},
     "output_type": "execute_result"
    }
   ],
   "source": [
    "claucy.Clause(doc)"
   ]
  },
  {
   "cell_type": "code",
   "execution_count": 53,
   "id": "12cdc259-6bf3-44ed-ba18-5aac9d07044b",
   "metadata": {},
   "outputs": [
    {
     "data": {
      "text/plain": [
       "[]"
      ]
     },
     "execution_count": 53,
     "metadata": {},
     "output_type": "execute_result"
    }
   ],
   "source": [
    "doc._.clauses"
   ]
  },
  {
   "cell_type": "code",
   "execution_count": 52,
   "id": "bdd6c6d7-4f61-4954-a362-6aaa5e9c4089",
   "metadata": {},
   "outputs": [
    {
     "name": "stdout",
     "output_type": "stream",
     "text": [
      "[]\n"
     ]
    }
   ],
   "source": [
    "import spacy\n",
    "import claucy\n",
    "\n",
    "#nlp = spacy.load(\"en\")\n",
    "claucy.add_to_pipe(nlp)\n",
    "\n",
    "#doc = nlp(\"AE died in Princeton in 1955.\")\n",
    "\n",
    "print(doc._.clauses)\n",
    "# Output:\n",
    "# &lt;SV, AE, died, None, None, None, [in Princeton, in 1955]&gt;\n",
    "\n",
    "#propositions = doc._.clauses[0].to_propositions(as_text=True)\n",
    "\n",
    "#print(propositions)\n",
    "# Output:\n",
    "# [AE died in Princeton in 1955, AE died in 1955, AE died in Princeton"
   ]
  },
  {
   "cell_type": "code",
   "execution_count": 61,
   "id": "c81e95f3-6dc0-4a2d-9c9b-0f451948d304",
   "metadata": {},
   "outputs": [
    {
     "name": "stdout",
     "output_type": "stream",
     "text": [
      "[]\n"
     ]
    }
   ],
   "source": [
    "print(doc._.clauses)"
   ]
  },
  {
   "cell_type": "code",
   "execution_count": 65,
   "id": "89c351e1-4b61-4fd2-b793-def510d9bed8",
   "metadata": {},
   "outputs": [
    {
     "data": {
      "text/plain": [
       "[]"
      ]
     },
     "execution_count": 65,
     "metadata": {},
     "output_type": "execute_result"
    }
   ],
   "source": [
    "doc._.clauses"
   ]
  },
  {
   "cell_type": "code",
   "execution_count": 63,
   "id": "c149afaf-7a27-457e-b7fd-9d589e29fc28",
   "metadata": {},
   "outputs": [
    {
     "data": {
      "text/plain": [
       "Garden Reach Shipbuilders shares jump 3% after bagging ₹840 Cr order."
      ]
     },
     "execution_count": 63,
     "metadata": {},
     "output_type": "execute_result"
    }
   ],
   "source": [
    "nlp(text,disable = 'claucy')"
   ]
  },
  {
   "cell_type": "code",
   "execution_count": 64,
   "id": "0b75871e-f3f3-4a08-87d6-f44ff4549276",
   "metadata": {},
   "outputs": [
    {
     "data": {
      "text/plain": [
       "Garden Reach Shipbuilders shares jump 3% after bagging ₹840 Cr order."
      ]
     },
     "execution_count": 64,
     "metadata": {},
     "output_type": "execute_result"
    }
   ],
   "source": [
    "nlp(text)"
   ]
  },
  {
   "cell_type": "code",
   "execution_count": 69,
   "id": "ed5fcc75-50c8-4ab7-ba5b-f66bd4513767",
   "metadata": {},
   "outputs": [
    {
     "data": {
      "text/plain": [
       "(Garden Reach Shipbuilders, 3%, 840 Cr)"
      ]
     },
     "execution_count": 69,
     "metadata": {},
     "output_type": "execute_result"
    }
   ],
   "source": [
    "doc.ents"
   ]
  },
  {
   "cell_type": "code",
   "execution_count": 71,
   "id": "b69f1555-02d2-4ff9-9190-9fa5ba5f8281",
   "metadata": {},
   "outputs": [
    {
     "data": {
      "text/html": [
       "<span class=\"tex2jax_ignore\"><div class=\"entities\" style=\"line-height: 2.5; direction: ltr\">\n",
       "<mark class=\"entity\" style=\"background: #7aecec; padding: 0.45em 0.6em; margin: 0 0.25em; line-height: 1; border-radius: 0.35em;\">\n",
       "    Garden Reach Shipbuilders\n",
       "    <span style=\"font-size: 0.8em; font-weight: bold; line-height: 1; border-radius: 0.35em; vertical-align: middle; margin-left: 0.5rem\">ORG</span>\n",
       "</mark>\n",
       " shares jump \n",
       "<mark class=\"entity\" style=\"background: #e4e7d2; padding: 0.45em 0.6em; margin: 0 0.25em; line-height: 1; border-radius: 0.35em;\">\n",
       "    3%\n",
       "    <span style=\"font-size: 0.8em; font-weight: bold; line-height: 1; border-radius: 0.35em; vertical-align: middle; margin-left: 0.5rem\">PERCENT</span>\n",
       "</mark>\n",
       " after bagging ₹\n",
       "<mark class=\"entity\" style=\"background: #bfeeb7; padding: 0.45em 0.6em; margin: 0 0.25em; line-height: 1; border-radius: 0.35em;\">\n",
       "    840 Cr\n",
       "    <span style=\"font-size: 0.8em; font-weight: bold; line-height: 1; border-radius: 0.35em; vertical-align: middle; margin-left: 0.5rem\">PRODUCT</span>\n",
       "</mark>\n",
       " order.</div></span>"
      ],
      "text/plain": [
       "<IPython.core.display.HTML object>"
      ]
     },
     "metadata": {},
     "output_type": "display_data"
    }
   ],
   "source": [
    "spacy.displacy.render(doc, style = 'ent')"
   ]
  },
  {
   "cell_type": "code",
   "execution_count": 75,
   "id": "9d05feae-8982-42a2-ac61-53ed19f7f79e",
   "metadata": {},
   "outputs": [],
   "source": [
    "text = \"Motilal Oswal recommends buying Varun Beverages with a target price of Rs 1900\""
   ]
  },
  {
   "cell_type": "code",
   "execution_count": 76,
   "id": "f538a3a8-93d8-4cc5-b5ab-aa3a8633d2e9",
   "metadata": {},
   "outputs": [],
   "source": [
    "doc = nlp(text)"
   ]
  },
  {
   "cell_type": "code",
   "execution_count": 78,
   "id": "edc3918f-9aad-4764-8301-cd8ed9036e6d",
   "metadata": {},
   "outputs": [
    {
     "data": {
      "text/html": [
       "<span class=\"tex2jax_ignore\"><div class=\"entities\" style=\"line-height: 2.5; direction: ltr\">\n",
       "<mark class=\"entity\" style=\"background: #aa9cfc; padding: 0.45em 0.6em; margin: 0 0.25em; line-height: 1; border-radius: 0.35em;\">\n",
       "    Motilal Oswal\n",
       "    <span style=\"font-size: 0.8em; font-weight: bold; line-height: 1; border-radius: 0.35em; vertical-align: middle; margin-left: 0.5rem\">PERSON</span>\n",
       "</mark>\n",
       " recommends buying \n",
       "<mark class=\"entity\" style=\"background: #7aecec; padding: 0.45em 0.6em; margin: 0 0.25em; line-height: 1; border-radius: 0.35em;\">\n",
       "    Varun Beverages\n",
       "    <span style=\"font-size: 0.8em; font-weight: bold; line-height: 1; border-radius: 0.35em; vertical-align: middle; margin-left: 0.5rem\">ORG</span>\n",
       "</mark>\n",
       " with a target price of Rs \n",
       "<mark class=\"entity\" style=\"background: #e4e7d2; padding: 0.45em 0.6em; margin: 0 0.25em; line-height: 1; border-radius: 0.35em;\">\n",
       "    1900\n",
       "    <span style=\"font-size: 0.8em; font-weight: bold; line-height: 1; border-radius: 0.35em; vertical-align: middle; margin-left: 0.5rem\">MONEY</span>\n",
       "</mark>\n",
       "</div></span>"
      ],
      "text/plain": [
       "<IPython.core.display.HTML object>"
      ]
     },
     "metadata": {},
     "output_type": "display_data"
    }
   ],
   "source": [
    "spacy.displacy.render(doc, style = 'ent')"
   ]
  },
  {
   "cell_type": "code",
   "execution_count": 74,
   "id": "05ea0eb0-756b-42ef-a855-1c44be504ba7",
   "metadata": {},
   "outputs": [
    {
     "data": {
      "text/html": [
       "<span class=\"tex2jax_ignore\"><svg xmlns=\"http://www.w3.org/2000/svg\" xmlns:xlink=\"http://www.w3.org/1999/xlink\" xml:lang=\"en\" id=\"80d0315e04bd4feead7b73f4890ae2aa-0\" class=\"displacy\" width=\"2150\" height=\"399.5\" direction=\"ltr\" style=\"max-width: none; height: 399.5px; color: #000000; background: #ffffff; font-family: Arial; direction: ltr\">\n",
       "<text class=\"displacy-token\" fill=\"currentColor\" text-anchor=\"middle\" y=\"309.5\">\n",
       "    <tspan class=\"displacy-word\" fill=\"currentColor\" x=\"50\">Garden</tspan>\n",
       "    <tspan class=\"displacy-tag\" dy=\"2em\" fill=\"currentColor\" x=\"50\">PROPN</tspan>\n",
       "</text>\n",
       "\n",
       "<text class=\"displacy-token\" fill=\"currentColor\" text-anchor=\"middle\" y=\"309.5\">\n",
       "    <tspan class=\"displacy-word\" fill=\"currentColor\" x=\"225\">Reach</tspan>\n",
       "    <tspan class=\"displacy-tag\" dy=\"2em\" fill=\"currentColor\" x=\"225\">PROPN</tspan>\n",
       "</text>\n",
       "\n",
       "<text class=\"displacy-token\" fill=\"currentColor\" text-anchor=\"middle\" y=\"309.5\">\n",
       "    <tspan class=\"displacy-word\" fill=\"currentColor\" x=\"400\">Shipbuilders</tspan>\n",
       "    <tspan class=\"displacy-tag\" dy=\"2em\" fill=\"currentColor\" x=\"400\">PROPN</tspan>\n",
       "</text>\n",
       "\n",
       "<text class=\"displacy-token\" fill=\"currentColor\" text-anchor=\"middle\" y=\"309.5\">\n",
       "    <tspan class=\"displacy-word\" fill=\"currentColor\" x=\"575\">shares</tspan>\n",
       "    <tspan class=\"displacy-tag\" dy=\"2em\" fill=\"currentColor\" x=\"575\">NOUN</tspan>\n",
       "</text>\n",
       "\n",
       "<text class=\"displacy-token\" fill=\"currentColor\" text-anchor=\"middle\" y=\"309.5\">\n",
       "    <tspan class=\"displacy-word\" fill=\"currentColor\" x=\"750\">jump</tspan>\n",
       "    <tspan class=\"displacy-tag\" dy=\"2em\" fill=\"currentColor\" x=\"750\">VERB</tspan>\n",
       "</text>\n",
       "\n",
       "<text class=\"displacy-token\" fill=\"currentColor\" text-anchor=\"middle\" y=\"309.5\">\n",
       "    <tspan class=\"displacy-word\" fill=\"currentColor\" x=\"925\">3%</tspan>\n",
       "    <tspan class=\"displacy-tag\" dy=\"2em\" fill=\"currentColor\" x=\"925\">NOUN</tspan>\n",
       "</text>\n",
       "\n",
       "<text class=\"displacy-token\" fill=\"currentColor\" text-anchor=\"middle\" y=\"309.5\">\n",
       "    <tspan class=\"displacy-word\" fill=\"currentColor\" x=\"1100\">after</tspan>\n",
       "    <tspan class=\"displacy-tag\" dy=\"2em\" fill=\"currentColor\" x=\"1100\">ADP</tspan>\n",
       "</text>\n",
       "\n",
       "<text class=\"displacy-token\" fill=\"currentColor\" text-anchor=\"middle\" y=\"309.5\">\n",
       "    <tspan class=\"displacy-word\" fill=\"currentColor\" x=\"1275\">bagging</tspan>\n",
       "    <tspan class=\"displacy-tag\" dy=\"2em\" fill=\"currentColor\" x=\"1275\">VERB</tspan>\n",
       "</text>\n",
       "\n",
       "<text class=\"displacy-token\" fill=\"currentColor\" text-anchor=\"middle\" y=\"309.5\">\n",
       "    <tspan class=\"displacy-word\" fill=\"currentColor\" x=\"1450\">₹</tspan>\n",
       "    <tspan class=\"displacy-tag\" dy=\"2em\" fill=\"currentColor\" x=\"1450\">SYM</tspan>\n",
       "</text>\n",
       "\n",
       "<text class=\"displacy-token\" fill=\"currentColor\" text-anchor=\"middle\" y=\"309.5\">\n",
       "    <tspan class=\"displacy-word\" fill=\"currentColor\" x=\"1625\">840</tspan>\n",
       "    <tspan class=\"displacy-tag\" dy=\"2em\" fill=\"currentColor\" x=\"1625\">NUM</tspan>\n",
       "</text>\n",
       "\n",
       "<text class=\"displacy-token\" fill=\"currentColor\" text-anchor=\"middle\" y=\"309.5\">\n",
       "    <tspan class=\"displacy-word\" fill=\"currentColor\" x=\"1800\">Cr</tspan>\n",
       "    <tspan class=\"displacy-tag\" dy=\"2em\" fill=\"currentColor\" x=\"1800\">NOUN</tspan>\n",
       "</text>\n",
       "\n",
       "<text class=\"displacy-token\" fill=\"currentColor\" text-anchor=\"middle\" y=\"309.5\">\n",
       "    <tspan class=\"displacy-word\" fill=\"currentColor\" x=\"1975\">order.</tspan>\n",
       "    <tspan class=\"displacy-tag\" dy=\"2em\" fill=\"currentColor\" x=\"1975\">NOUN</tspan>\n",
       "</text>\n",
       "\n",
       "<g class=\"displacy-arrow\">\n",
       "    <path class=\"displacy-arc\" id=\"arrow-80d0315e04bd4feead7b73f4890ae2aa-0-0\" stroke-width=\"2px\" d=\"M70,264.5 C70,89.5 395.0,89.5 395.0,264.5\" fill=\"none\" stroke=\"currentColor\"/>\n",
       "    <text dy=\"1.25em\" style=\"font-size: 0.8em; letter-spacing: 1px\">\n",
       "        <textPath xlink:href=\"#arrow-80d0315e04bd4feead7b73f4890ae2aa-0-0\" class=\"displacy-label\" startOffset=\"50%\" side=\"left\" fill=\"currentColor\" text-anchor=\"middle\">compound</textPath>\n",
       "    </text>\n",
       "    <path class=\"displacy-arrowhead\" d=\"M70,266.5 L62,254.5 78,254.5\" fill=\"currentColor\"/>\n",
       "</g>\n",
       "\n",
       "<g class=\"displacy-arrow\">\n",
       "    <path class=\"displacy-arc\" id=\"arrow-80d0315e04bd4feead7b73f4890ae2aa-0-1\" stroke-width=\"2px\" d=\"M245,264.5 C245,177.0 390.0,177.0 390.0,264.5\" fill=\"none\" stroke=\"currentColor\"/>\n",
       "    <text dy=\"1.25em\" style=\"font-size: 0.8em; letter-spacing: 1px\">\n",
       "        <textPath xlink:href=\"#arrow-80d0315e04bd4feead7b73f4890ae2aa-0-1\" class=\"displacy-label\" startOffset=\"50%\" side=\"left\" fill=\"currentColor\" text-anchor=\"middle\">compound</textPath>\n",
       "    </text>\n",
       "    <path class=\"displacy-arrowhead\" d=\"M245,266.5 L237,254.5 253,254.5\" fill=\"currentColor\"/>\n",
       "</g>\n",
       "\n",
       "<g class=\"displacy-arrow\">\n",
       "    <path class=\"displacy-arc\" id=\"arrow-80d0315e04bd4feead7b73f4890ae2aa-0-2\" stroke-width=\"2px\" d=\"M420,264.5 C420,177.0 565.0,177.0 565.0,264.5\" fill=\"none\" stroke=\"currentColor\"/>\n",
       "    <text dy=\"1.25em\" style=\"font-size: 0.8em; letter-spacing: 1px\">\n",
       "        <textPath xlink:href=\"#arrow-80d0315e04bd4feead7b73f4890ae2aa-0-2\" class=\"displacy-label\" startOffset=\"50%\" side=\"left\" fill=\"currentColor\" text-anchor=\"middle\">compound</textPath>\n",
       "    </text>\n",
       "    <path class=\"displacy-arrowhead\" d=\"M420,266.5 L412,254.5 428,254.5\" fill=\"currentColor\"/>\n",
       "</g>\n",
       "\n",
       "<g class=\"displacy-arrow\">\n",
       "    <path class=\"displacy-arc\" id=\"arrow-80d0315e04bd4feead7b73f4890ae2aa-0-3\" stroke-width=\"2px\" d=\"M595,264.5 C595,177.0 740.0,177.0 740.0,264.5\" fill=\"none\" stroke=\"currentColor\"/>\n",
       "    <text dy=\"1.25em\" style=\"font-size: 0.8em; letter-spacing: 1px\">\n",
       "        <textPath xlink:href=\"#arrow-80d0315e04bd4feead7b73f4890ae2aa-0-3\" class=\"displacy-label\" startOffset=\"50%\" side=\"left\" fill=\"currentColor\" text-anchor=\"middle\">nsubj</textPath>\n",
       "    </text>\n",
       "    <path class=\"displacy-arrowhead\" d=\"M595,266.5 L587,254.5 603,254.5\" fill=\"currentColor\"/>\n",
       "</g>\n",
       "\n",
       "<g class=\"displacy-arrow\">\n",
       "    <path class=\"displacy-arc\" id=\"arrow-80d0315e04bd4feead7b73f4890ae2aa-0-4\" stroke-width=\"2px\" d=\"M770,264.5 C770,177.0 915.0,177.0 915.0,264.5\" fill=\"none\" stroke=\"currentColor\"/>\n",
       "    <text dy=\"1.25em\" style=\"font-size: 0.8em; letter-spacing: 1px\">\n",
       "        <textPath xlink:href=\"#arrow-80d0315e04bd4feead7b73f4890ae2aa-0-4\" class=\"displacy-label\" startOffset=\"50%\" side=\"left\" fill=\"currentColor\" text-anchor=\"middle\">npadvmod</textPath>\n",
       "    </text>\n",
       "    <path class=\"displacy-arrowhead\" d=\"M915.0,266.5 L923.0,254.5 907.0,254.5\" fill=\"currentColor\"/>\n",
       "</g>\n",
       "\n",
       "<g class=\"displacy-arrow\">\n",
       "    <path class=\"displacy-arc\" id=\"arrow-80d0315e04bd4feead7b73f4890ae2aa-0-5\" stroke-width=\"2px\" d=\"M770,264.5 C770,89.5 1095.0,89.5 1095.0,264.5\" fill=\"none\" stroke=\"currentColor\"/>\n",
       "    <text dy=\"1.25em\" style=\"font-size: 0.8em; letter-spacing: 1px\">\n",
       "        <textPath xlink:href=\"#arrow-80d0315e04bd4feead7b73f4890ae2aa-0-5\" class=\"displacy-label\" startOffset=\"50%\" side=\"left\" fill=\"currentColor\" text-anchor=\"middle\">prep</textPath>\n",
       "    </text>\n",
       "    <path class=\"displacy-arrowhead\" d=\"M1095.0,266.5 L1103.0,254.5 1087.0,254.5\" fill=\"currentColor\"/>\n",
       "</g>\n",
       "\n",
       "<g class=\"displacy-arrow\">\n",
       "    <path class=\"displacy-arc\" id=\"arrow-80d0315e04bd4feead7b73f4890ae2aa-0-6\" stroke-width=\"2px\" d=\"M1120,264.5 C1120,177.0 1265.0,177.0 1265.0,264.5\" fill=\"none\" stroke=\"currentColor\"/>\n",
       "    <text dy=\"1.25em\" style=\"font-size: 0.8em; letter-spacing: 1px\">\n",
       "        <textPath xlink:href=\"#arrow-80d0315e04bd4feead7b73f4890ae2aa-0-6\" class=\"displacy-label\" startOffset=\"50%\" side=\"left\" fill=\"currentColor\" text-anchor=\"middle\">pcomp</textPath>\n",
       "    </text>\n",
       "    <path class=\"displacy-arrowhead\" d=\"M1265.0,266.5 L1273.0,254.5 1257.0,254.5\" fill=\"currentColor\"/>\n",
       "</g>\n",
       "\n",
       "<g class=\"displacy-arrow\">\n",
       "    <path class=\"displacy-arc\" id=\"arrow-80d0315e04bd4feead7b73f4890ae2aa-0-7\" stroke-width=\"2px\" d=\"M1470,264.5 C1470,177.0 1615.0,177.0 1615.0,264.5\" fill=\"none\" stroke=\"currentColor\"/>\n",
       "    <text dy=\"1.25em\" style=\"font-size: 0.8em; letter-spacing: 1px\">\n",
       "        <textPath xlink:href=\"#arrow-80d0315e04bd4feead7b73f4890ae2aa-0-7\" class=\"displacy-label\" startOffset=\"50%\" side=\"left\" fill=\"currentColor\" text-anchor=\"middle\">nmod</textPath>\n",
       "    </text>\n",
       "    <path class=\"displacy-arrowhead\" d=\"M1470,266.5 L1462,254.5 1478,254.5\" fill=\"currentColor\"/>\n",
       "</g>\n",
       "\n",
       "<g class=\"displacy-arrow\">\n",
       "    <path class=\"displacy-arc\" id=\"arrow-80d0315e04bd4feead7b73f4890ae2aa-0-8\" stroke-width=\"2px\" d=\"M1645,264.5 C1645,89.5 1970.0,89.5 1970.0,264.5\" fill=\"none\" stroke=\"currentColor\"/>\n",
       "    <text dy=\"1.25em\" style=\"font-size: 0.8em; letter-spacing: 1px\">\n",
       "        <textPath xlink:href=\"#arrow-80d0315e04bd4feead7b73f4890ae2aa-0-8\" class=\"displacy-label\" startOffset=\"50%\" side=\"left\" fill=\"currentColor\" text-anchor=\"middle\">nummod</textPath>\n",
       "    </text>\n",
       "    <path class=\"displacy-arrowhead\" d=\"M1645,266.5 L1637,254.5 1653,254.5\" fill=\"currentColor\"/>\n",
       "</g>\n",
       "\n",
       "<g class=\"displacy-arrow\">\n",
       "    <path class=\"displacy-arc\" id=\"arrow-80d0315e04bd4feead7b73f4890ae2aa-0-9\" stroke-width=\"2px\" d=\"M1820,264.5 C1820,177.0 1965.0,177.0 1965.0,264.5\" fill=\"none\" stroke=\"currentColor\"/>\n",
       "    <text dy=\"1.25em\" style=\"font-size: 0.8em; letter-spacing: 1px\">\n",
       "        <textPath xlink:href=\"#arrow-80d0315e04bd4feead7b73f4890ae2aa-0-9\" class=\"displacy-label\" startOffset=\"50%\" side=\"left\" fill=\"currentColor\" text-anchor=\"middle\">compound</textPath>\n",
       "    </text>\n",
       "    <path class=\"displacy-arrowhead\" d=\"M1820,266.5 L1812,254.5 1828,254.5\" fill=\"currentColor\"/>\n",
       "</g>\n",
       "\n",
       "<g class=\"displacy-arrow\">\n",
       "    <path class=\"displacy-arc\" id=\"arrow-80d0315e04bd4feead7b73f4890ae2aa-0-10\" stroke-width=\"2px\" d=\"M1295,264.5 C1295,2.0 1975.0,2.0 1975.0,264.5\" fill=\"none\" stroke=\"currentColor\"/>\n",
       "    <text dy=\"1.25em\" style=\"font-size: 0.8em; letter-spacing: 1px\">\n",
       "        <textPath xlink:href=\"#arrow-80d0315e04bd4feead7b73f4890ae2aa-0-10\" class=\"displacy-label\" startOffset=\"50%\" side=\"left\" fill=\"currentColor\" text-anchor=\"middle\">dobj</textPath>\n",
       "    </text>\n",
       "    <path class=\"displacy-arrowhead\" d=\"M1975.0,266.5 L1983.0,254.5 1967.0,254.5\" fill=\"currentColor\"/>\n",
       "</g>\n",
       "</svg></span>"
      ],
      "text/plain": [
       "<IPython.core.display.HTML object>"
      ]
     },
     "metadata": {},
     "output_type": "display_data"
    }
   ],
   "source": [
    "spacy.displacy.render(doc)"
   ]
  },
  {
   "cell_type": "markdown",
   "id": "6dfe10b1-204c-4d06-9630-1eb9e600e53b",
   "metadata": {},
   "source": [
    "for text in df.headline[1070:]:\n",
    "    print(i.strip())"
   ]
  },
  {
   "cell_type": "code",
   "execution_count": 108,
   "id": "c65989d9-2a88-4b9d-9ea1-53b932495df4",
   "metadata": {},
   "outputs": [],
   "source": [
    "a = \"Multibagger stock under Rs 500: Rs 1 lakh investment grows to Rs 3 lakh in 1 yr! Q1 FY25 PAT zooms 42% - ET Now\""
   ]
  },
  {
   "cell_type": "code",
   "execution_count": 110,
   "id": "ea37f593-cdf7-4cda-a0de-9e36c13fb422",
   "metadata": {},
   "outputs": [],
   "source": [
    "import re"
   ]
  },
  {
   "cell_type": "code",
   "execution_count": null,
   "id": "2bbe7e87-b7a4-4d5d-9118-1f19b739d077",
   "metadata": {},
   "outputs": [],
   "source": []
  },
  {
   "cell_type": "code",
   "execution_count": 116,
   "id": "748e58de-417f-4a23-b530-2156b6e095d9",
   "metadata": {},
   "outputs": [
    {
     "data": {
      "text/plain": [
       "'Multibagger stock under Rs 500: Rs 1 lakh investment grows to Rs 3 lakh in 1 yr! Q1 FY25 PAT zooms 42% - ET Now'"
      ]
     },
     "execution_count": 116,
     "metadata": {},
     "output_type": "execute_result"
    }
   ],
   "source": [
    "a.strip(\":.-\")"
   ]
  },
  {
   "cell_type": "code",
   "execution_count": 117,
   "id": "7ebf00ba-2171-4e3b-a904-d92450ae0601",
   "metadata": {},
   "outputs": [],
   "source": [
    "pattern = r'[+\\*\\.\\|\\(\\)\\$\\{\\}]'\n",
    "\n",
    "# Use re.sub to replace the special characters with an empty string\n",
    "cleaned_string = re.sub(pattern, '', a)"
   ]
  },
  {
   "cell_type": "code",
   "execution_count": 122,
   "id": "de8561d8-6085-4438-9102-6db799d540b1",
   "metadata": {},
   "outputs": [
    {
     "name": "stdout",
     "output_type": "stream",
     "text": [
      "Original string: 'Multibagger stock under Rs 500: Rs 1 lakh investment grows to Rs 3 lakh in 1 yr! Q1 FY25 PAT zooms 42% - ET Now'\n",
      "Cleaned string: 'Multibagger stock under Rs 500 Rs 1 lakh investment grows to Rs 3 lakh in 1 yr Q1 FY25 PAT zooms 42%  ET Now'\n"
     ]
    }
   ],
   "source": [
    "import re\n",
    "\n",
    "# Define the string with special characters\n",
    "input_string = \"Multibagger stock under Rs 500: Rs 1 lakh investment grows to Rs 3 lakh in 1 yr! Q1 FY25 PAT zooms 42% - ET Now\"\n",
    "\n",
    "# Define the regular expression pattern to match the special characters\n",
    "pattern = r\"[:,!,-]\"\n",
    "\n",
    "# Use re.sub to replace the special characters with an empty string\n",
    "cs = re.sub(pattern, '', text)\n",
    "\n",
    "print(f\"Original string: '{input_string}'\")\n",
    "print(f\"Cleaned string: '{cleaned_string}'\")\n"
   ]
  },
  {
   "cell_type": "code",
   "execution_count": 124,
   "id": "741e68a0-8d71-42aa-9741-6a0431f22a42",
   "metadata": {},
   "outputs": [
    {
     "data": {
      "text/html": [
       "<span class=\"tex2jax_ignore\"><div class=\"entities\" style=\"line-height: 2.5; direction: ltr\">\n",
       "<mark class=\"entity\" style=\"background: #aa9cfc; padding: 0.45em 0.6em; margin: 0 0.25em; line-height: 1; border-radius: 0.35em;\">\n",
       "    Multibagger\n",
       "    <span style=\"font-size: 0.8em; font-weight: bold; line-height: 1; border-radius: 0.35em; vertical-align: middle; margin-left: 0.5rem\">PERSON</span>\n",
       "</mark>\n",
       " stock under Rs 500 Rs 1 lakh investment grows to \n",
       "<mark class=\"entity\" style=\"background: #e4e7d2; padding: 0.45em 0.6em; margin: 0 0.25em; line-height: 1; border-radius: 0.35em;\">\n",
       "    Rs 3 lakh\n",
       "    <span style=\"font-size: 0.8em; font-weight: bold; line-height: 1; border-radius: 0.35em; vertical-align: middle; margin-left: 0.5rem\">MONEY</span>\n",
       "</mark>\n",
       " in \n",
       "<mark class=\"entity\" style=\"background: #bfe1d9; padding: 0.45em 0.6em; margin: 0 0.25em; line-height: 1; border-radius: 0.35em;\">\n",
       "    1 yr Q1\n",
       "    <span style=\"font-size: 0.8em; font-weight: bold; line-height: 1; border-radius: 0.35em; vertical-align: middle; margin-left: 0.5rem\">DATE</span>\n",
       "</mark>\n",
       " FY25 PAT zooms \n",
       "<mark class=\"entity\" style=\"background: #e4e7d2; padding: 0.45em 0.6em; margin: 0 0.25em; line-height: 1; border-radius: 0.35em;\">\n",
       "    42%\n",
       "    <span style=\"font-size: 0.8em; font-weight: bold; line-height: 1; border-radius: 0.35em; vertical-align: middle; margin-left: 0.5rem\">PERCENT</span>\n",
       "</mark>\n",
       "  ET Now</div></span>"
      ],
      "text/plain": [
       "<IPython.core.display.HTML object>"
      ]
     },
     "metadata": {},
     "output_type": "display_data"
    }
   ],
   "source": [
    "doc = nlp(cleaned_string)\n",
    "spacy.displacy.render(doc, style = 'ent')"
   ]
  },
  {
   "cell_type": "code",
   "execution_count": 171,
   "id": "9ea4489d-5f33-4b21-862d-7f26b3afb9bb",
   "metadata": {},
   "outputs": [
    {
     "data": {
      "text/plain": [
       "1070    Multibagger stock under Rs 500: Rs 1 lakh inve...\n",
       "1071    Watch: Deepinder Goyal in splits as comedian r...\n",
       "1072    NCLT holds GVK Power and Infra bankrupt, admit...\n",
       "1073    Pace, Hero, ACME, JSW Win SECI’s 1.2 GW Solar ...\n",
       "1074    Four Unexplored Indian Basins May Hold More Oi...\n",
       "1075    IRDAI imposes Rs 2 crore penalty on Bajaj Fina...\n",
       "1076    Camlin Founder Subhash Dandekar Passes Away At...\n",
       "1077    Exclusive: Crisis-Hit BYJU’S Locked Out Of Ove...\n",
       "1078    Stock Radar: Jio Financial, Angel One, Unichem...\n",
       "Name: headline, dtype: object"
      ]
     },
     "execution_count": 171,
     "metadata": {},
     "output_type": "execute_result"
    }
   ],
   "source": [
    "df.headline[1070:]"
   ]
  },
  {
   "cell_type": "code",
   "execution_count": 178,
   "id": "2385887e-4540-46f6-a5dc-49e1b896bb78",
   "metadata": {},
   "outputs": [
    {
     "data": {
      "text/plain": [
       "'Multibagger stock under Rs 500: Rs 1 lakh investment grows to Rs 3 lakh in 1 yr! Q1 FY25 PAT zooms 42%  ET Now'"
      ]
     },
     "execution_count": 178,
     "metadata": {},
     "output_type": "execute_result"
    }
   ],
   "source": [
    "a.replace('-','')"
   ]
  },
  {
   "cell_type": "code",
   "execution_count": 181,
   "id": "beaef68c-c148-4bc3-b9f4-fde6396394c5",
   "metadata": {},
   "outputs": [
    {
     "data": {
      "text/html": [
       "<span class=\"tex2jax_ignore\"><div class=\"entities\" style=\"line-height: 2.5; direction: ltr\">\n",
       "<mark class=\"entity\" style=\"background: #aa9cfc; padding: 0.45em 0.6em; margin: 0 0.25em; line-height: 1; border-radius: 0.35em;\">\n",
       "    Multibagger\n",
       "    <span style=\"font-size: 0.8em; font-weight: bold; line-height: 1; border-radius: 0.35em; vertical-align: middle; margin-left: 0.5rem\">PERSON</span>\n",
       "</mark>\n",
       " stock under Rs 500 Rs 1 lakh investment grows to \n",
       "<mark class=\"entity\" style=\"background: #e4e7d2; padding: 0.45em 0.6em; margin: 0 0.25em; line-height: 1; border-radius: 0.35em;\">\n",
       "    Rs 3 lakh\n",
       "    <span style=\"font-size: 0.8em; font-weight: bold; line-height: 1; border-radius: 0.35em; vertical-align: middle; margin-left: 0.5rem\">MONEY</span>\n",
       "</mark>\n",
       " in \n",
       "<mark class=\"entity\" style=\"background: #bfe1d9; padding: 0.45em 0.6em; margin: 0 0.25em; line-height: 1; border-radius: 0.35em;\">\n",
       "    1 yr\n",
       "    <span style=\"font-size: 0.8em; font-weight: bold; line-height: 1; border-radius: 0.35em; vertical-align: middle; margin-left: 0.5rem\">DATE</span>\n",
       "</mark>\n",
       "! \n",
       "<mark class=\"entity\" style=\"background: #e4e7d2; padding: 0.45em 0.6em; margin: 0 0.25em; line-height: 1; border-radius: 0.35em;\">\n",
       "    Q1 FY25\n",
       "    <span style=\"font-size: 0.8em; font-weight: bold; line-height: 1; border-radius: 0.35em; vertical-align: middle; margin-left: 0.5rem\">PERCENT</span>\n",
       "</mark>\n",
       " PAT zooms \n",
       "<mark class=\"entity\" style=\"background: #e4e7d2; padding: 0.45em 0.6em; margin: 0 0.25em; line-height: 1; border-radius: 0.35em;\">\n",
       "    42%\n",
       "    <span style=\"font-size: 0.8em; font-weight: bold; line-height: 1; border-radius: 0.35em; vertical-align: middle; margin-left: 0.5rem\">PERCENT</span>\n",
       "</mark>\n",
       " , ET Now</div></span>"
      ],
      "text/plain": [
       "<IPython.core.display.HTML object>"
      ]
     },
     "metadata": {},
     "output_type": "display_data"
    },
    {
     "data": {
      "text/html": [
       "<span class=\"tex2jax_ignore\"><div class=\"entities\" style=\"line-height: 2.5; direction: ltr\">Watch \n",
       "<mark class=\"entity\" style=\"background: #aa9cfc; padding: 0.45em 0.6em; margin: 0 0.25em; line-height: 1; border-radius: 0.35em;\">\n",
       "    Deepinder Goyal\n",
       "    <span style=\"font-size: 0.8em; font-weight: bold; line-height: 1; border-radius: 0.35em; vertical-align: middle; margin-left: 0.5rem\">PERSON</span>\n",
       "</mark>\n",
       " in splits as comedian roasts \n",
       "<mark class=\"entity\" style=\"background: #7aecec; padding: 0.45em 0.6em; margin: 0 0.25em; line-height: 1; border-radius: 0.35em;\">\n",
       "    Zomato\n",
       "    <span style=\"font-size: 0.8em; font-weight: bold; line-height: 1; border-radius: 0.35em; vertical-align: middle; margin-left: 0.5rem\">ORG</span>\n",
       "</mark>\n",
       "’s platform fee, rain surge , \n",
       "<mark class=\"entity\" style=\"background: #7aecec; padding: 0.45em 0.6em; margin: 0 0.25em; line-height: 1; border-radius: 0.35em;\">\n",
       "    Hindustan Times\n",
       "    <span style=\"font-size: 0.8em; font-weight: bold; line-height: 1; border-radius: 0.35em; vertical-align: middle; margin-left: 0.5rem\">ORG</span>\n",
       "</mark>\n",
       "</div></span>"
      ],
      "text/plain": [
       "<IPython.core.display.HTML object>"
      ]
     },
     "metadata": {},
     "output_type": "display_data"
    },
    {
     "data": {
      "text/html": [
       "<span class=\"tex2jax_ignore\"><div class=\"entities\" style=\"line-height: 2.5; direction: ltr\">\n",
       "<mark class=\"entity\" style=\"background: #7aecec; padding: 0.45em 0.6em; margin: 0 0.25em; line-height: 1; border-radius: 0.35em;\">\n",
       "    NCLT\n",
       "    <span style=\"font-size: 0.8em; font-weight: bold; line-height: 1; border-radius: 0.35em; vertical-align: middle; margin-left: 0.5rem\">ORG</span>\n",
       "</mark>\n",
       " holds \n",
       "<mark class=\"entity\" style=\"background: #7aecec; padding: 0.45em 0.6em; margin: 0 0.25em; line-height: 1; border-radius: 0.35em;\">\n",
       "    GVK Power\n",
       "    <span style=\"font-size: 0.8em; font-weight: bold; line-height: 1; border-radius: 0.35em; vertical-align: middle; margin-left: 0.5rem\">ORG</span>\n",
       "</mark>\n",
       " and Infra bankrupt, admits insolvency petition by \n",
       "<mark class=\"entity\" style=\"background: #7aecec; padding: 0.45em 0.6em; margin: 0 0.25em; line-height: 1; border-radius: 0.35em;\">\n",
       "    ICICI Bank\n",
       "    <span style=\"font-size: 0.8em; font-weight: bold; line-height: 1; border-radius: 0.35em; vertical-align: middle; margin-left: 0.5rem\">ORG</span>\n",
       "</mark>\n",
       " , \n",
       "<mark class=\"entity\" style=\"background: #7aecec; padding: 0.45em 0.6em; margin: 0 0.25em; line-height: 1; border-radius: 0.35em;\">\n",
       "    Bar &amp; Bench\n",
       "    <span style=\"font-size: 0.8em; font-weight: bold; line-height: 1; border-radius: 0.35em; vertical-align: middle; margin-left: 0.5rem\">ORG</span>\n",
       "</mark>\n",
       " , \n",
       "<mark class=\"entity\" style=\"background: #c887fb; padding: 0.45em 0.6em; margin: 0 0.25em; line-height: 1; border-radius: 0.35em;\">\n",
       "    Indian\n",
       "    <span style=\"font-size: 0.8em; font-weight: bold; line-height: 1; border-radius: 0.35em; vertical-align: middle; margin-left: 0.5rem\">NORP</span>\n",
       "</mark>\n",
       " Legal News</div></span>"
      ],
      "text/plain": [
       "<IPython.core.display.HTML object>"
      ]
     },
     "metadata": {},
     "output_type": "display_data"
    },
    {
     "data": {
      "text/html": [
       "<span class=\"tex2jax_ignore\"><div class=\"entities\" style=\"line-height: 2.5; direction: ltr\">\n",
       "<mark class=\"entity\" style=\"background: #7aecec; padding: 0.45em 0.6em; margin: 0 0.25em; line-height: 1; border-radius: 0.35em;\">\n",
       "    Pace\n",
       "    <span style=\"font-size: 0.8em; font-weight: bold; line-height: 1; border-radius: 0.35em; vertical-align: middle; margin-left: 0.5rem\">ORG</span>\n",
       "</mark>\n",
       ", Hero, \n",
       "<mark class=\"entity\" style=\"background: #9cc9cc; padding: 0.45em 0.6em; margin: 0 0.25em; line-height: 1; border-radius: 0.35em;\">\n",
       "    ACME\n",
       "    <span style=\"font-size: 0.8em; font-weight: bold; line-height: 1; border-radius: 0.35em; vertical-align: middle; margin-left: 0.5rem\">FAC</span>\n",
       "</mark>\n",
       ", \n",
       "<mark class=\"entity\" style=\"background: #7aecec; padding: 0.45em 0.6em; margin: 0 0.25em; line-height: 1; border-radius: 0.35em;\">\n",
       "    JSW Win SECI\n",
       "    <span style=\"font-size: 0.8em; font-weight: bold; line-height: 1; border-radius: 0.35em; vertical-align: middle; margin-left: 0.5rem\">ORG</span>\n",
       "</mark>\n",
       "’s \n",
       "<mark class=\"entity\" style=\"background: #e4e7d2; padding: 0.45em 0.6em; margin: 0 0.25em; line-height: 1; border-radius: 0.35em;\">\n",
       "    1.2\n",
       "    <span style=\"font-size: 0.8em; font-weight: bold; line-height: 1; border-radius: 0.35em; vertical-align: middle; margin-left: 0.5rem\">CARDINAL</span>\n",
       "</mark>\n",
       " \n",
       "<mark class=\"entity\" style=\"background: #7aecec; padding: 0.45em 0.6em; margin: 0 0.25em; line-height: 1; border-radius: 0.35em;\">\n",
       "    GW Solar Plus Storage Auction\n",
       "    <span style=\"font-size: 0.8em; font-weight: bold; line-height: 1; border-radius: 0.35em; vertical-align: middle; margin-left: 0.5rem\">ORG</span>\n",
       "</mark>\n",
       " , Mercom \n",
       "<mark class=\"entity\" style=\"background: #feca74; padding: 0.45em 0.6em; margin: 0 0.25em; line-height: 1; border-radius: 0.35em;\">\n",
       "    India\n",
       "    <span style=\"font-size: 0.8em; font-weight: bold; line-height: 1; border-radius: 0.35em; vertical-align: middle; margin-left: 0.5rem\">GPE</span>\n",
       "</mark>\n",
       "</div></span>"
      ],
      "text/plain": [
       "<IPython.core.display.HTML object>"
      ]
     },
     "metadata": {},
     "output_type": "display_data"
    },
    {
     "data": {
      "text/html": [
       "<span class=\"tex2jax_ignore\"><div class=\"entities\" style=\"line-height: 2.5; direction: ltr\">\n",
       "<mark class=\"entity\" style=\"background: #e4e7d2; padding: 0.45em 0.6em; margin: 0 0.25em; line-height: 1; border-radius: 0.35em;\">\n",
       "    Four\n",
       "    <span style=\"font-size: 0.8em; font-weight: bold; line-height: 1; border-radius: 0.35em; vertical-align: middle; margin-left: 0.5rem\">CARDINAL</span>\n",
       "</mark>\n",
       " Unexplored \n",
       "<mark class=\"entity\" style=\"background: #c887fb; padding: 0.45em 0.6em; margin: 0 0.25em; line-height: 1; border-radius: 0.35em;\">\n",
       "    Indian\n",
       "    <span style=\"font-size: 0.8em; font-weight: bold; line-height: 1; border-radius: 0.35em; vertical-align: middle; margin-left: 0.5rem\">NORP</span>\n",
       "</mark>\n",
       " Basins May Hold More Oil Than The Permian , OilPrice.com</div></span>"
      ],
      "text/plain": [
       "<IPython.core.display.HTML object>"
      ]
     },
     "metadata": {},
     "output_type": "display_data"
    },
    {
     "data": {
      "text/html": [
       "<span class=\"tex2jax_ignore\"><div class=\"entities\" style=\"line-height: 2.5; direction: ltr\">IRDAI imposes \n",
       "<mark class=\"entity\" style=\"background: #e4e7d2; padding: 0.45em 0.6em; margin: 0 0.25em; line-height: 1; border-radius: 0.35em;\">\n",
       "    Rs 2 crore\n",
       "    <span style=\"font-size: 0.8em; font-weight: bold; line-height: 1; border-radius: 0.35em; vertical-align: middle; margin-left: 0.5rem\">MONEY</span>\n",
       "</mark>\n",
       " penalty on \n",
       "<mark class=\"entity\" style=\"background: #7aecec; padding: 0.45em 0.6em; margin: 0 0.25em; line-height: 1; border-radius: 0.35em;\">\n",
       "    Bajaj Finance\n",
       "    <span style=\"font-size: 0.8em; font-weight: bold; line-height: 1; border-radius: 0.35em; vertical-align: middle; margin-left: 0.5rem\">ORG</span>\n",
       "</mark>\n",
       " for violating regulations , Moneycontrol</div></span>"
      ],
      "text/plain": [
       "<IPython.core.display.HTML object>"
      ]
     },
     "metadata": {},
     "output_type": "display_data"
    },
    {
     "data": {
      "text/html": [
       "<span class=\"tex2jax_ignore\"><div class=\"entities\" style=\"line-height: 2.5; direction: ltr\">\n",
       "<mark class=\"entity\" style=\"background: #7aecec; padding: 0.45em 0.6em; margin: 0 0.25em; line-height: 1; border-radius: 0.35em;\">\n",
       "    Camlin\n",
       "    <span style=\"font-size: 0.8em; font-weight: bold; line-height: 1; border-radius: 0.35em; vertical-align: middle; margin-left: 0.5rem\">ORG</span>\n",
       "</mark>\n",
       " Founder \n",
       "<mark class=\"entity\" style=\"background: #aa9cfc; padding: 0.45em 0.6em; margin: 0 0.25em; line-height: 1; border-radius: 0.35em;\">\n",
       "    Subhash Dandekar\n",
       "    <span style=\"font-size: 0.8em; font-weight: bold; line-height: 1; border-radius: 0.35em; vertical-align: middle; margin-left: 0.5rem\">PERSON</span>\n",
       "</mark>\n",
       " Passes Away At \n",
       "<mark class=\"entity\" style=\"background: #bfe1d9; padding: 0.45em 0.6em; margin: 0 0.25em; line-height: 1; border-radius: 0.35em;\">\n",
       "    86\n",
       "    <span style=\"font-size: 0.8em; font-weight: bold; line-height: 1; border-radius: 0.35em; vertical-align: middle; margin-left: 0.5rem\">DATE</span>\n",
       "</mark>\n",
       " , News18</div></span>"
      ],
      "text/plain": [
       "<IPython.core.display.HTML object>"
      ]
     },
     "metadata": {},
     "output_type": "display_data"
    },
    {
     "data": {
      "text/html": [
       "<span class=\"tex2jax_ignore\"><div class=\"entities\" style=\"line-height: 2.5; direction: ltr\">Exclusive Crisis,Hit BYJU’S Locked Out Of Over 100 \n",
       "<mark class=\"entity\" style=\"background: #7aecec; padding: 0.45em 0.6em; margin: 0 0.25em; line-height: 1; border-radius: 0.35em;\">\n",
       "    Tuition Centres Over Unpaid Rent\n",
       "    <span style=\"font-size: 0.8em; font-weight: bold; line-height: 1; border-radius: 0.35em; vertical-align: middle; margin-left: 0.5rem\">ORG</span>\n",
       "</mark>\n",
       " , Inc42 Media</div></span>"
      ],
      "text/plain": [
       "<IPython.core.display.HTML object>"
      ]
     },
     "metadata": {},
     "output_type": "display_data"
    },
    {
     "data": {
      "text/html": [
       "<span class=\"tex2jax_ignore\"><div class=\"entities\" style=\"line-height: 2.5; direction: ltr\">\n",
       "<mark class=\"entity\" style=\"background: #7aecec; padding: 0.45em 0.6em; margin: 0 0.25em; line-height: 1; border-radius: 0.35em;\">\n",
       "    Stock Radar Jio Financial\n",
       "    <span style=\"font-size: 0.8em; font-weight: bold; line-height: 1; border-radius: 0.35em; vertical-align: middle; margin-left: 0.5rem\">ORG</span>\n",
       "</mark>\n",
       ", \n",
       "<mark class=\"entity\" style=\"background: #7aecec; padding: 0.45em 0.6em; margin: 0 0.25em; line-height: 1; border-radius: 0.35em;\">\n",
       "    Angel One\n",
       "    <span style=\"font-size: 0.8em; font-weight: bold; line-height: 1; border-radius: 0.35em; vertical-align: middle; margin-left: 0.5rem\">ORG</span>\n",
       "</mark>\n",
       ", \n",
       "<mark class=\"entity\" style=\"background: #7aecec; padding: 0.45em 0.6em; margin: 0 0.25em; line-height: 1; border-radius: 0.35em;\">\n",
       "    Unichem Labs\n",
       "    <span style=\"font-size: 0.8em; font-weight: bold; line-height: 1; border-radius: 0.35em; vertical-align: middle; margin-left: 0.5rem\">ORG</span>\n",
       "</mark>\n",
       ", \n",
       "<mark class=\"entity\" style=\"background: #7aecec; padding: 0.45em 0.6em; margin: 0 0.25em; line-height: 1; border-radius: 0.35em;\">\n",
       "    HUL\n",
       "    <span style=\"font-size: 0.8em; font-weight: bold; line-height: 1; border-radius: 0.35em; vertical-align: middle; margin-left: 0.5rem\">ORG</span>\n",
       "</mark>\n",
       ", \n",
       "<mark class=\"entity\" style=\"background: #7aecec; padding: 0.45em 0.6em; margin: 0 0.25em; line-height: 1; border-radius: 0.35em;\">\n",
       "    Vedanta\n",
       "    <span style=\"font-size: 0.8em; font-weight: bold; line-height: 1; border-radius: 0.35em; vertical-align: middle; margin-left: 0.5rem\">ORG</span>\n",
       "</mark>\n",
       " in focus on \n",
       "<mark class=\"entity\" style=\"background: #bfe1d9; padding: 0.45em 0.6em; margin: 0 0.25em; line-height: 1; border-radius: 0.35em;\">\n",
       "    Tuesday\n",
       "    <span style=\"font-size: 0.8em; font-weight: bold; line-height: 1; border-radius: 0.35em; vertical-align: middle; margin-left: 0.5rem\">DATE</span>\n",
       "</mark>\n",
       " , Moneycontrol</div></span>"
      ],
      "text/plain": [
       "<IPython.core.display.HTML object>"
      ]
     },
     "metadata": {},
     "output_type": "display_data"
    }
   ],
   "source": [
    "for text in df.headline[1070:]:\n",
    "    text = text.replace('-',',')\n",
    "    pattern = r\"[:]\"\n",
    "    cs = re.sub(pattern, '', text)\n",
    "    doc = nlp(cs)\n",
    "    spacy.displacy.render(doc, style = 'ent')"
   ]
  },
  {
   "cell_type": "code",
   "execution_count": 169,
   "id": "af50e5ce-99c3-4bf3-a023-257b1f32f59a",
   "metadata": {},
   "outputs": [
    {
     "data": {
      "text/html": [
       "<span class=\"tex2jax_ignore\"><div class=\"entities\" style=\"line-height: 2.5; direction: ltr\">\n",
       "<mark class=\"entity\" style=\"background: #7aecec; padding: 0.45em 0.6em; margin: 0 0.25em; line-height: 1; border-radius: 0.35em;\">\n",
       "    multibagger stock rs rs lakh\n",
       "    <span style=\"font-size: 0.8em; font-weight: bold; line-height: 1; border-radius: 0.35em; vertical-align: middle; margin-left: 0.5rem\">ORG</span>\n",
       "</mark>\n",
       " investment grow rs lakh yr q fy \n",
       "<mark class=\"entity\" style=\"background: #aa9cfc; padding: 0.45em 0.6em; margin: 0 0.25em; line-height: 1; border-radius: 0.35em;\">\n",
       "    pat zoom et\n",
       "    <span style=\"font-size: 0.8em; font-weight: bold; line-height: 1; border-radius: 0.35em; vertical-align: middle; margin-left: 0.5rem\">PERSON</span>\n",
       "</mark>\n",
       "</div></span>"
      ],
      "text/plain": [
       "<IPython.core.display.HTML object>"
      ]
     },
     "metadata": {},
     "output_type": "display_data"
    },
    {
     "data": {
      "text/html": [
       "<span class=\"tex2jax_ignore\"><div class=\"entities\" style=\"line-height: 2.5; direction: ltr\">watch \n",
       "<mark class=\"entity\" style=\"background: #aa9cfc; padding: 0.45em 0.6em; margin: 0 0.25em; line-height: 1; border-radius: 0.35em;\">\n",
       "    deepinder goyal\n",
       "    <span style=\"font-size: 0.8em; font-weight: bold; line-height: 1; border-radius: 0.35em; vertical-align: middle; margin-left: 0.5rem\">PERSON</span>\n",
       "</mark>\n",
       " split comedian roast \n",
       "<mark class=\"entity\" style=\"background: #aa9cfc; padding: 0.45em 0.6em; margin: 0 0.25em; line-height: 1; border-radius: 0.35em;\">\n",
       "    zomatos platform fee\n",
       "    <span style=\"font-size: 0.8em; font-weight: bold; line-height: 1; border-radius: 0.35em; vertical-align: middle; margin-left: 0.5rem\">PERSON</span>\n",
       "</mark>\n",
       " rain surge hindustan time</div></span>"
      ],
      "text/plain": [
       "<IPython.core.display.HTML object>"
      ]
     },
     "metadata": {},
     "output_type": "display_data"
    },
    {
     "data": {
      "text/html": [
       "<span class=\"tex2jax_ignore\"><div class=\"entities\" style=\"line-height: 2.5; direction: ltr\">\n",
       "<mark class=\"entity\" style=\"background: #7aecec; padding: 0.45em 0.6em; margin: 0 0.25em; line-height: 1; border-radius: 0.35em;\">\n",
       "    nclt\n",
       "    <span style=\"font-size: 0.8em; font-weight: bold; line-height: 1; border-radius: 0.35em; vertical-align: middle; margin-left: 0.5rem\">ORG</span>\n",
       "</mark>\n",
       " hold \n",
       "<mark class=\"entity\" style=\"background: #7aecec; padding: 0.45em 0.6em; margin: 0 0.25em; line-height: 1; border-radius: 0.35em;\">\n",
       "    gvk power infra bankrupt\n",
       "    <span style=\"font-size: 0.8em; font-weight: bold; line-height: 1; border-radius: 0.35em; vertical-align: middle; margin-left: 0.5rem\">ORG</span>\n",
       "</mark>\n",
       " admit insolvency petition \n",
       "<mark class=\"entity\" style=\"background: #aa9cfc; padding: 0.45em 0.6em; margin: 0 0.25em; line-height: 1; border-radius: 0.35em;\">\n",
       "    icici\n",
       "    <span style=\"font-size: 0.8em; font-weight: bold; line-height: 1; border-radius: 0.35em; vertical-align: middle; margin-left: 0.5rem\">PERSON</span>\n",
       "</mark>\n",
       " bank bar bench \n",
       "<mark class=\"entity\" style=\"background: #c887fb; padding: 0.45em 0.6em; margin: 0 0.25em; line-height: 1; border-radius: 0.35em;\">\n",
       "    indian\n",
       "    <span style=\"font-size: 0.8em; font-weight: bold; line-height: 1; border-radius: 0.35em; vertical-align: middle; margin-left: 0.5rem\">NORP</span>\n",
       "</mark>\n",
       " legal news</div></span>"
      ],
      "text/plain": [
       "<IPython.core.display.HTML object>"
      ]
     },
     "metadata": {},
     "output_type": "display_data"
    },
    {
     "data": {
      "text/html": [
       "<span class=\"tex2jax_ignore\"><div class=\"entities\" style=\"line-height: 2.5; direction: ltr\">pace hero \n",
       "<mark class=\"entity\" style=\"background: #aa9cfc; padding: 0.45em 0.6em; margin: 0 0.25em; line-height: 1; border-radius: 0.35em;\">\n",
       "    acme jsw\n",
       "    <span style=\"font-size: 0.8em; font-weight: bold; line-height: 1; border-radius: 0.35em; vertical-align: middle; margin-left: 0.5rem\">PERSON</span>\n",
       "</mark>\n",
       " win secis gw solar plus storage auction \n",
       "<mark class=\"entity\" style=\"background: #7aecec; padding: 0.45em 0.6em; margin: 0 0.25em; line-height: 1; border-radius: 0.35em;\">\n",
       "    mercom india\n",
       "    <span style=\"font-size: 0.8em; font-weight: bold; line-height: 1; border-radius: 0.35em; vertical-align: middle; margin-left: 0.5rem\">ORG</span>\n",
       "</mark>\n",
       "</div></span>"
      ],
      "text/plain": [
       "<IPython.core.display.HTML object>"
      ]
     },
     "metadata": {},
     "output_type": "display_data"
    },
    {
     "data": {
      "text/html": [
       "<span class=\"tex2jax_ignore\"><div class=\"entities\" style=\"line-height: 2.5; direction: ltr\">\n",
       "<mark class=\"entity\" style=\"background: #e4e7d2; padding: 0.45em 0.6em; margin: 0 0.25em; line-height: 1; border-radius: 0.35em;\">\n",
       "    four\n",
       "    <span style=\"font-size: 0.8em; font-weight: bold; line-height: 1; border-radius: 0.35em; vertical-align: middle; margin-left: 0.5rem\">CARDINAL</span>\n",
       "</mark>\n",
       " unexplored \n",
       "<mark class=\"entity\" style=\"background: #c887fb; padding: 0.45em 0.6em; margin: 0 0.25em; line-height: 1; border-radius: 0.35em;\">\n",
       "    indian\n",
       "    <span style=\"font-size: 0.8em; font-weight: bold; line-height: 1; border-radius: 0.35em; vertical-align: middle; margin-left: 0.5rem\">NORP</span>\n",
       "</mark>\n",
       " basin may hold oil permian oilprice com</div></span>"
      ],
      "text/plain": [
       "<IPython.core.display.HTML object>"
      ]
     },
     "metadata": {},
     "output_type": "display_data"
    },
    {
     "data": {
      "text/html": [
       "<span class=\"tex2jax_ignore\"><div class=\"entities\" style=\"line-height: 2.5; direction: ltr\">\n",
       "<mark class=\"entity\" style=\"background: #7aecec; padding: 0.45em 0.6em; margin: 0 0.25em; line-height: 1; border-radius: 0.35em;\">\n",
       "    irdai\n",
       "    <span style=\"font-size: 0.8em; font-weight: bold; line-height: 1; border-radius: 0.35em; vertical-align: middle; margin-left: 0.5rem\">ORG</span>\n",
       "</mark>\n",
       " impose rs crore penalty bajaj finance violate regulation \n",
       "<mark class=\"entity\" style=\"background: #7aecec; padding: 0.45em 0.6em; margin: 0 0.25em; line-height: 1; border-radius: 0.35em;\">\n",
       "    moneycontrol\n",
       "    <span style=\"font-size: 0.8em; font-weight: bold; line-height: 1; border-radius: 0.35em; vertical-align: middle; margin-left: 0.5rem\">ORG</span>\n",
       "</mark>\n",
       "</div></span>"
      ],
      "text/plain": [
       "<IPython.core.display.HTML object>"
      ]
     },
     "metadata": {},
     "output_type": "display_data"
    },
    {
     "data": {
      "text/html": [
       "<span class=\"tex2jax_ignore\"><div class=\"entities\" style=\"line-height: 2.5; direction: ltr\">\n",
       "<mark class=\"entity\" style=\"background: #7aecec; padding: 0.45em 0.6em; margin: 0 0.25em; line-height: 1; border-radius: 0.35em;\">\n",
       "    camlin\n",
       "    <span style=\"font-size: 0.8em; font-weight: bold; line-height: 1; border-radius: 0.35em; vertical-align: middle; margin-left: 0.5rem\">ORG</span>\n",
       "</mark>\n",
       " founder \n",
       "<mark class=\"entity\" style=\"background: #aa9cfc; padding: 0.45em 0.6em; margin: 0 0.25em; line-height: 1; border-radius: 0.35em;\">\n",
       "    subhash dandekar\n",
       "    <span style=\"font-size: 0.8em; font-weight: bold; line-height: 1; border-radius: 0.35em; vertical-align: middle; margin-left: 0.5rem\">PERSON</span>\n",
       "</mark>\n",
       " pass away news</div></span>"
      ],
      "text/plain": [
       "<IPython.core.display.HTML object>"
      ]
     },
     "metadata": {},
     "output_type": "display_data"
    },
    {
     "data": {
      "text/html": [
       "<span class=\"tex2jax_ignore\"><div class=\"entities\" style=\"line-height: 2.5; direction: ltr\">exclusive crisis hit \n",
       "<mark class=\"entity\" style=\"background: #feca74; padding: 0.45em 0.6em; margin: 0 0.25em; line-height: 1; border-radius: 0.35em;\">\n",
       "    byju\n",
       "    <span style=\"font-size: 0.8em; font-weight: bold; line-height: 1; border-radius: 0.35em; vertical-align: middle; margin-left: 0.5rem\">GPE</span>\n",
       "</mark>\n",
       " lock tuition centre unpaid rent inc medium</div></span>"
      ],
      "text/plain": [
       "<IPython.core.display.HTML object>"
      ]
     },
     "metadata": {},
     "output_type": "display_data"
    },
    {
     "data": {
      "text/html": [
       "<span class=\"tex2jax_ignore\"><div class=\"entities\" style=\"line-height: 2.5; direction: ltr\">stock radar \n",
       "<mark class=\"entity\" style=\"background: #feca74; padding: 0.45em 0.6em; margin: 0 0.25em; line-height: 1; border-radius: 0.35em;\">\n",
       "    jio\n",
       "    <span style=\"font-size: 0.8em; font-weight: bold; line-height: 1; border-radius: 0.35em; vertical-align: middle; margin-left: 0.5rem\">GPE</span>\n",
       "</mark>\n",
       " financial angel \n",
       "<mark class=\"entity\" style=\"background: #e4e7d2; padding: 0.45em 0.6em; margin: 0 0.25em; line-height: 1; border-radius: 0.35em;\">\n",
       "    one\n",
       "    <span style=\"font-size: 0.8em; font-weight: bold; line-height: 1; border-radius: 0.35em; vertical-align: middle; margin-left: 0.5rem\">CARDINAL</span>\n",
       "</mark>\n",
       " unichem labs \n",
       "<mark class=\"entity\" style=\"background: #7aecec; padding: 0.45em 0.6em; margin: 0 0.25em; line-height: 1; border-radius: 0.35em;\">\n",
       "    hul vedanta\n",
       "    <span style=\"font-size: 0.8em; font-weight: bold; line-height: 1; border-radius: 0.35em; vertical-align: middle; margin-left: 0.5rem\">ORG</span>\n",
       "</mark>\n",
       " focus \n",
       "<mark class=\"entity\" style=\"background: #bfe1d9; padding: 0.45em 0.6em; margin: 0 0.25em; line-height: 1; border-radius: 0.35em;\">\n",
       "    tuesday\n",
       "    <span style=\"font-size: 0.8em; font-weight: bold; line-height: 1; border-radius: 0.35em; vertical-align: middle; margin-left: 0.5rem\">DATE</span>\n",
       "</mark>\n",
       " \n",
       "<mark class=\"entity\" style=\"background: #7aecec; padding: 0.45em 0.6em; margin: 0 0.25em; line-height: 1; border-radius: 0.35em;\">\n",
       "    moneycontrol\n",
       "    <span style=\"font-size: 0.8em; font-weight: bold; line-height: 1; border-radius: 0.35em; vertical-align: middle; margin-left: 0.5rem\">ORG</span>\n",
       "</mark>\n",
       "</div></span>"
      ],
      "text/plain": [
       "<IPython.core.display.HTML object>"
      ]
     },
     "metadata": {},
     "output_type": "display_data"
    }
   ],
   "source": [
    "for text in normalize_corpus(df.headline[1070:]):\n",
    "    pattern = r\"[:,!,-]\"\n",
    "    cs = re.sub(pattern, '', text)\n",
    "    doc = nlp(cs)\n",
    "    spacy.displacy.render(doc, style = 'ent')"
   ]
  },
  {
   "cell_type": "code",
   "execution_count": 156,
   "id": "afb6d937-dd4f-45f9-adb5-c9d2c79fb414",
   "metadata": {},
   "outputs": [],
   "source": [
    "import spacy\n",
    "import nltk\n",
    "from nltk.tokenize.toktok import ToktokTokenizer\n",
    "import re\n",
    "import unicodedata"
   ]
  },
  {
   "cell_type": "code",
   "execution_count": 157,
   "id": "884379de-b13f-4c33-ae42-1d856c2e115f",
   "metadata": {},
   "outputs": [
    {
     "data": {
      "text/plain": [
       "'Some Accented text'"
      ]
     },
     "execution_count": 157,
     "metadata": {},
     "output_type": "execute_result"
    }
   ],
   "source": [
    "def remove_accented_chars(text):\n",
    "    text = unicodedata.normalize('NFKD', text).encode('ascii', 'ignore').decode('utf-8', 'ignore')\n",
    "    return text\n",
    "\n",
    "remove_accented_chars('Sómě Áccěntěd těxt')"
   ]
  },
  {
   "cell_type": "code",
   "execution_count": 158,
   "id": "e2a7ccdd-6dd9-4d56-b661-ea1a60b60b0e",
   "metadata": {},
   "outputs": [],
   "source": [
    "def remove_special_characters(text, remove_digits=False):\n",
    "    pattern = r'[^a-zA-z0-9\\s]' if not remove_digits else r'[^a-zA-z\\s]'\n",
    "    text = re.sub(pattern, '', text)\n",
    "    return text"
   ]
  },
  {
   "cell_type": "code",
   "execution_count": 182,
   "id": "e65e7557-9b3e-497e-acde-fa54d010bb42",
   "metadata": {},
   "outputs": [],
   "source": [
    "tokenizer = ToktokTokenizer()\n",
    "stopword_list = nltk.corpus.stopwords.words('english')\n",
    "stopword_list.remove('no')\n",
    "stopword_list.remove('not')"
   ]
  },
  {
   "cell_type": "code",
   "execution_count": 183,
   "id": "9a4bea7f-b929-4093-8b22-dd18161de8d4",
   "metadata": {},
   "outputs": [
    {
     "data": {
      "text/plain": [
       "', , stopwords , computer not'"
      ]
     },
     "execution_count": 183,
     "metadata": {},
     "output_type": "execute_result"
    }
   ],
   "source": [
    "def remove_stopwords(text, is_lower_case=False):\n",
    "    tokens = tokenizer.tokenize(text)\n",
    "    tokens = [token.strip() for token in tokens]\n",
    "    if is_lower_case:\n",
    "        filtered_tokens = [token for token in tokens if token not in stopword_list]\n",
    "    else:\n",
    "        filtered_tokens = [token for token in tokens if token.lower() not in stopword_list]\n",
    "    filtered_text = ' '.join(filtered_tokens)    \n",
    "    return filtered_text\n",
    "\n",
    "remove_stopwords(\"The, and, if are stopwords, computer is not\")"
   ]
  },
  {
   "cell_type": "code",
   "execution_count": 163,
   "id": "2437c196-be99-47fc-a1de-a27c4a790e59",
   "metadata": {},
   "outputs": [
    {
     "data": {
      "text/plain": [
       "'my system keep crash hi crash yesterday, our crash daili'"
      ]
     },
     "execution_count": 163,
     "metadata": {},
     "output_type": "execute_result"
    }
   ],
   "source": [
    "def simple_stemmer(text):\n",
    "    ps = nltk.porter.PorterStemmer()\n",
    "    text = ' '.join([ps.stem(word) for word in text.split()])\n",
    "    return text\n",
    "\n",
    "simple_stemmer(\"My system keeps crashing his crashed yesterday, ours crashes daily\")"
   ]
  },
  {
   "cell_type": "code",
   "execution_count": 166,
   "id": "4a20aef9-b137-4722-8a55-3cab9f703600",
   "metadata": {},
   "outputs": [],
   "source": [
    "def lemmatize_text(text):\n",
    "    text = nlp(text)\n",
    "    text = ' '.join([word.lemma_ if word.lemma_ != '-PRON-' else word.text for word in text])\n",
    "    return text"
   ]
  },
  {
   "cell_type": "code",
   "execution_count": 167,
   "id": "f4786378-e671-4b4b-9b62-f19250377955",
   "metadata": {},
   "outputs": [],
   "source": [
    "def normalize_corpus(corpus, html_stripping=False, contraction_expansion=True,\n",
    "                     accented_char_removal=True, text_lower_case=True, \n",
    "                     text_lemmatization=True, special_char_removal=True, \n",
    "                     stopword_removal=True, remove_digits=True):\n",
    "    \n",
    "    normalized_corpus = []\n",
    "    # normalize each document in the corpus\n",
    "    for doc in corpus:\n",
    "        # strip HTML\n",
    "        if html_stripping:\n",
    "            doc = strip_html_tags(doc)\n",
    "        # remove accented characters\n",
    "        if accented_char_removal:\n",
    "            doc = remove_accented_chars(doc)\n",
    "        # lowercase the text    \n",
    "        if text_lower_case:\n",
    "            doc = doc.lower()\n",
    "        # remove extra newlines\n",
    "        doc = re.sub(r'[\\r|\\n|\\r\\n]+', ' ',doc)\n",
    "        # lemmatize text\n",
    "        if text_lemmatization:\n",
    "            doc = lemmatize_text(doc)\n",
    "        # remove special characters and\\or digits    \n",
    "        if special_char_removal:\n",
    "            # insert spaces between special characters to isolate them    \n",
    "            special_char_pattern = re.compile(r'([{.(-)!}])')\n",
    "            doc = special_char_pattern.sub(\" \\\\1 \", doc)\n",
    "            doc = remove_special_characters(doc, remove_digits=remove_digits)  \n",
    "        # remove extra whitespace\n",
    "        doc = re.sub(' +', ' ', doc)\n",
    "        # remove stopwords\n",
    "        if stopword_removal:\n",
    "            doc = remove_stopwords(doc, is_lower_case=text_lower_case)\n",
    "            \n",
    "        normalized_corpus.append(doc)\n",
    "        \n",
    "    return normalized_corpus"
   ]
  },
  {
   "cell_type": "code",
   "execution_count": 168,
   "id": "d22eeab7-153a-4013-a35a-a94fde594e61",
   "metadata": {},
   "outputs": [
    {
     "data": {
      "text/plain": [
       "['multibagger stock rs rs lakh investment grow rs lakh yr q fy pat zoom et',\n",
       " 'watch deepinder goyal split comedian roast zomatos platform fee rain surge hindustan time',\n",
       " 'nclt hold gvk power infra bankrupt admit insolvency petition icici bank bar bench indian legal news',\n",
       " 'pace hero acme jsw win secis gw solar plus storage auction mercom india',\n",
       " 'four unexplored indian basin may hold oil permian oilprice com',\n",
       " 'irdai impose rs crore penalty bajaj finance violate regulation moneycontrol',\n",
       " 'camlin founder subhash dandekar pass away news',\n",
       " 'exclusive crisis hit byju lock tuition centre unpaid rent inc medium',\n",
       " 'stock radar jio financial angel one unichem labs hul vedanta focus tuesday moneycontrol']"
      ]
     },
     "execution_count": 168,
     "metadata": {},
     "output_type": "execute_result"
    }
   ],
   "source": [
    "normalize_corpus(df.headline[1070:])"
   ]
  },
  {
   "cell_type": "code",
   "execution_count": 99,
   "id": "3890cbd4-6b6a-4091-9b1e-bb2a6355a01e",
   "metadata": {},
   "outputs": [
    {
     "name": "stdout",
     "output_type": "stream",
     "text": [
      "Sentence: Multibagger stock under Rs 500: Rs 1 lakh investment grows to Rs 3 lakh in 1 yr! Q1 FY25 PAT zooms 42% - ET Now\n",
      "Named Entities: [('Multibagger', 'PERSON'), ('500', 'MONEY'), ('Rs 1 lakh', 'MONEY'), ('Rs 3 lakh', 'MONEY'), ('1 yr', 'DATE'), ('Q1 FY25', 'PERCENT'), ('42% - ET', 'PERCENT')]\n",
      "Custom Patterns: [('Rs 500', 'FINANCIAL_TERM'), ('under Rs 500', 'FINANCIAL_TERM'), ('stock under Rs 500', 'FINANCIAL_TERM'), ('Multibagger stock under Rs 500', 'FINANCIAL_TERM'), ('Rs 1', 'FINANCIAL_TERM'), ('Rs 3', 'FINANCIAL_TERM'), ('to Rs 3', 'FINANCIAL_TERM'), ('grows to Rs 3', 'FINANCIAL_TERM'), ('investment grows to Rs 3', 'FINANCIAL_TERM'), ('lakh investment grows to Rs 3', 'FINANCIAL_TERM'), ('in 1', 'FINANCIAL_TERM'), ('lakh in 1', 'FINANCIAL_TERM'), ('zooms 42', 'FINANCIAL_TERM'), ('PAT zooms 42', 'FINANCIAL_TERM')]\n",
      "Clauses: ['<SVA, Rs 1 lakh investment, grows, None, None, None, [to Rs 3 lakh, in 1 yr]>', '<SVO, PAT, zooms, None, 42%, None, [Now]>']\n",
      "\n",
      "\n",
      "Sentence: Watch: Deepinder Goyal in splits as comedian roasts Zomato’s platform fee, rain surge - Hindustan Times\n",
      "Named Entities: [('Deepinder Goyal', 'PERSON'), ('Zomato', 'ORG'), ('Hindustan Times', 'ORG')]\n",
      "Custom Patterns: []\n",
      "Clauses: ['<SVO, comedian, roasts, None, Zomato’s platform fee,, None, []>']\n",
      "\n",
      "\n",
      "Sentence: NCLT holds GVK Power and Infra bankrupt, admits insolvency petition by ICICI Bank - Bar & Bench - Indian Legal News\n",
      "Named Entities: [('NCLT', 'ORG'), ('GVK Power', 'ORG'), ('ICICI Bank - Bar & Bench - Indian Legal News', 'ORG')]\n",
      "Custom Patterns: []\n",
      "Clauses: ['<SVO, NCLT, holds, None, GVK Power and Infra bankrupt, None, []>', '<SV, insolvency petition by ICICI Bank - Bar & Bench - Indian Legal News, admits, None, None, None, []>']\n",
      "\n",
      "\n",
      "Sentence: Pace, Hero, ACME, JSW Win SECI’s 1.2 GW Solar Plus Storage Auction - Mercom India\n",
      "Named Entities: [('Pace', 'ORG'), ('ACME', 'FAC'), ('JSW Win SECI', 'ORG'), ('1.2', 'CARDINAL'), ('GW Solar Plus Storage Auction - Mercom India', 'ORG')]\n",
      "Custom Patterns: []\n",
      "Clauses: []\n",
      "\n",
      "\n",
      "Sentence: Four Unexplored Indian Basins May Hold More Oil Than The Permian - OilPrice.com\n",
      "Named Entities: [('Four', 'CARDINAL'), ('Indian', 'NORP')]\n",
      "Custom Patterns: []\n",
      "Clauses: ['<SVO, Four Unexplored Indian Basins, May Hold, None, More Oil Than The Permian - OilPrice.com, None, []>']\n",
      "\n",
      "\n",
      "Sentence: IRDAI imposes Rs 2 crore penalty on Bajaj Finance for violating regulations - Moneycontrol\n",
      "Named Entities: [('Rs 2 crore', 'MONEY'), ('Bajaj Finance', 'ORG')]\n",
      "Custom Patterns: [('Rs 2', 'FINANCIAL_TERM'), ('imposes Rs 2', 'FINANCIAL_TERM'), ('IRDAI imposes Rs 2', 'FINANCIAL_TERM')]\n",
      "Clauses: ['<SVO, IRDAI, imposes, None, Rs 2 crore penalty, None, [on Bajaj Finance, for violating regulations]>']\n",
      "\n",
      "\n",
      "Sentence: Camlin Founder Subhash Dandekar Passes Away At 86 - News18\n",
      "Named Entities: [('Camlin', 'ORG'), ('Subhash Dandekar', 'PERSON'), ('86', 'CARDINAL')]\n",
      "Custom Patterns: [('At 86', 'FINANCIAL_TERM'), ('Away At 86', 'FINANCIAL_TERM'), ('Passes Away At 86', 'FINANCIAL_TERM'), ('Dandekar Passes Away At 86', 'FINANCIAL_TERM'), ('Subhash Dandekar Passes Away At 86', 'FINANCIAL_TERM'), ('Founder Subhash Dandekar Passes Away At 86', 'FINANCIAL_TERM'), ('Camlin Founder Subhash Dandekar Passes Away At 86', 'FINANCIAL_TERM')]\n",
      "Clauses: []\n",
      "\n",
      "\n",
      "Sentence: Exclusive: Crisis-Hit BYJU’S Locked Out Of Over 100 Tuition Centres Over Unpaid Rent - Inc42 Media\n",
      "Named Entities: [('Tuition Centres Over Unpaid Rent - Inc42 Media', 'ORG')]\n",
      "Custom Patterns: [('Over 100', 'FINANCIAL_TERM'), ('Of Over 100', 'FINANCIAL_TERM'), ('Out Of Over 100', 'FINANCIAL_TERM'), ('Locked Out Of Over 100', 'FINANCIAL_TERM')]\n",
      "Clauses: ['<SVC, Exclusive: Crisis-Hit BYJU’S, None, None, None, Crisis-Hit BYJU, []>', '<SV, Exclusive: Crisis-Hit BYJU’S, Locked, None, None, None, [Of Over 100 Tuition Centres Over Unpaid Rent - Inc42 Media]>']\n",
      "\n",
      "\n",
      "Sentence: Stock Radar: Jio Financial, Angel One, Unichem Labs, HUL, Vedanta in focus on Tuesday - Moneycontrol\n",
      "Named Entities: [('Jio Financial', 'ORG'), ('Angel One', 'ORG'), ('Unichem Labs', 'ORG'), ('HUL', 'ORG'), ('Vedanta', 'ORG'), ('Tuesday', 'DATE')]\n",
      "Custom Patterns: [('Angel One', 'FINANCIAL_TERM')]\n",
      "Clauses: []\n",
      "\n",
      "\n"
     ]
    }
   ],
   "source": [
    "import spacy\n",
    "import claucy\n",
    "from spacy.matcher import Matcher\n",
    "\n",
    "# Load SpaCy model\n",
    "nlp = spacy.load('en_core_web_lg')\n",
    "\n",
    "# Add claucy to the pipeline\n",
    "claucy.add_to_pipe(nlp)\n",
    "\n",
    "# Define sentences\n",
    "#sentences = [\n",
    "#    \"Garden Reach Shipbuilders Shares Jump 3% After Bagging ₹840 Cr Order - Benzinga India\",\n",
    "#    \"Buy Varun Beverages; target of Rs 1900: Motilal Oswal - Moneycontrol\"\n",
    "#]\n",
    "\n",
    "sentences = df.headline[1070:]\n",
    "\n",
    "# Function to extract named entities, custom patterns, and clauses\n",
    "def extract_concepts_and_clauses(sentence):\n",
    "    doc = nlp(sentence)\n",
    "    \n",
    "    # Extract named entities\n",
    "    entities = [(ent.text, ent.label_) for ent in doc.ents]\n",
    "    \n",
    "    # Define custom patterns for financial terms\n",
    "    matcher = Matcher(nlp.vocab)\n",
    "    financial_patterns = [\n",
    "        [{\"IS_ALPHA\": True, \"OP\": \"+\"}, {\"IS_CURRENCY\": True, \"OP\": \"?\"}, {\"LIKE_NUM\": True}],\n",
    "        [{\"LOWER\": \"target\"}, {\"LOWER\": \"of\"}, {\"IS_CURRENCY\": True, \"OP\": \"?\"}, {\"LIKE_NUM\": True}],\n",
    "    ]\n",
    "    matcher.add(\"FINANCIAL_TERM\", financial_patterns)\n",
    "    \n",
    "    # Apply matcher to the doc\n",
    "    matches = matcher(doc)\n",
    "    custom_patterns = [(doc[start:end].text, nlp.vocab.strings[match_id]) for match_id, start, end in matches]\n",
    "    \n",
    "    # Extract clauses\n",
    "    clauses = doc._.clauses\n",
    "    \n",
    "    return entities, custom_patterns, clauses\n",
    "\n",
    "# Extract and print concepts and clauses for each sentence\n",
    "for sentence in sentences:\n",
    "    entities, custom_patterns, clauses = extract_concepts_and_clauses(sentence)\n",
    "    print(f\"Sentence: {sentence}\")\n",
    "    print(f\"Named Entities: {entities}\")\n",
    "    print(f\"Custom Patterns: {custom_patterns}\")\n",
    "    print(f\"Clauses: {[str(clause) for clause in clauses]}\")\n",
    "    print(\"\\n\")\n"
   ]
  },
  {
   "cell_type": "code",
   "execution_count": 104,
   "id": "224bc36d-b041-4046-b22f-d51be13459d3",
   "metadata": {},
   "outputs": [],
   "source": [
    "df.to_csv('google_news.csv')"
   ]
  },
  {
   "cell_type": "code",
   "execution_count": null,
   "id": "59bf988a-631d-41c5-ac1e-9d43ce9b2dcd",
   "metadata": {},
   "outputs": [],
   "source": []
  }
 ],
 "metadata": {
  "kernelspec": {
   "display_name": "Python 3 (ipykernel)",
   "language": "python",
   "name": "python3"
  },
  "language_info": {
   "codemirror_mode": {
    "name": "ipython",
    "version": 3
   },
   "file_extension": ".py",
   "mimetype": "text/x-python",
   "name": "python",
   "nbconvert_exporter": "python",
   "pygments_lexer": "ipython3",
   "version": "3.11.7"
  }
 },
 "nbformat": 4,
 "nbformat_minor": 5
}
