{
 "cells": [
  {
   "cell_type": "markdown",
   "metadata": {},
   "source": [
    "# Data retrieval"
   ]
  },
  {
   "cell_type": "code",
   "execution_count": 1,
   "metadata": {},
   "outputs": [],
   "source": [
    "import requests\n",
    "from bs4 import BeautifulSoup\n",
    "import pandas as pd\n",
    "import numpy as np\n",
    "import matplotlib.pyplot as plt\n",
    "import seaborn as sns\n",
    "import os\n",
    "\n",
    "%matplotlib inline"
   ]
  },
  {
   "cell_type": "code",
   "execution_count": 2,
   "metadata": {},
   "outputs": [],
   "source": [
    "url = 'https://inshorts.com/en/read/world'"
   ]
  },
  {
   "cell_type": "code",
   "execution_count": 3,
   "metadata": {},
   "outputs": [],
   "source": [
    "news_data = []"
   ]
  },
  {
   "cell_type": "code",
   "execution_count": 4,
   "metadata": {},
   "outputs": [
    {
     "data": {
      "text/plain": [
       "['https:', '', 'inshorts.com', 'en', 'read', 'world']"
      ]
     },
     "execution_count": 4,
     "metadata": {},
     "output_type": "execute_result"
    }
   ],
   "source": [
    "news_category = url.split('/')\n",
    "news_category"
   ]
  },
  {
   "cell_type": "code",
   "execution_count": 5,
   "metadata": {},
   "outputs": [],
   "source": [
    "news_category = news_category[-1]"
   ]
  },
  {
   "cell_type": "code",
   "execution_count": 6,
   "metadata": {},
   "outputs": [
    {
     "data": {
      "text/plain": [
       "'world'"
      ]
     },
     "execution_count": 6,
     "metadata": {},
     "output_type": "execute_result"
    }
   ],
   "source": [
    "news_category"
   ]
  },
  {
   "cell_type": "markdown",
   "metadata": {},
   "source": [
    "# * Extracting data from the website"
   ]
  },
  {
   "cell_type": "code",
   "execution_count": 7,
   "metadata": {},
   "outputs": [
    {
     "data": {
      "text/plain": [
       "b'<!doctype html><html lang=\"en\"><head><meta charset=\"utf-8\"/><link rel=\"dns-prefetch\" href=\"https://ajax.googleapis.com\"><link rel=\"dns-prefetch\" href=\"https://assets.inshorts.com\"><link rel=\"dns-prefetch\" href=\"https://static.inshorts.com\"><link rel=\"dns-prefetch\" href=\"https://cdn.ampproject.org\"><meta name=\"theme-color\" content=\"#ffffff\"><link rel=\"shortcut icon\" href=\"/assets/images/favicon.png\" type=\"image/x-icon\"/><meta http-equiv=\"Content-Type\" content=\"text/html; charset=UTF-8\"/><meta name=\"viewport\" content=\"width=device-width,initial-scale=1\"/><meta http-equiv=\"X-UA-Compatible\" content=\"IE=edge\"/><link rel=\"icon\" sizes=\"192x192\" href=\"/assets/images/logo_192.png\"/><link href=\"https://inshorts.com\" rel=\"canonical\" />\\n  <link href=\"https://inshorts.com\" rel=\"alternate\"/>\\n  <meta name=\"description\" content=\"read latest news with inshorts in less than 60 words related to business sports bollywood and technology in india and around the world in both english  hindi\"/>\\n\\n  <meta name=\"twitter:card\" content=\"summary_large_image\"/>\\n  <meta name=\"twitter:site\" content=\"@inshorts\"/>\\n  <meta name=\"twitter:creator\" content=\"@inshorts\"/>\\n  <meta name=\"twitter:title\" content=\"Short English & Hindi News|Latest News, India News, Current Affairs|Inshorts\"/>\\n  <meta name=\"twitter:description\" content=\"read latest news with inshorts in less than 60 words related to business sports bollywood and technology in india and around the world in both english  hindi\"/>\\n  <meta name=\"twitter:image\" content=\"https://inshorts.com/assets/images/favicon.png\"/>\\n\\n  <meta property=\"og:type\" content=\"news-in-shorts:short\">\\n  <meta property=\"fb:app_id\" content=\"168662373317120\" /> \\n  <meta property=\"og:site_name\" content=\"Inshorts - Stay Informed\"/>\\n  <meta property=\"og:url\" content=\"https://inshorts.com\" /> \\n  <meta property=\"og:title\" content=\"Short English & Hindi News|Latest News, India News, Current Affairs|Inshorts\"/>\\n  <meta property=\"og:image\" content=\"https://inshorts.com/assets/images/favicon.png\" /> \\n  <meta property=\"og:description\" content=\"read latest news with inshorts in less than 60 words related to business sports bollywood and technology in india and around the world in both english  hindi\" />\\n  <meta property=\"og:updated_time\" content=\"1706589895614\" />\\n  <meta property=\"og:rich_attachment\" content=\"true\" />\\n  <meta property=\"al:web:should_fallback\" content=\"true\" />\\n\\n  <meta property=\"al:ios:url\" content=\"nis://\" />\\n  <meta property=\"al:ios:app_store_id\" content=\"892146527\" />\\n  <meta property=\"al:ios:app_name\" content=\"Inshorts - Stay Informed\" />\\n\\n  <meta property=\"al:iphone:url\" content=\"nis://\" />\\n  <meta property=\"al:iphone:app_store_id\" content=\"892146527\" />\\n  <meta property=\"al:iphone:app_name\" content=\"Inshorts - Stay Informed\" />\\n\\n  <meta property=\"al:ipad:url\" content=\"nis://\" />\\n  <meta property=\"al:ipad:app_store_id\" content=\"892146527\" />\\n  <meta property=\"al:ipad:app_name\" content=\"Inshorts - Stay Informed\" />\\n\\n  <meta property=\"al:android:url\" content=\"nis://\" />\\n  <meta property=\"al:android:package\" content=\"com.nis.app\" />\\n  <meta property=\"al:android:app_name\" content=\"Inshorts - Stay Informed\" /><meta name=\"apple-itunes-app\" content=\"app-id=892146527\"><meta name=\"google-play-app\" content=\"app-id=com.nis.app\"><meta name=\"mobile-web-app-capable\" content=\"yes\"><meta name=\"application-name\" content=\"inshorts\"><meta name=\"apple-mobile-web-app-capable\" content=\"yes\"><meta name=\"apple-mobile-web-app-status-bar-style\" content=\"#424242\"><meta name=\"apple-mobile-web-app-title\" content=\"inshorts\"><link rel=\"apple-touch-icon\" href=\"https://assets.inshorts.com/website_assets/images/favicon.png\"><meta name=\"msapplication-TileImage\" content=\"fav/favicon.png\"><meta name=\"msapplication-TileColor\" content=\"#424242\"><meta name=\"theme-color\" content=\"#424242\"><meta http-equiv=\"content-type\" content=\"text/html; charset=UTF-8\"/><meta name=\"msapplication-navbutton-color\" content=\"#424242\"><meta name=\"apple-mobile-web-app-status-bar-style\" content=\"#424242\"><link rel=\"apple-touch-startup-image\" href=\"https://assets.inshorts.com/website_assets/images/favicon.png\"><meta name=\"apple-mobile-web-app-status-bar-style\" content=\"black-translucent\"><script>if (window.addEventListener) {\\n        window.addEventListener(\\'load\\', loadThirdPartyScript, false);\\n    } else if (window.attachEvent) {\\n        window.attachEvent(\\'onload\\', loadThirdPartyScript);\\n    }\\n\\n    function loadThirdPartyScript() {\\n\\n      // Mix panel script\\n      (function (f, b) {\\n      if (!b.__SV) {\\n        var e, g, i, h; window.mixpanel = b; b._i = []; b.init = function (e, f, c) {\\n          function g(a, d) { var b = d.split(\".\"); 2 == b.length && (a = a[b[0]], d = b[1]); a[d] = function () { a.push([d].concat(Array.prototype.slice.call(arguments, 0))) } } var a = b; \"undefined\" !== typeof c ? a = b[c] = [] : c = \"mixpanel\"; a.people = a.people || []; a.toString = function (a) { var d = \"mixpanel\"; \"mixpanel\" !== c && (d += \".\" + c); a || (d += \" (stub)\"); return d }; a.people.toString = function () { return a.toString(1) + \".people (stub)\" }; i = \"disable time_event track track_pageview track_links track_forms track_with_groups add_group set_group remove_group register register_once alias unregister identify name_tag set_config reset opt_in_tracking opt_out_tracking has_opted_in_tracking has_opted_out_tracking clear_opt_in_out_tracking start_batch_senders people.set people.set_once people.unset people.increment people.append people.union people.track_charge people.clear_charges people.delete_user people.remove\".split(\" \");\\n          for (h = 0; h < i.length; h++)g(a, i[h]); var j = \"set set_once union unset remove delete\".split(\" \"); a.get_group = function () { function b(c) { d[c] = function () { call2_args = arguments; call2 = [c].concat(Array.prototype.slice.call(call2_args, 0)); a.push([e, call2]) } } for (var d = {}, e = [\"get_group\"].concat(Array.prototype.slice.call(arguments, 0)), c = 0; c < j.length; c++)b(j[c]); return d }; b._i.push([e, f, c])\\n        }; b.__SV = 1.2; e = f.createElement(\"script\"); e.type = \"text/javascript\"; e.async = !0; e.src = \"undefined\" !== typeof MIXPANEL_CUSTOM_LIB_URL ?\\n          MIXPANEL_CUSTOM_LIB_URL : \"file:\" === f.location.protocol && \"//cdn.mxpnl.com/libs/mixpanel-2-latest.min.js\".match(/^\\\\/\\\\//) ? \"https://cdn.mxpnl.com/libs/mixpanel-2-latest.min.js\" : \"//cdn.mxpnl.com/libs/mixpanel-2-latest.min.js\"; g = f.getElementsByTagName(\"script\")[0]; g.parentNode.insertBefore(e, g)\\n      }\\n    })(document, window.mixpanel || []);\\n    mixpanel.init(\"a99a1037068944b00a0cc8ee56c94e8c\")\\n    // mixpanel.track(\"pageview\")\\n\\n    }</script><script>var currURL = window.location.href;\\n\\n  //    function codeAddress() {\\n\\n  // if (currURL.match(\\'/city/\\') || currURL.match(\\'/video/\\')){\\n      var hlsScript = document.createElement(\"script\");\\n      let elem1 = document.getElementsByTagName(\"script\")[0];\\n      hlsScript.async = true;\\n      hlsScript.src = \"https://cdn.jsdelivr.net/npm/hls.js@1/dist/hls.min.js\";\\n      elem1.parentNode.insertBefore(hlsScript, elem1);\\n  // }\\n  // }\\n  //   window.onload = codeAddress;</script><script async src=\"https://www.googletagmanager.com/gtag/js?id=G-L7P7D50590\"></script><script>window.dataLayer = window.dataLayer || [];\\n  function gtag(){dataLayer.push(arguments);}\\n  gtag(\\'js\\', new Date());\\n\\n  gtag(\\'config\\', \\'G-L7P7D50590\\');</script><script>gtag(\\'set\\', \\'dimension2\\', \\'online\\');\\n    gtag(\\'set\\', \\'dimension3\\', \\'pwa\\');\\n    gtag(\\'event\\', \\'screen_view\\');</script><script>// FB pixel script\\n    window.fbAsyncInit = function () {\\n        FB.init({\\n          appId: \\'168662373317120\\',\\n          xfbml: true,\\n          version: \\'v5.0\\'\\n        });\\n\\n        FB.AppEvents.logPageView();\\n      };\\n\\n      (function (d, s, id) {\\n        var js, fjs = d.getElementsByTagName(s)[0];\\n        if (d.getElementById(id)) { return; }\\n        js = d.createElement(s); js.id = id;\\n        js.src = \"https://connect.facebook.net/en_US/sdk.js\";\\n        fjs.parentNode.insertBefore(js, fjs);\\n      }(document, \\'script\\', \\'facebook-jssdk\\'));\\n\\n        !function (f, b, e, v, n, t, s) {\\n        if (f.fbq) return; n = f.fbq = function () {\\n          n.callMethod ?\\n          n.callMethod.apply(n, arguments) : n.queue.push(arguments)\\n        };\\n        if (!f._fbq) f._fbq = n; n.push = n; n.loaded = !0; n.version = \\'2.0\\';\\n        n.queue = []; t = b.createElement(e); t.async = !0;\\n        t.src = v; s = b.getElementsByTagName(e)[0];\\n        s.parentNode.insertBefore(t, s)\\n      }(window, document, \\'script\\',\\n        \\'https://connect.facebook.net/en_US/fbevents.js\\');\\n      fbq(\\'init\\', \\'822966517773327\\');\\n      fbq(\\'track\\', \\'PageView\\');</script><noscript><img height=\"1\" width=\"1\" style=\"display:none\" src=\"https://www.facebook.com/tr?id=822966517773327&ev=PageView&noscript=1\"/></noscript><link rel=\"manifest\" href=\"/assets/public/scripts/desktop_manifest.json\"><style>.RldBWJngcN6Iwyi72FUw{border:1px solid rgba(0,0,0,.1);border-radius:12px;display:flex;flex-direction:column;margin:10px;max-height:100vh;position:relative;user-select:none;width:calc(100% - 20px)}.uUoOUTxdtu8JMaD9l6oJ{background-color:#ccc;background-position:50%;background-size:cover;border-radius:11px 11px 0 0;height:34.5vh;margin:0;width:100%}.Xz13pAPKixHzVMbfuOag{display:none}.He62jlfoUc7Hs5c2ohWB{font-size:.9rem;font-weight:100;margin:0}.pP1SbCLUoSb1UYFfDiNM{color:#161616;font-family:Roboto;font-size:1rem;font-weight:400;line-height:1.3rem;margin:20px 5% 6px;opacity:.9;width:90%}.E6tRV_QxHh0gsgQQhaKg{color:#369af8!important}.DAYHB_7M6mqk7njM7WXl{color:#585858;font-family:Roboto;font-size:.9rem;font-weight:300;line-height:1.35rem;margin:0 5%;opacity:.8;width:90%}.Ds0nv7Te20SisIpHLmqT{color:#c7c7c7;font-family:Roboto;font-size:.7rem;font-weight:400;margin-top:6px}.lFaPO6rUcchEaTMzGocD:before{content:\"\";-webkit-filter:blur(5px);-moz-filter:blur(5px);-o-filter:blur(5px);-ms-filter:blur(5px);filter:blur(5px);z-index:-1}.EonwMpOGSUmDPr5zB_fJ{border-radius:0 0 11px 11px;height:60px;margin-top:30px;overflow:hidden;position:relative}.lFaPO6rUcchEaTMzGocD{background-color:#000;height:60px;width:100%;z-index:1}.cc9WRpIFuLJvysU7cBj9{background-position:50%;background-repeat:no-repeat;background-size:cover;filter:blur(13px);height:60px;width:100%}.y5KnUeNaaV2t_iEgoGQw{display:flex;flex-direction:column;justify-content:center;position:absolute;top:10px;width:100%}.URyrF0QOEYrOmipwqWSn{font-size:.75rem;padding:0 5% 2px}.URyrF0QOEYrOmipwqWSn,._3DphrNBbwC_q8YSAh9gk{color:#fff;font-family:Roboto;font-weight:400}._3DphrNBbwC_q8YSAh9gk{font-size:.6rem;opacity:.8;padding:0 5%}.bgx0A3LOwj5p6LMVGEYq{background:#fff;border-top:.5px solid #efefef;bottom:0;display:flex;height:59.5px;justify-content:space-evenly;position:absolute;transform:translateY(0);transition:transform .2s ease-in;visibility:visible;width:100%;z-index:4}.pWK3_pTYWsNS6XhubhYX{border-top:0;transform:translateY(60px)}.KtTFA6qf8cXqpaFSPnmw{align-content:center;display:flex;flex-direction:column;font-size:.7rem;justify-content:space-evenly;padding:5px 0 0;width:20vw}.NknkMmOTgLmHs5AGjquF{stroke:#369af8;height:20px;margin:auto;width:20px}.iphWipBeYFtIIjTj6Cb5{height:21px;width:21px}.p9yyYz9BMqyuRbs0vT1V{fill:#369af8}.CkQc__2_S8Z9Swh_s3fn{font-family:Roboto;font-size:11px;font-weight:300;margin:auto;opacity:.8}.T4oNBhgaIDwOBesQ4BFR{display:flex;flex-direction:column;height:100%;justify-content:flex-end}.T4oNBhgaIDwOBesQ4BFR iframe{border:none;bottom:0;max-height:38vh;width:100%}.MW2oaLl19DuIp7kCc3sW{align-items:center;background:#000;display:flex;height:100%;justify-content:center}.OxiB68g1_akgzkuSYlvm{display:flex;flex-direction:column-reverse;height:92vh;margin:0 auto;max-width:80vh;min-height:350px;position:relative;text-align:center}.W80lzcbFbDV8NTiiunPI{display:flex;flex-direction:column;margin:5px auto;max-width:610px;width:96%}.e4Lj4CQHgYm4cvs098ps{background:#000;border-radius:6px;display:flex;flex-grow:1;height:calc(94vw - 70px);margin:0 auto;max-height:80vh;max-width:80vh;overflow:hidden;position:relative;width:94%}.sgrXPxdFygXJc6WsHsfF{background:#000;background:-moz-linear-gradient(top,#000 0,transparent 100%);background:-webkit-gradient(left top,left bottom,color-stop(0,#000),color-stop(100%,transparent));background:-webkit-linear-gradient(top,#000,transparent);background:-o-linear-gradient(top,#000 0,transparent 100%);background:-ms-linear-gradient(top,#000 0,transparent 100%);background:linear-gradient(180deg,#000 0,transparent);border:0 solid #fff;border-radius:5px;color:#fff;display:flex;font-family:Roboto,Helvetica,Arial,sans-serif;font-weight:500;height:10%;justify-content:space-between;padding:15px;width:100%;z-index:1}.hrrTOct1vEFNBuRxziw0{text-align:left;z-index:2}.hrrTOct1vEFNBuRxziw0 .Z2J8EF81o8falrSaBfWG{font-size:.8rem;margin:0 0 4px}.hrrTOct1vEFNBuRxziw0 .fUZtekY0QJT9hq21j8TA{font-size:.75rem}.ctPs4aSvnolRt6KTe8lJ{font-size:.95rem;z-index:2}.ctPs4aSvnolRt6KTe8lJ button{background:#d1082d;border:0 solid #000;border-radius:8px;color:#fff;font-family:Roboto,Helvetica,Arial,sans-serif;font-size:.8rem;font-weight:400;padding:10px 20px;width:100%}.ctPs4aSvnolRt6KTe8lJ button:disabled{opacity:.5}.Mp4ugESMXo5nCVTlytay{align-items:center;display:flex;height:90%;justify-content:center;position:absolute;width:90%}.bJgP0pJxGe0zQjrr0hYs{bottom:15px;color:#fff;display:flex;height:24px;padding:4px;position:absolute;width:24px;z-index:2}.e4Lj4CQHgYm4cvs098ps amp-video,.e4Lj4CQHgYm4cvs098ps video{border:0 solid #000;border-radius:5px;height:100%;object-fit:contain;position:absolute;width:100%}.T2j0NlwBR1S9RyoIgmRk{font-size:1.05rem;line-height:1.55rem;margin:10px 20px}.T2j0NlwBR1S9RyoIgmRk,.dZa4ssX_3mzolHC9RNsm{font-family:Roboto,Helvetica,Arial,sans-serif;font-weight:500;text-align:left;word-break:break-word}.dZa4ssX_3mzolHC9RNsm{color:#b3b3b3;font-size:.85em;margin:0 20px}.z42nns5IVIgwTXvmtp4W{display:flex;flex-grow:1;margin:10px 20px}.giKB5uYox4loBGc7LvMq{align-items:center;color:#878787;display:flex;flex-direction:column;font-family:Roboto,Helvetica,Arial,sans-serif;font-size:.6rem;font-weight:500;padding:0 25px 0 0;text-align:center}.giKB5uYox4loBGc7LvMq span{margin:4px 0 0}.QlvujO5bRuJbDr0krADj{align-items:center;bottom:30%;display:flex;margin-left:5%;position:absolute;transition:ease-in;z-index:999}.gpRw5M6a_6CQPEKbXBXa .VmHenqjE5grjsf3fWL_b{width:2.85rem}.gpRw5M6a_6CQPEKbXBXa .UfFlSw0Ku1orniCovhJN{color:#fff;font-family:Roboto,Helvetica,Arial,sans-serif;font-size:.7rem;font-stretch:normal;font-style:normal;font-weight:700;letter-spacing:normal;line-height:normal;opacity:.5;text-align:center;text-shadow:1px 1px 12px #000;width:25vw}.sa7jAXSMpL2UkIxrBxOQ{border:1px solid rgba(0,0,0,.1);border-radius:12px;display:flex;flex-direction:column;height:80vh;margin:10px;max-height:100vh;position:relative;user-select:none;width:calc(100% - 20px)}.p4I93ew7DPoS0zwwVLZy{color:#161616;font-family:Roboto;font-size:1rem;font-weight:400;line-height:1.3rem;margin:20px 5% 6px;opacity:.9;width:90%}.VQtt2Pn57hvqIUqvuPFR{align-items:center;display:flex;flex-direction:row;padding:.5rem 1rem}.UTHdNZCkPsCALFauQa7W{border-radius:50%;cursor:pointer;margin-right:.8rem;width:50px}.cp0lONWJoQ1WvrOl0Ylj{flex:1}.kx5xUHn8owIlXfbjetow{align-items:center;display:flex;font-size:.7rem;width:100%}.tBBUY1fC_NZTgyh42jJe{background:#000;border-radius:11px 11px 0 0;display:flex;flex-wrap:wrap;margin:0 auto;max-height:50vh;max-width:80vh;overflow:hidden;position:relative;width:100%}.tBBUY1fC_NZTgyh42jJe video{background-color:#000;border:0 solid #000;border-radius:11px 11px 0 0;height:30vh;height:34.5vh;width:100%}.S1KEg1w0v6XeNduf8CYC:before{background-color:#cfcfcf;border-radius:50%;content:\"\";display:inline-block;height:6px;margin-right:5px;width:6px}.S1KEg1w0v6XeNduf8CYC{align-items:center;color:#d10846;display:flex;margin-left:5px}.NxXHZfNMR0DbUfNGGBoR,.S1KEg1w0v6XeNduf8CYC{font-family:Roboto;font-size:.7rem;font-stretch:normal;font-style:normal;font-weight:500;letter-spacing:.11px;line-height:normal}.NxXHZfNMR0DbUfNGGBoR{color:#2a2a2a;cursor:pointer;margin:0 5px 0 0}.qTMkWaugZauIhrkdqsHi{color:#878787;font-family:Roboto;font-size:.6rem;font-stretch:normal;font-style:normal;font-weight:400;height:.7rem;letter-spacing:.4px;line-height:normal;overflow:hidden;text-overflow:ellipsis;width:200px}.Us754fve7rDC6Tl1YtfK{display:flex;flex-direction:column;margin:0 auto;width:100%}.bdpeczbzypsvMpBdPzQl{display:flex;padding:10px 0}.a4t_iu6YOc_txxVvv3f8{align-items:center;align-self:end;background:#f44436;border:none;border-radius:16px;color:#fff;cursor:pointer;display:flex;font-size:14px;justify-content:center;margin:0 1rem;outline:none;padding:6px;width:80px}.a4t_iu6YOc_txxVvv3f8 svg{margin-right:6px}.a4t_iu6YOc_txxVvv3f8 svg g g{stroke:#fff}.XjMSWpqrVnbZucdlszbj{align-items:center;color:#878787;display:flex;font-family:Roboto,Helvetica,Arial,sans-serif;font-size:.6rem;font-weight:500;margin-left:1rem;padding:.5rem 0;text-align:center}.XjMSWpqrVnbZucdlszbj span{margin-left:.5rem}.aOJ7zR5Ud9fECIJg3Sfl{color:#c7c7c7;font-family:Roboto;font-size:.7rem;font-weight:400;margin-top:6px;padding:0 1rem 1rem}.nOZUu3JMIc8qOmsl62lA{align-items:center;display:flex;height:100%;justify-content:center;position:absolute;width:100%;z-index:1000}.vFNWjo5xIaqhA2529J92{background:#000}.FiuQbkKKNc50Devee8GX{display:flex;margin-top:20px;width:100%}.Tq2FqkNlxg8tIxFrXlQO{background-position:50%;background-repeat:no-repeat;background-size:contain;height:20vh;margin:0 3%;width:94%}.ggVN6JrxQwilRZKrzA0k{align-items:center;bottom:30%;display:flex;margin-left:5%;position:absolute;transition:ease-in;width:1070px;z-index:999}.gpRw5M6a_6CQPEKbXBXa{color:#fff;font-family:Roboto,Helvetica,Arial,sans-serif;font-size:30px;font-size:.7rem;font-stretch:normal;font-style:normal;font-weight:700;letter-spacing:normal;line-height:normal;text-align:center;text-shadow:1px 1px 12px #000;text-transform:uppercase;white-space:nowrap;width:100%;width:25vw}.nK8z5aLN6qOvGEFczsRQ{animation-play-state:paused;-webkit-animation:NqLT2yjM1iDrpcoXlJSN 15s linear infinite;animation:NqLT2yjM1iDrpcoXlJSN 15s linear infinite;animation-delay:.8s;display:inline-block}.IaJ5b58eKj83QCoSy42t{display:flex}@media screen and (max-width:1208px){.gpRw5M6a_6CQPEKbXBXa .UfFlSw0Ku1orniCovhJN{width:30vw}}@media screen and (max-width:720px){.gpRw5M6a_6CQPEKbXBXa .UfFlSw0Ku1orniCovhJN{width:40vw}.ggVN6JrxQwilRZKrzA0k{width:720px}}@media screen and (max-width:480px){.gpRw5M6a_6CQPEKbXBXa .UfFlSw0Ku1orniCovhJN{width:40vw}.ggVN6JrxQwilRZKrzA0k{width:500px}}@keyframes NqLT2yjM1iDrpcoXlJSN{0%{transform:translateX(0);-webkit-transform:translateX(0)}to{transform:translateX(-400%);-webkit-transform:translateX(-400%)}}@-webkit-keyframes NqLT2yjM1iDrpcoXlJSN{0%{transform:translateX(0);-webkit-transform:translateX(0)}to{transform:translateX(-400%);-webkit-transform:translateX(-400%)}}.IAsZcfIS6DRldqg02cys{padding:8px 10px;position:absolute;width:100%;z-index:1001}.E_bTyWjrPpE8dGe4_iJV{display:flex;width:100%}.RiqJIfuovMECPemHjR5r{border-radius:50%;height:1.5rem;width:1.5rem}.wQRVHlt6JfwdW0fnxMTj{align-items:center;display:flex;margin-left:6px}.bztao9oshOrod9s5fw6_{color:#fff;cursor:pointer;font-family:Roboto;font-size:14px;font-size:.7rem;font-stretch:normal;font-style:normal;font-weight:500;letter-spacing:.11px;line-height:normal;margin:0 5px 0 0}.EWcAT9qVBy8Of8Y4n0qI{box-shadow:inset 0 40px 60px -28px #000;height:100%;position:absolute;width:100%}.cx4UNRn7rN0sUQjl738Q{color:#585858;font-family:Roboto;font-size:.9rem;font-weight:300;line-height:1.35rem;margin:0 5%;opacity:.8;width:90%}.KXMXrWvxseOYFPfbEURk{-webkit-line-clamp:8;-webkit-box-orient:vertical;display:-webkit-box;font-size:.9rem;font-weight:100;margin:0;overflow:hidden}.GtJIUqCG0l5g2HI_dget:before{content:\"\";-webkit-filter:blur(5px);-moz-filter:blur(5px);-o-filter:blur(5px);-ms-filter:blur(5px);filter:blur(5px);z-index:-1}.DviSQhOKYS6ivTswJ1MH{height:60px;margin-top:auto;overflow:hidden;position:relative}.GtJIUqCG0l5g2HI_dget{background-color:#000;border-bottom-left-radius:12px;border-bottom-right-radius:12px;height:60px;margin-top:16px;width:100%;z-index:1}.DKiWkcOCpEvvnHqSr2yk{background-position:50%;background-repeat:no-repeat;background-size:cover;filter:blur(13px);height:60px;width:100%}.r7F0Q_J1C3X9Qv71srF6{display:flex;flex-direction:column;justify-content:center;position:absolute;top:10px;width:100%}.vvyJCtOOzNPLqIjQqgBq{font-size:.75rem;padding:0 5% 2px}.oFLkFuYVrmexNVgaSTcF,.vvyJCtOOzNPLqIjQqgBq{color:#fff;font-family:Roboto;font-weight:400}.oFLkFuYVrmexNVgaSTcF{font-size:.6rem;opacity:.8;padding:0 5%}.UiBfHEmuj4dDR5PMmLdc{bottom:0;height:100%;margin:0;padding:0;position:relative;user-select:none}.F5Semr0fUoV2mmHLlnTk,.UiBfHEmuj4dDR5PMmLdc{display:flex;flex-direction:column;width:100%}.F5Semr0fUoV2mmHLlnTk{height:calc(100vh - 1px);max-height:calc(100vh - 1px);max-width:100%}.V16cFddFa2m3cV11ki3g{height:90vh;position:absolute;width:100%;z-index:2}.UiBfHEmuj4dDR5PMmLdc iframe{height:calc(100vh - 44px);max-width:100%}.UiBfHEmuj4dDR5PMmLdc embed,.UiBfHEmuj4dDR5PMmLdc iframe{border:none;max-height:calc(100vh - 1px);width:100%;z-index:1}.UiBfHEmuj4dDR5PMmLdc embed{height:calc(100vh - 1px);margin:0;max-width:calc(100% - 1px);padding:0}.qCq2SJx2f2vTSfytbMb1{background:#fff;border-top:.5px solid #efefef;bottom:0;display:flex;height:7.08vh;justify-content:space-evenly;width:100%;z-index:4}._1vEwCDB95w9fAPEqb08Q{align-content:center;display:flex;flex-direction:column;font-size:.7rem;justify-content:space-evenly;padding:5px 0 0;width:20vw}.je3fwtQwI00F0cxboabG{margin:auto;width:23px}.NaFbzzGksuDQ2Wuvg4nA{margin:auto}.FQwamjAaC4HnxiqZqIlv{align-items:center;display:flex;height:100%;justify-content:center}.nzbbIYkDkWzvOdVGyiQi{stroke:#5e5e5e;height:10vw;width:10vw}.k9iita3VAqcz78q_REdZ{background-repeat:no-repeat;background-size:contain;height:2px;position:fixed;width:2px}.F5Semr0fUoV2mmHLlnTk a{display:block;height:100vh;height:100vh!important;width:100%;width:100vw;z-index:3}.sAXj7C11JPxpoj0_jKRA{background-position:50%;background-repeat:no-repeat;background-size:cover;display:block;height:100vh;margin:0 auto;text-align:center;width:100%}.OaDQkIuu7bah5Vjuc04R{display:flex;position:fixed;top:56px;width:100%;z-index:99}.wd3zJ1hsXmcq6_QBaaCB{background:#0575de;border:none;border-radius:15px;color:#fff;font-size:.8em;margin:0 auto;padding:6px 30px}.NNPttXfnMOG6_deuAgWs{background:#fff;display:flex;flex-direction:row;height:44px;justify-content:space-between;opacity:.9;position:fixed;top:0;transform:translateY(0);transition:transform .2s ease-in;width:100%;z-index:10000}.dR19FSdSCwAAXSDoGJol{font-family:Roboto;font-size:17px;font-weight:400;opacity:.7;padding:12px 0 10px 4%}.dR19FSdSCwAAXSDoGJol a{align-items:center;color:#000;display:flex;height:15px;justify-content:center;padding:2px 0;text-decoration:none}.dR19FSdSCwAAXSDoGJol svg{height:21px;padding:0 5px 0 0;width:21px}.J6H33RNsLI45gQ7VKDyo{width:22px}.J6H33RNsLI45gQ7VKDyo,.MtGDH93PNZSeuDXeYPXU{display:flex;opacity:.7;padding:12px 15px 0 5px}.MtGDH93PNZSeuDXeYPXU{width:30px}.J6H33RNsLI45gQ7VKDyo svg{height:20px}.MtGDH93PNZSeuDXeYPXU svg{height:25px}.YOH_gjQiVmNOwORO5tls{transform:translateY(-48px)}.kA6rvWLMbRtrcrtYq1HR{align-items:center;color:#000;display:flex;font-family:Roboto,sans-serif;font-size:14px;font-weight:500;min-height:44px}.kA6rvWLMbRtrcrtYq1HR svg{height:36px;width:36px}.VkKxBTnAHa76tAcJ3ryr{color:#d10846}.v6b0oIQsBouSrbHKC6kh{color:#d10846;text-transform:lowercase}.v6b0oIQsBouSrbHKC6kh:first-letter{text-transform:capitalize}.F3tdaOXgAm5Rk5A1n0Rf{background:#fff;display:flex;flex-direction:row;height:100vh;justify-content:center;width:100%}.qQKHKqjueUdyi9tf2DkK{margin-top:15vh;text-align:center}.QvZTq48VuvvRulF8loCU{font-family:Roboto;font-size:1.2em;font-weight:600;opacity:.6;padding:30px}.Aho45C2slA9_a3AHya13{font-family:Roboto;font-size:.95rem;font-weight:300;opacity:.8}.aVV7Q68B7u1JmM_P5uiz{background-color:rgba(0,0,0,.4);height:100%;position:fixed;width:100%;z-index:20}.Pn3boj9z4xb9ie_kHANe{align-items:center;background:#fff;border-radius:15px;display:flex;flex-direction:column;height:237px;left:calc(50% - 163.5px);position:fixed;top:calc(30% - 237px);width:327px;z-index:20}.slideInFromTop{animation:slideInFromTop .2s ease-in forwards}@-webkit-keyframes slideInFromTop{0%{-webkit-transform:translateY(0)}to{-webkit-transform:translateY(100%)}}.WttBlKgQPbj6AqEhASA_{height:45px;margin-top:25px}.WttBlKgQPbj6AqEhASA_ img{height:100%}.TUMf25QGqmpRHdQqjgtx{font-family:Roboto;font-size:20px;font-weight:500;margin-top:15px}.JIKEzueRp8xdFqZLbbzK{color:#909090;font-family:Roboto;font-size:17px;font-weight:300;line-height:20px;margin-top:15px;text-align:center;width:85%}.yo1QWmP4p731pjBxCtZW{border-top:.5px solid hsla(0,0%,59%,.25);display:flex;height:55px;margin-top:auto;width:100%}.FuL2_p9QrEKtTALaS5Bg{align-items:center;color:#909090;display:flex;font-family:Roboto;font-size:17px;font-weight:400;justify-content:center;width:50%}.FuL2_p9QrEKtTALaS5Bg:focus{filter:brightness(0)}.H0h9uvh5FLDUKAHnpQGU{border-right:.5px solid hsla(0,0%,59%,.25);width:.5px}.PkoJTQdlEdY_Jfh8bvst{color:#369af8}.Taa9FjzgU1JDTtclXl1x{display:flex;position:fixed;width:100%;z-index:10}.csbS_tpvFJuaKyoi42HA{background:#5e5e5e;border-radius:15px;color:#fff;font-family:Roboto;font-size:.7em;margin:0 auto;min-width:20vmin;padding:5px 15px;text-align:center}.zyXBoWn0x8ApA5RzlMA1{align-items:center;display:flex;flex-direction:column;height:100vh;width:100%}.cefIvhtl73U56ja15bmA{font-family:Roboto;font-size:1.5em;font-weight:500;margin:25vh auto 0}.hiLGP40XONR1tbEp02zf{background:#efefef;border-radius:10px;color:#1e90ff;font-family:Roboto;font-size:1.3em;font-weight:500;margin:10vh auto 0;padding:10px}.PNIG_Ccj8bewpgdEaDKd{border:1px solid grey;border-radius:6px;box-shadow:0 0 12px -3px #a5a1a1;color:#191818;cursor:pointer;display:flex;font-size:14px;justify-content:center;margin:40px auto;padding:6px;width:100px}.DBaaK6zbkvhM1e3Uyptv{border-radius:8px;box-shadow:0 4px 8px rgba(0,0,0,.1);font-family:Roboto;margin:20px;overflow:hidden}._9J_mydy36jsqP_Ooxtl{padding:20px}span.tnBTbNBVEdEh_mdJX8MA{color:red;font-size:12px;margin-bottom:10px}button{font-size:1rem}@media screen and (max-width:480px){.DBaaK6zbkvhM1e3Uyptv{margin:10px}}body{font-family:Roboto}.AoOfQHhuLzofnX5qGyZx{align-items:center;background:#f44336;box-shadow:0 2px 5px 0 rgba(0,0,0,.16),0 2px 10px 0 rgba(0,0,0,.12);display:flex;height:40px;justify-content:space-between;margin-bottom:32px;margin-left:auto;margin-right:auto;padding:8px 32px;width:900px}.wEe4zHQAFfoZACC2SRFn{box-sizing:border-box;padding:8px;width:140px}.gVBPun26EN5_KOnvxsFK{color:#fff!important;font-size:14px;font-weight:300}@media screen and (max-width:940px){.AoOfQHhuLzofnX5qGyZx{height:auto;margin:0 32px 32px;width:auto}}@font-face{font-display:swap;font-family:Conv_ClanPro-Bold;font-style:normal;font-weight:400;src:url(/dist/fonts/ClanPro-Bold.eot);src:local(\"\\xe2\\x98\\xba\"),url(/dist/fonts/ClanPro-Bold.woff) format(\"woff\"),url(/dist/fonts/ClanPro-Bold.ttf) format(\"truetype\"),url(/dist/fonts/ClanPro-Bold.svg) format(\"svg\")}.PmX01nT74iM8UNAIENsC{border-radius:3px;box-shadow:0 2px 5px 0 rgba(0,0,0,.16),0 2px 10px 0 rgba(0,0,0,.12);box-sizing:border-box;display:block;display:flex;font-family:Roboto,sans-serif;font-weight:300;height:284px;margin-bottom:20px;margin-left:auto;margin-right:auto;padding:8px 16px 8px 8px;position:relative;width:900px;z-index:1}.GXPWASMx93K0ajwCIcCA{background-position:50%;background-size:cover;border-radius:4px;height:100%;margin-right:16px;min-width:320px;width:100%}.ddVzQcwl2yPlFt4fteIE{color:#44444d!important;cursor:pointer;font-size:22px;line-height:27px}.KkupEonoVHxNv4A_D7UG{color:#44444d;font-size:16px;line-height:22px;margin-top:8px}.f6VR90cMLekcKLeFCS1J{color:#44444d;font-family:Conv_ClanPro-Bold,Sans-Serif}.E3pJPegn7xWCOvv3BEcf,.f6VR90cMLekcKLeFCS1J{font-size:12px;font-weight:300;line-height:22px}.E3pJPegn7xWCOvv3BEcf{color:#808290}.VW4Ta0ioG_64Xx1ROszP{font-size:12px;font-weight:400;margin-bottom:12px}.LFn0sRS51HkFD0OHeCdA{color:#44444d;font-weight:500}.LUWdd1C_3UqqulVsopn0{display:flex;flex-direction:column;justify-content:space-between}.JIMrm2g5L9csgTtobp2g{border-radius:3px;box-shadow:0 2px 5px 0 rgba(0,0,0,.16),0 2px 10px 0 rgba(0,0,0,.12);cursor:pointer;display:flex;font-family:Roboto,sans-serif;font-size:14px;font-weight:400;justify-content:center;margin:32px auto;padding:6px 10px;text-align:center;transition:box-shadow .25s;width:130px}.JIMrm2g5L9csgTtobp2g:hover{box-shadow:0 8px 17px 0 rgba(0,0,0,.2),0 6px 20px 0 rgba(0,0,0,.19);transition:box-shadow .25s}.r_CK6OaFsecGqhiNxLQR{animation:rtHj2mntPk2MMeDvhrr_ 1.75s infinite forwards;background:#f3f5f7;background:linear-gradient(90deg,#f3f5f7 8%,#eaedf1 18%,#f3f5f7 33%);background-size:800px 104px;border-radius:4px;height:40px;margin-bottom:16px;width:25%}.YBIB_aAKmJgaGzjjCtWh{height:100%;min-width:320px}.Fkec1JSj8wjqEULPsk9m{margin-left:20px;width:100%}@keyframes rtHj2mntPk2MMeDvhrr_{0%{background-position:-350px 0}to{background-position:350px 0}}@media screen and (max-width:940px){.PmX01nT74iM8UNAIENsC{flex-direction:column;height:700px;padding:8px;width:500px}.GXPWASMx93K0ajwCIcCA{height:400px;min-height:400px}.LUWdd1C_3UqqulVsopn0{height:100%;margin-top:8px}.YBIB_aAKmJgaGzjjCtWh{height:400px;min-height:400px;width:100%}.Fkec1JSj8wjqEULPsk9m{margin-left:0}}.duf7kBUNIlaoEILmerm_{align-items:center;cursor:pointer;display:flex;height:100%;justify-content:center;position:relative;width:100%}.HvQRh3D_MKTN96TFmIsU{box-shadow:inset 0 40px 60px -28px #000;height:100%;position:absolute;width:100%}.tfTf88ZIbxHBIMLylXrV{align-items:center;display:flex;height:100%;justify-content:center;position:absolute;width:100%;z-index:1000}.YmiaDj0AgvaLdyATTxIg{background:#fff;box-shadow:0 2px 5px 0 rgba(0,0,0,.16),0 2px 10px 0 rgba(0,0,0,.12);font-family:Roboto,sans-serif;height:72px;position:fixed;width:100%;z-index:8}.YKSmdW7nhWAEIbmQrJKw{color:#44444d;cursor:pointer;font-size:14px;height:72px;padding-left:30px;padding-top:8px;transition:all .3s;width:120px}.TxGxEsJgUqc68PmaBJpQ{background:#303036;color:#fff;display:block;height:100%;overflow:hidden;padding:8px;position:fixed;transition:all .3s;width:216px;z-index:999}.iyAcz8Lj6UNLauiXVejL{border:0;box-sizing:border-box;height:72px;left:50%;margin-left:-89px;padding:8px;position:absolute;top:0;vertical-align:middle}.T1TDEo43D3QY0SAh3xBw{appearance:none;background:0 0;border:none;border-radius:none;box-shadow:none;cursor:pointer;display:inline-block;font-size:0;height:32px;margin:0;overflow:hidden;padding:0;position:relative;top:8px;width:32px}.hTEzFLa5WDHjHHddgF66{background:#000;display:block;height:2px;left:6px;position:absolute;right:6px;top:17px;transition:background 0s .25s}.hTEzFLa5WDHjHHddgF66:before{top:-6px;transition-property:top,transform}.hTEzFLa5WDHjHHddgF66:after,.hTEzFLa5WDHjHHddgF66:before{background-color:#000;content:\"\";display:block;height:2px;left:0;position:absolute;transition-delay:.25s,0s;transition-duration:.25s,.25s;width:100%}.hTEzFLa5WDHjHHddgF66:after{bottom:-6px;transition-property:bottom,transform}.fakt5L8hmnoVjOHegIeA{font-family:Roboto,sans-serif;font-size:16px;font-weight:300}.wve44NJUq8Gu603xj7mq{cursor:pointer;height:32px;position:relative;top:16px;transform:rotate(0deg);width:24px}.wve44NJUq8Gu603xj7mq span{background:#000;display:block;height:2px;left:0;opacity:1;position:absolute;transform:rotate(0deg);transition:.25s ease-in-out;width:100%}.jn6Z3i6DUTqUFiqBEifW{margin-left:220px;transition:.22s ease-in-out}.wve44NJUq8Gu603xj7mq span:first-child{top:0;transform-origin:left center}.wve44NJUq8Gu603xj7mq span:nth-child(2){top:8px;transform-origin:left center}.wve44NJUq8Gu603xj7mq span:nth-child(3){top:16px;transform-origin:left center}.wve44NJUq8Gu603xj7mq.jn6Z3i6DUTqUFiqBEifW span:first-child{left:8px;top:0;transform:rotate(45deg)}.wve44NJUq8Gu603xj7mq.jn6Z3i6DUTqUFiqBEifW span:nth-child(2){opacity:0;width:0}.wve44NJUq8Gu603xj7mq.jn6Z3i6DUTqUFiqBEifW span:nth-child(3){left:8px;top:17px;transform:rotate(-45deg)}.lRsuatKUnsWLCEYTR9Iv{color:#44444d;font-size:14px;font-weight:300;margin-left:32px}.hS7BV4lv5akFDiRtEQE_{cursor:pointer;padding:12px 0 12px 28px}.hS7BV4lv5akFDiRtEQE_:hover{background-color:#44444d}.ISiDKMugDRNFZ4Q1gwWb{color:#808290;font-family:Roboto,sans-serif;font-size:14px;font-weight:300;margin-bottom:5px;margin-top:10px}.mDgjIwFjqvuRdzgiFhJK{border-bottom:1px solid #808290;display:flex;justify-content:center;margin-bottom:20px;padding:20px 0 26px}.viRdivpyo8BtJtvoV0Dm{border:1px solid #808290;border-bottom-left-radius:4px;border-top-left-radius:4px}.klG8752_ZK07jpIutmrg,.viRdivpyo8BtJtvoV0Dm{background:#303036;box-sizing:border-box;color:#fff;font-size:14px;height:32px;padding:8px 12px;text-align:center;width:75px}.klG8752_ZK07jpIutmrg{border:1px solid #808290;border-bottom-right-radius:4px;border-top-right-radius:4px}.GGlzLjzDFPOZ4F8jkqsg{background:#808290;color:#303036}.wEumTDYB6eDIXyvFoop4{background-color:#323232!important;padding-bottom:20px;padding-top:20px}.qGX5vBk6QkTdiOnlhv0h{margin:0 auto;max-width:1280px;width:90%}.LwhH_gRIbg5VIc0J0YqN{display:flex;justify-content:space-between}.A1qCiDaRQdjD0q3Ijx_e{align-items:flex-end;display:flex}.A1qCiDaRQdjD0q3Ijx_e img{height:28px;margin-left:20px;width:28px}.iv7aKfs5Gt6PtjvcS8QG{display:flex}.oKGmoEhaIPPGnMP9uOm_ img{height:48px;width:160px}.Ifsiqs80e9rHfmAGOa7M{margin-right:8px;margin-top:10px;text-align:end}.IdWAVH5mzwaBUBNlnoaJ,.Ifsiqs80e9rHfmAGOa7M{font-family:Roboto,sans-serif;font-weight:300}.IdWAVH5mzwaBUBNlnoaJ{color:#808290;font-size:13px;line-height:16px}.FqFMAiJrixIx0TvrCgBX{color:#cfcfcf;font-family:Conv_ClanPro-Bold;font-size:13px;line-height:16px}.kpbhIVsZHJTrp8In2UNh img{cursor:pointer;height:48px;margin-top:-5px;width:132px}.frrT68MKbm2McDk4zOAG{color:#fff;font-family:Roboto,sans-serif;font-size:13px;font-weight:300;line-height:16px}.rSEHXWWeEOaR0W1vhOJp{border-left:1px solid grey;margin-left:8px;padding-left:16px}.xPPwvxNIv7oKoVsdJ261{background-color:rgba(0,0,0,.4);height:100%;left:0;margin-bottom:20px;margin-left:auto;margin-right:auto;overflow:auto;position:fixed;top:0;width:100%;z-index:8}.p4fIX0gVcMv16_YAFG84{background-color:#fefefe;border-radius:6px;box-sizing:border-box;font-family:Roboto,sans-serif;font-weight:300;margin:15% auto 15% 33.33333%;padding:0 20px 20px;position:relative;text-align:center;width:33.33333%}.RY8eW5LeCjDHOxDnHGiY{color:#aaa;cursor:pointer;float:right;font-size:28px;font-weight:700}.RY8eW5LeCjDHOxDnHGiY:hover{color:#000}.l1sKZIG1nDzBgLbBvoQS{background:#999;border:none;border-radius:4px;box-shadow:none;color:#fff;cursor:pointer;font-size:14px;font-weight:700;height:30px;margin-bottom:12px;text-transform:uppercase}@media only screen and (min-width:601px){.qGX5vBk6QkTdiOnlhv0h{width:85%}}@media only screen and (min-width:993px){.qGX5vBk6QkTdiOnlhv0h{width:70%}}._7GG_UWB536ZkrvplM16{box-sizing:border-box;font-family:Roboto,sans-serif;padding-top:110px}.dYDxYAuvB3fXM78TkvfP{align-items:center;display:flex;flex-direction:column;height:100vh;width:100%}.v0gwwSqjeZ8VIPHiZ_IS{font-family:Roboto;font-size:1.5em;font-weight:500;margin:25vh auto 0}.fm5DKDZm7uRRY8c2juZv{background:#efefef;border-radius:10px;color:#1e90ff;font-family:Roboto;font-size:1.3em;font-weight:500;margin:10vh auto 0;padding:10px}.rfWOaV2aBmSCO9lkY711{border-radius:8px;box-shadow:0 4px 8px rgba(0,0,0,.1);font-family:Roboto;font-size:16px;margin:20px auto;max-width:600px;overflow:hidden}.ysOcSvUBn9uYOvM4shoY{padding:20px}h2{font-family:Roboto;justify-content:center}form,h2{display:flex}form{flex-direction:column}label{font-weight:700;margin-bottom:5px}input,textarea{border:1px solid #ccc;border-radius:4px;margin-bottom:10px;padding:8px}span.GgLAv_RwavpIhOKqZu4u{color:red;font-size:12px;margin-bottom:10px}button{background-color:#f44336;border:none;border-radius:4px;color:#fff;cursor:pointer;font-size:.8rem;padding:10px}button:disabled{background-color:#989898}button:hover{background-color:#45a049}@media screen and (max-width:480px){.rfWOaV2aBmSCO9lkY711{margin:10px}}.XZS2m63Evn4JRT7H0oSV{display:flex;flex-direction:column;height:100%;margin:0 auto;position:relative;user-select:none;width:100%}.V3jZOyxByPFtJgBW9sM4{background-color:#ccc;background-position:50%;background-size:cover;height:42vh;margin:0;width:100%}.PWelq3UjWHU65FRGHX_c{display:none}.wgngrXYVk7z0xfhPwVJ4{color:#161616;font-family:Roboto;font-size:1rem;font-weight:400;line-height:1.3rem;margin:12px 5% 6px;opacity:.9;width:90%}.ghLv4DsF9m570NiuStDo{color:#369af8!important}.oHEMKEAkEGhHCswxo4i5{color:#585858;font-family:Roboto;font-size:.9rem;font-weight:300;line-height:1.35rem;margin:0 5%;opacity:.8;width:90%}.AYqrf7rV5BOOKlys0n4A{color:#c7c7c7;font-family:Roboto;font-size:.7rem;font-weight:400}.VrtRaBBJOqI_Q9k32Qb9:before{content:\"\";-webkit-filter:blur(5px);-moz-filter:blur(5px);-o-filter:blur(5px);-ms-filter:blur(5px);filter:blur(5px);z-index:-1}.iZDtZY28Js1GGNr8wCQi{height:60px;margin-top:auto;overflow:hidden;position:relative}.VrtRaBBJOqI_Q9k32Qb9{background-color:#000;height:60px;width:100%;z-index:1}.YkAWjhBZ3CQMkXTRr7Pr{background-position:50%;background-repeat:no-repeat;background-size:cover;filter:blur(13px);height:60px;width:100%}.AZiWK1dCYGy0PokebYqf{display:flex;flex-direction:column;justify-content:center;position:absolute;top:10px;width:100%}.mTPWo5Oiogq6yuUHnggt{font-size:.75rem;padding:0 5% 2px}.SMmt6X9lbANtAfdDKDDC,.mTPWo5Oiogq6yuUHnggt{color:#fff;font-family:Roboto;font-weight:400}.SMmt6X9lbANtAfdDKDDC{font-size:.6rem;opacity:.8;padding:0 5%}.lyFmw5E7iGb4WtAIqbYl{background:#fff;border-top:.5px solid #efefef;bottom:0;display:flex;height:59.5px;justify-content:space-evenly;position:absolute;transform:translateY(0);transition:transform .2s ease-in;visibility:visible;width:100%;z-index:4}.KUUue43jyrLbX3FYX8yo{border-top:0;transform:translateY(60px)}.ytPA46Gg_4e8_qHYLDyj{align-content:center;display:flex;flex-direction:column;font-size:.7rem;justify-content:space-evenly;padding:5px 0 0;width:20vw}._rgLDyQtPXJasZ8Q2jfs{stroke:#369af8;height:20px;margin:auto;width:20px}.BbsdE5lyd6OZ2HJzVd1H{height:21px;width:21px}.lXgFIvI5i_VZPLLO1gG7{fill:#369af8}.M6PRXFw6nODv8iBqJDHU{font-family:Roboto;font-size:11px;font-weight:300;margin:auto;opacity:.8}.QAfhKFJaIz2RJ8vyx9Qq{display:flex;flex-direction:column;height:100%;justify-content:flex-end}.QAfhKFJaIz2RJ8vyx9Qq iframe{border:none;bottom:0;height:calc(100vh - 40px);width:100%}.H41JnXgSPLo9k5JwK1Pi{display:flex;flex-direction:column;height:100%;margin:0 auto;position:relative;user-select:none;width:100%}.wV07ysJKd7W3cBnIi5Bf{background-color:#ccc;background-position:50%;background-size:cover;height:42vh;margin:0;width:100%}._Ttx9ZZ0WQ_Oow6MIFmp{display:none}.bjb7vgHEWTU0GRToVbHX{color:#161616;font-family:Roboto;font-size:1rem;font-weight:400;line-height:1.3rem;margin:12px 5% 6px;opacity:.9;width:90%}.hQVJqbUufmJEcbeKAzyV{color:#369af8!important}.lhZZASYq1aCfL5dm6NtQ{color:#585858;font-family:Roboto;font-size:.9rem;font-weight:300;line-height:1.35rem;margin:0 5%;opacity:.8;width:90%}.r2xxX9TCguCGSCc36ZcQ{color:#c7c7c7;font-family:Roboto;font-size:.7rem;font-weight:400}.bASNd1dN1O9QZ5iKJ8iP:before{content:\"\";-webkit-filter:blur(5px);-moz-filter:blur(5px);-o-filter:blur(5px);-ms-filter:blur(5px);filter:blur(5px);z-index:-1}._SDP2fWQIH90w9neaNid{height:60px;margin-top:auto;overflow:hidden;position:relative}.bASNd1dN1O9QZ5iKJ8iP{background-color:#000;height:60px;width:100%;z-index:1}.ko9CjxT_PKmXsJtR_cdP{background-position:50%;background-repeat:no-repeat;background-size:cover;filter:blur(13px);height:60px;width:100%}.jlcDHMBheAWRhn5kUf4J{display:flex;flex-direction:column;justify-content:center;position:absolute;top:10px;width:100%}.iuDAhXUjnBa1cMsg3cdL{font-size:.75rem;padding:0 5% 2px}.ByIfqlRWfjhVfIleS0mh,.iuDAhXUjnBa1cMsg3cdL{color:#fff;font-family:Roboto;font-weight:400}.ByIfqlRWfjhVfIleS0mh{font-size:.6rem;opacity:.8;padding:0 5%}.emLZaE0lHwPajLhOAPPz{background:#fff;border-top:.5px solid #efefef;bottom:0;display:flex;height:60px;justify-content:space-evenly;position:absolute;transform:translateY(0);transition:transform .2s ease-in;visibility:visible;width:100%;z-index:4}.KR8W3OJ5gm8QO0QxMWlE{transform:translateY(60px)}.s8Hbu3oUyCLFrqtUlElq{align-content:center;display:flex;flex-direction:column;font-size:.7rem;justify-content:space-evenly;padding:5px 0 0;width:20vw}.PvGMVW15Yr43JnBfJ5mo{stroke:#369af8;height:20px;margin:auto;width:20px}.ObNclfge8FY1rDqoo4Ek{height:21px;width:21px}.y22bE8yIhQdx6R8WU9MA{fill:#369af8}.xN2drUkThMPB4W2vvFBg{font-family:Roboto;font-size:11px;font-weight:300;margin:auto;opacity:.8}.L176gpObAVeiNGZJrOPr{display:flex;flex-direction:column;height:100%;justify-content:flex-end}.L176gpObAVeiNGZJrOPr iframe{border:none;bottom:0;height:calc(100vh - 40px);width:100%}.W8yQWf6lSyvwuSSFllBl{display:flex;flex-direction:column;height:100%;margin:0 auto;position:relative;user-select:none;width:100%}.MN9v2XfDqAeH5zlMwa1N{background-color:#ccc;background-position:50%;background-size:cover;height:42vh;margin:0;width:100%}.r32NBqR5k1F_0EofhGSs{display:none}.wQh96_o8w0gFnosb8_1M{color:#161616;font-family:Roboto;font-size:1rem;font-weight:400;line-height:1.3rem;margin:12px 5% 6px;opacity:.9;width:90%}.A_iBrs7Y7fyMfWG5slnA{color:#369af8!important}.Z0AFPE30c7YVyYwQ64iT{color:#585858;font-family:Roboto;font-size:.9rem;font-weight:300;line-height:1.35rem;margin:0 5%;opacity:.8;width:90%}.Y2RybaCLLu_Zyli1Lc7C{color:#c7c7c7;font-family:Roboto;font-size:.7rem;font-weight:400}.HlGGJ3QdEUYmqv02JDw6:before{content:\"\";-webkit-filter:blur(5px);-moz-filter:blur(5px);-o-filter:blur(5px);-ms-filter:blur(5px);filter:blur(5px);z-index:-1}.W1xLbcidoC451nYtkyyA{height:60px;margin-top:auto;overflow:hidden;position:relative}.HlGGJ3QdEUYmqv02JDw6{background-color:#000;height:60px;width:100%;z-index:1}.Yzu2M2jWpQC5rVRyno_K{background-position:50%;background-repeat:no-repeat;background-size:cover;filter:blur(13px);height:60px;width:100%}.BmVAJU0TXOJOT_EwJqaf{display:flex;flex-direction:column;justify-content:center;position:absolute;top:10px;width:100%}.mQBsGBWx7wtmfg7VeDEV{font-size:.75rem;padding:0 5% 2px}.mQBsGBWx7wtmfg7VeDEV,.q7MZqgyk7aZv0MgBu2Cw{color:#fff;font-family:Roboto;font-weight:400}.q7MZqgyk7aZv0MgBu2Cw{font-size:.6rem;opacity:.8;padding:0 5%}.ivzhJbts29pNnZW2lPLD{background:#fff;border-top:.5px solid #efefef;bottom:0;display:flex;height:60px;justify-content:space-evenly;position:absolute;transform:translateY(0);transition:transform .2s ease-in;visibility:visible;width:100%;z-index:4}.sikMNfOSnc0UuTdqetz8{transform:translateY(60px)}.uOTbrqNDstY2TenXZceD{align-content:center;display:flex;flex-direction:column;font-size:.7rem;justify-content:space-evenly;padding:5px 0 0;width:20vw}.cASn3xyH3AKWy_XBDtzR{stroke:#369af8;height:20px;margin:auto;width:20px}.rYQGCQ0gURqmmDrpxOP7{height:21px;width:21px}.kqnbugIb7zMJXpmpLYfX{fill:#369af8}.euHe1ZjycjV5Lgvju2du{font-family:Roboto;font-size:11px;font-weight:300;margin:auto;opacity:.8}.NoG_IpxXO8HpKmmmWdJz{display:flex;flex-direction:column;height:100%;justify-content:flex-end}.NoG_IpxXO8HpKmmmWdJz iframe{border:none;bottom:0;height:calc(100vh - 40px);width:100%}.FWz_GQh_PJtyy3k5QUB9{display:flex;flex-direction:column;height:100vh;pointer-events:none!important}.qaZKriyx6F7WfTfsjzih{height:90vh;position:absolute;width:100%;z-index:2}.FWz_GQh_PJtyy3k5QUB9 iframe{border:none;height:100vh;width:100%;z-index:1}.HoNAsmwj5WiOCzIl_V5y{background:#fff;border-top:.5px solid #efefef;bottom:0;display:flex;height:7.08vh;justify-content:space-evenly;width:100%;z-index:4}.cVbFpbvZMNKTOo8Z3R5z{align-content:center;display:flex;flex-direction:column;font-size:.7rem;justify-content:space-evenly;padding:5px 0 0;width:20vw}.KX817DouzJomUFBCDEY8{margin:auto;width:23px}.X1fLADBjinp4U6IrCjgA{margin:auto}.YS3mQOjr6SqmJiz01Nhm{align-items:center;display:flex;height:100%;justify-content:center}.Wcle6MhzV95QvUrS3eUg{stroke:#5e5e5e;height:10vw;width:10vw}.SdWrmErCPw6DM8ngcVhQ{display:flex;position:fixed;top:56px;width:100%;z-index:99}.zPiBf56ubBazArpJM34z{background:#0575de;border:none;border-radius:15px;color:#fff;font-size:.8em;margin:0 auto;padding:6px 30px}.GoyuRYYggZbwCh4N3SF4{background:#fff;display:flex;flex-direction:row;height:44px;justify-content:space-between;opacity:.9;position:fixed;transform:translateY(0);transition:transform .2s ease-in;width:100%;z-index:10}.SVHna9q9OEfcnRgsQApR{font-family:Roboto;font-size:17px;font-weight:400;opacity:.7;padding:12px 0 10px 4%}.SVHna9q9OEfcnRgsQApR a{align-items:center;color:#000;display:flex;height:15px;justify-content:center;padding:2px 0;text-decoration:none}.SVHna9q9OEfcnRgsQApR svg{height:21px;padding:0 5px 0 0;width:21px}.bKHBAZju47CtSCxnnJiA{display:flex;opacity:.7;padding:12px 15px 0 5px;width:22px}.bKHBAZju47CtSCxnnJiA svg{height:20px}.xpMb360v3V8aRnxX7_nL{transform:translateY(-48px)}.rotate{-webkit-animation:rotation 2s linear infinite;animation:rotation 2s linear infinite}@-webkit-keyframes rotation{0%{-webkit-transform:rotate(0deg)}to{-webkit-transform:rotate(359deg)}}.GdvP66uas3qtWfiwTzJA{background:#fff;display:flex;flex-direction:row;height:100vh;justify-content:center;width:100%}.IP5H8kvoqFD2VzjivCjL{margin-top:15vh;text-align:center}.SGu41FxpKdWxCZaS92UP{font-family:Roboto;font-size:1.2em;font-weight:600;opacity:.6;padding:30px}.RnthWsU1ntwBmPLv4TL5{font-family:Roboto;font-size:.95rem;font-weight:300;opacity:.8}.hmqlzvVkVI3g5oAM7z5I{display:flex;position:fixed;width:100%;z-index:10}.cOxPqxz7seajjZB0B6yg{background:#5e5e5e;border-radius:15px;color:#fff;font-family:Roboto;font-size:.7em;margin:0 auto;min-width:20vmin;padding:5px 15px;text-align:center}.KQ8c7A_9p7Ne_WlQK6u1{align-items:center;display:flex;flex-direction:column;height:100vh;width:100%}.mUnulQeKdK63Fa69JZZ7{font-family:Roboto;font-size:1.5em;font-weight:500;margin:25vh auto 0}.DP6324mRCgdCvUsRfCRU{background:#efefef;border-radius:10px;color:#1e90ff;font-family:Roboto;font-size:1.3em;font-weight:500;margin:10vh auto 0;padding:10px}.SEKBJoxxypE2fBd5SUBV{margin-top:10px;padding:10px 0 10px 4vw}.gTmhEZ7Xgoqp_4KmPls_{color:#545454;font-family:Roboto;font-size:.8rem;font-weight:600}.jQoWQ89N77X3dJ9dyEVz{border-bottom:2px solid #000;margin:10px 0 20px;width:25px}.bMNhhKUnCgUWXaemzXwy{-webkit-overflow-scrolling:touch;-ms-overflow-style:-ms-autohiding-scrollbar;color:#000;display:flex;flex-wrap:nowrap;font-size:.85rem;height:90px;list-style:none;overflow:auto;padding-bottom:15px;width:fit-content;z-index:2}.t46cOluEWhNQ9o7Stmjh{height:90px;overflow:hidden;z-index:2}._7dkJyItt63T9pwxVJDm{flex:0 0 auto;font-size:.6rem;margin:10px 14px 0;opacity:.6;text-align:center;width:22vmin}.HHIQhXi2Kj6vgCusbuuv{color:#369af8!important;font-size:.7rem;opacity:1!important}.ddLrNgMT8Boo2o_08lS9{background-repeat:no-repeat;background-size:contain;height:10vw;margin:0 auto 16px;max-height:50px;max-width:50px;width:10vw}.zHyJ0Y3qEtEAHjVCwkwV{font-family:Roboto;font-weight:600;opacity:.8;text-transform:uppercase}.tHIIbFUSXCgeKCk3d8n1{opacity:1!important}.W4ihOiEiLYUpNbXI4Nzu{overflow-x:scroll}.wHkAv9JwVuwWcb14tyvu{margin-top:10px;padding:10px 4vw}.eMulbovY9GDX2AycSt93{color:#585858;font-family:Roboto;font-size:.8rem;font-weight:600}.DCLQv2C_h2kTmxkcj1Mz{border-bottom:2px solid #585858;margin:10px 0 20px;width:25px}.ZMQoXdfSwbVDQtZv0MZw{display:flex;flex-flow:row wrap;font-family:Roboto;font-size:3.5vw;font-weight:500;justify-content:flex-start;list-style:none}.ZMQoXdfSwbVDQtZv0MZw>a{margin-right:1vw}.ZMQoXdfSwbVDQtZv0MZw>a:nth-child(3n){margin-right:0}.Xmblo6SyNQcS0VdU_DNK{background:#fff;background-color:#efefef;background-position:50% 50%;background-repeat:no-repeat;background-size:cover;border:.5px solid #8dc8ff;border-radius:5px;-webkit-box-shadow:0 4px 4px -3px #369af8;-moz-box-shadow:0 4px 4px -3px #369af8;box-shadow:0 4px 4px -3px #369af8;flex:0 0 0;margin:5px 0;min-height:38vw;min-width:29vw;position:relative;text-align:left}.drZaiyt6pS51aDwAuYLT{background:linear-gradient(0deg,#fff 0,#ffffff00);border-radius:4px;bottom:0;display:flex;flex-direction:column;height:10vh;justify-content:flex-end;margin:0 0 0 .5px;padding:0 0 0 .5px;position:absolute;width:calc(100% - 1px)}.drZaiyt6pS51aDwAuYLT span{margin:0 1vw 1.8vw 1.8vw}.P__F672AHgdZG7v_lCdI{background:#fff;border-bottom:.5px solid #efefef;display:flex;flex-direction:row;height:48px;justify-content:flex-end;position:fixed;top:0;width:100%;z-index:3}.bxrAUMAy1LAYgwslE3wP{font-size:17px}.bxrAUMAy1LAYgwslE3wP a{color:#000;display:flex;height:34px;padding:14px 10px 0 5px;text-decoration:none}.bxrAUMAy1LAYgwslE3wP svg{stroke:#369af8;height:20px}.wRS8O7sJW1hhVIX6LZOt{display:flex}.wRS8O7sJW1hhVIX6LZOt svg{stroke:#369af8;height:48px;width:27px}.wRS8O7sJW1hhVIX6LZOt a{padding:0 15px}.Fgiisq_WTc_Zgiu6kI_w{font-family:Roboto;font-size:16px;font-weight:400;margin-right:auto;opacity:.8;padding:15px 0 0 15px}.ci9NNhjQzHWMDgQ8qRwn{margin-top:48px;padding:30px 0 10px 4vw;position:relative}.WAwlrr2l7yfVTSOXAtKi{color:#545454;font-family:Roboto;font-size:.8rem;font-weight:600}.hsLGtbNUtINfPIlgShrN{border-bottom:2px solid #000;margin:10px 0 20px;width:25px}.kKcHmp3oY2rYB9kO9bV2{overflow:hidden;z-index:2}.ImLYkDSZSXIZHckdgsg9{-webkit-overflow-scrolling:touch;-ms-overflow-style:-ms-autohiding-scrollbar;align-items:center;flex-flow:nowrap;justify-items:flex-start;overflow:auto;padding-bottom:15px;z-index:2}.ImLYkDSZSXIZHckdgsg9::-webkit-scrollbar{display:none}.r2eG3x62RHZQP_ywJMx8{background-position:50%;background-size:cover;border:.5px solid #8dc8ff;border-radius:50%;-webkit-box-shadow:0 4px 4px -3px #369af8;-moz-box-shadow:0 4px 4px -3px #369af8;box-shadow:0 4px 4px -3px #369af8;display:inline-block;height:80px;margin:0 10px 20px;position:relative;width:80px}.r9mlYoQPShF04WPKUAt0{bottom:-30px;color:#696969;font-family:Roboto;font-size:.7rem;max-width:100%;overflow:hidden;position:absolute;text-align:center;text-overflow:ellipsis;white-space:nowrap;width:100%}.xUDC9db_l99M7bWx_BiM{background-blend-mode:luminosity;border-color:#ddd;box-shadow:0 4px 4px -3px #909090;-webkit-box-shadow:0 4px 4px -3px #909090;-moz-box-shadow:0 4px 4px -3px #909090}.dwF2GHioznKoRPnQrDOF{-webkit-animation:_ScdbRb6soU1EmjfECty 1s cubic-bezier(.75,.35,.25,.15) infinite;animation:_ScdbRb6soU1EmjfECty 1s cubic-bezier(.75,.35,.25,.15) infinite;border:8px solid #f1f1f1;border-top-color:#ddd;-webkit-box-shadow:unset;-moz-box-shadow:unset;box-shadow:unset;box-sizing:border-box}@-webkit-keyframes _ScdbRb6soU1EmjfECty{0%{-webkit-transform:rotate(0deg)}to{-webkit-transform:rotate(1turn)}}@keyframes _ScdbRb6soU1EmjfECty{0%{transform:rotate(0deg)}to{transform:rotate(1turn)}}.Wib4n2CQDD6UPfdotqxW{-webkit-overflow-scrolling:touch;-ms-overflow-style:-ms-autohiding-scrollbar;align-items:center;flex-flow:nowrap;justify-items:flex-start;overflow-x:scroll;padding-bottom:15px;z-index:20}.Wib4n2CQDD6UPfdotqxW::-webkit-scrollbar{display:none}.A3Bz9vSREo1VddXZPmMg{position:absolute;right:10px;top:30px}.A3Bz9vSREo1VddXZPmMg button{background:none;border:unset;color:#369af8}.A3Bz9vSREo1VddXZPmMg button.cd_1bHDcNoBI_6WnD71f{color:#bbb}.ozXxI18y8xl_bvbqGD_A{color:inherit;pointer-events:none;text-decoration:none}.GDCz6XzkCksq2BwQc2s8{display:flex;flex-direction:column}.cVLbzMK1naZUCrbITcCd{background:#f9f9f9;font-family:Roboto;margin-top:48px;min-height:calc(100vh - 48px)}._PVtKE6yo8WKWScOkEcg{background:#fff;display:flex;width:100%}.eyZ5qgnVp3WQxUW8Khpn{height:20px;padding:29px 4%;width:24px}.Gjg_etvCoDaqSsuFMpgZ{border-bottom:1px solid #efefef;display:flex;font-weight:400;justify-content:space-between;padding:25px 4% 25px 0;width:calc(88% - 24px)}.WGyybRUvhzYkIHNPSYCt{color:#585858;margin:auto 0;opacity:.7}.uUdOHHWxwG4oPGFM4PZL{-webkit-appearance:none;background-color:#fff;border-color:#fff;color:#369af8;font-size:1rem;height:27px;text-align-last:right}.Cm3T8SAXxwT05g1PEnm8{align-items:center;color:#369af8;display:flex}.Cm3T8SAXxwT05g1PEnm8 svg{height:20px;width:20px}.GYyON_kZarozPZGwER0k{color:#369af8;font-size:1rem}.MLUlJRVhjWEQB9BHS2sw{background:#f9f9f9;height:75px}.Z7HOCAgP5RP8E69EWjj0{color:#585858;font-weight:300;margin:auto 0;opacity:.6}.NXx9aehQpkKJOHG6Pcfm{background:#fff;border-bottom:.5px solid #efefef;display:flex;flex-direction:row;height:48px;position:fixed;top:0;width:100%;z-index:3}.oTJA5CKfg_tfKupCKBIa{align-items:center;display:flex;height:100%;position:absolute}.oTJA5CKfg_tfKupCKBIa svg{stroke:#369af8;height:48px;width:27px}.oTJA5CKfg_tfKupCKBIa a{padding:0 15px 0 10px}.iAMn1f97hDZUdjdohCts{font-family:Roboto;font-size:17px;font-weight:400;margin:auto;opacity:.8}.Zo9zZZacM8AphTey8lb6{background:#fff;bottom:0;height:100vh;left:0;position:fixed;right:0;top:0;width:100%;z-index:3}.ef3P2cEagE5hC3Hiy1aQ{background:unset;border:unset;color:#888;padding:0;position:absolute;right:20px;top:20px;z-index:999999}.IOvkDbn17Ter9ozFnNVh{border:0;margin:0;padding:0;transform-origin:left top;width:900px;z-index:99999}amp-story{color:#fff;font-family:Oswald,sans-serif}amp-story-page{background:linear-gradient(145deg,#4d4dd6,#a227a2)}h1{font-size:2.875em;font-weight:700;line-height:1.174}h1,p{font-weight:400}p{color:#fff;font-size:1.3em;line-height:1.5em}q{font-size:1.1em;font-weight:300}amp-story-grid-layer.zlGHJUcxWfjA0ZHNn_jV{align-content:end}amp-story-grid-layer.cdSckQ5mhay8w0QToqzf{padding:0}amp-story-grid-layer.OkvfTFeMkFk18NneWXjt{align-content:center}amp-img.a5LcXB7PY2cKhsSMfu6z img,amp-video.Qx3a92rGjppRcQ29uK_y video{object-fit:contain}.zQg2PmFhi3eJ7LZzcQbr{background-position:50%;background-repeat:no-repeat;background-size:100% auto}.zQg2PmFhi3eJ7LZzcQbr img{position:absolute;top:50%;transform:translateY(-50%);width:100%}.zDsSP2pOmoLwx5_3UD1f{display:grid;grid-template-columns:30% 70%}.zDsSP2pOmoLwx5_3UD1f div{grid-column-start:2}.zDsSP2pOmoLwx5_3UD1f div.i6sdqcpZr5DapGStL6Vy{grid-column-start:1}.lFn03fN29zsisIWYnUE2{background:#fff;display:flex;flex-direction:row;height:100vh;justify-content:center;width:100%}.LWGJ1WWEyy92CjFO8YIJ{margin-top:15vh;text-align:center}.BfSODipD5isqxAVyrHZY{font-family:Roboto;font-size:1.2em;font-weight:600;opacity:.6;padding:30px}.Dljnu3gdG1pkBNVzZSww{font-family:Roboto;font-size:.95rem;font-weight:300;opacity:.8}.eSvzzYtWlCqeFSHt_uZp{height:100vh;position:relative;width:100%}.cbQpYjDqEDr8GyVGUJ4o{align-items:center;background-color:hsla(0,0%,100%,.4);bottom:25vh;box-shadow:0 1px 5px #ddd;display:flex;height:10vh;justify-content:center;position:absolute;right:50px;width:20%}.oZirmKV6NNHV0fMbpmgf{color:#ccc;height:50%;width:50%}@media only screen and (max-width:320px){html{font-size:1rem}}@media only screen and (min-width:321px){html{font-size:1.05rem}}@media only screen and (min-width:361px){html{font-size:1.095rem}}@media only screen and (min-width:361px) and (min-height:800px){html{font-size:1.25rem}}@media only screen and (min-width:400px){html{font-size:1.2rem}}@media only screen and (min-width:480px){html{font-size:1.4rem}}@media only screen and (min-width:600px){html{font-size:1.6rem}}@media only screen and (min-width:720px){html{font-size:1.6rem}section{margin:auto;max-width:60vh!important}}@media only screen and (min-width:720px) and (min-height:1000px){html{font-size:1.6rem}}@media only screen and (min-width:900px){html{font-size:2.75vh}}progress::-webkit-progress-bar{background:transparent}progress::-webkit-progress-value{background:#1e90ff;transition:width 1s}*{-webkit-touch-callout:none;-webkit-tap-highlight-color:rgba(0,0,0,0);-khtml-tap-highlight-color:transparent;-moz-tap-highlight-color:transparent;-ms-tap-highlight-color:transparent;tap-highlight-color:transparent;outline:0;text-decoration:none;-webkit-user-select:none;-khtml-user-select:none;-moz-user-select:none;-ms-user-select:none;user-select:none}body,html{-webkit-overflow-scrolling:touch}body,li,ul{margin:0}li,ul{padding:0}a{color:inherit}</style><script defer=\"defer\" src=\"/assets/public/styles.bundle.js\"></script><script defer=\"defer\" src=\"/assets/public/576.bundle.js\"></script><script defer=\"defer\" src=\"/assets/public/123.bundle.js\"></script><script defer=\"defer\" src=\"/assets/public/desktop.bundle.js\"></script><script defer=\"defer\" src=\"/assets/public/firebase.bundle.js\"></script><link href=\"/assets/public/styles.style.css\" rel=\"stylesheet\"></head><body><div id=\"container\"><div><div><div class=\"YmiaDj0AgvaLdyATTxIg\"><div class=\"YKSmdW7nhWAEIbmQrJKw\"><div class=\"wve44NJUq8Gu603xj7mq\"><span></span><span></span><span></span><div class=\"lRsuatKUnsWLCEYTR9Iv\">Menu</div></div></div><a href=\"/\"><img src=\"https://assets.inshorts.com/website_assets/images/logo_inshorts.png\" alt=\"Inshorts\" class=\"iyAcz8Lj6UNLauiXVejL\" /></a></div><div style=\"width: 0px; padding: 0px;\" class=\"TxGxEsJgUqc68PmaBJpQ\"><div class=\"fakt5L8hmnoVjOHegIeA\"><div><div class=\"mDgjIwFjqvuRdzgiFhJK\"><a href=\"/en/read/world\"><div class=\"viRdivpyo8BtJtvoV0Dm GGlzLjzDFPOZ4F8jkqsg\">English</div></a><a href=\"/hi/read/world\"><div class=\"klG8752_ZK07jpIutmrg\">\\xe0\\xa4\\xb9\\xe0\\xa4\\xbf\\xe0\\xa4\\xa8\\xe0\\xa5\\x8d\\xe0\\xa4\\xa6\\xe0\\xa5\\x80</div></a></div><div class=\"ISiDKMugDRNFZ4Q1gwWb\">Categories</div></div></div></div></div><div class=\"_7GG_UWB536ZkrvplM16\"><div class=\"AoOfQHhuLzofnX5qGyZx\"><div class=\"gVBPun26EN5_KOnvxsFK\">For the best experience use <a target=\"_blank\" href=\"https://inshorts.com/mobile\" style=\"color:white;appearance: none;font-weight: 500;\">inshorts</a> app on your smartphone</div><div style=\"display: flex;\"><a target=\"_blank\" href=\"https://inshorts.onelink.me/398813699/Website\" style=\"display: flex;\"><img class=\"wEe4zHQAFfoZACC2SRFn\" src=\"https://assets.inshorts.com/website_assets/images/appstore.png\" height=\"52\" width=\"140\" alt=\"inshorts\" /></a><a target=\"_blank\" href=\"https://inshorts.onelink.me/398813699/Website\" style=\"display: flex;\"><img class=\"wEe4zHQAFfoZACC2SRFn\" src=\"https://assets.inshorts.com/website_assets/images/playstore.png\" height=\"52\" width=\"140\" alt=\"inshorts\" /></a></div></div></div><div style=\"min-height: calc(100vh - 348px);\"><div><div itemScope itemType=\"http://schema.org/NewsArticle\" class=\"PmX01nT74iM8UNAIENsC\"><span content itemScope itemProp=\"mainEntityOfPage\" itemType=\"https://schema.org/WebPage\" itemID=\"https://inshorts.com/en/news/what-is-tower-22-us-military-base-attacked-in-jordan-1706589037984\"></span><span itemType=\"https://schema.org/Person\" itemScope=\"itemscope\" itemProp=\"author\"><span itemProp=\"name\" content=\"Pragya Swastik\"></span></span><span itemProp=\"description\" content=\"What is Tower 22, US military base attacked in Jordan?\"></span><span itemProp=\"image\" itemScope itemType=\"https://schema.org/ImageObject\"><meta itemProp=\"url\" content=\"https://nis-gs.pix.in/inshorts/images/v1/variants/jpg/m/2024/01_jan/30_tue/img_1706585741452_481.jpg?\" /><meta itemProp=\"width\" content=\"864\" /><meta itemProp=\"height\" content=\"483\" /></span><span itemType=\"https://schema.org/Organization\" itemScope=\"itemscope\" itemProp=\"publisher\"><span itemProp=\"url\" content=\"https://inshorts.com/\"></span><span itemProp=\"name\" content=\"Inshorts\"></span><span itemProp=\"logo\" itemScope itemType=\"https://schema.org/ImageObject\"><span itemProp=\"url\" content=\"https://assets.inshorts.com/inshorts/images/v1/variants/jpg/m/2018/11_nov/21_wed/img_1542823931298_497.jpg\"></span><meta itemProp=\"width\" content=\"400\" /><meta itemProp=\"height\" content=\"60\" /></span></span><div style=\"overflow: hidden;\" class=\"r_CK6OaFsecGqhiNxLQR + GXPWASMx93K0ajwCIcCA + YBIB_aAKmJgaGzjjCtWh\"><div style=\"background-image: url(https://nis-gs.pix.in/inshorts/images/v1/variants/jpg/xs/2024/01_jan/30_tue/img_1706585741452_481.jpg?)\" class=\"GXPWASMx93K0ajwCIcCA\"></div></div><div class=\"LUWdd1C_3UqqulVsopn0\"><div><div><div><span itemProp=\"headline\" class=\"ddVzQcwl2yPlFt4fteIE\">What is Tower 22, US military base attacked in Jordan?</span></div><div class=\"E3pJPegn7xWCOvv3BEcf\"><a href=\"/prev/en/news/what-is-tower-22-us-military-base-attacked-in-jordan-1706589037984\"><span class=\"f6VR90cMLekcKLeFCS1J\">short</span></a> by <span class=\"author\">Pragya Swastik</span> /<span itemProp=\"datePublished\" content=\"2024-01-30T04:30:37.000Z\"> 04:30 am</span> on <span class=\"date\">Tuesday, 30 January, 2024</span></div></div><div><div itemProp=\"articleBody\" class=\"KkupEonoVHxNv4A_D7UG\">Three US troops were killed and dozens wounded after a drone hit \\'Tower 22\\', a military outpost in Jordan. It holds a strategically important location in Jordan, at the most northeastern point where the country\\'s borders meet Syria and Iraq. Tower 22 serves as a supply hub for the nearby US garrison of Al-Tanf located across the border in Syria.</div></div></div><div><div class=\"VW4Ta0ioG_64Xx1ROszP\">read more at <a target=\"_blank\" href=\"https://www.reuters.com/world/middle-east/what-is-tower-22-site-attack-us-troops-jordan-2024-01-28/?utm_campaign=fullarticle&amp;utm_medium=referral&amp;utm_source=inshorts\" rel=\"noreferrer\" class=\"LFn0sRS51HkFD0OHeCdA\">Reuters</a></div></div></div></div></div><div><div itemScope itemType=\"http://schema.org/NewsArticle\" class=\"PmX01nT74iM8UNAIENsC\"><span content itemScope itemProp=\"mainEntityOfPage\" itemType=\"https://schema.org/WebPage\" itemID=\"https://inshorts.com/en/news/maldives-lists-top-tourist-markets-india-falls-below-china-to-5th-spot-1706588932028\"></span><span itemType=\"https://schema.org/Person\" itemScope=\"itemscope\" itemProp=\"author\"><span itemProp=\"name\" content=\"Sakshita Khosla\"></span></span><span itemProp=\"description\" content=\"Maldives lists top tourist markets, India falls below China to 5th spot\"></span><span itemProp=\"image\" itemScope itemType=\"https://schema.org/ImageObject\"><meta itemProp=\"url\" content=\"https://nis-gs.pix.in/inshorts/images/v1/variants/jpg/m/2024/01_jan/30_tue/img_1706588395182_444.jpg?\" /><meta itemProp=\"width\" content=\"864\" /><meta itemProp=\"height\" content=\"483\" /></span><span itemType=\"https://schema.org/Organization\" itemScope=\"itemscope\" itemProp=\"publisher\"><span itemProp=\"url\" content=\"https://inshorts.com/\"></span><span itemProp=\"name\" content=\"Inshorts\"></span><span itemProp=\"logo\" itemScope itemType=\"https://schema.org/ImageObject\"><span itemProp=\"url\" content=\"https://assets.inshorts.com/inshorts/images/v1/variants/jpg/m/2018/11_nov/21_wed/img_1542823931298_497.jpg\"></span><meta itemProp=\"width\" content=\"400\" /><meta itemProp=\"height\" content=\"60\" /></span></span><div style=\"overflow: hidden;\" class=\"r_CK6OaFsecGqhiNxLQR + GXPWASMx93K0ajwCIcCA + YBIB_aAKmJgaGzjjCtWh\"><div style=\"background-image: url(https://nis-gs.pix.in/inshorts/images/v1/variants/jpg/xs/2024/01_jan/30_tue/img_1706588395182_444.jpg?)\" class=\"GXPWASMx93K0ajwCIcCA\"></div></div><div class=\"LUWdd1C_3UqqulVsopn0\"><div><div><div><span itemProp=\"headline\" class=\"ddVzQcwl2yPlFt4fteIE\">Maldives lists top tourist markets, India falls below China to 5th spot</span></div><div class=\"E3pJPegn7xWCOvv3BEcf\"><a href=\"/prev/en/news/maldives-lists-top-tourist-markets-india-falls-below-china-to-5th-spot-1706588932028\"><span class=\"f6VR90cMLekcKLeFCS1J\">short</span></a> by <span class=\"author\">Sakshita Khosla</span> /<span itemProp=\"datePublished\" content=\"2024-01-30T04:28:52.000Z\"> 04:28 am</span> on <span class=\"date\">Tuesday, 30 January, 2024</span></div></div><div><div itemProp=\"articleBody\" class=\"KkupEonoVHxNv4A_D7UG\">India is no longer the top tourist market for Maldives, as per the latest data released by the nation, which has ranked Russia on top. Italy, China and the UK occupy the second, third and fourth spots on the list, respectively. Amid a diplomatic row, Indian tourists visiting Maldives dropped to 13,989 in January 2024.</div></div></div><div><div class=\"VW4Ta0ioG_64Xx1ROszP\">read more at <a target=\"_blank\" href=\"https://www.news18.com/amp/world/india-maldives-row-lakshadweep-indians-no-more-top-tourist-market-drops-5th-spot-behind-russia-china-latest-news-8758789.html?utm_campaign=fullarticle&amp;utm_medium=referral&amp;utm_source=inshorts\" rel=\"noreferrer\" class=\"LFn0sRS51HkFD0OHeCdA\">News18</a></div></div></div></div></div><div><div itemScope itemType=\"http://schema.org/NewsArticle\" class=\"PmX01nT74iM8UNAIENsC\"><span content itemScope itemProp=\"mainEntityOfPage\" itemType=\"https://schema.org/WebPage\" itemID=\"https://inshorts.com/en/news/indian-navy-rescues-19-pakistanis-from-somali-pirates-in-arabian-sea-1706588530385\"></span><span itemType=\"https://schema.org/Person\" itemScope=\"itemscope\" itemProp=\"author\"><span itemProp=\"name\" content=\"Pragya Swastik\"></span></span><span itemProp=\"description\" content=\"Indian Navy rescues 19 Pakistanis from Somali pirates in Arabian Sea\"></span><span itemProp=\"image\" itemScope itemType=\"https://schema.org/ImageObject\"><meta itemProp=\"url\" content=\"https://nis-gs.pix.in/inshorts/images/v1/variants/jpg/m/2024/01_jan/30_tue/img_1706587802400_770.jpg?\" /><meta itemProp=\"width\" content=\"864\" /><meta itemProp=\"height\" content=\"483\" /></span><span itemType=\"https://schema.org/Organization\" itemScope=\"itemscope\" itemProp=\"publisher\"><span itemProp=\"url\" content=\"https://inshorts.com/\"></span><span itemProp=\"name\" content=\"Inshorts\"></span><span itemProp=\"logo\" itemScope itemType=\"https://schema.org/ImageObject\"><span itemProp=\"url\" content=\"https://assets.inshorts.com/inshorts/images/v1/variants/jpg/m/2018/11_nov/21_wed/img_1542823931298_497.jpg\"></span><meta itemProp=\"width\" content=\"400\" /><meta itemProp=\"height\" content=\"60\" /></span></span><div style=\"overflow: hidden;\" class=\"r_CK6OaFsecGqhiNxLQR + GXPWASMx93K0ajwCIcCA + YBIB_aAKmJgaGzjjCtWh\"><div style=\"background-image: url(https://nis-gs.pix.in/inshorts/images/v1/variants/jpg/xs/2024/01_jan/30_tue/img_1706587802400_770.jpg?)\" class=\"GXPWASMx93K0ajwCIcCA\"></div></div><div class=\"LUWdd1C_3UqqulVsopn0\"><div><div><div><span itemProp=\"headline\" class=\"ddVzQcwl2yPlFt4fteIE\">Indian Navy rescues 19 Pakistanis from Somali pirates in Arabian Sea</span></div><div class=\"E3pJPegn7xWCOvv3BEcf\"><a href=\"/prev/en/news/indian-navy-rescues-19-pakistanis-from-somali-pirates-in-arabian-sea-1706588530385\"><span class=\"f6VR90cMLekcKLeFCS1J\">short</span></a> by <span class=\"author\">Pragya Swastik</span> /<span itemProp=\"datePublished\" content=\"2024-01-30T04:22:10.000Z\"> 04:22 am</span> on <span class=\"date\">Tuesday, 30 January, 2024</span></div></div><div><div itemProp=\"articleBody\" class=\"KkupEonoVHxNv4A_D7UG\">The Indian Navy on Tuesday said INS Sumitra rescued 19 Pakistani crew members and a vessel from Somali pirates off the East Coast of Somalia. The Indian Navy rescued the fishing vessel Al Naeemi and her crew of 19 Pakistani nationals from 11 Somali pirates. This was the second successful anti-piracy operation by INS Sumitra in the last few days.</div></div></div><div><div class=\"VW4Ta0ioG_64Xx1ROszP\">read more at <a target=\"_blank\" href=\"https://twitter.com/indiannavy/status/1752175155705774581?utm_campaign=fullarticle&amp;utm_medium=referral&amp;utm_source=inshorts\" rel=\"noreferrer\" class=\"LFn0sRS51HkFD0OHeCdA\">X (formerly Twitter)</a></div></div></div></div></div><div><div itemScope itemType=\"http://schema.org/NewsArticle\" class=\"PmX01nT74iM8UNAIENsC\"><span content itemScope itemProp=\"mainEntityOfPage\" itemType=\"https://schema.org/WebPage\" itemID=\"https://inshorts.com/en/news/toyota-urges-owners-of-50000-cars-to-stop-driving-after-26-deaths-in-us-due-to-faulty-airbags-1706588398924\"></span><span itemType=\"https://schema.org/Person\" itemScope=\"itemscope\" itemProp=\"author\"><span itemProp=\"name\" content=\"Shreyasi Banerjee\"></span></span><span itemProp=\"description\" content=\"Toyota urges owners of 50,000 cars to stop driving after 26 deaths in US due to faulty airbags\"></span><span itemProp=\"image\" itemScope itemType=\"https://schema.org/ImageObject\"><meta itemProp=\"url\" content=\"https://nis-gs.pix.in/inshorts/images/v1/variants/jpg/m/2024/01_jan/30_tue/img_1706587696772_867.jpg?\" /><meta itemProp=\"width\" content=\"864\" /><meta itemProp=\"height\" content=\"483\" /></span><span itemType=\"https://schema.org/Organization\" itemScope=\"itemscope\" itemProp=\"publisher\"><span itemProp=\"url\" content=\"https://inshorts.com/\"></span><span itemProp=\"name\" content=\"Inshorts\"></span><span itemProp=\"logo\" itemScope itemType=\"https://schema.org/ImageObject\"><span itemProp=\"url\" content=\"https://assets.inshorts.com/inshorts/images/v1/variants/jpg/m/2018/11_nov/21_wed/img_1542823931298_497.jpg\"></span><meta itemProp=\"width\" content=\"400\" /><meta itemProp=\"height\" content=\"60\" /></span></span><div style=\"overflow: hidden;\" class=\"r_CK6OaFsecGqhiNxLQR + GXPWASMx93K0ajwCIcCA + YBIB_aAKmJgaGzjjCtWh\"><div style=\"background-image: url(https://nis-gs.pix.in/inshorts/images/v1/variants/jpg/xs/2024/01_jan/30_tue/img_1706587696772_867.jpg?)\" class=\"GXPWASMx93K0ajwCIcCA\"></div></div><div class=\"LUWdd1C_3UqqulVsopn0\"><div><div><div><span itemProp=\"headline\" class=\"ddVzQcwl2yPlFt4fteIE\">Toyota urges owners of 50,000 cars to stop driving after 26 deaths in US due to faulty airbags</span></div><div class=\"E3pJPegn7xWCOvv3BEcf\"><a href=\"/prev/en/news/toyota-urges-owners-of-50000-cars-to-stop-driving-after-26-deaths-in-us-due-to-faulty-airbags-1706588398924\"><span class=\"f6VR90cMLekcKLeFCS1J\">short</span></a> by <span class=\"author\">Shreyasi Banerjee</span> /<span itemProp=\"datePublished\" content=\"2024-01-30T04:19:58.000Z\"> 04:19 am</span> on <span class=\"date\">Tuesday, 30 January, 2024</span></div></div><div><div itemProp=\"articleBody\" class=\"KkupEonoVHxNv4A_D7UG\">Toyota is telling owners of about 50,000 older Corolla, Corolla Matrix and RAV4 models to stop driving them because their Takata airbag inflators are at risk of exploding. Toyota added that the vehicles\\' airbag inflators could explode and hurl debris, leading to death or injuries. At least 26 people in the US have been killed by Takata inflators since 2009.</div></div></div><div><div class=\"VW4Ta0ioG_64Xx1ROszP\">read more at <a target=\"_blank\" href=\"https://www.hindustantimes.com/world-news/us-news/toyota-urges-drivers-of-50-000-cars-to-stop-driving-until-faulty-airbags-are-fixed-after-26-killed-in-us-since-may-2009-101706583987756-amp.html?utm_campaign=fullarticle&amp;utm_medium=referral&amp;utm_source=inshorts\" rel=\"noreferrer\" class=\"LFn0sRS51HkFD0OHeCdA\">Hindustan Times</a></div></div></div></div></div><div><div itemScope itemType=\"http://schema.org/NewsArticle\" class=\"PmX01nT74iM8UNAIENsC\"><span content itemScope itemProp=\"mainEntityOfPage\" itemType=\"https://schema.org/WebPage\" itemID=\"https://inshorts.com/en/news/brutal-heinous-incident-india-after-25yearold-indian-student-vivek-murdered-in-us-1706585089309\"></span><span itemType=\"https://schema.org/Person\" itemScope=\"itemscope\" itemProp=\"author\"><span itemProp=\"name\" content=\"Shreyasi Banerjee\"></span></span><span itemProp=\"description\" content=\"Brutal, heinous incident: India after 25-year-old Indian student Vivek murdered in US\"></span><span itemProp=\"image\" itemScope itemType=\"https://schema.org/ImageObject\"><meta itemProp=\"url\" content=\"https://nis-gs.pix.in/inshorts/images/v1/variants/jpg/m/2024/01_jan/30_tue/img_1706584413117_759.jpg?\" /><meta itemProp=\"width\" content=\"864\" /><meta itemProp=\"height\" content=\"483\" /></span><span itemType=\"https://schema.org/Organization\" itemScope=\"itemscope\" itemProp=\"publisher\"><span itemProp=\"url\" content=\"https://inshorts.com/\"></span><span itemProp=\"name\" content=\"Inshorts\"></span><span itemProp=\"logo\" itemScope itemType=\"https://schema.org/ImageObject\"><span itemProp=\"url\" content=\"https://assets.inshorts.com/inshorts/images/v1/variants/jpg/m/2018/11_nov/21_wed/img_1542823931298_497.jpg\"></span><meta itemProp=\"width\" content=\"400\" /><meta itemProp=\"height\" content=\"60\" /></span></span><div style=\"overflow: hidden;\" class=\"r_CK6OaFsecGqhiNxLQR + GXPWASMx93K0ajwCIcCA + YBIB_aAKmJgaGzjjCtWh\"><div style=\"background-image: url(https://nis-gs.pix.in/inshorts/images/v1/variants/jpg/xs/2024/01_jan/30_tue/img_1706584413117_759.jpg?)\" class=\"GXPWASMx93K0ajwCIcCA\"></div></div><div class=\"LUWdd1C_3UqqulVsopn0\"><div><div><div><span itemProp=\"headline\" class=\"ddVzQcwl2yPlFt4fteIE\">Brutal, heinous incident: India after 25-year-old Indian student Vivek murdered in US</span></div><div class=\"E3pJPegn7xWCOvv3BEcf\"><a href=\"/prev/en/news/brutal-heinous-incident-india-after-25yearold-indian-student-vivek-murdered-in-us-1706585089309\"><span class=\"f6VR90cMLekcKLeFCS1J\">short</span></a> by <span class=\"author\">Shreyasi Banerjee</span> /<span itemProp=\"datePublished\" content=\"2024-01-30T03:24:49.000Z\"> 03:24 am</span> on <span class=\"date\">Tuesday, 30 January, 2024</span></div></div><div><div itemProp=\"articleBody\" class=\"KkupEonoVHxNv4A_D7UG\">The Consulate General of India in the US\\' Atlanta has &quot;strongly condemned&quot; the murder of 25-year-old Vivek Saini by a homeless drug addict, whom the Indian student had been helping for past several days. &quot;We\\'re deeply anguished by the terrifying, brutal and heinous incident,&quot; the consulate said. &quot;US authorities have arrested the accused and are investigating the case,&quot; it added.</div></div></div><div><div class=\"VW4Ta0ioG_64Xx1ROszP\">read more at <a target=\"_blank\" href=\"https://www.hindustantimes.com/india-news/india-condemns-fatal-attack-on-25-year-old-indian-student-in-us-101706556355008-amp.html?utm_campaign=fullarticle&amp;utm_medium=referral&amp;utm_source=inshorts\" rel=\"noreferrer\" class=\"LFn0sRS51HkFD0OHeCdA\">Hindustan Times</a></div></div></div></div></div><div><div itemScope itemType=\"http://schema.org/NewsArticle\" class=\"PmX01nT74iM8UNAIENsC\"><span content itemScope itemProp=\"mainEntityOfPage\" itemType=\"https://schema.org/WebPage\" itemID=\"https://inshorts.com/en/news/indian-student-neel-found-dead-in-us-a-day-after-his-mother-reported-him-missing-1706585025911\"></span><span itemType=\"https://schema.org/Person\" itemScope=\"itemscope\" itemProp=\"author\"><span itemProp=\"name\" content=\"Sakshita Khosla\"></span></span><span itemProp=\"description\" content=\"Indian student Neel found dead in US a day after his mother reported him missing\"></span><span itemProp=\"image\" itemScope itemType=\"https://schema.org/ImageObject\"><meta itemProp=\"url\" content=\"https://nis-gs.pix.in/inshorts/images/v1/variants/jpg/m/2024/01_jan/30_tue/img_1706584348984_888.jpg?\" /><meta itemProp=\"width\" content=\"864\" /><meta itemProp=\"height\" content=\"483\" /></span><span itemType=\"https://schema.org/Organization\" itemScope=\"itemscope\" itemProp=\"publisher\"><span itemProp=\"url\" content=\"https://inshorts.com/\"></span><span itemProp=\"name\" content=\"Inshorts\"></span><span itemProp=\"logo\" itemScope itemType=\"https://schema.org/ImageObject\"><span itemProp=\"url\" content=\"https://assets.inshorts.com/inshorts/images/v1/variants/jpg/m/2018/11_nov/21_wed/img_1542823931298_497.jpg\"></span><meta itemProp=\"width\" content=\"400\" /><meta itemProp=\"height\" content=\"60\" /></span></span><div style=\"overflow: hidden;\" class=\"r_CK6OaFsecGqhiNxLQR + GXPWASMx93K0ajwCIcCA + YBIB_aAKmJgaGzjjCtWh\"><div style=\"background-image: url(https://nis-gs.pix.in/inshorts/images/v1/variants/jpg/xs/2024/01_jan/30_tue/img_1706584348984_888.jpg?)\" class=\"GXPWASMx93K0ajwCIcCA\"></div></div><div class=\"LUWdd1C_3UqqulVsopn0\"><div><div><div><span itemProp=\"headline\" class=\"ddVzQcwl2yPlFt4fteIE\">Indian student Neel found dead in US a day after his mother reported him missing</span></div><div class=\"E3pJPegn7xWCOvv3BEcf\"><a href=\"/prev/en/news/indian-student-neel-found-dead-in-us-a-day-after-his-mother-reported-him-missing-1706585025911\"><span class=\"f6VR90cMLekcKLeFCS1J\">short</span></a> by <span class=\"author\">Sakshita Khosla</span> /<span itemProp=\"datePublished\" content=\"2024-01-30T03:23:45.000Z\"> 03:23 am</span> on <span class=\"date\">Tuesday, 30 January, 2024</span></div></div><div><div itemProp=\"articleBody\" class=\"KkupEonoVHxNv4A_D7UG\">Indian student Neel Acharya, who had been missing since Sunday in the US, has been confirmed dead by the authorities. Acharya was studying in Purdue University in Indiana and his mother had alerted the authorities that he was missing via a post on X on January 28. Neel was a &quot;driven individual and academically talented&quot;, a Purdue University official said.</div></div></div><div><div class=\"VW4Ta0ioG_64Xx1ROszP\">read more at <a target=\"_blank\" href=\"https://www.news18.com/amp/world/neel-acharya-indian-student-studying-us-indiana-found-dead-one-day-after-he-was-reported-missing-8759258.html?utm_campaign=fullarticle&amp;utm_medium=referral&amp;utm_source=inshorts\" rel=\"noreferrer\" class=\"LFn0sRS51HkFD0OHeCdA\">News18</a></div></div></div></div></div><div><div itemScope itemType=\"http://schema.org/NewsArticle\" class=\"PmX01nT74iM8UNAIENsC\"><span content itemScope itemProp=\"mainEntityOfPage\" itemType=\"https://schema.org/WebPage\" itemID=\"https://inshorts.com/en/news/missing-indian-student-of-purdue-university-confirmed-dead-1706581771498\"></span><span itemType=\"https://schema.org/Person\" itemScope=\"itemscope\" itemProp=\"author\"><span itemProp=\"name\" content=\"Farida\"></span></span><span itemProp=\"description\" content=\"Missing Indian Student of Purdue University Confirmed Dead\"></span><span itemProp=\"image\" itemScope itemType=\"https://schema.org/ImageObject\"><meta itemProp=\"url\" content=\"https://nis-gs.pix.in/inshorts/images/v1/variants/jpg/m/2024/01_jan/30_tue/img_1706581608665_402.jpg?\" /><meta itemProp=\"width\" content=\"864\" /><meta itemProp=\"height\" content=\"483\" /></span><span itemType=\"https://schema.org/Organization\" itemScope=\"itemscope\" itemProp=\"publisher\"><span itemProp=\"url\" content=\"https://inshorts.com/\"></span><span itemProp=\"name\" content=\"Inshorts\"></span><span itemProp=\"logo\" itemScope itemType=\"https://schema.org/ImageObject\"><span itemProp=\"url\" content=\"https://assets.inshorts.com/inshorts/images/v1/variants/jpg/m/2018/11_nov/21_wed/img_1542823931298_497.jpg\"></span><meta itemProp=\"width\" content=\"400\" /><meta itemProp=\"height\" content=\"60\" /></span></span><div style=\"overflow: hidden;\" class=\"r_CK6OaFsecGqhiNxLQR + GXPWASMx93K0ajwCIcCA + YBIB_aAKmJgaGzjjCtWh\"><div style=\"background-image: url(https://nis-gs.pix.in/inshorts/images/v1/variants/jpg/xs/2024/01_jan/30_tue/img_1706581608665_402.jpg?)\" class=\"GXPWASMx93K0ajwCIcCA\"></div></div><div class=\"LUWdd1C_3UqqulVsopn0\"><div><div><div><span itemProp=\"headline\" class=\"ddVzQcwl2yPlFt4fteIE\">Missing Indian Student of Purdue University Confirmed Dead</span></div><div class=\"E3pJPegn7xWCOvv3BEcf\"><a href=\"/prev/en/news/missing-indian-student-of-purdue-university-confirmed-dead-1706581771498\"><span class=\"f6VR90cMLekcKLeFCS1J\">short</span></a> by <span class=\"author\">Farida</span> /<span itemProp=\"datePublished\" content=\"2024-01-30T02:29:31.000Z\"> 02:29 am</span> on <span class=\"date\">Tuesday, 30 January, 2024</span></div></div><div><div itemProp=\"articleBody\" class=\"KkupEonoVHxNv4A_D7UG\">An Indian student studying at Purdue University who had been reported missing since Sunday has tragically been confirmed dead, according to the Tippecanoe County Coroner. Neel Acharya, the deceased student, was found on Purdue s campus on Sunday morning after authorities responded to a call regarding a possible dead body.</div></div></div><div><div class=\"VW4Ta0ioG_64Xx1ROszP\">read more at <a target=\"_blank\" href=\"https://newskarnataka.com/world/missing-indian-student-of-purdue-university-confirmed-dead/30012024?utm_campaign=fullarticle&amp;utm_medium=referral&amp;utm_source=inshorts\" rel=\"noreferrer\" class=\"LFn0sRS51HkFD0OHeCdA\">News Karnataka</a></div></div></div></div></div><div><div itemScope itemType=\"http://schema.org/NewsArticle\" class=\"PmX01nT74iM8UNAIENsC\"><span content itemScope itemProp=\"mainEntityOfPage\" itemType=\"https://schema.org/WebPage\" itemID=\"https://inshorts.com/en/news/congratulations-pm-modi-as-assoumani-reelected-as-comoros-prez-1706549188583\"></span><span itemType=\"https://schema.org/Person\" itemScope=\"itemscope\" itemProp=\"author\"><span itemProp=\"name\" content=\"Nidhi Sinha\"></span></span><span itemProp=\"description\" content=\"Congratulations: PM Modi as Assoumani re-elected as Comoros Prez\"></span><span itemProp=\"image\" itemScope itemType=\"https://schema.org/ImageObject\"><meta itemProp=\"url\" content=\"https://nis-gs.pix.in/inshorts/images/v1/variants/jpg/m/2024/01_jan/29_mon/img_1706548223879_192.jpg?\" /><meta itemProp=\"width\" content=\"864\" /><meta itemProp=\"height\" content=\"483\" /></span><span itemType=\"https://schema.org/Organization\" itemScope=\"itemscope\" itemProp=\"publisher\"><span itemProp=\"url\" content=\"https://inshorts.com/\"></span><span itemProp=\"name\" content=\"Inshorts\"></span><span itemProp=\"logo\" itemScope itemType=\"https://schema.org/ImageObject\"><span itemProp=\"url\" content=\"https://assets.inshorts.com/inshorts/images/v1/variants/jpg/m/2018/11_nov/21_wed/img_1542823931298_497.jpg\"></span><meta itemProp=\"width\" content=\"400\" /><meta itemProp=\"height\" content=\"60\" /></span></span><div style=\"overflow: hidden;\" class=\"r_CK6OaFsecGqhiNxLQR + GXPWASMx93K0ajwCIcCA + YBIB_aAKmJgaGzjjCtWh\"><div style=\"background-image: url(https://nis-gs.pix.in/inshorts/images/v1/variants/jpg/xs/2024/01_jan/29_mon/img_1706548223879_192.jpg?)\" class=\"GXPWASMx93K0ajwCIcCA\"></div></div><div class=\"LUWdd1C_3UqqulVsopn0\"><div><div><div><span itemProp=\"headline\" class=\"ddVzQcwl2yPlFt4fteIE\">Congratulations: PM Modi as Assoumani re-elected as Comoros Prez</span></div><div class=\"E3pJPegn7xWCOvv3BEcf\"><a href=\"/prev/en/news/congratulations-pm-modi-as-assoumani-reelected-as-comoros-prez-1706549188583\"><span class=\"f6VR90cMLekcKLeFCS1J\">short</span></a> by <span class=\"author\">Nidhi Sinha</span> /<span itemProp=\"datePublished\" content=\"2024-01-29T17:26:28.000Z\"> 05:26 pm</span> on <span class=\"date\">Monday, 29 January, 2024</span></div></div><div><div itemProp=\"articleBody\" class=\"KkupEonoVHxNv4A_D7UG\">Prime Minister Narendra Modi took to social media on Monday to send his &quot;heartiest congratulations&quot; to Azali Assoumani, who has been re-elected as the President of Comoros. &quot;Look forward to continue working together to further strengthen India-Comoros partnership, India-Africa partnership and \\'Vision Sagar\\',&quot; PM Modi said. Assoumani attended G20 Summit in India as African Union Chairman last year.</div></div></div><div><div class=\"VW4Ta0ioG_64Xx1ROszP\">read more at <a target=\"_blank\" href=\"https://twitter.com/PTI_News/status/1752012767710646364?utm_campaign=fullarticle&amp;utm_medium=referral&amp;utm_source=inshorts\" rel=\"noreferrer\" class=\"LFn0sRS51HkFD0OHeCdA\">PTI</a></div></div></div></div></div><div><div itemScope itemType=\"http://schema.org/NewsArticle\" class=\"PmX01nT74iM8UNAIENsC\"><span content itemScope itemProp=\"mainEntityOfPage\" itemType=\"https://schema.org/WebPage\" itemID=\"https://inshorts.com/en/news/trump-cant-bully-his-way-into-winning-gops-nomination-haley-1706547158606\"></span><span itemType=\"https://schema.org/Person\" itemScope=\"itemscope\" itemProp=\"author\"><span itemProp=\"name\" content=\"Disha Jana\"></span></span><span itemProp=\"description\" content=\"Trump can\\'t bully his way into winning GOP\\'s nomination: Haley\"></span><span itemProp=\"image\" itemScope itemType=\"https://schema.org/ImageObject\"><meta itemProp=\"url\" content=\"https://nis-gs.pix.in/inshorts/images/v1/variants/jpg/m/2024/01_jan/29_mon/img_1706543026914_611.jpg?\" /><meta itemProp=\"width\" content=\"864\" /><meta itemProp=\"height\" content=\"483\" /></span><span itemType=\"https://schema.org/Organization\" itemScope=\"itemscope\" itemProp=\"publisher\"><span itemProp=\"url\" content=\"https://inshorts.com/\"></span><span itemProp=\"name\" content=\"Inshorts\"></span><span itemProp=\"logo\" itemScope itemType=\"https://schema.org/ImageObject\"><span itemProp=\"url\" content=\"https://assets.inshorts.com/inshorts/images/v1/variants/jpg/m/2018/11_nov/21_wed/img_1542823931298_497.jpg\"></span><meta itemProp=\"width\" content=\"400\" /><meta itemProp=\"height\" content=\"60\" /></span></span><div style=\"overflow: hidden;\" class=\"r_CK6OaFsecGqhiNxLQR + GXPWASMx93K0ajwCIcCA + YBIB_aAKmJgaGzjjCtWh\"><div style=\"background-image: url(https://nis-gs.pix.in/inshorts/images/v1/variants/jpg/xs/2024/01_jan/29_mon/img_1706543026914_611.jpg?)\" class=\"GXPWASMx93K0ajwCIcCA\"></div></div><div class=\"LUWdd1C_3UqqulVsopn0\"><div><div><div><span itemProp=\"headline\" class=\"ddVzQcwl2yPlFt4fteIE\">Trump can\\'t bully his way into winning GOP\\'s nomination: Haley</span></div><div class=\"E3pJPegn7xWCOvv3BEcf\"><a href=\"/prev/en/news/trump-cant-bully-his-way-into-winning-gops-nomination-haley-1706547158606\"><span class=\"f6VR90cMLekcKLeFCS1J\">short</span></a> by <span class=\"author\">Disha Jana</span> /<span itemProp=\"datePublished\" content=\"2024-01-29T16:52:38.000Z\"> 04:52 pm</span> on <span class=\"date\">Monday, 29 January, 2024</span></div></div><div><div itemProp=\"articleBody\" class=\"KkupEonoVHxNv4A_D7UG\">Indian-American US Presidential candidate Nikki Haley has said that ex-US President Donald Trump can\\'t &quot;bully&quot; his way into winning the nomination of Grand Old Party (GOP), also known as Republican Party. Haley has lost both the Iowa caucuses and the New Hampshire primary but has refused to exit the race. The next republican primary will be held in South Carolina.</div></div></div><div><div class=\"VW4Ta0ioG_64Xx1ROszP\">read more at <a target=\"_blank\" href=\"https://repository.inshorts.com/articles/en/PTI/d5a4969e-39fb-4044-ae35-153668b46e04?utm_campaign=fullarticle&amp;utm_medium=referral&amp;utm_source=inshorts\" rel=\"noreferrer\" class=\"LFn0sRS51HkFD0OHeCdA\">PTI</a></div></div></div></div></div><div><div itemScope itemType=\"http://schema.org/NewsArticle\" class=\"PmX01nT74iM8UNAIENsC\"><span content itemScope itemProp=\"mainEntityOfPage\" itemType=\"https://schema.org/WebPage\" itemID=\"https://inshorts.com/en/news/thailand-is-in-recession-deputy-fm-julapun-1706546921243\"></span><span itemType=\"https://schema.org/Person\" itemScope=\"itemscope\" itemProp=\"author\"><span itemProp=\"name\" content=\"Hiral Goyal\"></span></span><span itemProp=\"description\" content=\"Thailand is in recession: Deputy FM Julapun\"></span><span itemProp=\"image\" itemScope itemType=\"https://schema.org/ImageObject\"><meta itemProp=\"url\" content=\"https://nis-gs.pix.in/inshorts/images/v1/variants/jpg/m/2024/01_jan/29_mon/img_1706545024222_156.jpg?\" /><meta itemProp=\"width\" content=\"864\" /><meta itemProp=\"height\" content=\"483\" /></span><span itemType=\"https://schema.org/Organization\" itemScope=\"itemscope\" itemProp=\"publisher\"><span itemProp=\"url\" content=\"https://inshorts.com/\"></span><span itemProp=\"name\" content=\"Inshorts\"></span><span itemProp=\"logo\" itemScope itemType=\"https://schema.org/ImageObject\"><span itemProp=\"url\" content=\"https://assets.inshorts.com/inshorts/images/v1/variants/jpg/m/2018/11_nov/21_wed/img_1542823931298_497.jpg\"></span><meta itemProp=\"width\" content=\"400\" /><meta itemProp=\"height\" content=\"60\" /></span></span><div style=\"overflow: hidden;\" class=\"r_CK6OaFsecGqhiNxLQR + GXPWASMx93K0ajwCIcCA + YBIB_aAKmJgaGzjjCtWh\"><div style=\"background-image: url(https://nis-gs.pix.in/inshorts/images/v1/variants/jpg/xs/2024/01_jan/29_mon/img_1706545024222_156.jpg?)\" class=\"GXPWASMx93K0ajwCIcCA\"></div></div><div class=\"LUWdd1C_3UqqulVsopn0\"><div><div><div><span itemProp=\"headline\" class=\"ddVzQcwl2yPlFt4fteIE\">Thailand is in recession: Deputy FM Julapun</span></div><div class=\"E3pJPegn7xWCOvv3BEcf\"><a href=\"/prev/en/news/thailand-is-in-recession-deputy-fm-julapun-1706546921243\"><span class=\"f6VR90cMLekcKLeFCS1J\">short</span></a> by <span class=\"author\">Hiral Goyal</span> /<span itemProp=\"datePublished\" content=\"2024-01-29T16:48:41.000Z\"> 04:48 pm</span> on <span class=\"date\">Monday, 29 January, 2024</span></div></div><div><div itemProp=\"articleBody\" class=\"KkupEonoVHxNv4A_D7UG\">Thailand\\'s economy is in a state of recession, Deputy Finance Minister Julapun Amornvivat said. Citing high debt burden of households and the private sector, he said, &quot;It\\'s difficult to drive the economy forward.&quot; Julapun has urged the country\\'s central bank to cut interest rates, which is at a decade-high of 2.50%, so that it will help lower high borrowing costs.</div></div></div><div><div class=\"VW4Ta0ioG_64Xx1ROszP\">read more at <a target=\"_blank\" href=\"https://www.reuters.com/markets/asia/thai-economy-recession-needs-boost-finance-official-2024-01-29/?utm_campaign=fullarticle&amp;utm_medium=referral&amp;utm_source=inshorts\" rel=\"noreferrer\" class=\"LFn0sRS51HkFD0OHeCdA\">Reuters</a></div></div></div></div></div><div class=\"JIMrm2g5L9csgTtobp2g\">Load More</div></div><div><footer class=\"wEumTDYB6eDIXyvFoop4\"><div class=\"qGX5vBk6QkTdiOnlhv0h\"><div class=\"LwhH_gRIbg5VIc0J0YqN\"><div class=\"iv7aKfs5Gt6PtjvcS8QG\"><div><div class=\"oKGmoEhaIPPGnMP9uOm_\"><img width=\"160px\" height=\"48px\" src=\"https://assets.inshorts.com/website_assets/images/logo_footer.png\" alt=\"inshorts\" /></div><div class=\"Ifsiqs80e9rHfmAGOa7M\"><span class=\"IdWAVH5mzwaBUBNlnoaJ\"><span class=\"FqFMAiJrixIx0TvrCgBX\">Inshorts</span> Pte. Ltd.</span><br /><div class=\"IdWAVH5mzwaBUBNlnoaJ\">\\xc2\\xa9<span style=\"font-size: 12px;\">COPYRIGHT 2024  </span></div></div></div><div class=\"rSEHXWWeEOaR0W1vhOJp\"><div class=\"kpbhIVsZHJTrp8In2UNh\"><img width=\"132px\" height=\"48px\" src=\"https://assets.inshorts.com/website_assets/images/contact_icon.png\" alt=\"contact\" /></div><div style=\"margin-top: 16px;\"><a target=\"_blank\" href=\"/tnc\" class=\"frrT68MKbm2McDk4zOAG\"><span>Terms &amp; conditions</span><br /><div>Privacy Policies</div></a></div></div></div><div class=\"A1qCiDaRQdjD0q3Ijx_e\"><div><a target=\"_blank\" href=\"https://www.facebook.com/inshortsapp\" aria-label=\"Facebook\"><img alt=\"Facebook\" src=\"https://assets.inshorts.com/website_assets/images/facebook.png\" /></a></div><div><a target=\"_blank\" href=\"https://twitter.com/inshorts\" aria-label=\"Twitter\"><img alt=\"Twitter\" src=\"https://assets.inshorts.com/website_assets/images/twitter.png\" /></a></div><div><a target=\"_blank\" href=\"https://www.linkedin.com/company/news-in-shorts\" aria-label=\"Linkedin\"><img alt=\"Linkedin\" src=\"https://assets.inshorts.com/website_assets/images/linkedin.png\" /></a></div></div></div></div></footer></div></div></div><script>navigator.serviceWorker.register(\\'/sw.js\\')\\n      .then(swReg => {\\n        swReg.update();\\n      });</script><script>window.__STATE__ = {\"news_list\":{\"list\":[{\"rank\":0,\"news_type\":\"NEWS\",\"hash_id\":\"v2jipys3-1\",\"type\":\"NEWS\",\"version\":0,\"news_obj\":{\"old_hash_id\":\"what-is-tower-22-us-military-base-attacked-in-jordan-1706589037984\",\"hash_id\":\"v2jipys3-1\",\"author_name\":\"Pragya Swastik\",\"content\":\"Three US troops were killed and dozens wounded after a drone hit \\'Tower 22\\', a military outpost in Jordan. It holds a strategically important location in Jordan, at the most northeastern point where the country\\'s borders meet Syria and Iraq. Tower 22 serves as a supply hub for the nearby US garrison of Al-Tanf located across the border in Syria.\",\"source_url\":\"https://www.reuters.com/world/middle-east/what-is-tower-22-site-attack-us-troops-jordan-2024-01-28/?utm_campaign=fullarticle&utm_medium=referral&utm_source=inshorts\",\"source_name\":\"Reuters\",\"title\":\"What is Tower 22, US military base attacked in Jordan?\",\"important\":false,\"image_url\":\"https://nis-gs.pix.in/inshorts/images/v1/variants/jpg/m/2024/01_jan/30_tue/img_1706585741452_481.jpg?\",\"shortened_url\":\"https://shrts.in/svjBK\",\"created_at\":1706589037000,\"score\":800,\"category_names\":[\"world\"],\"relevancy_tags\":[\"world\"],\"tenant\":\"ENGLISH\",\"fb_object_id\":\"\",\"fb_like_count\":0,\"country_code\":\"IN\",\"impressive_score\":12.29,\"targeted_city\":[],\"gallery_image_urls\":[],\"full_gallery_urls\":[],\"bottom_headline\":\"Islamic Resistance in Iraq said it attacked base\",\"bottom_text\":\"Iran has denied any involvement in the attack\",\"darker_fonts\":true,\"bottom_panel_link\":\"https://www.reuters.com/world/middle-east/what-is-tower-22-site-attack-us-troops-jordan-2024-01-28/?utm_campaign=fullarticle&utm_medium=referral&utm_source=inshorts\",\"bottom_type\":\"DEFAULT\",\"byline_1\":[{\"type\":\"TEXT\",\"text\":\"swipe left for more at Reuters / \"},{\"type\":\"TIME\"}],\"byline_2\":[{\"type\":\"TEXT\",\"text\":\"short by \"},{\"type\":\"TEXT\",\"text\":\"Pragya Swastik\"}],\"version\":0,\"position_start_time\":\"1970-01-01T00:00:00Z\",\"position_expire_time\":\"2024-01-31T03:48:38.822Z\",\"trackers\":[],\"dfp_tags\":\"score:800,news:default,cat:world,hash:4\",\"dont_show_ad\":false,\"poll_tenant\":\"ENGLISH\",\"video_opinion_enabled\":true,\"language\":\"english\",\"show_inshorts_brand_name\":true,\"crypto_coin_preference\":null,\"is_overlay_supported\":true,\"news_type\":\"NEWS\",\"is_muted\":false,\"video_audio_type\":\"USER_SPECIFIED_AUDIO\",\"auto_play_type\":\"AUTO_PLAY_USER_SPECIFIED\",\"show_in_video_feed_only\":false,\"similar_threshold\":15500,\"is_similar_feed_available\":false,\"show_publisher_info\":false,\"is_profile_clickable\":false,\"views_count\":0,\"ImageSponsor\":\"\"}},{\"rank\":1,\"news_type\":\"NEWS\",\"hash_id\":\"rvotkmtc-1\",\"type\":\"NEWS\",\"version\":0,\"news_obj\":{\"old_hash_id\":\"maldives-lists-top-tourist-markets-india-falls-below-china-to-5th-spot-1706588932028\",\"hash_id\":\"rvotkmtc-1\",\"author_name\":\"Sakshita Khosla\",\"content\":\"India is no longer the top tourist market for Maldives, as per the latest data released by the nation, which has ranked Russia on top. Italy, China and the UK occupy the second, third and fourth spots on the list, respectively. Amid a diplomatic row, Indian tourists visiting Maldives dropped to 13,989 in January 2024.\",\"source_url\":\"https://www.news18.com/amp/world/india-maldives-row-lakshadweep-indians-no-more-top-tourist-market-drops-5th-spot-behind-russia-china-latest-news-8758789.html?utm_campaign=fullarticle&utm_medium=referral&utm_source=inshorts\",\"source_name\":\"News18\",\"title\":\"Maldives lists top tourist markets, India falls below China to 5th spot\",\"important\":false,\"image_url\":\"https://nis-gs.pix.in/inshorts/images/v1/variants/jpg/m/2024/01_jan/30_tue/img_1706588395182_444.jpg?\",\"shortened_url\":\"https://shrts.in/Fq379\",\"created_at\":1706588932000,\"score\":800,\"category_names\":[\"world\",\"national\"],\"relevancy_tags\":[\"national\",\"world\"],\"hash_tags\":[\"MaldivesLeadersRemarks\"],\"tenant\":\"ENGLISH\",\"fb_object_id\":\"\",\"fb_like_count\":0,\"country_code\":\"IN\",\"impressive_score\":12.33,\"targeted_city\":[],\"gallery_image_urls\":[],\"full_gallery_urls\":[],\"bottom_headline\":\"Germany, US, France among top 10 tourist markets\",\"bottom_text\":\"Tap to know more\",\"darker_fonts\":true,\"bottom_panel_link\":\"https://www.news18.com/amp/world/india-maldives-row-lakshadweep-indians-no-more-top-tourist-market-drops-5th-spot-behind-russia-china-latest-news-8758789.html?utm_campaign=fullarticle&utm_medium=referral&utm_source=inshorts\",\"bottom_type\":\"CARD_DECK\",\"footer_deck_id\":\"5Uz21qsF_hashtag\",\"footer_deck_tag_label\":\"#MaldivesLeadersRemarks\",\"byline_1\":[{\"type\":\"TEXT\",\"text\":\"swipe left for more at News18 / \"},{\"type\":\"TIME\"}],\"byline_2\":[{\"type\":\"TEXT\",\"text\":\"short by \"},{\"type\":\"TEXT\",\"text\":\"Sakshita Khosla\"}],\"version\":0,\"position_start_time\":\"1970-01-01T00:00:00Z\",\"position_expire_time\":\"2024-01-31T04:25:35.121Z\",\"trackers\":[],\"dfp_tags\":\"score:800,news:default,cat:world,cat:national,hash:8,hashtag:MaldivesLeadersRemarks\",\"dont_show_ad\":false,\"poll_tenant\":\"ENGLISH\",\"video_opinion_enabled\":true,\"language\":\"english\",\"show_inshorts_brand_name\":true,\"crypto_coin_preference\":null,\"is_overlay_supported\":true,\"news_type\":\"NEWS\",\"is_muted\":false,\"video_audio_type\":\"USER_SPECIFIED_AUDIO\",\"auto_play_type\":\"AUTO_PLAY_USER_SPECIFIED\",\"show_in_video_feed_only\":false,\"similar_threshold\":15500,\"is_similar_feed_available\":false,\"show_publisher_info\":false,\"is_profile_clickable\":false,\"views_count\":0,\"ImageSponsor\":\"\"}},{\"rank\":2,\"news_type\":\"NEWS\",\"hash_id\":\"rmpd0jul-1\",\"type\":\"NEWS\",\"version\":0,\"news_obj\":{\"old_hash_id\":\"indian-navy-rescues-19-pakistanis-from-somali-pirates-in-arabian-sea-1706588530385\",\"hash_id\":\"rmpd0jul-1\",\"author_name\":\"Pragya Swastik\",\"content\":\"The Indian Navy on Tuesday said INS Sumitra rescued 19 Pakistani crew members and a vessel from Somali pirates off the East Coast of Somalia. The Indian Navy rescued the fishing vessel Al Naeemi and her crew of 19 Pakistani nationals from 11 Somali pirates. This was the second successful anti-piracy operation by INS Sumitra in the last few days.\",\"source_url\":\"https://twitter.com/indiannavy/status/1752175155705774581?utm_campaign=fullarticle&utm_medium=referral&utm_source=inshorts\",\"source_name\":\"X (formerly Twitter)\",\"title\":\"Indian Navy rescues 19 Pakistanis from Somali pirates in Arabian Sea\",\"important\":false,\"image_url\":\"https://nis-gs.pix.in/inshorts/images/v1/variants/jpg/m/2024/01_jan/30_tue/img_1706587802400_770.jpg?\",\"shortened_url\":\"https://shrts.in/pqaGt\",\"created_at\":1706588530000,\"score\":1000,\"category_names\":[\"world\",\"national\"],\"relevancy_tags\":[\"world\",\"national\"],\"tenant\":\"ENGLISH\",\"fb_object_id\":\"\",\"fb_like_count\":0,\"country_code\":\"IN\",\"impressive_score\":15.33,\"targeted_city\":[],\"gallery_image_urls\":[],\"full_gallery_urls\":[],\"bottom_headline\":\"Earlier, it responded to SOS call from Iman\",\"bottom_text\":\"It was an Iranian flagged fishing vessel \",\"darker_fonts\":true,\"bottom_panel_link\":\"https://twitter.com/indiannavy/status/1752175155705774581?utm_campaign=fullarticle&utm_medium=referral&utm_source=inshorts\",\"bottom_type\":\"DEFAULT\",\"byline_1\":[{\"type\":\"TEXT\",\"text\":\"swipe left for more at X (formerly Twitter) / \"},{\"type\":\"TIME\"}],\"byline_2\":[{\"type\":\"TEXT\",\"text\":\"short by \"},{\"type\":\"TEXT\",\"text\":\"Pragya Swastik\"}],\"version\":0,\"position_start_time\":\"1970-01-01T00:00:00Z\",\"position_expire_time\":\"2024-01-31T04:11:58.77Z\",\"trackers\":[],\"dfp_tags\":\"score:1000,news:default,cat:world,cat:national,hash:6,noads:true\",\"dont_show_ad\":true,\"poll_tenant\":\"ENGLISH\",\"video_opinion_enabled\":true,\"language\":\"english\",\"show_inshorts_brand_name\":true,\"crypto_coin_preference\":null,\"is_overlay_supported\":false,\"news_type\":\"NEWS\",\"is_muted\":false,\"video_audio_type\":\"USER_SPECIFIED_AUDIO\",\"auto_play_type\":\"AUTO_PLAY_USER_SPECIFIED\",\"show_in_video_feed_only\":false,\"similar_threshold\":15500,\"is_similar_feed_available\":false,\"show_publisher_info\":false,\"is_profile_clickable\":false,\"views_count\":0,\"ImageSponsor\":\"\"}},{\"rank\":3,\"news_type\":\"NEWS\",\"hash_id\":\"ocoapmvi-1\",\"type\":\"NEWS\",\"version\":0,\"news_obj\":{\"old_hash_id\":\"toyota-urges-owners-of-50000-cars-to-stop-driving-after-26-deaths-in-us-due-to-faulty-airbags-1706588398924\",\"hash_id\":\"ocoapmvi-1\",\"author_name\":\"Shreyasi Banerjee\",\"content\":\"Toyota is telling owners of about 50,000 older Corolla, Corolla Matrix and RAV4 models to stop driving them because their Takata airbag inflators are at risk of exploding. Toyota added that the vehicles\\' airbag inflators could explode and hurl debris, leading to death or injuries. At least 26 people in the US have been killed by Takata inflators since 2009.\",\"source_url\":\"https://www.hindustantimes.com/world-news/us-news/toyota-urges-drivers-of-50-000-cars-to-stop-driving-until-faulty-airbags-are-fixed-after-26-killed-in-us-since-may-2009-101706583987756-amp.html?utm_campaign=fullarticle&utm_medium=referral&utm_source=inshorts\",\"source_name\":\"Hindustan Times\",\"title\":\"Toyota urges owners of 50,000 cars to stop driving after 26 deaths in US due to faulty airbags\",\"important\":false,\"image_url\":\"https://nis-gs.pix.in/inshorts/images/v1/variants/jpg/m/2024/01_jan/30_tue/img_1706587696772_867.jpg?\",\"shortened_url\":\"https://shrts.in/QEZpd\",\"created_at\":1706588398000,\"score\":800,\"category_names\":[\"world\",\"business\"],\"relevancy_tags\":[\"world\",\"business\"],\"tenant\":\"ENGLISH\",\"fb_object_id\":\"\",\"fb_like_count\":0,\"country_code\":\"IN\",\"impressive_score\":12.29,\"targeted_city\":[],\"gallery_image_urls\":[],\"full_gallery_urls\":[],\"bottom_headline\":\"Toyota said it\\'ll repair/replace airbag for free\",\"bottom_text\":\"Tap to know more\",\"darker_fonts\":true,\"bottom_panel_link\":\"https://www.hindustantimes.com/world-news/us-news/toyota-urges-drivers-of-50-000-cars-to-stop-driving-until-faulty-airbags-are-fixed-after-26-killed-in-us-since-may-2009-101706583987756-amp.html?utm_campaign=fullarticle&utm_medium=referral&utm_source=inshorts\",\"bottom_type\":\"DEFAULT\",\"byline_1\":[{\"type\":\"TEXT\",\"text\":\"swipe left for more at Hindustan Times / \"},{\"type\":\"TIME\"}],\"byline_2\":[{\"type\":\"TEXT\",\"text\":\"short by \"},{\"type\":\"TEXT\",\"text\":\"Shreyasi Banerjee\"}],\"version\":0,\"position_start_time\":\"1970-01-01T00:00:00Z\",\"position_expire_time\":\"2024-01-31T04:08:46.812Z\",\"trackers\":[],\"dfp_tags\":\"score:800,news:default,cat:world,cat:business,hash:4,noads:true\",\"dont_show_ad\":true,\"poll_tenant\":\"ENGLISH\",\"image_for_representation\":true,\"video_opinion_enabled\":true,\"language\":\"english\",\"show_inshorts_brand_name\":true,\"crypto_coin_preference\":null,\"is_overlay_supported\":false,\"news_type\":\"NEWS\",\"is_muted\":false,\"video_audio_type\":\"USER_SPECIFIED_AUDIO\",\"auto_play_type\":\"AUTO_PLAY_USER_SPECIFIED\",\"show_in_video_feed_only\":false,\"similar_threshold\":15500,\"is_similar_feed_available\":false,\"show_publisher_info\":false,\"is_profile_clickable\":false,\"views_count\":0,\"ImageSponsor\":\"\"}},{\"rank\":4,\"news_type\":\"NEWS\",\"hash_id\":\"hxdskl59-1\",\"type\":\"NEWS\",\"version\":0,\"news_obj\":{\"old_hash_id\":\"brutal-heinous-incident-india-after-25yearold-indian-student-vivek-murdered-in-us-1706585089309\",\"hash_id\":\"hxdskl59-1\",\"author_name\":\"Shreyasi Banerjee\",\"content\":\"The Consulate General of India in the US\\' Atlanta has \\\\\"strongly condemned\\\\\" the murder of 25-year-old Vivek Saini by a homeless drug addict, whom the Indian student had been helping for past several days. \\\\\"We\\'re deeply anguished by the terrifying, brutal and heinous incident,\\\\\" the consulate said. \\\\\"US authorities have arrested the accused and are investigating the case,\\\\\" it added.\",\"source_url\":\"https://www.hindustantimes.com/india-news/india-condemns-fatal-attack-on-25-year-old-indian-student-in-us-101706556355008-amp.html?utm_campaign=fullarticle&utm_medium=referral&utm_source=inshorts\",\"source_name\":\"Hindustan Times\",\"title\":\"Brutal, heinous incident: India after 25-year-old Indian student Vivek murdered in US\",\"important\":false,\"image_url\":\"https://nis-gs.pix.in/inshorts/images/v1/variants/jpg/m/2024/01_jan/30_tue/img_1706584413117_759.jpg?\",\"shortened_url\":\"https://shrts.in/AqhED\",\"created_at\":1706585089000,\"score\":1000,\"category_names\":[\"world\",\"national\"],\"relevancy_tags\":[\"world\",\"national\"],\"tenant\":\"ENGLISH\",\"fb_object_id\":\"\",\"fb_like_count\":0,\"country_code\":\"IN\",\"impressive_score\":15.33,\"targeted_city\":[],\"gallery_image_urls\":[],\"full_gallery_urls\":[],\"bottom_headline\":\"\\'Mortal remains being sent back to India\\'\",\"bottom_text\":\"Tap to know what more India said\",\"darker_fonts\":true,\"bottom_panel_link\":\"https://www.hindustantimes.com/india-news/india-condemns-fatal-attack-on-25-year-old-indian-student-in-us-101706556355008-amp.html?utm_campaign=fullarticle&utm_medium=referral&utm_source=inshorts\",\"bottom_type\":\"DEFAULT\",\"byline_1\":[{\"type\":\"TEXT\",\"text\":\"swipe left for more at Hindustan Times / \"},{\"type\":\"TIME\"}],\"byline_2\":[{\"type\":\"TEXT\",\"text\":\"short by \"},{\"type\":\"TEXT\",\"text\":\"Shreyasi Banerjee\"}],\"version\":0,\"position_start_time\":\"1970-01-01T00:00:00Z\",\"position_expire_time\":\"2024-01-31T03:14:35.57Z\",\"trackers\":[],\"dfp_tags\":\"score:1000,news:default,cat:world,cat:national,hash:6,noads:true\",\"dont_show_ad\":true,\"poll_tenant\":\"ENGLISH\",\"video_opinion_enabled\":true,\"language\":\"english\",\"show_inshorts_brand_name\":true,\"crypto_coin_preference\":null,\"is_overlay_supported\":false,\"news_type\":\"NEWS\",\"is_muted\":false,\"video_audio_type\":\"USER_SPECIFIED_AUDIO\",\"auto_play_type\":\"AUTO_PLAY_USER_SPECIFIED\",\"show_in_video_feed_only\":false,\"similar_threshold\":15500,\"is_similar_feed_available\":false,\"show_publisher_info\":false,\"is_profile_clickable\":false,\"views_count\":0,\"ImageSponsor\":\"\"}},{\"rank\":5,\"news_type\":\"NEWS\",\"hash_id\":\"jy9gzxqq-1\",\"type\":\"NEWS\",\"version\":0,\"news_obj\":{\"old_hash_id\":\"indian-student-neel-found-dead-in-us-a-day-after-his-mother-reported-him-missing-1706585025911\",\"hash_id\":\"jy9gzxqq-1\",\"author_name\":\"Sakshita Khosla\",\"content\":\"Indian student Neel Acharya, who had been missing since Sunday in the US, has been confirmed dead by the authorities. Acharya was studying in Purdue University in Indiana and his mother had alerted the authorities that he was missing via a post on X on January 28. Neel was a \\\\\"driven individual and academically talented\\\\\", a Purdue University official said.\",\"source_url\":\"https://www.news18.com/amp/world/neel-acharya-indian-student-studying-us-indiana-found-dead-one-day-after-he-was-reported-missing-8759258.html?utm_campaign=fullarticle&utm_medium=referral&utm_source=inshorts\",\"source_name\":\"News18\",\"title\":\"Indian student Neel found dead in US a day after his mother reported him missing\",\"important\":false,\"image_url\":\"https://nis-gs.pix.in/inshorts/images/v1/variants/jpg/m/2024/01_jan/30_tue/img_1706584348984_888.jpg?\",\"shortened_url\":\"https://shrts.in/J8Vcs\",\"created_at\":1706585025000,\"score\":800,\"category_names\":[\"world\",\"national\"],\"relevancy_tags\":[\"national\",\"world\"],\"tenant\":\"ENGLISH\",\"fb_object_id\":\"\",\"fb_like_count\":0,\"country_code\":\"IN\",\"impressive_score\":12.33,\"targeted_city\":[],\"gallery_image_urls\":[],\"full_gallery_urls\":[],\"bottom_headline\":\"\\'A real loss to our community\\'\",\"bottom_text\":\"Said the official on Neel\\'s demise\",\"darker_fonts\":true,\"bottom_panel_link\":\"https://www.news18.com/amp/world/neel-acharya-indian-student-studying-us-indiana-found-dead-one-day-after-he-was-reported-missing-8759258.html?utm_campaign=fullarticle&utm_medium=referral&utm_source=inshorts\",\"bottom_type\":\"DEFAULT\",\"byline_1\":[{\"type\":\"TEXT\",\"text\":\"swipe left for more at News18 / \"},{\"type\":\"TIME\"}],\"byline_2\":[{\"type\":\"TEXT\",\"text\":\"short by \"},{\"type\":\"TEXT\",\"text\":\"Sakshita Khosla\"}],\"version\":0,\"position_start_time\":\"1970-01-01T00:00:00Z\",\"position_expire_time\":\"2024-01-31T03:19:46.271Z\",\"trackers\":[],\"dfp_tags\":\"score:800,news:default,cat:world,cat:national,hash:3,noads:true\",\"dont_show_ad\":true,\"poll_tenant\":\"ENGLISH\",\"video_opinion_enabled\":true,\"language\":\"english\",\"show_inshorts_brand_name\":true,\"crypto_coin_preference\":null,\"is_overlay_supported\":false,\"news_type\":\"NEWS\",\"is_muted\":false,\"video_audio_type\":\"USER_SPECIFIED_AUDIO\",\"auto_play_type\":\"AUTO_PLAY_USER_SPECIFIED\",\"show_in_video_feed_only\":false,\"similar_threshold\":15500,\"is_similar_feed_available\":false,\"show_publisher_info\":false,\"is_profile_clickable\":false,\"views_count\":0,\"ImageSponsor\":\"\"}},{\"rank\":6,\"news_type\":\"NEWS\",\"hash_id\":\"6rkg8jde-1\",\"type\":\"NEWS\",\"version\":0,\"news_obj\":{\"old_hash_id\":\"missing-indian-student-of-purdue-university-confirmed-dead-1706581771498\",\"hash_id\":\"6rkg8jde-1\",\"author_name\":\"Farida\",\"content\":\"An Indian student studying at Purdue University who had been reported missing since Sunday has tragically been confirmed dead, according to the Tippecanoe County Coroner. Neel Acharya, the deceased student, was found on Purdue s campus on Sunday morning after authorities responded to a call regarding a possible dead body.\",\"source_url\":\"https://newskarnataka.com/world/missing-indian-student-of-purdue-university-confirmed-dead/30012024?utm_campaign=fullarticle&utm_medium=referral&utm_source=inshorts\",\"source_name\":\"News Karnataka\",\"title\":\"Missing Indian Student of Purdue University Confirmed Dead\",\"important\":false,\"image_url\":\"https://nis-gs.pix.in/inshorts/images/v1/variants/jpg/m/2024/01_jan/30_tue/img_1706581608665_402.jpg?\",\"shortened_url\":\"https://shrts.in/2s2Ch\",\"created_at\":1706581771000,\"score\":600,\"category_names\":[\"world\"],\"relevancy_tags\":[\"world\"],\"tenant\":\"ENGLISH\",\"fb_object_id\":\"\",\"fb_like_count\":0,\"country_code\":\"IN\",\"impressive_score\":10.29,\"targeted_city\":[],\"gallery_image_urls\":[],\"full_gallery_urls\":[],\"bottom_headline\":\" Neel Acharya found deceased.\",\"bottom_text\":\"To Read More\",\"darker_fonts\":true,\"bottom_panel_link\":\"https://newskarnataka.com/world/missing-indian-student-of-purdue-university-confirmed-dead/30012024?utm_campaign=fullarticle&utm_medium=referral&utm_source=inshorts\",\"bottom_type\":\"DEFAULT\",\"byline_1\":[{\"type\":\"TEXT\",\"text\":\"swipe left for more at News Karnataka / \"},{\"type\":\"TIME\"}],\"byline_2\":[{\"type\":\"TEXT\",\"text\":\"swipe left for more at News Karnataka / \"},{\"type\":\"TIME\"}],\"version\":0,\"position_start_time\":\"1970-01-01T00:00:00Z\",\"position_expire_time\":\"2024-01-31T02:28:55.666Z\",\"trackers\":[],\"dfp_tags\":\"score:600,news:default,cat:world,hash:7\",\"dont_show_ad\":false,\"poll_tenant\":\"ENGLISH\",\"video_opinion_enabled\":true,\"language\":\"english\",\"show_inshorts_brand_name\":true,\"crypto_coin_preference\":null,\"is_overlay_supported\":true,\"news_type\":\"NEWS\",\"is_muted\":false,\"video_audio_type\":\"USER_SPECIFIED_AUDIO\",\"auto_play_type\":\"AUTO_PLAY_USER_SPECIFIED\",\"show_in_video_feed_only\":false,\"similar_threshold\":15500,\"is_similar_feed_available\":false,\"publisher_info\":{\"name\":\"News Karnataka\",\"user_id\":\"ZVO9lROOZEg02FdpkoOOnHMlZ473\",\"user_type\":\"VENDOR\",\"profile_image_url\":\"https://nis-gs.pix.in/public/images/v1/variants/jpg/m/2024/01_jan/5_fri/img_1704466220628_915.jpg\",\"thumbnail_image_url\":\"\",\"sponsored_text\":\"\"},\"show_publisher_info\":false,\"is_profile_clickable\":false,\"views_count\":0,\"ImageSponsor\":\"\"}},{\"rank\":7,\"news_type\":\"NEWS\",\"hash_id\":\"xyjpdmn2-1\",\"type\":\"NEWS\",\"version\":0,\"news_obj\":{\"old_hash_id\":\"congratulations-pm-modi-as-assoumani-reelected-as-comoros-prez-1706549188583\",\"hash_id\":\"xyjpdmn2-1\",\"author_name\":\"Nidhi Sinha\",\"content\":\"Prime Minister Narendra Modi took to social media on Monday to send his \\\\\"heartiest congratulations\\\\\" to Azali Assoumani, who has been re-elected as the President of Comoros. \\\\\"Look forward to continue working together to further strengthen India-Comoros partnership, India-Africa partnership and \\'Vision Sagar\\',\\\\\" PM Modi said. Assoumani attended G20 Summit in India as African Union Chairman last year.\",\"source_url\":\"https://twitter.com/PTI_News/status/1752012767710646364?utm_campaign=fullarticle&utm_medium=referral&utm_source=inshorts\",\"source_name\":\"PTI\",\"title\":\"Congratulations: PM Modi as Assoumani re-elected as Comoros Prez\",\"important\":false,\"image_url\":\"https://nis-gs.pix.in/inshorts/images/v1/variants/jpg/m/2024/01_jan/29_mon/img_1706548223879_192.jpg?\",\"shortened_url\":\"https://shrts.in/rxRJa\",\"created_at\":1706549188000,\"score\":600,\"category_names\":[\"world\",\"national\"],\"relevancy_tags\":[\"world\",\"national\"],\"tenant\":\"ENGLISH\",\"fb_object_id\":\"\",\"fb_like_count\":0,\"country_code\":\"IN\",\"impressive_score\":10.33,\"targeted_city\":[],\"gallery_image_urls\":[],\"full_gallery_urls\":[],\"bottom_headline\":\"To read more\",\"bottom_text\":\"Tap here\",\"darker_fonts\":true,\"bottom_panel_link\":\"https://twitter.com/narendramodi/status/1752008196737380375?utm_campaign=fullarticle&utm_medium=referral&utm_source=inshorts\",\"bottom_type\":\"DEFAULT\",\"byline_1\":[{\"type\":\"TEXT\",\"text\":\"swipe left for more at PTI / \"},{\"type\":\"TIME\"}],\"byline_2\":[{\"type\":\"TEXT\",\"text\":\"short by \"},{\"type\":\"TEXT\",\"text\":\"Nidhi Sinha\"}],\"version\":0,\"position_start_time\":\"1970-01-01T00:00:00Z\",\"position_expire_time\":\"2024-01-30T17:25:24.638Z\",\"trackers\":[],\"dfp_tags\":\"score:600,news:default,cat:world,cat:national,hash:2\",\"dont_show_ad\":false,\"poll_tenant\":\"ENGLISH\",\"video_opinion_enabled\":true,\"language\":\"english\",\"show_inshorts_brand_name\":true,\"crypto_coin_preference\":null,\"is_overlay_supported\":true,\"news_type\":\"NEWS\",\"is_muted\":false,\"video_audio_type\":\"USER_SPECIFIED_AUDIO\",\"auto_play_type\":\"AUTO_PLAY_USER_SPECIFIED\",\"show_in_video_feed_only\":false,\"similar_threshold\":15500,\"is_similar_feed_available\":false,\"show_publisher_info\":false,\"is_profile_clickable\":false,\"views_count\":0,\"ImageSponsor\":\"\"}},{\"rank\":8,\"news_type\":\"\",\"hash_id\":\"d30274e6-7d18-48d8-acd2-2feab66e616b\",\"type\":\"CUSTOM_CARD\",\"version\":0,\"read_override\":true},{\"rank\":9,\"news_type\":\"NEWS\",\"hash_id\":\"pjpzavjd-1\",\"type\":\"NEWS\",\"version\":0,\"news_obj\":{\"old_hash_id\":\"trump-cant-bully-his-way-into-winning-gops-nomination-haley-1706547158606\",\"hash_id\":\"pjpzavjd-1\",\"author_name\":\"Disha Jana\",\"content\":\"Indian-American US Presidential candidate Nikki Haley has said that ex-US President Donald Trump can\\'t \\\\\"bully\\\\\" his way into winning the nomination of Grand Old Party (GOP), also known as Republican Party. Haley has lost both the Iowa caucuses and the New Hampshire primary but has refused to exit the race. The next republican primary will be held in South Carolina.\",\"source_url\":\"https://repository.inshorts.com/articles/en/PTI/d5a4969e-39fb-4044-ae35-153668b46e04?utm_campaign=fullarticle&utm_medium=referral&utm_source=inshorts\",\"source_name\":\"PTI\",\"title\":\"Trump can\\'t bully his way into winning GOP\\'s nomination: Haley\",\"important\":false,\"image_url\":\"https://nis-gs.pix.in/inshorts/images/v1/variants/jpg/m/2024/01_jan/29_mon/img_1706543026914_611.jpg?\",\"shortened_url\":\"https://shrts.in/VtFn4\",\"created_at\":1706547158000,\"score\":600,\"category_names\":[\"world\"],\"relevancy_tags\":[],\"tenant\":\"ENGLISH\",\"fb_object_id\":\"\",\"fb_like_count\":0,\"country_code\":\"IN\",\"native_source_url\":\"https://article-repository-read.newsinshorts.com/en/v1/article/vendor/PTI/hash_id/d5a4969e-39fb-4044-ae35-153668b46e04\",\"impressive_score\":10.29,\"targeted_city\":[],\"gallery_image_urls\":[],\"full_gallery_urls\":[],\"bottom_headline\":\"Vivek Ramaswamy & Ron DeSantis have exited race\",\"bottom_text\":\"Tap to know more\",\"darker_fonts\":true,\"bottom_panel_link\":\"https://repository.inshorts.com/articles/en/PTI/d5a4969e-39fb-4044-ae35-153668b46e04?utm_campaign=fullarticle&utm_medium=referral&utm_source=inshorts\",\"bottom_type\":\"DEFAULT\",\"byline_1\":[{\"type\":\"TEXT\",\"text\":\"swipe left for more at PTI / \"},{\"type\":\"TIME\"}],\"byline_2\":[{\"type\":\"TEXT\",\"text\":\"short by \"},{\"type\":\"TEXT\",\"text\":\"Disha Jana\"}],\"version\":0,\"position_start_time\":\"1970-01-01T00:00:00Z\",\"position_expire_time\":\"2024-01-30T15:43:34.609Z\",\"trackers\":[],\"dfp_tags\":\"score:600,news:default,cat:world,hash:3,noads:true\",\"dont_show_ad\":true,\"poll_tenant\":\"ENGLISH\",\"video_opinion_enabled\":true,\"language\":\"english\",\"show_inshorts_brand_name\":true,\"crypto_coin_preference\":null,\"is_overlay_supported\":false,\"news_type\":\"NEWS\",\"is_muted\":false,\"video_audio_type\":\"USER_SPECIFIED_AUDIO\",\"auto_play_type\":\"AUTO_PLAY_USER_SPECIFIED\",\"show_in_video_feed_only\":false,\"similar_threshold\":15500,\"is_similar_feed_available\":false,\"show_publisher_info\":false,\"is_profile_clickable\":false,\"views_count\":0,\"ImageSponsor\":\"\"}},{\"rank\":10,\"news_type\":\"NEWS\",\"hash_id\":\"texzggze-1\",\"type\":\"NEWS\",\"version\":0,\"news_obj\":{\"old_hash_id\":\"thailand-is-in-recession-deputy-fm-julapun-1706546921243\",\"hash_id\":\"texzggze-1\",\"author_name\":\"Hiral Goyal\",\"content\":\"Thailand\\'s economy is in a state of recession, Deputy Finance Minister Julapun Amornvivat said. Citing high debt burden of households and the private sector, he said, \\\\\"It\\'s difficult to drive the economy forward.\\\\\" Julapun has urged the country\\'s central bank to cut interest rates, which is at a decade-high of 2.50%, so that it will help lower high borrowing costs.\",\"source_url\":\"https://www.reuters.com/markets/asia/thai-economy-recession-needs-boost-finance-official-2024-01-29/?utm_campaign=fullarticle&utm_medium=referral&utm_source=inshorts\",\"source_name\":\"Reuters\",\"title\":\"Thailand is in recession: Deputy FM Julapun\",\"important\":false,\"image_url\":\"https://nis-gs.pix.in/inshorts/images/v1/variants/jpg/m/2024/01_jan/29_mon/img_1706545024222_156.jpg?\",\"shortened_url\":\"https://shrts.in/844qi\",\"created_at\":1706546921000,\"score\":800,\"category_names\":[\"world\",\"business\"],\"relevancy_tags\":[\"business\",\"world\"],\"tenant\":\"ENGLISH\",\"fb_object_id\":\"\",\"fb_like_count\":0,\"country_code\":\"IN\",\"impressive_score\":12.29,\"targeted_city\":[],\"gallery_image_urls\":[],\"full_gallery_urls\":[],\"bottom_headline\":\"\\'High rates are a burden, people can\\'t survive\\'\",\"bottom_text\":\"Julapun told reporters\",\"darker_fonts\":true,\"bottom_panel_link\":\"https://www.reuters.com/markets/asia/thai-economy-recession-needs-boost-finance-official-2024-01-29/?utm_campaign=fullarticle&utm_medium=referral&utm_source=inshorts\",\"bottom_type\":\"DEFAULT\",\"byline_1\":[{\"type\":\"TEXT\",\"text\":\"swipe left for more at Reuters / \"},{\"type\":\"TIME\"}],\"byline_2\":[{\"type\":\"TEXT\",\"text\":\"short by \"},{\"type\":\"TEXT\",\"text\":\"Hiral Goyal\"}],\"version\":0,\"position_start_time\":\"1970-01-01T00:00:00Z\",\"position_expire_time\":\"2024-01-30T16:33:28.233Z\",\"trackers\":[],\"dfp_tags\":\"score:800,news:default,cat:world,cat:business,hash:0,noads:true\",\"dont_show_ad\":true,\"poll_tenant\":\"ENGLISH\",\"video_opinion_enabled\":true,\"language\":\"english\",\"show_inshorts_brand_name\":true,\"crypto_coin_preference\":null,\"is_overlay_supported\":false,\"news_type\":\"NEWS\",\"is_muted\":false,\"video_audio_type\":\"USER_SPECIFIED_AUDIO\",\"auto_play_type\":\"AUTO_PLAY_USER_SPECIFIED\",\"show_in_video_feed_only\":false,\"similar_threshold\":15500,\"is_similar_feed_available\":false,\"show_publisher_info\":false,\"is_profile_clickable\":false,\"views_count\":0,\"ImageSponsor\":\"\"}}],\"isLoading\":false,\"feed_id\":\"TAG\",\"reload_required\":false,\"new_feed_available\":false,\"page\":1,\"feed_name\":\"top_stories\",\"show_top_navigation\":true,\"current_news\":{},\"bookmark_list\":{},\"current_index\":0,\"optimise_for_amp\":false},\"settings\":{\"notification\":false,\"notification_permission\":false,\"tenant\":\"ENGLISH\",\"night_mode\":false,\"hd_image\":true,\"notification_loading\":false,\"notification_dialogue_index\":0},\"discover\":{\"category_list\":[{\"key\":\"Top Stories\",\"value\":\"top_stories\"},{\"key\":\"All News\",\"value\":\"all_news\"},{\"key\":\"Trending\",\"value\":\"trending\"},{\"key\":\"Bookmarks\",\"value\":\"bookmarks\"}],\"category\":\"top_stories\",\"tag_list\":[],\"tag\":\"world\"},\"status\":0};</script><noscript>Your browser does not support JavaScript!</noscript><script src=\"https://ajax.googleapis.com/ajax/libs/webfont/1.6.26/webfont.js\"></script><script>WebFont.load({\\n      google: {\\n        families: [\\'Roboto:300,400,500&display=swap\\']\\n      }\\n    });</script><script>var _comscore = _comscore || [];\\n    _comscore.push({ c1: \"2\", c2: \"28268321\" });\\n    (function () {\\n      var s = document.createElement(\"script\"),\\n        el = document.getElementsByTagName(\"script\")[0];\\n      s.async = true;\\n      s.src = (document.location.protocol == \"https:\" ? \"https://sb\" : \"http://b\") + \".scorecardresearch.com/beacon.js\";\\n      el.parentNode.insertBefore(s, el);\\n    })();</script><noscript><img src=\"https://sb.scorecardresearch.com/p?c1=2&c2=28268321&cv=2.0&cj=1\"/></noscript></body></html>'"
      ]
     },
     "execution_count": 7,
     "metadata": {},
     "output_type": "execute_result"
    }
   ],
   "source": [
    "data = requests.get(url)  \n",
    "data.content"
   ]
  },
  {
   "cell_type": "markdown",
   "metadata": {},
   "source": [
    "# Parsing the content extracted from website into simple understandable structure using html.parser"
   ]
  },
  {
   "cell_type": "code",
   "execution_count": 8,
   "metadata": {},
   "outputs": [],
   "source": [
    "soup = BeautifulSoup(data.content, 'html.parser')"
   ]
  },
  {
   "cell_type": "code",
   "execution_count": 9,
   "metadata": {},
   "outputs": [
    {
     "data": {
      "text/plain": [
       "<!DOCTYPE html>\n",
       "<html lang=\"en\"><head><meta charset=\"utf-8\"/><link href=\"https://ajax.googleapis.com\" rel=\"dns-prefetch\"/><link href=\"https://assets.inshorts.com\" rel=\"dns-prefetch\"/><link href=\"https://static.inshorts.com\" rel=\"dns-prefetch\"/><link href=\"https://cdn.ampproject.org\" rel=\"dns-prefetch\"/><meta content=\"#ffffff\" name=\"theme-color\"/><link href=\"/assets/images/favicon.png\" rel=\"shortcut icon\" type=\"image/x-icon\"><meta content=\"text/html; charset=utf-8\" http-equiv=\"Content-Type\"><meta content=\"width=device-width,initial-scale=1\" name=\"viewport\"/><meta content=\"IE=edge\" http-equiv=\"X-UA-Compatible\"/><link href=\"/assets/images/logo_192.png\" rel=\"icon\" sizes=\"192x192\"><link href=\"https://inshorts.com\" rel=\"canonical\">\n",
       "<link href=\"https://inshorts.com\" rel=\"alternate\">\n",
       "<meta content=\"read latest news with inshorts in less than 60 words related to business sports bollywood and technology in india and around the world in both english  hindi\" name=\"description\"/>\n",
       "<meta content=\"summary_large_image\" name=\"twitter:card\"/>\n",
       "<meta content=\"@inshorts\" name=\"twitter:site\"/>\n",
       "<meta content=\"@inshorts\" name=\"twitter:creator\"/>\n",
       "<meta content=\"Short English &amp; Hindi News|Latest News, India News, Current Affairs|Inshorts\" name=\"twitter:title\"/>\n",
       "<meta content=\"read latest news with inshorts in less than 60 words related to business sports bollywood and technology in india and around the world in both english  hindi\" name=\"twitter:description\"/>\n",
       "<meta content=\"https://inshorts.com/assets/images/favicon.png\" name=\"twitter:image\"/>\n",
       "<meta content=\"news-in-shorts:short\" property=\"og:type\"/>\n",
       "<meta content=\"168662373317120\" property=\"fb:app_id\">\n",
       "<meta content=\"Inshorts - Stay Informed\" property=\"og:site_name\"/>\n",
       "<meta content=\"https://inshorts.com\" property=\"og:url\"/>\n",
       "<meta content=\"Short English &amp; Hindi News|Latest News, India News, Current Affairs|Inshorts\" property=\"og:title\"/>\n",
       "<meta content=\"https://inshorts.com/assets/images/favicon.png\" property=\"og:image\"/>\n",
       "<meta content=\"read latest news with inshorts in less than 60 words related to business sports bollywood and technology in india and around the world in both english  hindi\" property=\"og:description\"/>\n",
       "<meta content=\"1706589895614\" property=\"og:updated_time\"/>\n",
       "<meta content=\"true\" property=\"og:rich_attachment\"/>\n",
       "<meta content=\"true\" property=\"al:web:should_fallback\"/>\n",
       "<meta content=\"nis://\" property=\"al:ios:url\"/>\n",
       "<meta content=\"892146527\" property=\"al:ios:app_store_id\"/>\n",
       "<meta content=\"Inshorts - Stay Informed\" property=\"al:ios:app_name\"/>\n",
       "<meta content=\"nis://\" property=\"al:iphone:url\"/>\n",
       "<meta content=\"892146527\" property=\"al:iphone:app_store_id\"/>\n",
       "<meta content=\"Inshorts - Stay Informed\" property=\"al:iphone:app_name\"/>\n",
       "<meta content=\"nis://\" property=\"al:ipad:url\"/>\n",
       "<meta content=\"892146527\" property=\"al:ipad:app_store_id\"/>\n",
       "<meta content=\"Inshorts - Stay Informed\" property=\"al:ipad:app_name\"/>\n",
       "<meta content=\"nis://\" property=\"al:android:url\"/>\n",
       "<meta content=\"com.nis.app\" property=\"al:android:package\"/>\n",
       "<meta content=\"Inshorts - Stay Informed\" property=\"al:android:app_name\"/><meta content=\"app-id=892146527\" name=\"apple-itunes-app\"/><meta content=\"app-id=com.nis.app\" name=\"google-play-app\"/><meta content=\"yes\" name=\"mobile-web-app-capable\"/><meta content=\"inshorts\" name=\"application-name\"/><meta content=\"yes\" name=\"apple-mobile-web-app-capable\"/><meta content=\"#424242\" name=\"apple-mobile-web-app-status-bar-style\"/><meta content=\"inshorts\" name=\"apple-mobile-web-app-title\"/><link href=\"https://assets.inshorts.com/website_assets/images/favicon.png\" rel=\"apple-touch-icon\"/><meta content=\"fav/favicon.png\" name=\"msapplication-TileImage\"/><meta content=\"#424242\" name=\"msapplication-TileColor\"/><meta content=\"#424242\" name=\"theme-color\"/><meta content=\"text/html; charset=utf-8\" http-equiv=\"content-type\"><meta content=\"#424242\" name=\"msapplication-navbutton-color\"/><meta content=\"#424242\" name=\"apple-mobile-web-app-status-bar-style\"/><link href=\"https://assets.inshorts.com/website_assets/images/favicon.png\" rel=\"apple-touch-startup-image\"/><meta content=\"black-translucent\" name=\"apple-mobile-web-app-status-bar-style\"/><script>if (window.addEventListener) {\n",
       "        window.addEventListener('load', loadThirdPartyScript, false);\n",
       "    } else if (window.attachEvent) {\n",
       "        window.attachEvent('onload', loadThirdPartyScript);\n",
       "    }\n",
       "\n",
       "    function loadThirdPartyScript() {\n",
       "\n",
       "      // Mix panel script\n",
       "      (function (f, b) {\n",
       "      if (!b.__SV) {\n",
       "        var e, g, i, h; window.mixpanel = b; b._i = []; b.init = function (e, f, c) {\n",
       "          function g(a, d) { var b = d.split(\".\"); 2 == b.length && (a = a[b[0]], d = b[1]); a[d] = function () { a.push([d].concat(Array.prototype.slice.call(arguments, 0))) } } var a = b; \"undefined\" !== typeof c ? a = b[c] = [] : c = \"mixpanel\"; a.people = a.people || []; a.toString = function (a) { var d = \"mixpanel\"; \"mixpanel\" !== c && (d += \".\" + c); a || (d += \" (stub)\"); return d }; a.people.toString = function () { return a.toString(1) + \".people (stub)\" }; i = \"disable time_event track track_pageview track_links track_forms track_with_groups add_group set_group remove_group register register_once alias unregister identify name_tag set_config reset opt_in_tracking opt_out_tracking has_opted_in_tracking has_opted_out_tracking clear_opt_in_out_tracking start_batch_senders people.set people.set_once people.unset people.increment people.append people.union people.track_charge people.clear_charges people.delete_user people.remove\".split(\" \");\n",
       "          for (h = 0; h < i.length; h++)g(a, i[h]); var j = \"set set_once union unset remove delete\".split(\" \"); a.get_group = function () { function b(c) { d[c] = function () { call2_args = arguments; call2 = [c].concat(Array.prototype.slice.call(call2_args, 0)); a.push([e, call2]) } } for (var d = {}, e = [\"get_group\"].concat(Array.prototype.slice.call(arguments, 0)), c = 0; c < j.length; c++)b(j[c]); return d }; b._i.push([e, f, c])\n",
       "        }; b.__SV = 1.2; e = f.createElement(\"script\"); e.type = \"text/javascript\"; e.async = !0; e.src = \"undefined\" !== typeof MIXPANEL_CUSTOM_LIB_URL ?\n",
       "          MIXPANEL_CUSTOM_LIB_URL : \"file:\" === f.location.protocol && \"//cdn.mxpnl.com/libs/mixpanel-2-latest.min.js\".match(/^\\/\\//) ? \"https://cdn.mxpnl.com/libs/mixpanel-2-latest.min.js\" : \"//cdn.mxpnl.com/libs/mixpanel-2-latest.min.js\"; g = f.getElementsByTagName(\"script\")[0]; g.parentNode.insertBefore(e, g)\n",
       "      }\n",
       "    })(document, window.mixpanel || []);\n",
       "    mixpanel.init(\"a99a1037068944b00a0cc8ee56c94e8c\")\n",
       "    // mixpanel.track(\"pageview\")\n",
       "\n",
       "    }</script><script>var currURL = window.location.href;\n",
       "\n",
       "  //    function codeAddress() {\n",
       "\n",
       "  // if (currURL.match('/city/') || currURL.match('/video/')){\n",
       "      var hlsScript = document.createElement(\"script\");\n",
       "      let elem1 = document.getElementsByTagName(\"script\")[0];\n",
       "      hlsScript.async = true;\n",
       "      hlsScript.src = \"https://cdn.jsdelivr.net/npm/hls.js@1/dist/hls.min.js\";\n",
       "      elem1.parentNode.insertBefore(hlsScript, elem1);\n",
       "  // }\n",
       "  // }\n",
       "  //   window.onload = codeAddress;</script><script async=\"\" src=\"https://www.googletagmanager.com/gtag/js?id=G-L7P7D50590\"></script><script>window.dataLayer = window.dataLayer || [];\n",
       "  function gtag(){dataLayer.push(arguments);}\n",
       "  gtag('js', new Date());\n",
       "\n",
       "  gtag('config', 'G-L7P7D50590');</script><script>gtag('set', 'dimension2', 'online');\n",
       "    gtag('set', 'dimension3', 'pwa');\n",
       "    gtag('event', 'screen_view');</script><script>// FB pixel script\n",
       "    window.fbAsyncInit = function () {\n",
       "        FB.init({\n",
       "          appId: '168662373317120',\n",
       "          xfbml: true,\n",
       "          version: 'v5.0'\n",
       "        });\n",
       "\n",
       "        FB.AppEvents.logPageView();\n",
       "      };\n",
       "\n",
       "      (function (d, s, id) {\n",
       "        var js, fjs = d.getElementsByTagName(s)[0];\n",
       "        if (d.getElementById(id)) { return; }\n",
       "        js = d.createElement(s); js.id = id;\n",
       "        js.src = \"https://connect.facebook.net/en_US/sdk.js\";\n",
       "        fjs.parentNode.insertBefore(js, fjs);\n",
       "      }(document, 'script', 'facebook-jssdk'));\n",
       "\n",
       "        !function (f, b, e, v, n, t, s) {\n",
       "        if (f.fbq) return; n = f.fbq = function () {\n",
       "          n.callMethod ?\n",
       "          n.callMethod.apply(n, arguments) : n.queue.push(arguments)\n",
       "        };\n",
       "        if (!f._fbq) f._fbq = n; n.push = n; n.loaded = !0; n.version = '2.0';\n",
       "        n.queue = []; t = b.createElement(e); t.async = !0;\n",
       "        t.src = v; s = b.getElementsByTagName(e)[0];\n",
       "        s.parentNode.insertBefore(t, s)\n",
       "      }(window, document, 'script',\n",
       "        'https://connect.facebook.net/en_US/fbevents.js');\n",
       "      fbq('init', '822966517773327');\n",
       "      fbq('track', 'PageView');</script><noscript><img height=\"1\" src=\"https://www.facebook.com/tr?id=822966517773327&amp;ev=PageView&amp;noscript=1\" style=\"display:none\" width=\"1\"/></noscript><link href=\"/assets/public/scripts/desktop_manifest.json\" rel=\"manifest\"/><style>.RldBWJngcN6Iwyi72FUw{border:1px solid rgba(0,0,0,.1);border-radius:12px;display:flex;flex-direction:column;margin:10px;max-height:100vh;position:relative;user-select:none;width:calc(100% - 20px)}.uUoOUTxdtu8JMaD9l6oJ{background-color:#ccc;background-position:50%;background-size:cover;border-radius:11px 11px 0 0;height:34.5vh;margin:0;width:100%}.Xz13pAPKixHzVMbfuOag{display:none}.He62jlfoUc7Hs5c2ohWB{font-size:.9rem;font-weight:100;margin:0}.pP1SbCLUoSb1UYFfDiNM{color:#161616;font-family:Roboto;font-size:1rem;font-weight:400;line-height:1.3rem;margin:20px 5% 6px;opacity:.9;width:90%}.E6tRV_QxHh0gsgQQhaKg{color:#369af8!important}.DAYHB_7M6mqk7njM7WXl{color:#585858;font-family:Roboto;font-size:.9rem;font-weight:300;line-height:1.35rem;margin:0 5%;opacity:.8;width:90%}.Ds0nv7Te20SisIpHLmqT{color:#c7c7c7;font-family:Roboto;font-size:.7rem;font-weight:400;margin-top:6px}.lFaPO6rUcchEaTMzGocD:before{content:\"\";-webkit-filter:blur(5px);-moz-filter:blur(5px);-o-filter:blur(5px);-ms-filter:blur(5px);filter:blur(5px);z-index:-1}.EonwMpOGSUmDPr5zB_fJ{border-radius:0 0 11px 11px;height:60px;margin-top:30px;overflow:hidden;position:relative}.lFaPO6rUcchEaTMzGocD{background-color:#000;height:60px;width:100%;z-index:1}.cc9WRpIFuLJvysU7cBj9{background-position:50%;background-repeat:no-repeat;background-size:cover;filter:blur(13px);height:60px;width:100%}.y5KnUeNaaV2t_iEgoGQw{display:flex;flex-direction:column;justify-content:center;position:absolute;top:10px;width:100%}.URyrF0QOEYrOmipwqWSn{font-size:.75rem;padding:0 5% 2px}.URyrF0QOEYrOmipwqWSn,._3DphrNBbwC_q8YSAh9gk{color:#fff;font-family:Roboto;font-weight:400}._3DphrNBbwC_q8YSAh9gk{font-size:.6rem;opacity:.8;padding:0 5%}.bgx0A3LOwj5p6LMVGEYq{background:#fff;border-top:.5px solid #efefef;bottom:0;display:flex;height:59.5px;justify-content:space-evenly;position:absolute;transform:translateY(0);transition:transform .2s ease-in;visibility:visible;width:100%;z-index:4}.pWK3_pTYWsNS6XhubhYX{border-top:0;transform:translateY(60px)}.KtTFA6qf8cXqpaFSPnmw{align-content:center;display:flex;flex-direction:column;font-size:.7rem;justify-content:space-evenly;padding:5px 0 0;width:20vw}.NknkMmOTgLmHs5AGjquF{stroke:#369af8;height:20px;margin:auto;width:20px}.iphWipBeYFtIIjTj6Cb5{height:21px;width:21px}.p9yyYz9BMqyuRbs0vT1V{fill:#369af8}.CkQc__2_S8Z9Swh_s3fn{font-family:Roboto;font-size:11px;font-weight:300;margin:auto;opacity:.8}.T4oNBhgaIDwOBesQ4BFR{display:flex;flex-direction:column;height:100%;justify-content:flex-end}.T4oNBhgaIDwOBesQ4BFR iframe{border:none;bottom:0;max-height:38vh;width:100%}.MW2oaLl19DuIp7kCc3sW{align-items:center;background:#000;display:flex;height:100%;justify-content:center}.OxiB68g1_akgzkuSYlvm{display:flex;flex-direction:column-reverse;height:92vh;margin:0 auto;max-width:80vh;min-height:350px;position:relative;text-align:center}.W80lzcbFbDV8NTiiunPI{display:flex;flex-direction:column;margin:5px auto;max-width:610px;width:96%}.e4Lj4CQHgYm4cvs098ps{background:#000;border-radius:6px;display:flex;flex-grow:1;height:calc(94vw - 70px);margin:0 auto;max-height:80vh;max-width:80vh;overflow:hidden;position:relative;width:94%}.sgrXPxdFygXJc6WsHsfF{background:#000;background:-moz-linear-gradient(top,#000 0,transparent 100%);background:-webkit-gradient(left top,left bottom,color-stop(0,#000),color-stop(100%,transparent));background:-webkit-linear-gradient(top,#000,transparent);background:-o-linear-gradient(top,#000 0,transparent 100%);background:-ms-linear-gradient(top,#000 0,transparent 100%);background:linear-gradient(180deg,#000 0,transparent);border:0 solid #fff;border-radius:5px;color:#fff;display:flex;font-family:Roboto,Helvetica,Arial,sans-serif;font-weight:500;height:10%;justify-content:space-between;padding:15px;width:100%;z-index:1}.hrrTOct1vEFNBuRxziw0{text-align:left;z-index:2}.hrrTOct1vEFNBuRxziw0 .Z2J8EF81o8falrSaBfWG{font-size:.8rem;margin:0 0 4px}.hrrTOct1vEFNBuRxziw0 .fUZtekY0QJT9hq21j8TA{font-size:.75rem}.ctPs4aSvnolRt6KTe8lJ{font-size:.95rem;z-index:2}.ctPs4aSvnolRt6KTe8lJ button{background:#d1082d;border:0 solid #000;border-radius:8px;color:#fff;font-family:Roboto,Helvetica,Arial,sans-serif;font-size:.8rem;font-weight:400;padding:10px 20px;width:100%}.ctPs4aSvnolRt6KTe8lJ button:disabled{opacity:.5}.Mp4ugESMXo5nCVTlytay{align-items:center;display:flex;height:90%;justify-content:center;position:absolute;width:90%}.bJgP0pJxGe0zQjrr0hYs{bottom:15px;color:#fff;display:flex;height:24px;padding:4px;position:absolute;width:24px;z-index:2}.e4Lj4CQHgYm4cvs098ps amp-video,.e4Lj4CQHgYm4cvs098ps video{border:0 solid #000;border-radius:5px;height:100%;object-fit:contain;position:absolute;width:100%}.T2j0NlwBR1S9RyoIgmRk{font-size:1.05rem;line-height:1.55rem;margin:10px 20px}.T2j0NlwBR1S9RyoIgmRk,.dZa4ssX_3mzolHC9RNsm{font-family:Roboto,Helvetica,Arial,sans-serif;font-weight:500;text-align:left;word-break:break-word}.dZa4ssX_3mzolHC9RNsm{color:#b3b3b3;font-size:.85em;margin:0 20px}.z42nns5IVIgwTXvmtp4W{display:flex;flex-grow:1;margin:10px 20px}.giKB5uYox4loBGc7LvMq{align-items:center;color:#878787;display:flex;flex-direction:column;font-family:Roboto,Helvetica,Arial,sans-serif;font-size:.6rem;font-weight:500;padding:0 25px 0 0;text-align:center}.giKB5uYox4loBGc7LvMq span{margin:4px 0 0}.QlvujO5bRuJbDr0krADj{align-items:center;bottom:30%;display:flex;margin-left:5%;position:absolute;transition:ease-in;z-index:999}.gpRw5M6a_6CQPEKbXBXa .VmHenqjE5grjsf3fWL_b{width:2.85rem}.gpRw5M6a_6CQPEKbXBXa .UfFlSw0Ku1orniCovhJN{color:#fff;font-family:Roboto,Helvetica,Arial,sans-serif;font-size:.7rem;font-stretch:normal;font-style:normal;font-weight:700;letter-spacing:normal;line-height:normal;opacity:.5;text-align:center;text-shadow:1px 1px 12px #000;width:25vw}.sa7jAXSMpL2UkIxrBxOQ{border:1px solid rgba(0,0,0,.1);border-radius:12px;display:flex;flex-direction:column;height:80vh;margin:10px;max-height:100vh;position:relative;user-select:none;width:calc(100% - 20px)}.p4I93ew7DPoS0zwwVLZy{color:#161616;font-family:Roboto;font-size:1rem;font-weight:400;line-height:1.3rem;margin:20px 5% 6px;opacity:.9;width:90%}.VQtt2Pn57hvqIUqvuPFR{align-items:center;display:flex;flex-direction:row;padding:.5rem 1rem}.UTHdNZCkPsCALFauQa7W{border-radius:50%;cursor:pointer;margin-right:.8rem;width:50px}.cp0lONWJoQ1WvrOl0Ylj{flex:1}.kx5xUHn8owIlXfbjetow{align-items:center;display:flex;font-size:.7rem;width:100%}.tBBUY1fC_NZTgyh42jJe{background:#000;border-radius:11px 11px 0 0;display:flex;flex-wrap:wrap;margin:0 auto;max-height:50vh;max-width:80vh;overflow:hidden;position:relative;width:100%}.tBBUY1fC_NZTgyh42jJe video{background-color:#000;border:0 solid #000;border-radius:11px 11px 0 0;height:30vh;height:34.5vh;width:100%}.S1KEg1w0v6XeNduf8CYC:before{background-color:#cfcfcf;border-radius:50%;content:\"\";display:inline-block;height:6px;margin-right:5px;width:6px}.S1KEg1w0v6XeNduf8CYC{align-items:center;color:#d10846;display:flex;margin-left:5px}.NxXHZfNMR0DbUfNGGBoR,.S1KEg1w0v6XeNduf8CYC{font-family:Roboto;font-size:.7rem;font-stretch:normal;font-style:normal;font-weight:500;letter-spacing:.11px;line-height:normal}.NxXHZfNMR0DbUfNGGBoR{color:#2a2a2a;cursor:pointer;margin:0 5px 0 0}.qTMkWaugZauIhrkdqsHi{color:#878787;font-family:Roboto;font-size:.6rem;font-stretch:normal;font-style:normal;font-weight:400;height:.7rem;letter-spacing:.4px;line-height:normal;overflow:hidden;text-overflow:ellipsis;width:200px}.Us754fve7rDC6Tl1YtfK{display:flex;flex-direction:column;margin:0 auto;width:100%}.bdpeczbzypsvMpBdPzQl{display:flex;padding:10px 0}.a4t_iu6YOc_txxVvv3f8{align-items:center;align-self:end;background:#f44436;border:none;border-radius:16px;color:#fff;cursor:pointer;display:flex;font-size:14px;justify-content:center;margin:0 1rem;outline:none;padding:6px;width:80px}.a4t_iu6YOc_txxVvv3f8 svg{margin-right:6px}.a4t_iu6YOc_txxVvv3f8 svg g g{stroke:#fff}.XjMSWpqrVnbZucdlszbj{align-items:center;color:#878787;display:flex;font-family:Roboto,Helvetica,Arial,sans-serif;font-size:.6rem;font-weight:500;margin-left:1rem;padding:.5rem 0;text-align:center}.XjMSWpqrVnbZucdlszbj span{margin-left:.5rem}.aOJ7zR5Ud9fECIJg3Sfl{color:#c7c7c7;font-family:Roboto;font-size:.7rem;font-weight:400;margin-top:6px;padding:0 1rem 1rem}.nOZUu3JMIc8qOmsl62lA{align-items:center;display:flex;height:100%;justify-content:center;position:absolute;width:100%;z-index:1000}.vFNWjo5xIaqhA2529J92{background:#000}.FiuQbkKKNc50Devee8GX{display:flex;margin-top:20px;width:100%}.Tq2FqkNlxg8tIxFrXlQO{background-position:50%;background-repeat:no-repeat;background-size:contain;height:20vh;margin:0 3%;width:94%}.ggVN6JrxQwilRZKrzA0k{align-items:center;bottom:30%;display:flex;margin-left:5%;position:absolute;transition:ease-in;width:1070px;z-index:999}.gpRw5M6a_6CQPEKbXBXa{color:#fff;font-family:Roboto,Helvetica,Arial,sans-serif;font-size:30px;font-size:.7rem;font-stretch:normal;font-style:normal;font-weight:700;letter-spacing:normal;line-height:normal;text-align:center;text-shadow:1px 1px 12px #000;text-transform:uppercase;white-space:nowrap;width:100%;width:25vw}.nK8z5aLN6qOvGEFczsRQ{animation-play-state:paused;-webkit-animation:NqLT2yjM1iDrpcoXlJSN 15s linear infinite;animation:NqLT2yjM1iDrpcoXlJSN 15s linear infinite;animation-delay:.8s;display:inline-block}.IaJ5b58eKj83QCoSy42t{display:flex}@media screen and (max-width:1208px){.gpRw5M6a_6CQPEKbXBXa .UfFlSw0Ku1orniCovhJN{width:30vw}}@media screen and (max-width:720px){.gpRw5M6a_6CQPEKbXBXa .UfFlSw0Ku1orniCovhJN{width:40vw}.ggVN6JrxQwilRZKrzA0k{width:720px}}@media screen and (max-width:480px){.gpRw5M6a_6CQPEKbXBXa .UfFlSw0Ku1orniCovhJN{width:40vw}.ggVN6JrxQwilRZKrzA0k{width:500px}}@keyframes NqLT2yjM1iDrpcoXlJSN{0%{transform:translateX(0);-webkit-transform:translateX(0)}to{transform:translateX(-400%);-webkit-transform:translateX(-400%)}}@-webkit-keyframes NqLT2yjM1iDrpcoXlJSN{0%{transform:translateX(0);-webkit-transform:translateX(0)}to{transform:translateX(-400%);-webkit-transform:translateX(-400%)}}.IAsZcfIS6DRldqg02cys{padding:8px 10px;position:absolute;width:100%;z-index:1001}.E_bTyWjrPpE8dGe4_iJV{display:flex;width:100%}.RiqJIfuovMECPemHjR5r{border-radius:50%;height:1.5rem;width:1.5rem}.wQRVHlt6JfwdW0fnxMTj{align-items:center;display:flex;margin-left:6px}.bztao9oshOrod9s5fw6_{color:#fff;cursor:pointer;font-family:Roboto;font-size:14px;font-size:.7rem;font-stretch:normal;font-style:normal;font-weight:500;letter-spacing:.11px;line-height:normal;margin:0 5px 0 0}.EWcAT9qVBy8Of8Y4n0qI{box-shadow:inset 0 40px 60px -28px #000;height:100%;position:absolute;width:100%}.cx4UNRn7rN0sUQjl738Q{color:#585858;font-family:Roboto;font-size:.9rem;font-weight:300;line-height:1.35rem;margin:0 5%;opacity:.8;width:90%}.KXMXrWvxseOYFPfbEURk{-webkit-line-clamp:8;-webkit-box-orient:vertical;display:-webkit-box;font-size:.9rem;font-weight:100;margin:0;overflow:hidden}.GtJIUqCG0l5g2HI_dget:before{content:\"\";-webkit-filter:blur(5px);-moz-filter:blur(5px);-o-filter:blur(5px);-ms-filter:blur(5px);filter:blur(5px);z-index:-1}.DviSQhOKYS6ivTswJ1MH{height:60px;margin-top:auto;overflow:hidden;position:relative}.GtJIUqCG0l5g2HI_dget{background-color:#000;border-bottom-left-radius:12px;border-bottom-right-radius:12px;height:60px;margin-top:16px;width:100%;z-index:1}.DKiWkcOCpEvvnHqSr2yk{background-position:50%;background-repeat:no-repeat;background-size:cover;filter:blur(13px);height:60px;width:100%}.r7F0Q_J1C3X9Qv71srF6{display:flex;flex-direction:column;justify-content:center;position:absolute;top:10px;width:100%}.vvyJCtOOzNPLqIjQqgBq{font-size:.75rem;padding:0 5% 2px}.oFLkFuYVrmexNVgaSTcF,.vvyJCtOOzNPLqIjQqgBq{color:#fff;font-family:Roboto;font-weight:400}.oFLkFuYVrmexNVgaSTcF{font-size:.6rem;opacity:.8;padding:0 5%}.UiBfHEmuj4dDR5PMmLdc{bottom:0;height:100%;margin:0;padding:0;position:relative;user-select:none}.F5Semr0fUoV2mmHLlnTk,.UiBfHEmuj4dDR5PMmLdc{display:flex;flex-direction:column;width:100%}.F5Semr0fUoV2mmHLlnTk{height:calc(100vh - 1px);max-height:calc(100vh - 1px);max-width:100%}.V16cFddFa2m3cV11ki3g{height:90vh;position:absolute;width:100%;z-index:2}.UiBfHEmuj4dDR5PMmLdc iframe{height:calc(100vh - 44px);max-width:100%}.UiBfHEmuj4dDR5PMmLdc embed,.UiBfHEmuj4dDR5PMmLdc iframe{border:none;max-height:calc(100vh - 1px);width:100%;z-index:1}.UiBfHEmuj4dDR5PMmLdc embed{height:calc(100vh - 1px);margin:0;max-width:calc(100% - 1px);padding:0}.qCq2SJx2f2vTSfytbMb1{background:#fff;border-top:.5px solid #efefef;bottom:0;display:flex;height:7.08vh;justify-content:space-evenly;width:100%;z-index:4}._1vEwCDB95w9fAPEqb08Q{align-content:center;display:flex;flex-direction:column;font-size:.7rem;justify-content:space-evenly;padding:5px 0 0;width:20vw}.je3fwtQwI00F0cxboabG{margin:auto;width:23px}.NaFbzzGksuDQ2Wuvg4nA{margin:auto}.FQwamjAaC4HnxiqZqIlv{align-items:center;display:flex;height:100%;justify-content:center}.nzbbIYkDkWzvOdVGyiQi{stroke:#5e5e5e;height:10vw;width:10vw}.k9iita3VAqcz78q_REdZ{background-repeat:no-repeat;background-size:contain;height:2px;position:fixed;width:2px}.F5Semr0fUoV2mmHLlnTk a{display:block;height:100vh;height:100vh!important;width:100%;width:100vw;z-index:3}.sAXj7C11JPxpoj0_jKRA{background-position:50%;background-repeat:no-repeat;background-size:cover;display:block;height:100vh;margin:0 auto;text-align:center;width:100%}.OaDQkIuu7bah5Vjuc04R{display:flex;position:fixed;top:56px;width:100%;z-index:99}.wd3zJ1hsXmcq6_QBaaCB{background:#0575de;border:none;border-radius:15px;color:#fff;font-size:.8em;margin:0 auto;padding:6px 30px}.NNPttXfnMOG6_deuAgWs{background:#fff;display:flex;flex-direction:row;height:44px;justify-content:space-between;opacity:.9;position:fixed;top:0;transform:translateY(0);transition:transform .2s ease-in;width:100%;z-index:10000}.dR19FSdSCwAAXSDoGJol{font-family:Roboto;font-size:17px;font-weight:400;opacity:.7;padding:12px 0 10px 4%}.dR19FSdSCwAAXSDoGJol a{align-items:center;color:#000;display:flex;height:15px;justify-content:center;padding:2px 0;text-decoration:none}.dR19FSdSCwAAXSDoGJol svg{height:21px;padding:0 5px 0 0;width:21px}.J6H33RNsLI45gQ7VKDyo{width:22px}.J6H33RNsLI45gQ7VKDyo,.MtGDH93PNZSeuDXeYPXU{display:flex;opacity:.7;padding:12px 15px 0 5px}.MtGDH93PNZSeuDXeYPXU{width:30px}.J6H33RNsLI45gQ7VKDyo svg{height:20px}.MtGDH93PNZSeuDXeYPXU svg{height:25px}.YOH_gjQiVmNOwORO5tls{transform:translateY(-48px)}.kA6rvWLMbRtrcrtYq1HR{align-items:center;color:#000;display:flex;font-family:Roboto,sans-serif;font-size:14px;font-weight:500;min-height:44px}.kA6rvWLMbRtrcrtYq1HR svg{height:36px;width:36px}.VkKxBTnAHa76tAcJ3ryr{color:#d10846}.v6b0oIQsBouSrbHKC6kh{color:#d10846;text-transform:lowercase}.v6b0oIQsBouSrbHKC6kh:first-letter{text-transform:capitalize}.F3tdaOXgAm5Rk5A1n0Rf{background:#fff;display:flex;flex-direction:row;height:100vh;justify-content:center;width:100%}.qQKHKqjueUdyi9tf2DkK{margin-top:15vh;text-align:center}.QvZTq48VuvvRulF8loCU{font-family:Roboto;font-size:1.2em;font-weight:600;opacity:.6;padding:30px}.Aho45C2slA9_a3AHya13{font-family:Roboto;font-size:.95rem;font-weight:300;opacity:.8}.aVV7Q68B7u1JmM_P5uiz{background-color:rgba(0,0,0,.4);height:100%;position:fixed;width:100%;z-index:20}.Pn3boj9z4xb9ie_kHANe{align-items:center;background:#fff;border-radius:15px;display:flex;flex-direction:column;height:237px;left:calc(50% - 163.5px);position:fixed;top:calc(30% - 237px);width:327px;z-index:20}.slideInFromTop{animation:slideInFromTop .2s ease-in forwards}@-webkit-keyframes slideInFromTop{0%{-webkit-transform:translateY(0)}to{-webkit-transform:translateY(100%)}}.WttBlKgQPbj6AqEhASA_{height:45px;margin-top:25px}.WttBlKgQPbj6AqEhASA_ img{height:100%}.TUMf25QGqmpRHdQqjgtx{font-family:Roboto;font-size:20px;font-weight:500;margin-top:15px}.JIKEzueRp8xdFqZLbbzK{color:#909090;font-family:Roboto;font-size:17px;font-weight:300;line-height:20px;margin-top:15px;text-align:center;width:85%}.yo1QWmP4p731pjBxCtZW{border-top:.5px solid hsla(0,0%,59%,.25);display:flex;height:55px;margin-top:auto;width:100%}.FuL2_p9QrEKtTALaS5Bg{align-items:center;color:#909090;display:flex;font-family:Roboto;font-size:17px;font-weight:400;justify-content:center;width:50%}.FuL2_p9QrEKtTALaS5Bg:focus{filter:brightness(0)}.H0h9uvh5FLDUKAHnpQGU{border-right:.5px solid hsla(0,0%,59%,.25);width:.5px}.PkoJTQdlEdY_Jfh8bvst{color:#369af8}.Taa9FjzgU1JDTtclXl1x{display:flex;position:fixed;width:100%;z-index:10}.csbS_tpvFJuaKyoi42HA{background:#5e5e5e;border-radius:15px;color:#fff;font-family:Roboto;font-size:.7em;margin:0 auto;min-width:20vmin;padding:5px 15px;text-align:center}.zyXBoWn0x8ApA5RzlMA1{align-items:center;display:flex;flex-direction:column;height:100vh;width:100%}.cefIvhtl73U56ja15bmA{font-family:Roboto;font-size:1.5em;font-weight:500;margin:25vh auto 0}.hiLGP40XONR1tbEp02zf{background:#efefef;border-radius:10px;color:#1e90ff;font-family:Roboto;font-size:1.3em;font-weight:500;margin:10vh auto 0;padding:10px}.PNIG_Ccj8bewpgdEaDKd{border:1px solid grey;border-radius:6px;box-shadow:0 0 12px -3px #a5a1a1;color:#191818;cursor:pointer;display:flex;font-size:14px;justify-content:center;margin:40px auto;padding:6px;width:100px}.DBaaK6zbkvhM1e3Uyptv{border-radius:8px;box-shadow:0 4px 8px rgba(0,0,0,.1);font-family:Roboto;margin:20px;overflow:hidden}._9J_mydy36jsqP_Ooxtl{padding:20px}span.tnBTbNBVEdEh_mdJX8MA{color:red;font-size:12px;margin-bottom:10px}button{font-size:1rem}@media screen and (max-width:480px){.DBaaK6zbkvhM1e3Uyptv{margin:10px}}body{font-family:Roboto}.AoOfQHhuLzofnX5qGyZx{align-items:center;background:#f44336;box-shadow:0 2px 5px 0 rgba(0,0,0,.16),0 2px 10px 0 rgba(0,0,0,.12);display:flex;height:40px;justify-content:space-between;margin-bottom:32px;margin-left:auto;margin-right:auto;padding:8px 32px;width:900px}.wEe4zHQAFfoZACC2SRFn{box-sizing:border-box;padding:8px;width:140px}.gVBPun26EN5_KOnvxsFK{color:#fff!important;font-size:14px;font-weight:300}@media screen and (max-width:940px){.AoOfQHhuLzofnX5qGyZx{height:auto;margin:0 32px 32px;width:auto}}@font-face{font-display:swap;font-family:Conv_ClanPro-Bold;font-style:normal;font-weight:400;src:url(/dist/fonts/ClanPro-Bold.eot);src:local(\"☺\"),url(/dist/fonts/ClanPro-Bold.woff) format(\"woff\"),url(/dist/fonts/ClanPro-Bold.ttf) format(\"truetype\"),url(/dist/fonts/ClanPro-Bold.svg) format(\"svg\")}.PmX01nT74iM8UNAIENsC{border-radius:3px;box-shadow:0 2px 5px 0 rgba(0,0,0,.16),0 2px 10px 0 rgba(0,0,0,.12);box-sizing:border-box;display:block;display:flex;font-family:Roboto,sans-serif;font-weight:300;height:284px;margin-bottom:20px;margin-left:auto;margin-right:auto;padding:8px 16px 8px 8px;position:relative;width:900px;z-index:1}.GXPWASMx93K0ajwCIcCA{background-position:50%;background-size:cover;border-radius:4px;height:100%;margin-right:16px;min-width:320px;width:100%}.ddVzQcwl2yPlFt4fteIE{color:#44444d!important;cursor:pointer;font-size:22px;line-height:27px}.KkupEonoVHxNv4A_D7UG{color:#44444d;font-size:16px;line-height:22px;margin-top:8px}.f6VR90cMLekcKLeFCS1J{color:#44444d;font-family:Conv_ClanPro-Bold,Sans-Serif}.E3pJPegn7xWCOvv3BEcf,.f6VR90cMLekcKLeFCS1J{font-size:12px;font-weight:300;line-height:22px}.E3pJPegn7xWCOvv3BEcf{color:#808290}.VW4Ta0ioG_64Xx1ROszP{font-size:12px;font-weight:400;margin-bottom:12px}.LFn0sRS51HkFD0OHeCdA{color:#44444d;font-weight:500}.LUWdd1C_3UqqulVsopn0{display:flex;flex-direction:column;justify-content:space-between}.JIMrm2g5L9csgTtobp2g{border-radius:3px;box-shadow:0 2px 5px 0 rgba(0,0,0,.16),0 2px 10px 0 rgba(0,0,0,.12);cursor:pointer;display:flex;font-family:Roboto,sans-serif;font-size:14px;font-weight:400;justify-content:center;margin:32px auto;padding:6px 10px;text-align:center;transition:box-shadow .25s;width:130px}.JIMrm2g5L9csgTtobp2g:hover{box-shadow:0 8px 17px 0 rgba(0,0,0,.2),0 6px 20px 0 rgba(0,0,0,.19);transition:box-shadow .25s}.r_CK6OaFsecGqhiNxLQR{animation:rtHj2mntPk2MMeDvhrr_ 1.75s infinite forwards;background:#f3f5f7;background:linear-gradient(90deg,#f3f5f7 8%,#eaedf1 18%,#f3f5f7 33%);background-size:800px 104px;border-radius:4px;height:40px;margin-bottom:16px;width:25%}.YBIB_aAKmJgaGzjjCtWh{height:100%;min-width:320px}.Fkec1JSj8wjqEULPsk9m{margin-left:20px;width:100%}@keyframes rtHj2mntPk2MMeDvhrr_{0%{background-position:-350px 0}to{background-position:350px 0}}@media screen and (max-width:940px){.PmX01nT74iM8UNAIENsC{flex-direction:column;height:700px;padding:8px;width:500px}.GXPWASMx93K0ajwCIcCA{height:400px;min-height:400px}.LUWdd1C_3UqqulVsopn0{height:100%;margin-top:8px}.YBIB_aAKmJgaGzjjCtWh{height:400px;min-height:400px;width:100%}.Fkec1JSj8wjqEULPsk9m{margin-left:0}}.duf7kBUNIlaoEILmerm_{align-items:center;cursor:pointer;display:flex;height:100%;justify-content:center;position:relative;width:100%}.HvQRh3D_MKTN96TFmIsU{box-shadow:inset 0 40px 60px -28px #000;height:100%;position:absolute;width:100%}.tfTf88ZIbxHBIMLylXrV{align-items:center;display:flex;height:100%;justify-content:center;position:absolute;width:100%;z-index:1000}.YmiaDj0AgvaLdyATTxIg{background:#fff;box-shadow:0 2px 5px 0 rgba(0,0,0,.16),0 2px 10px 0 rgba(0,0,0,.12);font-family:Roboto,sans-serif;height:72px;position:fixed;width:100%;z-index:8}.YKSmdW7nhWAEIbmQrJKw{color:#44444d;cursor:pointer;font-size:14px;height:72px;padding-left:30px;padding-top:8px;transition:all .3s;width:120px}.TxGxEsJgUqc68PmaBJpQ{background:#303036;color:#fff;display:block;height:100%;overflow:hidden;padding:8px;position:fixed;transition:all .3s;width:216px;z-index:999}.iyAcz8Lj6UNLauiXVejL{border:0;box-sizing:border-box;height:72px;left:50%;margin-left:-89px;padding:8px;position:absolute;top:0;vertical-align:middle}.T1TDEo43D3QY0SAh3xBw{appearance:none;background:0 0;border:none;border-radius:none;box-shadow:none;cursor:pointer;display:inline-block;font-size:0;height:32px;margin:0;overflow:hidden;padding:0;position:relative;top:8px;width:32px}.hTEzFLa5WDHjHHddgF66{background:#000;display:block;height:2px;left:6px;position:absolute;right:6px;top:17px;transition:background 0s .25s}.hTEzFLa5WDHjHHddgF66:before{top:-6px;transition-property:top,transform}.hTEzFLa5WDHjHHddgF66:after,.hTEzFLa5WDHjHHddgF66:before{background-color:#000;content:\"\";display:block;height:2px;left:0;position:absolute;transition-delay:.25s,0s;transition-duration:.25s,.25s;width:100%}.hTEzFLa5WDHjHHddgF66:after{bottom:-6px;transition-property:bottom,transform}.fakt5L8hmnoVjOHegIeA{font-family:Roboto,sans-serif;font-size:16px;font-weight:300}.wve44NJUq8Gu603xj7mq{cursor:pointer;height:32px;position:relative;top:16px;transform:rotate(0deg);width:24px}.wve44NJUq8Gu603xj7mq span{background:#000;display:block;height:2px;left:0;opacity:1;position:absolute;transform:rotate(0deg);transition:.25s ease-in-out;width:100%}.jn6Z3i6DUTqUFiqBEifW{margin-left:220px;transition:.22s ease-in-out}.wve44NJUq8Gu603xj7mq span:first-child{top:0;transform-origin:left center}.wve44NJUq8Gu603xj7mq span:nth-child(2){top:8px;transform-origin:left center}.wve44NJUq8Gu603xj7mq span:nth-child(3){top:16px;transform-origin:left center}.wve44NJUq8Gu603xj7mq.jn6Z3i6DUTqUFiqBEifW span:first-child{left:8px;top:0;transform:rotate(45deg)}.wve44NJUq8Gu603xj7mq.jn6Z3i6DUTqUFiqBEifW span:nth-child(2){opacity:0;width:0}.wve44NJUq8Gu603xj7mq.jn6Z3i6DUTqUFiqBEifW span:nth-child(3){left:8px;top:17px;transform:rotate(-45deg)}.lRsuatKUnsWLCEYTR9Iv{color:#44444d;font-size:14px;font-weight:300;margin-left:32px}.hS7BV4lv5akFDiRtEQE_{cursor:pointer;padding:12px 0 12px 28px}.hS7BV4lv5akFDiRtEQE_:hover{background-color:#44444d}.ISiDKMugDRNFZ4Q1gwWb{color:#808290;font-family:Roboto,sans-serif;font-size:14px;font-weight:300;margin-bottom:5px;margin-top:10px}.mDgjIwFjqvuRdzgiFhJK{border-bottom:1px solid #808290;display:flex;justify-content:center;margin-bottom:20px;padding:20px 0 26px}.viRdivpyo8BtJtvoV0Dm{border:1px solid #808290;border-bottom-left-radius:4px;border-top-left-radius:4px}.klG8752_ZK07jpIutmrg,.viRdivpyo8BtJtvoV0Dm{background:#303036;box-sizing:border-box;color:#fff;font-size:14px;height:32px;padding:8px 12px;text-align:center;width:75px}.klG8752_ZK07jpIutmrg{border:1px solid #808290;border-bottom-right-radius:4px;border-top-right-radius:4px}.GGlzLjzDFPOZ4F8jkqsg{background:#808290;color:#303036}.wEumTDYB6eDIXyvFoop4{background-color:#323232!important;padding-bottom:20px;padding-top:20px}.qGX5vBk6QkTdiOnlhv0h{margin:0 auto;max-width:1280px;width:90%}.LwhH_gRIbg5VIc0J0YqN{display:flex;justify-content:space-between}.A1qCiDaRQdjD0q3Ijx_e{align-items:flex-end;display:flex}.A1qCiDaRQdjD0q3Ijx_e img{height:28px;margin-left:20px;width:28px}.iv7aKfs5Gt6PtjvcS8QG{display:flex}.oKGmoEhaIPPGnMP9uOm_ img{height:48px;width:160px}.Ifsiqs80e9rHfmAGOa7M{margin-right:8px;margin-top:10px;text-align:end}.IdWAVH5mzwaBUBNlnoaJ,.Ifsiqs80e9rHfmAGOa7M{font-family:Roboto,sans-serif;font-weight:300}.IdWAVH5mzwaBUBNlnoaJ{color:#808290;font-size:13px;line-height:16px}.FqFMAiJrixIx0TvrCgBX{color:#cfcfcf;font-family:Conv_ClanPro-Bold;font-size:13px;line-height:16px}.kpbhIVsZHJTrp8In2UNh img{cursor:pointer;height:48px;margin-top:-5px;width:132px}.frrT68MKbm2McDk4zOAG{color:#fff;font-family:Roboto,sans-serif;font-size:13px;font-weight:300;line-height:16px}.rSEHXWWeEOaR0W1vhOJp{border-left:1px solid grey;margin-left:8px;padding-left:16px}.xPPwvxNIv7oKoVsdJ261{background-color:rgba(0,0,0,.4);height:100%;left:0;margin-bottom:20px;margin-left:auto;margin-right:auto;overflow:auto;position:fixed;top:0;width:100%;z-index:8}.p4fIX0gVcMv16_YAFG84{background-color:#fefefe;border-radius:6px;box-sizing:border-box;font-family:Roboto,sans-serif;font-weight:300;margin:15% auto 15% 33.33333%;padding:0 20px 20px;position:relative;text-align:center;width:33.33333%}.RY8eW5LeCjDHOxDnHGiY{color:#aaa;cursor:pointer;float:right;font-size:28px;font-weight:700}.RY8eW5LeCjDHOxDnHGiY:hover{color:#000}.l1sKZIG1nDzBgLbBvoQS{background:#999;border:none;border-radius:4px;box-shadow:none;color:#fff;cursor:pointer;font-size:14px;font-weight:700;height:30px;margin-bottom:12px;text-transform:uppercase}@media only screen and (min-width:601px){.qGX5vBk6QkTdiOnlhv0h{width:85%}}@media only screen and (min-width:993px){.qGX5vBk6QkTdiOnlhv0h{width:70%}}._7GG_UWB536ZkrvplM16{box-sizing:border-box;font-family:Roboto,sans-serif;padding-top:110px}.dYDxYAuvB3fXM78TkvfP{align-items:center;display:flex;flex-direction:column;height:100vh;width:100%}.v0gwwSqjeZ8VIPHiZ_IS{font-family:Roboto;font-size:1.5em;font-weight:500;margin:25vh auto 0}.fm5DKDZm7uRRY8c2juZv{background:#efefef;border-radius:10px;color:#1e90ff;font-family:Roboto;font-size:1.3em;font-weight:500;margin:10vh auto 0;padding:10px}.rfWOaV2aBmSCO9lkY711{border-radius:8px;box-shadow:0 4px 8px rgba(0,0,0,.1);font-family:Roboto;font-size:16px;margin:20px auto;max-width:600px;overflow:hidden}.ysOcSvUBn9uYOvM4shoY{padding:20px}h2{font-family:Roboto;justify-content:center}form,h2{display:flex}form{flex-direction:column}label{font-weight:700;margin-bottom:5px}input,textarea{border:1px solid #ccc;border-radius:4px;margin-bottom:10px;padding:8px}span.GgLAv_RwavpIhOKqZu4u{color:red;font-size:12px;margin-bottom:10px}button{background-color:#f44336;border:none;border-radius:4px;color:#fff;cursor:pointer;font-size:.8rem;padding:10px}button:disabled{background-color:#989898}button:hover{background-color:#45a049}@media screen and (max-width:480px){.rfWOaV2aBmSCO9lkY711{margin:10px}}.XZS2m63Evn4JRT7H0oSV{display:flex;flex-direction:column;height:100%;margin:0 auto;position:relative;user-select:none;width:100%}.V3jZOyxByPFtJgBW9sM4{background-color:#ccc;background-position:50%;background-size:cover;height:42vh;margin:0;width:100%}.PWelq3UjWHU65FRGHX_c{display:none}.wgngrXYVk7z0xfhPwVJ4{color:#161616;font-family:Roboto;font-size:1rem;font-weight:400;line-height:1.3rem;margin:12px 5% 6px;opacity:.9;width:90%}.ghLv4DsF9m570NiuStDo{color:#369af8!important}.oHEMKEAkEGhHCswxo4i5{color:#585858;font-family:Roboto;font-size:.9rem;font-weight:300;line-height:1.35rem;margin:0 5%;opacity:.8;width:90%}.AYqrf7rV5BOOKlys0n4A{color:#c7c7c7;font-family:Roboto;font-size:.7rem;font-weight:400}.VrtRaBBJOqI_Q9k32Qb9:before{content:\"\";-webkit-filter:blur(5px);-moz-filter:blur(5px);-o-filter:blur(5px);-ms-filter:blur(5px);filter:blur(5px);z-index:-1}.iZDtZY28Js1GGNr8wCQi{height:60px;margin-top:auto;overflow:hidden;position:relative}.VrtRaBBJOqI_Q9k32Qb9{background-color:#000;height:60px;width:100%;z-index:1}.YkAWjhBZ3CQMkXTRr7Pr{background-position:50%;background-repeat:no-repeat;background-size:cover;filter:blur(13px);height:60px;width:100%}.AZiWK1dCYGy0PokebYqf{display:flex;flex-direction:column;justify-content:center;position:absolute;top:10px;width:100%}.mTPWo5Oiogq6yuUHnggt{font-size:.75rem;padding:0 5% 2px}.SMmt6X9lbANtAfdDKDDC,.mTPWo5Oiogq6yuUHnggt{color:#fff;font-family:Roboto;font-weight:400}.SMmt6X9lbANtAfdDKDDC{font-size:.6rem;opacity:.8;padding:0 5%}.lyFmw5E7iGb4WtAIqbYl{background:#fff;border-top:.5px solid #efefef;bottom:0;display:flex;height:59.5px;justify-content:space-evenly;position:absolute;transform:translateY(0);transition:transform .2s ease-in;visibility:visible;width:100%;z-index:4}.KUUue43jyrLbX3FYX8yo{border-top:0;transform:translateY(60px)}.ytPA46Gg_4e8_qHYLDyj{align-content:center;display:flex;flex-direction:column;font-size:.7rem;justify-content:space-evenly;padding:5px 0 0;width:20vw}._rgLDyQtPXJasZ8Q2jfs{stroke:#369af8;height:20px;margin:auto;width:20px}.BbsdE5lyd6OZ2HJzVd1H{height:21px;width:21px}.lXgFIvI5i_VZPLLO1gG7{fill:#369af8}.M6PRXFw6nODv8iBqJDHU{font-family:Roboto;font-size:11px;font-weight:300;margin:auto;opacity:.8}.QAfhKFJaIz2RJ8vyx9Qq{display:flex;flex-direction:column;height:100%;justify-content:flex-end}.QAfhKFJaIz2RJ8vyx9Qq iframe{border:none;bottom:0;height:calc(100vh - 40px);width:100%}.H41JnXgSPLo9k5JwK1Pi{display:flex;flex-direction:column;height:100%;margin:0 auto;position:relative;user-select:none;width:100%}.wV07ysJKd7W3cBnIi5Bf{background-color:#ccc;background-position:50%;background-size:cover;height:42vh;margin:0;width:100%}._Ttx9ZZ0WQ_Oow6MIFmp{display:none}.bjb7vgHEWTU0GRToVbHX{color:#161616;font-family:Roboto;font-size:1rem;font-weight:400;line-height:1.3rem;margin:12px 5% 6px;opacity:.9;width:90%}.hQVJqbUufmJEcbeKAzyV{color:#369af8!important}.lhZZASYq1aCfL5dm6NtQ{color:#585858;font-family:Roboto;font-size:.9rem;font-weight:300;line-height:1.35rem;margin:0 5%;opacity:.8;width:90%}.r2xxX9TCguCGSCc36ZcQ{color:#c7c7c7;font-family:Roboto;font-size:.7rem;font-weight:400}.bASNd1dN1O9QZ5iKJ8iP:before{content:\"\";-webkit-filter:blur(5px);-moz-filter:blur(5px);-o-filter:blur(5px);-ms-filter:blur(5px);filter:blur(5px);z-index:-1}._SDP2fWQIH90w9neaNid{height:60px;margin-top:auto;overflow:hidden;position:relative}.bASNd1dN1O9QZ5iKJ8iP{background-color:#000;height:60px;width:100%;z-index:1}.ko9CjxT_PKmXsJtR_cdP{background-position:50%;background-repeat:no-repeat;background-size:cover;filter:blur(13px);height:60px;width:100%}.jlcDHMBheAWRhn5kUf4J{display:flex;flex-direction:column;justify-content:center;position:absolute;top:10px;width:100%}.iuDAhXUjnBa1cMsg3cdL{font-size:.75rem;padding:0 5% 2px}.ByIfqlRWfjhVfIleS0mh,.iuDAhXUjnBa1cMsg3cdL{color:#fff;font-family:Roboto;font-weight:400}.ByIfqlRWfjhVfIleS0mh{font-size:.6rem;opacity:.8;padding:0 5%}.emLZaE0lHwPajLhOAPPz{background:#fff;border-top:.5px solid #efefef;bottom:0;display:flex;height:60px;justify-content:space-evenly;position:absolute;transform:translateY(0);transition:transform .2s ease-in;visibility:visible;width:100%;z-index:4}.KR8W3OJ5gm8QO0QxMWlE{transform:translateY(60px)}.s8Hbu3oUyCLFrqtUlElq{align-content:center;display:flex;flex-direction:column;font-size:.7rem;justify-content:space-evenly;padding:5px 0 0;width:20vw}.PvGMVW15Yr43JnBfJ5mo{stroke:#369af8;height:20px;margin:auto;width:20px}.ObNclfge8FY1rDqoo4Ek{height:21px;width:21px}.y22bE8yIhQdx6R8WU9MA{fill:#369af8}.xN2drUkThMPB4W2vvFBg{font-family:Roboto;font-size:11px;font-weight:300;margin:auto;opacity:.8}.L176gpObAVeiNGZJrOPr{display:flex;flex-direction:column;height:100%;justify-content:flex-end}.L176gpObAVeiNGZJrOPr iframe{border:none;bottom:0;height:calc(100vh - 40px);width:100%}.W8yQWf6lSyvwuSSFllBl{display:flex;flex-direction:column;height:100%;margin:0 auto;position:relative;user-select:none;width:100%}.MN9v2XfDqAeH5zlMwa1N{background-color:#ccc;background-position:50%;background-size:cover;height:42vh;margin:0;width:100%}.r32NBqR5k1F_0EofhGSs{display:none}.wQh96_o8w0gFnosb8_1M{color:#161616;font-family:Roboto;font-size:1rem;font-weight:400;line-height:1.3rem;margin:12px 5% 6px;opacity:.9;width:90%}.A_iBrs7Y7fyMfWG5slnA{color:#369af8!important}.Z0AFPE30c7YVyYwQ64iT{color:#585858;font-family:Roboto;font-size:.9rem;font-weight:300;line-height:1.35rem;margin:0 5%;opacity:.8;width:90%}.Y2RybaCLLu_Zyli1Lc7C{color:#c7c7c7;font-family:Roboto;font-size:.7rem;font-weight:400}.HlGGJ3QdEUYmqv02JDw6:before{content:\"\";-webkit-filter:blur(5px);-moz-filter:blur(5px);-o-filter:blur(5px);-ms-filter:blur(5px);filter:blur(5px);z-index:-1}.W1xLbcidoC451nYtkyyA{height:60px;margin-top:auto;overflow:hidden;position:relative}.HlGGJ3QdEUYmqv02JDw6{background-color:#000;height:60px;width:100%;z-index:1}.Yzu2M2jWpQC5rVRyno_K{background-position:50%;background-repeat:no-repeat;background-size:cover;filter:blur(13px);height:60px;width:100%}.BmVAJU0TXOJOT_EwJqaf{display:flex;flex-direction:column;justify-content:center;position:absolute;top:10px;width:100%}.mQBsGBWx7wtmfg7VeDEV{font-size:.75rem;padding:0 5% 2px}.mQBsGBWx7wtmfg7VeDEV,.q7MZqgyk7aZv0MgBu2Cw{color:#fff;font-family:Roboto;font-weight:400}.q7MZqgyk7aZv0MgBu2Cw{font-size:.6rem;opacity:.8;padding:0 5%}.ivzhJbts29pNnZW2lPLD{background:#fff;border-top:.5px solid #efefef;bottom:0;display:flex;height:60px;justify-content:space-evenly;position:absolute;transform:translateY(0);transition:transform .2s ease-in;visibility:visible;width:100%;z-index:4}.sikMNfOSnc0UuTdqetz8{transform:translateY(60px)}.uOTbrqNDstY2TenXZceD{align-content:center;display:flex;flex-direction:column;font-size:.7rem;justify-content:space-evenly;padding:5px 0 0;width:20vw}.cASn3xyH3AKWy_XBDtzR{stroke:#369af8;height:20px;margin:auto;width:20px}.rYQGCQ0gURqmmDrpxOP7{height:21px;width:21px}.kqnbugIb7zMJXpmpLYfX{fill:#369af8}.euHe1ZjycjV5Lgvju2du{font-family:Roboto;font-size:11px;font-weight:300;margin:auto;opacity:.8}.NoG_IpxXO8HpKmmmWdJz{display:flex;flex-direction:column;height:100%;justify-content:flex-end}.NoG_IpxXO8HpKmmmWdJz iframe{border:none;bottom:0;height:calc(100vh - 40px);width:100%}.FWz_GQh_PJtyy3k5QUB9{display:flex;flex-direction:column;height:100vh;pointer-events:none!important}.qaZKriyx6F7WfTfsjzih{height:90vh;position:absolute;width:100%;z-index:2}.FWz_GQh_PJtyy3k5QUB9 iframe{border:none;height:100vh;width:100%;z-index:1}.HoNAsmwj5WiOCzIl_V5y{background:#fff;border-top:.5px solid #efefef;bottom:0;display:flex;height:7.08vh;justify-content:space-evenly;width:100%;z-index:4}.cVbFpbvZMNKTOo8Z3R5z{align-content:center;display:flex;flex-direction:column;font-size:.7rem;justify-content:space-evenly;padding:5px 0 0;width:20vw}.KX817DouzJomUFBCDEY8{margin:auto;width:23px}.X1fLADBjinp4U6IrCjgA{margin:auto}.YS3mQOjr6SqmJiz01Nhm{align-items:center;display:flex;height:100%;justify-content:center}.Wcle6MhzV95QvUrS3eUg{stroke:#5e5e5e;height:10vw;width:10vw}.SdWrmErCPw6DM8ngcVhQ{display:flex;position:fixed;top:56px;width:100%;z-index:99}.zPiBf56ubBazArpJM34z{background:#0575de;border:none;border-radius:15px;color:#fff;font-size:.8em;margin:0 auto;padding:6px 30px}.GoyuRYYggZbwCh4N3SF4{background:#fff;display:flex;flex-direction:row;height:44px;justify-content:space-between;opacity:.9;position:fixed;transform:translateY(0);transition:transform .2s ease-in;width:100%;z-index:10}.SVHna9q9OEfcnRgsQApR{font-family:Roboto;font-size:17px;font-weight:400;opacity:.7;padding:12px 0 10px 4%}.SVHna9q9OEfcnRgsQApR a{align-items:center;color:#000;display:flex;height:15px;justify-content:center;padding:2px 0;text-decoration:none}.SVHna9q9OEfcnRgsQApR svg{height:21px;padding:0 5px 0 0;width:21px}.bKHBAZju47CtSCxnnJiA{display:flex;opacity:.7;padding:12px 15px 0 5px;width:22px}.bKHBAZju47CtSCxnnJiA svg{height:20px}.xpMb360v3V8aRnxX7_nL{transform:translateY(-48px)}.rotate{-webkit-animation:rotation 2s linear infinite;animation:rotation 2s linear infinite}@-webkit-keyframes rotation{0%{-webkit-transform:rotate(0deg)}to{-webkit-transform:rotate(359deg)}}.GdvP66uas3qtWfiwTzJA{background:#fff;display:flex;flex-direction:row;height:100vh;justify-content:center;width:100%}.IP5H8kvoqFD2VzjivCjL{margin-top:15vh;text-align:center}.SGu41FxpKdWxCZaS92UP{font-family:Roboto;font-size:1.2em;font-weight:600;opacity:.6;padding:30px}.RnthWsU1ntwBmPLv4TL5{font-family:Roboto;font-size:.95rem;font-weight:300;opacity:.8}.hmqlzvVkVI3g5oAM7z5I{display:flex;position:fixed;width:100%;z-index:10}.cOxPqxz7seajjZB0B6yg{background:#5e5e5e;border-radius:15px;color:#fff;font-family:Roboto;font-size:.7em;margin:0 auto;min-width:20vmin;padding:5px 15px;text-align:center}.KQ8c7A_9p7Ne_WlQK6u1{align-items:center;display:flex;flex-direction:column;height:100vh;width:100%}.mUnulQeKdK63Fa69JZZ7{font-family:Roboto;font-size:1.5em;font-weight:500;margin:25vh auto 0}.DP6324mRCgdCvUsRfCRU{background:#efefef;border-radius:10px;color:#1e90ff;font-family:Roboto;font-size:1.3em;font-weight:500;margin:10vh auto 0;padding:10px}.SEKBJoxxypE2fBd5SUBV{margin-top:10px;padding:10px 0 10px 4vw}.gTmhEZ7Xgoqp_4KmPls_{color:#545454;font-family:Roboto;font-size:.8rem;font-weight:600}.jQoWQ89N77X3dJ9dyEVz{border-bottom:2px solid #000;margin:10px 0 20px;width:25px}.bMNhhKUnCgUWXaemzXwy{-webkit-overflow-scrolling:touch;-ms-overflow-style:-ms-autohiding-scrollbar;color:#000;display:flex;flex-wrap:nowrap;font-size:.85rem;height:90px;list-style:none;overflow:auto;padding-bottom:15px;width:fit-content;z-index:2}.t46cOluEWhNQ9o7Stmjh{height:90px;overflow:hidden;z-index:2}._7dkJyItt63T9pwxVJDm{flex:0 0 auto;font-size:.6rem;margin:10px 14px 0;opacity:.6;text-align:center;width:22vmin}.HHIQhXi2Kj6vgCusbuuv{color:#369af8!important;font-size:.7rem;opacity:1!important}.ddLrNgMT8Boo2o_08lS9{background-repeat:no-repeat;background-size:contain;height:10vw;margin:0 auto 16px;max-height:50px;max-width:50px;width:10vw}.zHyJ0Y3qEtEAHjVCwkwV{font-family:Roboto;font-weight:600;opacity:.8;text-transform:uppercase}.tHIIbFUSXCgeKCk3d8n1{opacity:1!important}.W4ihOiEiLYUpNbXI4Nzu{overflow-x:scroll}.wHkAv9JwVuwWcb14tyvu{margin-top:10px;padding:10px 4vw}.eMulbovY9GDX2AycSt93{color:#585858;font-family:Roboto;font-size:.8rem;font-weight:600}.DCLQv2C_h2kTmxkcj1Mz{border-bottom:2px solid #585858;margin:10px 0 20px;width:25px}.ZMQoXdfSwbVDQtZv0MZw{display:flex;flex-flow:row wrap;font-family:Roboto;font-size:3.5vw;font-weight:500;justify-content:flex-start;list-style:none}.ZMQoXdfSwbVDQtZv0MZw>a{margin-right:1vw}.ZMQoXdfSwbVDQtZv0MZw>a:nth-child(3n){margin-right:0}.Xmblo6SyNQcS0VdU_DNK{background:#fff;background-color:#efefef;background-position:50% 50%;background-repeat:no-repeat;background-size:cover;border:.5px solid #8dc8ff;border-radius:5px;-webkit-box-shadow:0 4px 4px -3px #369af8;-moz-box-shadow:0 4px 4px -3px #369af8;box-shadow:0 4px 4px -3px #369af8;flex:0 0 0;margin:5px 0;min-height:38vw;min-width:29vw;position:relative;text-align:left}.drZaiyt6pS51aDwAuYLT{background:linear-gradient(0deg,#fff 0,#ffffff00);border-radius:4px;bottom:0;display:flex;flex-direction:column;height:10vh;justify-content:flex-end;margin:0 0 0 .5px;padding:0 0 0 .5px;position:absolute;width:calc(100% - 1px)}.drZaiyt6pS51aDwAuYLT span{margin:0 1vw 1.8vw 1.8vw}.P__F672AHgdZG7v_lCdI{background:#fff;border-bottom:.5px solid #efefef;display:flex;flex-direction:row;height:48px;justify-content:flex-end;position:fixed;top:0;width:100%;z-index:3}.bxrAUMAy1LAYgwslE3wP{font-size:17px}.bxrAUMAy1LAYgwslE3wP a{color:#000;display:flex;height:34px;padding:14px 10px 0 5px;text-decoration:none}.bxrAUMAy1LAYgwslE3wP svg{stroke:#369af8;height:20px}.wRS8O7sJW1hhVIX6LZOt{display:flex}.wRS8O7sJW1hhVIX6LZOt svg{stroke:#369af8;height:48px;width:27px}.wRS8O7sJW1hhVIX6LZOt a{padding:0 15px}.Fgiisq_WTc_Zgiu6kI_w{font-family:Roboto;font-size:16px;font-weight:400;margin-right:auto;opacity:.8;padding:15px 0 0 15px}.ci9NNhjQzHWMDgQ8qRwn{margin-top:48px;padding:30px 0 10px 4vw;position:relative}.WAwlrr2l7yfVTSOXAtKi{color:#545454;font-family:Roboto;font-size:.8rem;font-weight:600}.hsLGtbNUtINfPIlgShrN{border-bottom:2px solid #000;margin:10px 0 20px;width:25px}.kKcHmp3oY2rYB9kO9bV2{overflow:hidden;z-index:2}.ImLYkDSZSXIZHckdgsg9{-webkit-overflow-scrolling:touch;-ms-overflow-style:-ms-autohiding-scrollbar;align-items:center;flex-flow:nowrap;justify-items:flex-start;overflow:auto;padding-bottom:15px;z-index:2}.ImLYkDSZSXIZHckdgsg9::-webkit-scrollbar{display:none}.r2eG3x62RHZQP_ywJMx8{background-position:50%;background-size:cover;border:.5px solid #8dc8ff;border-radius:50%;-webkit-box-shadow:0 4px 4px -3px #369af8;-moz-box-shadow:0 4px 4px -3px #369af8;box-shadow:0 4px 4px -3px #369af8;display:inline-block;height:80px;margin:0 10px 20px;position:relative;width:80px}.r9mlYoQPShF04WPKUAt0{bottom:-30px;color:#696969;font-family:Roboto;font-size:.7rem;max-width:100%;overflow:hidden;position:absolute;text-align:center;text-overflow:ellipsis;white-space:nowrap;width:100%}.xUDC9db_l99M7bWx_BiM{background-blend-mode:luminosity;border-color:#ddd;box-shadow:0 4px 4px -3px #909090;-webkit-box-shadow:0 4px 4px -3px #909090;-moz-box-shadow:0 4px 4px -3px #909090}.dwF2GHioznKoRPnQrDOF{-webkit-animation:_ScdbRb6soU1EmjfECty 1s cubic-bezier(.75,.35,.25,.15) infinite;animation:_ScdbRb6soU1EmjfECty 1s cubic-bezier(.75,.35,.25,.15) infinite;border:8px solid #f1f1f1;border-top-color:#ddd;-webkit-box-shadow:unset;-moz-box-shadow:unset;box-shadow:unset;box-sizing:border-box}@-webkit-keyframes _ScdbRb6soU1EmjfECty{0%{-webkit-transform:rotate(0deg)}to{-webkit-transform:rotate(1turn)}}@keyframes _ScdbRb6soU1EmjfECty{0%{transform:rotate(0deg)}to{transform:rotate(1turn)}}.Wib4n2CQDD6UPfdotqxW{-webkit-overflow-scrolling:touch;-ms-overflow-style:-ms-autohiding-scrollbar;align-items:center;flex-flow:nowrap;justify-items:flex-start;overflow-x:scroll;padding-bottom:15px;z-index:20}.Wib4n2CQDD6UPfdotqxW::-webkit-scrollbar{display:none}.A3Bz9vSREo1VddXZPmMg{position:absolute;right:10px;top:30px}.A3Bz9vSREo1VddXZPmMg button{background:none;border:unset;color:#369af8}.A3Bz9vSREo1VddXZPmMg button.cd_1bHDcNoBI_6WnD71f{color:#bbb}.ozXxI18y8xl_bvbqGD_A{color:inherit;pointer-events:none;text-decoration:none}.GDCz6XzkCksq2BwQc2s8{display:flex;flex-direction:column}.cVLbzMK1naZUCrbITcCd{background:#f9f9f9;font-family:Roboto;margin-top:48px;min-height:calc(100vh - 48px)}._PVtKE6yo8WKWScOkEcg{background:#fff;display:flex;width:100%}.eyZ5qgnVp3WQxUW8Khpn{height:20px;padding:29px 4%;width:24px}.Gjg_etvCoDaqSsuFMpgZ{border-bottom:1px solid #efefef;display:flex;font-weight:400;justify-content:space-between;padding:25px 4% 25px 0;width:calc(88% - 24px)}.WGyybRUvhzYkIHNPSYCt{color:#585858;margin:auto 0;opacity:.7}.uUdOHHWxwG4oPGFM4PZL{-webkit-appearance:none;background-color:#fff;border-color:#fff;color:#369af8;font-size:1rem;height:27px;text-align-last:right}.Cm3T8SAXxwT05g1PEnm8{align-items:center;color:#369af8;display:flex}.Cm3T8SAXxwT05g1PEnm8 svg{height:20px;width:20px}.GYyON_kZarozPZGwER0k{color:#369af8;font-size:1rem}.MLUlJRVhjWEQB9BHS2sw{background:#f9f9f9;height:75px}.Z7HOCAgP5RP8E69EWjj0{color:#585858;font-weight:300;margin:auto 0;opacity:.6}.NXx9aehQpkKJOHG6Pcfm{background:#fff;border-bottom:.5px solid #efefef;display:flex;flex-direction:row;height:48px;position:fixed;top:0;width:100%;z-index:3}.oTJA5CKfg_tfKupCKBIa{align-items:center;display:flex;height:100%;position:absolute}.oTJA5CKfg_tfKupCKBIa svg{stroke:#369af8;height:48px;width:27px}.oTJA5CKfg_tfKupCKBIa a{padding:0 15px 0 10px}.iAMn1f97hDZUdjdohCts{font-family:Roboto;font-size:17px;font-weight:400;margin:auto;opacity:.8}.Zo9zZZacM8AphTey8lb6{background:#fff;bottom:0;height:100vh;left:0;position:fixed;right:0;top:0;width:100%;z-index:3}.ef3P2cEagE5hC3Hiy1aQ{background:unset;border:unset;color:#888;padding:0;position:absolute;right:20px;top:20px;z-index:999999}.IOvkDbn17Ter9ozFnNVh{border:0;margin:0;padding:0;transform-origin:left top;width:900px;z-index:99999}amp-story{color:#fff;font-family:Oswald,sans-serif}amp-story-page{background:linear-gradient(145deg,#4d4dd6,#a227a2)}h1{font-size:2.875em;font-weight:700;line-height:1.174}h1,p{font-weight:400}p{color:#fff;font-size:1.3em;line-height:1.5em}q{font-size:1.1em;font-weight:300}amp-story-grid-layer.zlGHJUcxWfjA0ZHNn_jV{align-content:end}amp-story-grid-layer.cdSckQ5mhay8w0QToqzf{padding:0}amp-story-grid-layer.OkvfTFeMkFk18NneWXjt{align-content:center}amp-img.a5LcXB7PY2cKhsSMfu6z img,amp-video.Qx3a92rGjppRcQ29uK_y video{object-fit:contain}.zQg2PmFhi3eJ7LZzcQbr{background-position:50%;background-repeat:no-repeat;background-size:100% auto}.zQg2PmFhi3eJ7LZzcQbr img{position:absolute;top:50%;transform:translateY(-50%);width:100%}.zDsSP2pOmoLwx5_3UD1f{display:grid;grid-template-columns:30% 70%}.zDsSP2pOmoLwx5_3UD1f div{grid-column-start:2}.zDsSP2pOmoLwx5_3UD1f div.i6sdqcpZr5DapGStL6Vy{grid-column-start:1}.lFn03fN29zsisIWYnUE2{background:#fff;display:flex;flex-direction:row;height:100vh;justify-content:center;width:100%}.LWGJ1WWEyy92CjFO8YIJ{margin-top:15vh;text-align:center}.BfSODipD5isqxAVyrHZY{font-family:Roboto;font-size:1.2em;font-weight:600;opacity:.6;padding:30px}.Dljnu3gdG1pkBNVzZSww{font-family:Roboto;font-size:.95rem;font-weight:300;opacity:.8}.eSvzzYtWlCqeFSHt_uZp{height:100vh;position:relative;width:100%}.cbQpYjDqEDr8GyVGUJ4o{align-items:center;background-color:hsla(0,0%,100%,.4);bottom:25vh;box-shadow:0 1px 5px #ddd;display:flex;height:10vh;justify-content:center;position:absolute;right:50px;width:20%}.oZirmKV6NNHV0fMbpmgf{color:#ccc;height:50%;width:50%}@media only screen and (max-width:320px){html{font-size:1rem}}@media only screen and (min-width:321px){html{font-size:1.05rem}}@media only screen and (min-width:361px){html{font-size:1.095rem}}@media only screen and (min-width:361px) and (min-height:800px){html{font-size:1.25rem}}@media only screen and (min-width:400px){html{font-size:1.2rem}}@media only screen and (min-width:480px){html{font-size:1.4rem}}@media only screen and (min-width:600px){html{font-size:1.6rem}}@media only screen and (min-width:720px){html{font-size:1.6rem}section{margin:auto;max-width:60vh!important}}@media only screen and (min-width:720px) and (min-height:1000px){html{font-size:1.6rem}}@media only screen and (min-width:900px){html{font-size:2.75vh}}progress::-webkit-progress-bar{background:transparent}progress::-webkit-progress-value{background:#1e90ff;transition:width 1s}*{-webkit-touch-callout:none;-webkit-tap-highlight-color:rgba(0,0,0,0);-khtml-tap-highlight-color:transparent;-moz-tap-highlight-color:transparent;-ms-tap-highlight-color:transparent;tap-highlight-color:transparent;outline:0;text-decoration:none;-webkit-user-select:none;-khtml-user-select:none;-moz-user-select:none;-ms-user-select:none;user-select:none}body,html{-webkit-overflow-scrolling:touch}body,li,ul{margin:0}li,ul{padding:0}a{color:inherit}</style><script defer=\"defer\" src=\"/assets/public/styles.bundle.js\"></script><script defer=\"defer\" src=\"/assets/public/576.bundle.js\"></script><script defer=\"defer\" src=\"/assets/public/123.bundle.js\"></script><script defer=\"defer\" src=\"/assets/public/desktop.bundle.js\"></script><script defer=\"defer\" src=\"/assets/public/firebase.bundle.js\"></script><link href=\"/assets/public/styles.style.css\" rel=\"stylesheet\"/></meta></meta></link></link></link></meta></link></head><body><div id=\"container\"><div><div><div class=\"YmiaDj0AgvaLdyATTxIg\"><div class=\"YKSmdW7nhWAEIbmQrJKw\"><div class=\"wve44NJUq8Gu603xj7mq\"><span></span><span></span><span></span><div class=\"lRsuatKUnsWLCEYTR9Iv\">Menu</div></div></div><a href=\"/\"><img alt=\"Inshorts\" class=\"iyAcz8Lj6UNLauiXVejL\" src=\"https://assets.inshorts.com/website_assets/images/logo_inshorts.png\"/></a></div><div class=\"TxGxEsJgUqc68PmaBJpQ\" style=\"width: 0px; padding: 0px;\"><div class=\"fakt5L8hmnoVjOHegIeA\"><div><div class=\"mDgjIwFjqvuRdzgiFhJK\"><a href=\"/en/read/world\"><div class=\"viRdivpyo8BtJtvoV0Dm GGlzLjzDFPOZ4F8jkqsg\">English</div></a><a href=\"/hi/read/world\"><div class=\"klG8752_ZK07jpIutmrg\">हिन्दी</div></a></div><div class=\"ISiDKMugDRNFZ4Q1gwWb\">Categories</div></div></div></div></div><div class=\"_7GG_UWB536ZkrvplM16\"><div class=\"AoOfQHhuLzofnX5qGyZx\"><div class=\"gVBPun26EN5_KOnvxsFK\">For the best experience use <a href=\"https://inshorts.com/mobile\" style=\"color:white;appearance: none;font-weight: 500;\" target=\"_blank\">inshorts</a> app on your smartphone</div><div style=\"display: flex;\"><a href=\"https://inshorts.onelink.me/398813699/Website\" style=\"display: flex;\" target=\"_blank\"><img alt=\"inshorts\" class=\"wEe4zHQAFfoZACC2SRFn\" height=\"52\" src=\"https://assets.inshorts.com/website_assets/images/appstore.png\" width=\"140\"/></a><a href=\"https://inshorts.onelink.me/398813699/Website\" style=\"display: flex;\" target=\"_blank\"><img alt=\"inshorts\" class=\"wEe4zHQAFfoZACC2SRFn\" height=\"52\" src=\"https://assets.inshorts.com/website_assets/images/playstore.png\" width=\"140\"/></a></div></div></div><div style=\"min-height: calc(100vh - 348px);\"><div><div class=\"PmX01nT74iM8UNAIENsC\" itemscope=\"\" itemtype=\"http://schema.org/NewsArticle\"><span content=\"\" itemid=\"https://inshorts.com/en/news/what-is-tower-22-us-military-base-attacked-in-jordan-1706589037984\" itemprop=\"mainEntityOfPage\" itemscope=\"\" itemtype=\"https://schema.org/WebPage\"></span><span itemprop=\"author\" itemscope=\"itemscope\" itemtype=\"https://schema.org/Person\"><span content=\"Pragya Swastik\" itemprop=\"name\"></span></span><span content=\"What is Tower 22, US military base attacked in Jordan?\" itemprop=\"description\"></span><span itemprop=\"image\" itemscope=\"\" itemtype=\"https://schema.org/ImageObject\"><meta content=\"https://nis-gs.pix.in/inshorts/images/v1/variants/jpg/m/2024/01_jan/30_tue/img_1706585741452_481.jpg?\" itemprop=\"url\"><meta content=\"864\" itemprop=\"width\"><meta content=\"483\" itemprop=\"height\"/></meta></meta></span><span itemprop=\"publisher\" itemscope=\"itemscope\" itemtype=\"https://schema.org/Organization\"><span content=\"https://inshorts.com/\" itemprop=\"url\"></span><span content=\"Inshorts\" itemprop=\"name\"></span><span itemprop=\"logo\" itemscope=\"\" itemtype=\"https://schema.org/ImageObject\"><span content=\"https://assets.inshorts.com/inshorts/images/v1/variants/jpg/m/2018/11_nov/21_wed/img_1542823931298_497.jpg\" itemprop=\"url\"></span><meta content=\"400\" itemprop=\"width\"><meta content=\"60\" itemprop=\"height\"/></meta></span></span><div class=\"r_CK6OaFsecGqhiNxLQR + GXPWASMx93K0ajwCIcCA + YBIB_aAKmJgaGzjjCtWh\" style=\"overflow: hidden;\"><div class=\"GXPWASMx93K0ajwCIcCA\" style=\"background-image: url(https://nis-gs.pix.in/inshorts/images/v1/variants/jpg/xs/2024/01_jan/30_tue/img_1706585741452_481.jpg?)\"></div></div><div class=\"LUWdd1C_3UqqulVsopn0\"><div><div><div><span class=\"ddVzQcwl2yPlFt4fteIE\" itemprop=\"headline\">What is Tower 22, US military base attacked in Jordan?</span></div><div class=\"E3pJPegn7xWCOvv3BEcf\"><a href=\"/prev/en/news/what-is-tower-22-us-military-base-attacked-in-jordan-1706589037984\"><span class=\"f6VR90cMLekcKLeFCS1J\">short</span></a> by <span class=\"author\">Pragya Swastik</span> /<span content=\"2024-01-30T04:30:37.000Z\" itemprop=\"datePublished\"> 04:30 am</span> on <span class=\"date\">Tuesday, 30 January, 2024</span></div></div><div><div class=\"KkupEonoVHxNv4A_D7UG\" itemprop=\"articleBody\">Three US troops were killed and dozens wounded after a drone hit 'Tower 22', a military outpost in Jordan. It holds a strategically important location in Jordan, at the most northeastern point where the country's borders meet Syria and Iraq. Tower 22 serves as a supply hub for the nearby US garrison of Al-Tanf located across the border in Syria.</div></div></div><div><div class=\"VW4Ta0ioG_64Xx1ROszP\">read more at <a class=\"LFn0sRS51HkFD0OHeCdA\" href=\"https://www.reuters.com/world/middle-east/what-is-tower-22-site-attack-us-troops-jordan-2024-01-28/?utm_campaign=fullarticle&amp;utm_medium=referral&amp;utm_source=inshorts\" rel=\"noreferrer\" target=\"_blank\">Reuters</a></div></div></div></div></div><div><div class=\"PmX01nT74iM8UNAIENsC\" itemscope=\"\" itemtype=\"http://schema.org/NewsArticle\"><span content=\"\" itemid=\"https://inshorts.com/en/news/maldives-lists-top-tourist-markets-india-falls-below-china-to-5th-spot-1706588932028\" itemprop=\"mainEntityOfPage\" itemscope=\"\" itemtype=\"https://schema.org/WebPage\"></span><span itemprop=\"author\" itemscope=\"itemscope\" itemtype=\"https://schema.org/Person\"><span content=\"Sakshita Khosla\" itemprop=\"name\"></span></span><span content=\"Maldives lists top tourist markets, India falls below China to 5th spot\" itemprop=\"description\"></span><span itemprop=\"image\" itemscope=\"\" itemtype=\"https://schema.org/ImageObject\"><meta content=\"https://nis-gs.pix.in/inshorts/images/v1/variants/jpg/m/2024/01_jan/30_tue/img_1706588395182_444.jpg?\" itemprop=\"url\"><meta content=\"864\" itemprop=\"width\"><meta content=\"483\" itemprop=\"height\"/></meta></meta></span><span itemprop=\"publisher\" itemscope=\"itemscope\" itemtype=\"https://schema.org/Organization\"><span content=\"https://inshorts.com/\" itemprop=\"url\"></span><span content=\"Inshorts\" itemprop=\"name\"></span><span itemprop=\"logo\" itemscope=\"\" itemtype=\"https://schema.org/ImageObject\"><span content=\"https://assets.inshorts.com/inshorts/images/v1/variants/jpg/m/2018/11_nov/21_wed/img_1542823931298_497.jpg\" itemprop=\"url\"></span><meta content=\"400\" itemprop=\"width\"><meta content=\"60\" itemprop=\"height\"/></meta></span></span><div class=\"r_CK6OaFsecGqhiNxLQR + GXPWASMx93K0ajwCIcCA + YBIB_aAKmJgaGzjjCtWh\" style=\"overflow: hidden;\"><div class=\"GXPWASMx93K0ajwCIcCA\" style=\"background-image: url(https://nis-gs.pix.in/inshorts/images/v1/variants/jpg/xs/2024/01_jan/30_tue/img_1706588395182_444.jpg?)\"></div></div><div class=\"LUWdd1C_3UqqulVsopn0\"><div><div><div><span class=\"ddVzQcwl2yPlFt4fteIE\" itemprop=\"headline\">Maldives lists top tourist markets, India falls below China to 5th spot</span></div><div class=\"E3pJPegn7xWCOvv3BEcf\"><a href=\"/prev/en/news/maldives-lists-top-tourist-markets-india-falls-below-china-to-5th-spot-1706588932028\"><span class=\"f6VR90cMLekcKLeFCS1J\">short</span></a> by <span class=\"author\">Sakshita Khosla</span> /<span content=\"2024-01-30T04:28:52.000Z\" itemprop=\"datePublished\"> 04:28 am</span> on <span class=\"date\">Tuesday, 30 January, 2024</span></div></div><div><div class=\"KkupEonoVHxNv4A_D7UG\" itemprop=\"articleBody\">India is no longer the top tourist market for Maldives, as per the latest data released by the nation, which has ranked Russia on top. Italy, China and the UK occupy the second, third and fourth spots on the list, respectively. Amid a diplomatic row, Indian tourists visiting Maldives dropped to 13,989 in January 2024.</div></div></div><div><div class=\"VW4Ta0ioG_64Xx1ROszP\">read more at <a class=\"LFn0sRS51HkFD0OHeCdA\" href=\"https://www.news18.com/amp/world/india-maldives-row-lakshadweep-indians-no-more-top-tourist-market-drops-5th-spot-behind-russia-china-latest-news-8758789.html?utm_campaign=fullarticle&amp;utm_medium=referral&amp;utm_source=inshorts\" rel=\"noreferrer\" target=\"_blank\">News18</a></div></div></div></div></div><div><div class=\"PmX01nT74iM8UNAIENsC\" itemscope=\"\" itemtype=\"http://schema.org/NewsArticle\"><span content=\"\" itemid=\"https://inshorts.com/en/news/indian-navy-rescues-19-pakistanis-from-somali-pirates-in-arabian-sea-1706588530385\" itemprop=\"mainEntityOfPage\" itemscope=\"\" itemtype=\"https://schema.org/WebPage\"></span><span itemprop=\"author\" itemscope=\"itemscope\" itemtype=\"https://schema.org/Person\"><span content=\"Pragya Swastik\" itemprop=\"name\"></span></span><span content=\"Indian Navy rescues 19 Pakistanis from Somali pirates in Arabian Sea\" itemprop=\"description\"></span><span itemprop=\"image\" itemscope=\"\" itemtype=\"https://schema.org/ImageObject\"><meta content=\"https://nis-gs.pix.in/inshorts/images/v1/variants/jpg/m/2024/01_jan/30_tue/img_1706587802400_770.jpg?\" itemprop=\"url\"><meta content=\"864\" itemprop=\"width\"><meta content=\"483\" itemprop=\"height\"/></meta></meta></span><span itemprop=\"publisher\" itemscope=\"itemscope\" itemtype=\"https://schema.org/Organization\"><span content=\"https://inshorts.com/\" itemprop=\"url\"></span><span content=\"Inshorts\" itemprop=\"name\"></span><span itemprop=\"logo\" itemscope=\"\" itemtype=\"https://schema.org/ImageObject\"><span content=\"https://assets.inshorts.com/inshorts/images/v1/variants/jpg/m/2018/11_nov/21_wed/img_1542823931298_497.jpg\" itemprop=\"url\"></span><meta content=\"400\" itemprop=\"width\"/><meta content=\"60\" itemprop=\"height\"/></span></span><div class=\"r_CK6OaFsecGqhiNxLQR + GXPWASMx93K0ajwCIcCA + YBIB_aAKmJgaGzjjCtWh\" style=\"overflow: hidden;\"><div class=\"GXPWASMx93K0ajwCIcCA\" style=\"background-image: url(https://nis-gs.pix.in/inshorts/images/v1/variants/jpg/xs/2024/01_jan/30_tue/img_1706587802400_770.jpg?)\"></div></div><div class=\"LUWdd1C_3UqqulVsopn0\"><div><div><div><span class=\"ddVzQcwl2yPlFt4fteIE\" itemprop=\"headline\">Indian Navy rescues 19 Pakistanis from Somali pirates in Arabian Sea</span></div><div class=\"E3pJPegn7xWCOvv3BEcf\"><a href=\"/prev/en/news/indian-navy-rescues-19-pakistanis-from-somali-pirates-in-arabian-sea-1706588530385\"><span class=\"f6VR90cMLekcKLeFCS1J\">short</span></a> by <span class=\"author\">Pragya Swastik</span> /<span content=\"2024-01-30T04:22:10.000Z\" itemprop=\"datePublished\"> 04:22 am</span> on <span class=\"date\">Tuesday, 30 January, 2024</span></div></div><div><div class=\"KkupEonoVHxNv4A_D7UG\" itemprop=\"articleBody\">The Indian Navy on Tuesday said INS Sumitra rescued 19 Pakistani crew members and a vessel from Somali pirates off the East Coast of Somalia. The Indian Navy rescued the fishing vessel Al Naeemi and her crew of 19 Pakistani nationals from 11 Somali pirates. This was the second successful anti-piracy operation by INS Sumitra in the last few days.</div></div></div><div><div class=\"VW4Ta0ioG_64Xx1ROszP\">read more at <a class=\"LFn0sRS51HkFD0OHeCdA\" href=\"https://twitter.com/indiannavy/status/1752175155705774581?utm_campaign=fullarticle&amp;utm_medium=referral&amp;utm_source=inshorts\" rel=\"noreferrer\" target=\"_blank\">X (formerly Twitter)</a></div></div></div></div></div><div><div class=\"PmX01nT74iM8UNAIENsC\" itemscope=\"\" itemtype=\"http://schema.org/NewsArticle\"><span content=\"\" itemid=\"https://inshorts.com/en/news/toyota-urges-owners-of-50000-cars-to-stop-driving-after-26-deaths-in-us-due-to-faulty-airbags-1706588398924\" itemprop=\"mainEntityOfPage\" itemscope=\"\" itemtype=\"https://schema.org/WebPage\"></span><span itemprop=\"author\" itemscope=\"itemscope\" itemtype=\"https://schema.org/Person\"><span content=\"Shreyasi Banerjee\" itemprop=\"name\"></span></span><span content=\"Toyota urges owners of 50,000 cars to stop driving after 26 deaths in US due to faulty airbags\" itemprop=\"description\"></span><span itemprop=\"image\" itemscope=\"\" itemtype=\"https://schema.org/ImageObject\"><meta content=\"https://nis-gs.pix.in/inshorts/images/v1/variants/jpg/m/2024/01_jan/30_tue/img_1706587696772_867.jpg?\" itemprop=\"url\"/><meta content=\"864\" itemprop=\"width\"/><meta content=\"483\" itemprop=\"height\"/></span><span itemprop=\"publisher\" itemscope=\"itemscope\" itemtype=\"https://schema.org/Organization\"><span content=\"https://inshorts.com/\" itemprop=\"url\"></span><span content=\"Inshorts\" itemprop=\"name\"></span><span itemprop=\"logo\" itemscope=\"\" itemtype=\"https://schema.org/ImageObject\"><span content=\"https://assets.inshorts.com/inshorts/images/v1/variants/jpg/m/2018/11_nov/21_wed/img_1542823931298_497.jpg\" itemprop=\"url\"></span><meta content=\"400\" itemprop=\"width\"/><meta content=\"60\" itemprop=\"height\"/></span></span><div class=\"r_CK6OaFsecGqhiNxLQR + GXPWASMx93K0ajwCIcCA + YBIB_aAKmJgaGzjjCtWh\" style=\"overflow: hidden;\"><div class=\"GXPWASMx93K0ajwCIcCA\" style=\"background-image: url(https://nis-gs.pix.in/inshorts/images/v1/variants/jpg/xs/2024/01_jan/30_tue/img_1706587696772_867.jpg?)\"></div></div><div class=\"LUWdd1C_3UqqulVsopn0\"><div><div><div><span class=\"ddVzQcwl2yPlFt4fteIE\" itemprop=\"headline\">Toyota urges owners of 50,000 cars to stop driving after 26 deaths in US due to faulty airbags</span></div><div class=\"E3pJPegn7xWCOvv3BEcf\"><a href=\"/prev/en/news/toyota-urges-owners-of-50000-cars-to-stop-driving-after-26-deaths-in-us-due-to-faulty-airbags-1706588398924\"><span class=\"f6VR90cMLekcKLeFCS1J\">short</span></a> by <span class=\"author\">Shreyasi Banerjee</span> /<span content=\"2024-01-30T04:19:58.000Z\" itemprop=\"datePublished\"> 04:19 am</span> on <span class=\"date\">Tuesday, 30 January, 2024</span></div></div><div><div class=\"KkupEonoVHxNv4A_D7UG\" itemprop=\"articleBody\">Toyota is telling owners of about 50,000 older Corolla, Corolla Matrix and RAV4 models to stop driving them because their Takata airbag inflators are at risk of exploding. Toyota added that the vehicles' airbag inflators could explode and hurl debris, leading to death or injuries. At least 26 people in the US have been killed by Takata inflators since 2009.</div></div></div><div><div class=\"VW4Ta0ioG_64Xx1ROszP\">read more at <a class=\"LFn0sRS51HkFD0OHeCdA\" href=\"https://www.hindustantimes.com/world-news/us-news/toyota-urges-drivers-of-50-000-cars-to-stop-driving-until-faulty-airbags-are-fixed-after-26-killed-in-us-since-may-2009-101706583987756-amp.html?utm_campaign=fullarticle&amp;utm_medium=referral&amp;utm_source=inshorts\" rel=\"noreferrer\" target=\"_blank\">Hindustan Times</a></div></div></div></div></div><div><div class=\"PmX01nT74iM8UNAIENsC\" itemscope=\"\" itemtype=\"http://schema.org/NewsArticle\"><span content=\"\" itemid=\"https://inshorts.com/en/news/brutal-heinous-incident-india-after-25yearold-indian-student-vivek-murdered-in-us-1706585089309\" itemprop=\"mainEntityOfPage\" itemscope=\"\" itemtype=\"https://schema.org/WebPage\"></span><span itemprop=\"author\" itemscope=\"itemscope\" itemtype=\"https://schema.org/Person\"><span content=\"Shreyasi Banerjee\" itemprop=\"name\"></span></span><span content=\"Brutal, heinous incident: India after 25-year-old Indian student Vivek murdered in US\" itemprop=\"description\"></span><span itemprop=\"image\" itemscope=\"\" itemtype=\"https://schema.org/ImageObject\"><meta content=\"https://nis-gs.pix.in/inshorts/images/v1/variants/jpg/m/2024/01_jan/30_tue/img_1706584413117_759.jpg?\" itemprop=\"url\"/><meta content=\"864\" itemprop=\"width\"/><meta content=\"483\" itemprop=\"height\"/></span><span itemprop=\"publisher\" itemscope=\"itemscope\" itemtype=\"https://schema.org/Organization\"><span content=\"https://inshorts.com/\" itemprop=\"url\"></span><span content=\"Inshorts\" itemprop=\"name\"></span><span itemprop=\"logo\" itemscope=\"\" itemtype=\"https://schema.org/ImageObject\"><span content=\"https://assets.inshorts.com/inshorts/images/v1/variants/jpg/m/2018/11_nov/21_wed/img_1542823931298_497.jpg\" itemprop=\"url\"></span><meta content=\"400\" itemprop=\"width\"/><meta content=\"60\" itemprop=\"height\"/></span></span><div class=\"r_CK6OaFsecGqhiNxLQR + GXPWASMx93K0ajwCIcCA + YBIB_aAKmJgaGzjjCtWh\" style=\"overflow: hidden;\"><div class=\"GXPWASMx93K0ajwCIcCA\" style=\"background-image: url(https://nis-gs.pix.in/inshorts/images/v1/variants/jpg/xs/2024/01_jan/30_tue/img_1706584413117_759.jpg?)\"></div></div><div class=\"LUWdd1C_3UqqulVsopn0\"><div><div><div><span class=\"ddVzQcwl2yPlFt4fteIE\" itemprop=\"headline\">Brutal, heinous incident: India after 25-year-old Indian student Vivek murdered in US</span></div><div class=\"E3pJPegn7xWCOvv3BEcf\"><a href=\"/prev/en/news/brutal-heinous-incident-india-after-25yearold-indian-student-vivek-murdered-in-us-1706585089309\"><span class=\"f6VR90cMLekcKLeFCS1J\">short</span></a> by <span class=\"author\">Shreyasi Banerjee</span> /<span content=\"2024-01-30T03:24:49.000Z\" itemprop=\"datePublished\"> 03:24 am</span> on <span class=\"date\">Tuesday, 30 January, 2024</span></div></div><div><div class=\"KkupEonoVHxNv4A_D7UG\" itemprop=\"articleBody\">The Consulate General of India in the US' Atlanta has \"strongly condemned\" the murder of 25-year-old Vivek Saini by a homeless drug addict, whom the Indian student had been helping for past several days. \"We're deeply anguished by the terrifying, brutal and heinous incident,\" the consulate said. \"US authorities have arrested the accused and are investigating the case,\" it added.</div></div></div><div><div class=\"VW4Ta0ioG_64Xx1ROszP\">read more at <a class=\"LFn0sRS51HkFD0OHeCdA\" href=\"https://www.hindustantimes.com/india-news/india-condemns-fatal-attack-on-25-year-old-indian-student-in-us-101706556355008-amp.html?utm_campaign=fullarticle&amp;utm_medium=referral&amp;utm_source=inshorts\" rel=\"noreferrer\" target=\"_blank\">Hindustan Times</a></div></div></div></div></div><div><div class=\"PmX01nT74iM8UNAIENsC\" itemscope=\"\" itemtype=\"http://schema.org/NewsArticle\"><span content=\"\" itemid=\"https://inshorts.com/en/news/indian-student-neel-found-dead-in-us-a-day-after-his-mother-reported-him-missing-1706585025911\" itemprop=\"mainEntityOfPage\" itemscope=\"\" itemtype=\"https://schema.org/WebPage\"></span><span itemprop=\"author\" itemscope=\"itemscope\" itemtype=\"https://schema.org/Person\"><span content=\"Sakshita Khosla\" itemprop=\"name\"></span></span><span content=\"Indian student Neel found dead in US a day after his mother reported him missing\" itemprop=\"description\"></span><span itemprop=\"image\" itemscope=\"\" itemtype=\"https://schema.org/ImageObject\"><meta content=\"https://nis-gs.pix.in/inshorts/images/v1/variants/jpg/m/2024/01_jan/30_tue/img_1706584348984_888.jpg?\" itemprop=\"url\"/><meta content=\"864\" itemprop=\"width\"/><meta content=\"483\" itemprop=\"height\"/></span><span itemprop=\"publisher\" itemscope=\"itemscope\" itemtype=\"https://schema.org/Organization\"><span content=\"https://inshorts.com/\" itemprop=\"url\"></span><span content=\"Inshorts\" itemprop=\"name\"></span><span itemprop=\"logo\" itemscope=\"\" itemtype=\"https://schema.org/ImageObject\"><span content=\"https://assets.inshorts.com/inshorts/images/v1/variants/jpg/m/2018/11_nov/21_wed/img_1542823931298_497.jpg\" itemprop=\"url\"></span><meta content=\"400\" itemprop=\"width\"/><meta content=\"60\" itemprop=\"height\"/></span></span><div class=\"r_CK6OaFsecGqhiNxLQR + GXPWASMx93K0ajwCIcCA + YBIB_aAKmJgaGzjjCtWh\" style=\"overflow: hidden;\"><div class=\"GXPWASMx93K0ajwCIcCA\" style=\"background-image: url(https://nis-gs.pix.in/inshorts/images/v1/variants/jpg/xs/2024/01_jan/30_tue/img_1706584348984_888.jpg?)\"></div></div><div class=\"LUWdd1C_3UqqulVsopn0\"><div><div><div><span class=\"ddVzQcwl2yPlFt4fteIE\" itemprop=\"headline\">Indian student Neel found dead in US a day after his mother reported him missing</span></div><div class=\"E3pJPegn7xWCOvv3BEcf\"><a href=\"/prev/en/news/indian-student-neel-found-dead-in-us-a-day-after-his-mother-reported-him-missing-1706585025911\"><span class=\"f6VR90cMLekcKLeFCS1J\">short</span></a> by <span class=\"author\">Sakshita Khosla</span> /<span content=\"2024-01-30T03:23:45.000Z\" itemprop=\"datePublished\"> 03:23 am</span> on <span class=\"date\">Tuesday, 30 January, 2024</span></div></div><div><div class=\"KkupEonoVHxNv4A_D7UG\" itemprop=\"articleBody\">Indian student Neel Acharya, who had been missing since Sunday in the US, has been confirmed dead by the authorities. Acharya was studying in Purdue University in Indiana and his mother had alerted the authorities that he was missing via a post on X on January 28. Neel was a \"driven individual and academically talented\", a Purdue University official said.</div></div></div><div><div class=\"VW4Ta0ioG_64Xx1ROszP\">read more at <a class=\"LFn0sRS51HkFD0OHeCdA\" href=\"https://www.news18.com/amp/world/neel-acharya-indian-student-studying-us-indiana-found-dead-one-day-after-he-was-reported-missing-8759258.html?utm_campaign=fullarticle&amp;utm_medium=referral&amp;utm_source=inshorts\" rel=\"noreferrer\" target=\"_blank\">News18</a></div></div></div></div></div><div><div class=\"PmX01nT74iM8UNAIENsC\" itemscope=\"\" itemtype=\"http://schema.org/NewsArticle\"><span content=\"\" itemid=\"https://inshorts.com/en/news/missing-indian-student-of-purdue-university-confirmed-dead-1706581771498\" itemprop=\"mainEntityOfPage\" itemscope=\"\" itemtype=\"https://schema.org/WebPage\"></span><span itemprop=\"author\" itemscope=\"itemscope\" itemtype=\"https://schema.org/Person\"><span content=\"Farida\" itemprop=\"name\"></span></span><span content=\"Missing Indian Student of Purdue University Confirmed Dead\" itemprop=\"description\"></span><span itemprop=\"image\" itemscope=\"\" itemtype=\"https://schema.org/ImageObject\"><meta content=\"https://nis-gs.pix.in/inshorts/images/v1/variants/jpg/m/2024/01_jan/30_tue/img_1706581608665_402.jpg?\" itemprop=\"url\"/><meta content=\"864\" itemprop=\"width\"/><meta content=\"483\" itemprop=\"height\"/></span><span itemprop=\"publisher\" itemscope=\"itemscope\" itemtype=\"https://schema.org/Organization\"><span content=\"https://inshorts.com/\" itemprop=\"url\"></span><span content=\"Inshorts\" itemprop=\"name\"></span><span itemprop=\"logo\" itemscope=\"\" itemtype=\"https://schema.org/ImageObject\"><span content=\"https://assets.inshorts.com/inshorts/images/v1/variants/jpg/m/2018/11_nov/21_wed/img_1542823931298_497.jpg\" itemprop=\"url\"></span><meta content=\"400\" itemprop=\"width\"/><meta content=\"60\" itemprop=\"height\"/></span></span><div class=\"r_CK6OaFsecGqhiNxLQR + GXPWASMx93K0ajwCIcCA + YBIB_aAKmJgaGzjjCtWh\" style=\"overflow: hidden;\"><div class=\"GXPWASMx93K0ajwCIcCA\" style=\"background-image: url(https://nis-gs.pix.in/inshorts/images/v1/variants/jpg/xs/2024/01_jan/30_tue/img_1706581608665_402.jpg?)\"></div></div><div class=\"LUWdd1C_3UqqulVsopn0\"><div><div><div><span class=\"ddVzQcwl2yPlFt4fteIE\" itemprop=\"headline\">Missing Indian Student of Purdue University Confirmed Dead</span></div><div class=\"E3pJPegn7xWCOvv3BEcf\"><a href=\"/prev/en/news/missing-indian-student-of-purdue-university-confirmed-dead-1706581771498\"><span class=\"f6VR90cMLekcKLeFCS1J\">short</span></a> by <span class=\"author\">Farida</span> /<span content=\"2024-01-30T02:29:31.000Z\" itemprop=\"datePublished\"> 02:29 am</span> on <span class=\"date\">Tuesday, 30 January, 2024</span></div></div><div><div class=\"KkupEonoVHxNv4A_D7UG\" itemprop=\"articleBody\">An Indian student studying at Purdue University who had been reported missing since Sunday has tragically been confirmed dead, according to the Tippecanoe County Coroner. Neel Acharya, the deceased student, was found on Purdue s campus on Sunday morning after authorities responded to a call regarding a possible dead body.</div></div></div><div><div class=\"VW4Ta0ioG_64Xx1ROszP\">read more at <a class=\"LFn0sRS51HkFD0OHeCdA\" href=\"https://newskarnataka.com/world/missing-indian-student-of-purdue-university-confirmed-dead/30012024?utm_campaign=fullarticle&amp;utm_medium=referral&amp;utm_source=inshorts\" rel=\"noreferrer\" target=\"_blank\">News Karnataka</a></div></div></div></div></div><div><div class=\"PmX01nT74iM8UNAIENsC\" itemscope=\"\" itemtype=\"http://schema.org/NewsArticle\"><span content=\"\" itemid=\"https://inshorts.com/en/news/congratulations-pm-modi-as-assoumani-reelected-as-comoros-prez-1706549188583\" itemprop=\"mainEntityOfPage\" itemscope=\"\" itemtype=\"https://schema.org/WebPage\"></span><span itemprop=\"author\" itemscope=\"itemscope\" itemtype=\"https://schema.org/Person\"><span content=\"Nidhi Sinha\" itemprop=\"name\"></span></span><span content=\"Congratulations: PM Modi as Assoumani re-elected as Comoros Prez\" itemprop=\"description\"></span><span itemprop=\"image\" itemscope=\"\" itemtype=\"https://schema.org/ImageObject\"><meta content=\"https://nis-gs.pix.in/inshorts/images/v1/variants/jpg/m/2024/01_jan/29_mon/img_1706548223879_192.jpg?\" itemprop=\"url\"/><meta content=\"864\" itemprop=\"width\"/><meta content=\"483\" itemprop=\"height\"/></span><span itemprop=\"publisher\" itemscope=\"itemscope\" itemtype=\"https://schema.org/Organization\"><span content=\"https://inshorts.com/\" itemprop=\"url\"></span><span content=\"Inshorts\" itemprop=\"name\"></span><span itemprop=\"logo\" itemscope=\"\" itemtype=\"https://schema.org/ImageObject\"><span content=\"https://assets.inshorts.com/inshorts/images/v1/variants/jpg/m/2018/11_nov/21_wed/img_1542823931298_497.jpg\" itemprop=\"url\"></span><meta content=\"400\" itemprop=\"width\"/><meta content=\"60\" itemprop=\"height\"/></span></span><div class=\"r_CK6OaFsecGqhiNxLQR + GXPWASMx93K0ajwCIcCA + YBIB_aAKmJgaGzjjCtWh\" style=\"overflow: hidden;\"><div class=\"GXPWASMx93K0ajwCIcCA\" style=\"background-image: url(https://nis-gs.pix.in/inshorts/images/v1/variants/jpg/xs/2024/01_jan/29_mon/img_1706548223879_192.jpg?)\"></div></div><div class=\"LUWdd1C_3UqqulVsopn0\"><div><div><div><span class=\"ddVzQcwl2yPlFt4fteIE\" itemprop=\"headline\">Congratulations: PM Modi as Assoumani re-elected as Comoros Prez</span></div><div class=\"E3pJPegn7xWCOvv3BEcf\"><a href=\"/prev/en/news/congratulations-pm-modi-as-assoumani-reelected-as-comoros-prez-1706549188583\"><span class=\"f6VR90cMLekcKLeFCS1J\">short</span></a> by <span class=\"author\">Nidhi Sinha</span> /<span content=\"2024-01-29T17:26:28.000Z\" itemprop=\"datePublished\"> 05:26 pm</span> on <span class=\"date\">Monday, 29 January, 2024</span></div></div><div><div class=\"KkupEonoVHxNv4A_D7UG\" itemprop=\"articleBody\">Prime Minister Narendra Modi took to social media on Monday to send his \"heartiest congratulations\" to Azali Assoumani, who has been re-elected as the President of Comoros. \"Look forward to continue working together to further strengthen India-Comoros partnership, India-Africa partnership and 'Vision Sagar',\" PM Modi said. Assoumani attended G20 Summit in India as African Union Chairman last year.</div></div></div><div><div class=\"VW4Ta0ioG_64Xx1ROszP\">read more at <a class=\"LFn0sRS51HkFD0OHeCdA\" href=\"https://twitter.com/PTI_News/status/1752012767710646364?utm_campaign=fullarticle&amp;utm_medium=referral&amp;utm_source=inshorts\" rel=\"noreferrer\" target=\"_blank\">PTI</a></div></div></div></div></div><div><div class=\"PmX01nT74iM8UNAIENsC\" itemscope=\"\" itemtype=\"http://schema.org/NewsArticle\"><span content=\"\" itemid=\"https://inshorts.com/en/news/trump-cant-bully-his-way-into-winning-gops-nomination-haley-1706547158606\" itemprop=\"mainEntityOfPage\" itemscope=\"\" itemtype=\"https://schema.org/WebPage\"></span><span itemprop=\"author\" itemscope=\"itemscope\" itemtype=\"https://schema.org/Person\"><span content=\"Disha Jana\" itemprop=\"name\"></span></span><span content=\"Trump can't bully his way into winning GOP's nomination: Haley\" itemprop=\"description\"></span><span itemprop=\"image\" itemscope=\"\" itemtype=\"https://schema.org/ImageObject\"><meta content=\"https://nis-gs.pix.in/inshorts/images/v1/variants/jpg/m/2024/01_jan/29_mon/img_1706543026914_611.jpg?\" itemprop=\"url\"/><meta content=\"864\" itemprop=\"width\"/><meta content=\"483\" itemprop=\"height\"/></span><span itemprop=\"publisher\" itemscope=\"itemscope\" itemtype=\"https://schema.org/Organization\"><span content=\"https://inshorts.com/\" itemprop=\"url\"></span><span content=\"Inshorts\" itemprop=\"name\"></span><span itemprop=\"logo\" itemscope=\"\" itemtype=\"https://schema.org/ImageObject\"><span content=\"https://assets.inshorts.com/inshorts/images/v1/variants/jpg/m/2018/11_nov/21_wed/img_1542823931298_497.jpg\" itemprop=\"url\"></span><meta content=\"400\" itemprop=\"width\"/><meta content=\"60\" itemprop=\"height\"/></span></span><div class=\"r_CK6OaFsecGqhiNxLQR + GXPWASMx93K0ajwCIcCA + YBIB_aAKmJgaGzjjCtWh\" style=\"overflow: hidden;\"><div class=\"GXPWASMx93K0ajwCIcCA\" style=\"background-image: url(https://nis-gs.pix.in/inshorts/images/v1/variants/jpg/xs/2024/01_jan/29_mon/img_1706543026914_611.jpg?)\"></div></div><div class=\"LUWdd1C_3UqqulVsopn0\"><div><div><div><span class=\"ddVzQcwl2yPlFt4fteIE\" itemprop=\"headline\">Trump can't bully his way into winning GOP's nomination: Haley</span></div><div class=\"E3pJPegn7xWCOvv3BEcf\"><a href=\"/prev/en/news/trump-cant-bully-his-way-into-winning-gops-nomination-haley-1706547158606\"><span class=\"f6VR90cMLekcKLeFCS1J\">short</span></a> by <span class=\"author\">Disha Jana</span> /<span content=\"2024-01-29T16:52:38.000Z\" itemprop=\"datePublished\"> 04:52 pm</span> on <span class=\"date\">Monday, 29 January, 2024</span></div></div><div><div class=\"KkupEonoVHxNv4A_D7UG\" itemprop=\"articleBody\">Indian-American US Presidential candidate Nikki Haley has said that ex-US President Donald Trump can't \"bully\" his way into winning the nomination of Grand Old Party (GOP), also known as Republican Party. Haley has lost both the Iowa caucuses and the New Hampshire primary but has refused to exit the race. The next republican primary will be held in South Carolina.</div></div></div><div><div class=\"VW4Ta0ioG_64Xx1ROszP\">read more at <a class=\"LFn0sRS51HkFD0OHeCdA\" href=\"https://repository.inshorts.com/articles/en/PTI/d5a4969e-39fb-4044-ae35-153668b46e04?utm_campaign=fullarticle&amp;utm_medium=referral&amp;utm_source=inshorts\" rel=\"noreferrer\" target=\"_blank\">PTI</a></div></div></div></div></div><div><div class=\"PmX01nT74iM8UNAIENsC\" itemscope=\"\" itemtype=\"http://schema.org/NewsArticle\"><span content=\"\" itemid=\"https://inshorts.com/en/news/thailand-is-in-recession-deputy-fm-julapun-1706546921243\" itemprop=\"mainEntityOfPage\" itemscope=\"\" itemtype=\"https://schema.org/WebPage\"></span><span itemprop=\"author\" itemscope=\"itemscope\" itemtype=\"https://schema.org/Person\"><span content=\"Hiral Goyal\" itemprop=\"name\"></span></span><span content=\"Thailand is in recession: Deputy FM Julapun\" itemprop=\"description\"></span><span itemprop=\"image\" itemscope=\"\" itemtype=\"https://schema.org/ImageObject\"><meta content=\"https://nis-gs.pix.in/inshorts/images/v1/variants/jpg/m/2024/01_jan/29_mon/img_1706545024222_156.jpg?\" itemprop=\"url\"/><meta content=\"864\" itemprop=\"width\"/><meta content=\"483\" itemprop=\"height\"/></span><span itemprop=\"publisher\" itemscope=\"itemscope\" itemtype=\"https://schema.org/Organization\"><span content=\"https://inshorts.com/\" itemprop=\"url\"></span><span content=\"Inshorts\" itemprop=\"name\"></span><span itemprop=\"logo\" itemscope=\"\" itemtype=\"https://schema.org/ImageObject\"><span content=\"https://assets.inshorts.com/inshorts/images/v1/variants/jpg/m/2018/11_nov/21_wed/img_1542823931298_497.jpg\" itemprop=\"url\"></span><meta content=\"400\" itemprop=\"width\"/><meta content=\"60\" itemprop=\"height\"/></span></span><div class=\"r_CK6OaFsecGqhiNxLQR + GXPWASMx93K0ajwCIcCA + YBIB_aAKmJgaGzjjCtWh\" style=\"overflow: hidden;\"><div class=\"GXPWASMx93K0ajwCIcCA\" style=\"background-image: url(https://nis-gs.pix.in/inshorts/images/v1/variants/jpg/xs/2024/01_jan/29_mon/img_1706545024222_156.jpg?)\"></div></div><div class=\"LUWdd1C_3UqqulVsopn0\"><div><div><div><span class=\"ddVzQcwl2yPlFt4fteIE\" itemprop=\"headline\">Thailand is in recession: Deputy FM Julapun</span></div><div class=\"E3pJPegn7xWCOvv3BEcf\"><a href=\"/prev/en/news/thailand-is-in-recession-deputy-fm-julapun-1706546921243\"><span class=\"f6VR90cMLekcKLeFCS1J\">short</span></a> by <span class=\"author\">Hiral Goyal</span> /<span content=\"2024-01-29T16:48:41.000Z\" itemprop=\"datePublished\"> 04:48 pm</span> on <span class=\"date\">Monday, 29 January, 2024</span></div></div><div><div class=\"KkupEonoVHxNv4A_D7UG\" itemprop=\"articleBody\">Thailand's economy is in a state of recession, Deputy Finance Minister Julapun Amornvivat said. Citing high debt burden of households and the private sector, he said, \"It's difficult to drive the economy forward.\" Julapun has urged the country's central bank to cut interest rates, which is at a decade-high of 2.50%, so that it will help lower high borrowing costs.</div></div></div><div><div class=\"VW4Ta0ioG_64Xx1ROszP\">read more at <a class=\"LFn0sRS51HkFD0OHeCdA\" href=\"https://www.reuters.com/markets/asia/thai-economy-recession-needs-boost-finance-official-2024-01-29/?utm_campaign=fullarticle&amp;utm_medium=referral&amp;utm_source=inshorts\" rel=\"noreferrer\" target=\"_blank\">Reuters</a></div></div></div></div></div><div class=\"JIMrm2g5L9csgTtobp2g\">Load More</div></div><div><footer class=\"wEumTDYB6eDIXyvFoop4\"><div class=\"qGX5vBk6QkTdiOnlhv0h\"><div class=\"LwhH_gRIbg5VIc0J0YqN\"><div class=\"iv7aKfs5Gt6PtjvcS8QG\"><div><div class=\"oKGmoEhaIPPGnMP9uOm_\"><img alt=\"inshorts\" height=\"48px\" src=\"https://assets.inshorts.com/website_assets/images/logo_footer.png\" width=\"160px\"/></div><div class=\"Ifsiqs80e9rHfmAGOa7M\"><span class=\"IdWAVH5mzwaBUBNlnoaJ\"><span class=\"FqFMAiJrixIx0TvrCgBX\">Inshorts</span> Pte. Ltd.</span><br/><div class=\"IdWAVH5mzwaBUBNlnoaJ\">©<span style=\"font-size: 12px;\">COPYRIGHT 2024  </span></div></div></div><div class=\"rSEHXWWeEOaR0W1vhOJp\"><div class=\"kpbhIVsZHJTrp8In2UNh\"><img alt=\"contact\" height=\"48px\" src=\"https://assets.inshorts.com/website_assets/images/contact_icon.png\" width=\"132px\"/></div><div style=\"margin-top: 16px;\"><a class=\"frrT68MKbm2McDk4zOAG\" href=\"/tnc\" target=\"_blank\"><span>Terms &amp; conditions</span><br/><div>Privacy Policies</div></a></div></div></div><div class=\"A1qCiDaRQdjD0q3Ijx_e\"><div><a aria-label=\"Facebook\" href=\"https://www.facebook.com/inshortsapp\" target=\"_blank\"><img alt=\"Facebook\" src=\"https://assets.inshorts.com/website_assets/images/facebook.png\"/></a></div><div><a aria-label=\"Twitter\" href=\"https://twitter.com/inshorts\" target=\"_blank\"><img alt=\"Twitter\" src=\"https://assets.inshorts.com/website_assets/images/twitter.png\"/></a></div><div><a aria-label=\"Linkedin\" href=\"https://www.linkedin.com/company/news-in-shorts\" target=\"_blank\"><img alt=\"Linkedin\" src=\"https://assets.inshorts.com/website_assets/images/linkedin.png\"/></a></div></div></div></div></footer></div></div></div><script>navigator.serviceWorker.register('/sw.js')\n",
       "      .then(swReg => {\n",
       "        swReg.update();\n",
       "      });</script><script>window.__STATE__ = {\"news_list\":{\"list\":[{\"rank\":0,\"news_type\":\"NEWS\",\"hash_id\":\"v2jipys3-1\",\"type\":\"NEWS\",\"version\":0,\"news_obj\":{\"old_hash_id\":\"what-is-tower-22-us-military-base-attacked-in-jordan-1706589037984\",\"hash_id\":\"v2jipys3-1\",\"author_name\":\"Pragya Swastik\",\"content\":\"Three US troops were killed and dozens wounded after a drone hit 'Tower 22', a military outpost in Jordan. It holds a strategically important location in Jordan, at the most northeastern point where the country's borders meet Syria and Iraq. Tower 22 serves as a supply hub for the nearby US garrison of Al-Tanf located across the border in Syria.\",\"source_url\":\"https://www.reuters.com/world/middle-east/what-is-tower-22-site-attack-us-troops-jordan-2024-01-28/?utm_campaign=fullarticle&utm_medium=referral&utm_source=inshorts\",\"source_name\":\"Reuters\",\"title\":\"What is Tower 22, US military base attacked in Jordan?\",\"important\":false,\"image_url\":\"https://nis-gs.pix.in/inshorts/images/v1/variants/jpg/m/2024/01_jan/30_tue/img_1706585741452_481.jpg?\",\"shortened_url\":\"https://shrts.in/svjBK\",\"created_at\":1706589037000,\"score\":800,\"category_names\":[\"world\"],\"relevancy_tags\":[\"world\"],\"tenant\":\"ENGLISH\",\"fb_object_id\":\"\",\"fb_like_count\":0,\"country_code\":\"IN\",\"impressive_score\":12.29,\"targeted_city\":[],\"gallery_image_urls\":[],\"full_gallery_urls\":[],\"bottom_headline\":\"Islamic Resistance in Iraq said it attacked base\",\"bottom_text\":\"Iran has denied any involvement in the attack\",\"darker_fonts\":true,\"bottom_panel_link\":\"https://www.reuters.com/world/middle-east/what-is-tower-22-site-attack-us-troops-jordan-2024-01-28/?utm_campaign=fullarticle&utm_medium=referral&utm_source=inshorts\",\"bottom_type\":\"DEFAULT\",\"byline_1\":[{\"type\":\"TEXT\",\"text\":\"swipe left for more at Reuters / \"},{\"type\":\"TIME\"}],\"byline_2\":[{\"type\":\"TEXT\",\"text\":\"short by \"},{\"type\":\"TEXT\",\"text\":\"Pragya Swastik\"}],\"version\":0,\"position_start_time\":\"1970-01-01T00:00:00Z\",\"position_expire_time\":\"2024-01-31T03:48:38.822Z\",\"trackers\":[],\"dfp_tags\":\"score:800,news:default,cat:world,hash:4\",\"dont_show_ad\":false,\"poll_tenant\":\"ENGLISH\",\"video_opinion_enabled\":true,\"language\":\"english\",\"show_inshorts_brand_name\":true,\"crypto_coin_preference\":null,\"is_overlay_supported\":true,\"news_type\":\"NEWS\",\"is_muted\":false,\"video_audio_type\":\"USER_SPECIFIED_AUDIO\",\"auto_play_type\":\"AUTO_PLAY_USER_SPECIFIED\",\"show_in_video_feed_only\":false,\"similar_threshold\":15500,\"is_similar_feed_available\":false,\"show_publisher_info\":false,\"is_profile_clickable\":false,\"views_count\":0,\"ImageSponsor\":\"\"}},{\"rank\":1,\"news_type\":\"NEWS\",\"hash_id\":\"rvotkmtc-1\",\"type\":\"NEWS\",\"version\":0,\"news_obj\":{\"old_hash_id\":\"maldives-lists-top-tourist-markets-india-falls-below-china-to-5th-spot-1706588932028\",\"hash_id\":\"rvotkmtc-1\",\"author_name\":\"Sakshita Khosla\",\"content\":\"India is no longer the top tourist market for Maldives, as per the latest data released by the nation, which has ranked Russia on top. Italy, China and the UK occupy the second, third and fourth spots on the list, respectively. Amid a diplomatic row, Indian tourists visiting Maldives dropped to 13,989 in January 2024.\",\"source_url\":\"https://www.news18.com/amp/world/india-maldives-row-lakshadweep-indians-no-more-top-tourist-market-drops-5th-spot-behind-russia-china-latest-news-8758789.html?utm_campaign=fullarticle&utm_medium=referral&utm_source=inshorts\",\"source_name\":\"News18\",\"title\":\"Maldives lists top tourist markets, India falls below China to 5th spot\",\"important\":false,\"image_url\":\"https://nis-gs.pix.in/inshorts/images/v1/variants/jpg/m/2024/01_jan/30_tue/img_1706588395182_444.jpg?\",\"shortened_url\":\"https://shrts.in/Fq379\",\"created_at\":1706588932000,\"score\":800,\"category_names\":[\"world\",\"national\"],\"relevancy_tags\":[\"national\",\"world\"],\"hash_tags\":[\"MaldivesLeadersRemarks\"],\"tenant\":\"ENGLISH\",\"fb_object_id\":\"\",\"fb_like_count\":0,\"country_code\":\"IN\",\"impressive_score\":12.33,\"targeted_city\":[],\"gallery_image_urls\":[],\"full_gallery_urls\":[],\"bottom_headline\":\"Germany, US, France among top 10 tourist markets\",\"bottom_text\":\"Tap to know more\",\"darker_fonts\":true,\"bottom_panel_link\":\"https://www.news18.com/amp/world/india-maldives-row-lakshadweep-indians-no-more-top-tourist-market-drops-5th-spot-behind-russia-china-latest-news-8758789.html?utm_campaign=fullarticle&utm_medium=referral&utm_source=inshorts\",\"bottom_type\":\"CARD_DECK\",\"footer_deck_id\":\"5Uz21qsF_hashtag\",\"footer_deck_tag_label\":\"#MaldivesLeadersRemarks\",\"byline_1\":[{\"type\":\"TEXT\",\"text\":\"swipe left for more at News18 / \"},{\"type\":\"TIME\"}],\"byline_2\":[{\"type\":\"TEXT\",\"text\":\"short by \"},{\"type\":\"TEXT\",\"text\":\"Sakshita Khosla\"}],\"version\":0,\"position_start_time\":\"1970-01-01T00:00:00Z\",\"position_expire_time\":\"2024-01-31T04:25:35.121Z\",\"trackers\":[],\"dfp_tags\":\"score:800,news:default,cat:world,cat:national,hash:8,hashtag:MaldivesLeadersRemarks\",\"dont_show_ad\":false,\"poll_tenant\":\"ENGLISH\",\"video_opinion_enabled\":true,\"language\":\"english\",\"show_inshorts_brand_name\":true,\"crypto_coin_preference\":null,\"is_overlay_supported\":true,\"news_type\":\"NEWS\",\"is_muted\":false,\"video_audio_type\":\"USER_SPECIFIED_AUDIO\",\"auto_play_type\":\"AUTO_PLAY_USER_SPECIFIED\",\"show_in_video_feed_only\":false,\"similar_threshold\":15500,\"is_similar_feed_available\":false,\"show_publisher_info\":false,\"is_profile_clickable\":false,\"views_count\":0,\"ImageSponsor\":\"\"}},{\"rank\":2,\"news_type\":\"NEWS\",\"hash_id\":\"rmpd0jul-1\",\"type\":\"NEWS\",\"version\":0,\"news_obj\":{\"old_hash_id\":\"indian-navy-rescues-19-pakistanis-from-somali-pirates-in-arabian-sea-1706588530385\",\"hash_id\":\"rmpd0jul-1\",\"author_name\":\"Pragya Swastik\",\"content\":\"The Indian Navy on Tuesday said INS Sumitra rescued 19 Pakistani crew members and a vessel from Somali pirates off the East Coast of Somalia. The Indian Navy rescued the fishing vessel Al Naeemi and her crew of 19 Pakistani nationals from 11 Somali pirates. This was the second successful anti-piracy operation by INS Sumitra in the last few days.\",\"source_url\":\"https://twitter.com/indiannavy/status/1752175155705774581?utm_campaign=fullarticle&utm_medium=referral&utm_source=inshorts\",\"source_name\":\"X (formerly Twitter)\",\"title\":\"Indian Navy rescues 19 Pakistanis from Somali pirates in Arabian Sea\",\"important\":false,\"image_url\":\"https://nis-gs.pix.in/inshorts/images/v1/variants/jpg/m/2024/01_jan/30_tue/img_1706587802400_770.jpg?\",\"shortened_url\":\"https://shrts.in/pqaGt\",\"created_at\":1706588530000,\"score\":1000,\"category_names\":[\"world\",\"national\"],\"relevancy_tags\":[\"world\",\"national\"],\"tenant\":\"ENGLISH\",\"fb_object_id\":\"\",\"fb_like_count\":0,\"country_code\":\"IN\",\"impressive_score\":15.33,\"targeted_city\":[],\"gallery_image_urls\":[],\"full_gallery_urls\":[],\"bottom_headline\":\"Earlier, it responded to SOS call from Iman\",\"bottom_text\":\"It was an Iranian flagged fishing vessel \",\"darker_fonts\":true,\"bottom_panel_link\":\"https://twitter.com/indiannavy/status/1752175155705774581?utm_campaign=fullarticle&utm_medium=referral&utm_source=inshorts\",\"bottom_type\":\"DEFAULT\",\"byline_1\":[{\"type\":\"TEXT\",\"text\":\"swipe left for more at X (formerly Twitter) / \"},{\"type\":\"TIME\"}],\"byline_2\":[{\"type\":\"TEXT\",\"text\":\"short by \"},{\"type\":\"TEXT\",\"text\":\"Pragya Swastik\"}],\"version\":0,\"position_start_time\":\"1970-01-01T00:00:00Z\",\"position_expire_time\":\"2024-01-31T04:11:58.77Z\",\"trackers\":[],\"dfp_tags\":\"score:1000,news:default,cat:world,cat:national,hash:6,noads:true\",\"dont_show_ad\":true,\"poll_tenant\":\"ENGLISH\",\"video_opinion_enabled\":true,\"language\":\"english\",\"show_inshorts_brand_name\":true,\"crypto_coin_preference\":null,\"is_overlay_supported\":false,\"news_type\":\"NEWS\",\"is_muted\":false,\"video_audio_type\":\"USER_SPECIFIED_AUDIO\",\"auto_play_type\":\"AUTO_PLAY_USER_SPECIFIED\",\"show_in_video_feed_only\":false,\"similar_threshold\":15500,\"is_similar_feed_available\":false,\"show_publisher_info\":false,\"is_profile_clickable\":false,\"views_count\":0,\"ImageSponsor\":\"\"}},{\"rank\":3,\"news_type\":\"NEWS\",\"hash_id\":\"ocoapmvi-1\",\"type\":\"NEWS\",\"version\":0,\"news_obj\":{\"old_hash_id\":\"toyota-urges-owners-of-50000-cars-to-stop-driving-after-26-deaths-in-us-due-to-faulty-airbags-1706588398924\",\"hash_id\":\"ocoapmvi-1\",\"author_name\":\"Shreyasi Banerjee\",\"content\":\"Toyota is telling owners of about 50,000 older Corolla, Corolla Matrix and RAV4 models to stop driving them because their Takata airbag inflators are at risk of exploding. Toyota added that the vehicles' airbag inflators could explode and hurl debris, leading to death or injuries. At least 26 people in the US have been killed by Takata inflators since 2009.\",\"source_url\":\"https://www.hindustantimes.com/world-news/us-news/toyota-urges-drivers-of-50-000-cars-to-stop-driving-until-faulty-airbags-are-fixed-after-26-killed-in-us-since-may-2009-101706583987756-amp.html?utm_campaign=fullarticle&utm_medium=referral&utm_source=inshorts\",\"source_name\":\"Hindustan Times\",\"title\":\"Toyota urges owners of 50,000 cars to stop driving after 26 deaths in US due to faulty airbags\",\"important\":false,\"image_url\":\"https://nis-gs.pix.in/inshorts/images/v1/variants/jpg/m/2024/01_jan/30_tue/img_1706587696772_867.jpg?\",\"shortened_url\":\"https://shrts.in/QEZpd\",\"created_at\":1706588398000,\"score\":800,\"category_names\":[\"world\",\"business\"],\"relevancy_tags\":[\"world\",\"business\"],\"tenant\":\"ENGLISH\",\"fb_object_id\":\"\",\"fb_like_count\":0,\"country_code\":\"IN\",\"impressive_score\":12.29,\"targeted_city\":[],\"gallery_image_urls\":[],\"full_gallery_urls\":[],\"bottom_headline\":\"Toyota said it'll repair/replace airbag for free\",\"bottom_text\":\"Tap to know more\",\"darker_fonts\":true,\"bottom_panel_link\":\"https://www.hindustantimes.com/world-news/us-news/toyota-urges-drivers-of-50-000-cars-to-stop-driving-until-faulty-airbags-are-fixed-after-26-killed-in-us-since-may-2009-101706583987756-amp.html?utm_campaign=fullarticle&utm_medium=referral&utm_source=inshorts\",\"bottom_type\":\"DEFAULT\",\"byline_1\":[{\"type\":\"TEXT\",\"text\":\"swipe left for more at Hindustan Times / \"},{\"type\":\"TIME\"}],\"byline_2\":[{\"type\":\"TEXT\",\"text\":\"short by \"},{\"type\":\"TEXT\",\"text\":\"Shreyasi Banerjee\"}],\"version\":0,\"position_start_time\":\"1970-01-01T00:00:00Z\",\"position_expire_time\":\"2024-01-31T04:08:46.812Z\",\"trackers\":[],\"dfp_tags\":\"score:800,news:default,cat:world,cat:business,hash:4,noads:true\",\"dont_show_ad\":true,\"poll_tenant\":\"ENGLISH\",\"image_for_representation\":true,\"video_opinion_enabled\":true,\"language\":\"english\",\"show_inshorts_brand_name\":true,\"crypto_coin_preference\":null,\"is_overlay_supported\":false,\"news_type\":\"NEWS\",\"is_muted\":false,\"video_audio_type\":\"USER_SPECIFIED_AUDIO\",\"auto_play_type\":\"AUTO_PLAY_USER_SPECIFIED\",\"show_in_video_feed_only\":false,\"similar_threshold\":15500,\"is_similar_feed_available\":false,\"show_publisher_info\":false,\"is_profile_clickable\":false,\"views_count\":0,\"ImageSponsor\":\"\"}},{\"rank\":4,\"news_type\":\"NEWS\",\"hash_id\":\"hxdskl59-1\",\"type\":\"NEWS\",\"version\":0,\"news_obj\":{\"old_hash_id\":\"brutal-heinous-incident-india-after-25yearold-indian-student-vivek-murdered-in-us-1706585089309\",\"hash_id\":\"hxdskl59-1\",\"author_name\":\"Shreyasi Banerjee\",\"content\":\"The Consulate General of India in the US' Atlanta has \\\"strongly condemned\\\" the murder of 25-year-old Vivek Saini by a homeless drug addict, whom the Indian student had been helping for past several days. \\\"We're deeply anguished by the terrifying, brutal and heinous incident,\\\" the consulate said. \\\"US authorities have arrested the accused and are investigating the case,\\\" it added.\",\"source_url\":\"https://www.hindustantimes.com/india-news/india-condemns-fatal-attack-on-25-year-old-indian-student-in-us-101706556355008-amp.html?utm_campaign=fullarticle&utm_medium=referral&utm_source=inshorts\",\"source_name\":\"Hindustan Times\",\"title\":\"Brutal, heinous incident: India after 25-year-old Indian student Vivek murdered in US\",\"important\":false,\"image_url\":\"https://nis-gs.pix.in/inshorts/images/v1/variants/jpg/m/2024/01_jan/30_tue/img_1706584413117_759.jpg?\",\"shortened_url\":\"https://shrts.in/AqhED\",\"created_at\":1706585089000,\"score\":1000,\"category_names\":[\"world\",\"national\"],\"relevancy_tags\":[\"world\",\"national\"],\"tenant\":\"ENGLISH\",\"fb_object_id\":\"\",\"fb_like_count\":0,\"country_code\":\"IN\",\"impressive_score\":15.33,\"targeted_city\":[],\"gallery_image_urls\":[],\"full_gallery_urls\":[],\"bottom_headline\":\"'Mortal remains being sent back to India'\",\"bottom_text\":\"Tap to know what more India said\",\"darker_fonts\":true,\"bottom_panel_link\":\"https://www.hindustantimes.com/india-news/india-condemns-fatal-attack-on-25-year-old-indian-student-in-us-101706556355008-amp.html?utm_campaign=fullarticle&utm_medium=referral&utm_source=inshorts\",\"bottom_type\":\"DEFAULT\",\"byline_1\":[{\"type\":\"TEXT\",\"text\":\"swipe left for more at Hindustan Times / \"},{\"type\":\"TIME\"}],\"byline_2\":[{\"type\":\"TEXT\",\"text\":\"short by \"},{\"type\":\"TEXT\",\"text\":\"Shreyasi Banerjee\"}],\"version\":0,\"position_start_time\":\"1970-01-01T00:00:00Z\",\"position_expire_time\":\"2024-01-31T03:14:35.57Z\",\"trackers\":[],\"dfp_tags\":\"score:1000,news:default,cat:world,cat:national,hash:6,noads:true\",\"dont_show_ad\":true,\"poll_tenant\":\"ENGLISH\",\"video_opinion_enabled\":true,\"language\":\"english\",\"show_inshorts_brand_name\":true,\"crypto_coin_preference\":null,\"is_overlay_supported\":false,\"news_type\":\"NEWS\",\"is_muted\":false,\"video_audio_type\":\"USER_SPECIFIED_AUDIO\",\"auto_play_type\":\"AUTO_PLAY_USER_SPECIFIED\",\"show_in_video_feed_only\":false,\"similar_threshold\":15500,\"is_similar_feed_available\":false,\"show_publisher_info\":false,\"is_profile_clickable\":false,\"views_count\":0,\"ImageSponsor\":\"\"}},{\"rank\":5,\"news_type\":\"NEWS\",\"hash_id\":\"jy9gzxqq-1\",\"type\":\"NEWS\",\"version\":0,\"news_obj\":{\"old_hash_id\":\"indian-student-neel-found-dead-in-us-a-day-after-his-mother-reported-him-missing-1706585025911\",\"hash_id\":\"jy9gzxqq-1\",\"author_name\":\"Sakshita Khosla\",\"content\":\"Indian student Neel Acharya, who had been missing since Sunday in the US, has been confirmed dead by the authorities. Acharya was studying in Purdue University in Indiana and his mother had alerted the authorities that he was missing via a post on X on January 28. Neel was a \\\"driven individual and academically talented\\\", a Purdue University official said.\",\"source_url\":\"https://www.news18.com/amp/world/neel-acharya-indian-student-studying-us-indiana-found-dead-one-day-after-he-was-reported-missing-8759258.html?utm_campaign=fullarticle&utm_medium=referral&utm_source=inshorts\",\"source_name\":\"News18\",\"title\":\"Indian student Neel found dead in US a day after his mother reported him missing\",\"important\":false,\"image_url\":\"https://nis-gs.pix.in/inshorts/images/v1/variants/jpg/m/2024/01_jan/30_tue/img_1706584348984_888.jpg?\",\"shortened_url\":\"https://shrts.in/J8Vcs\",\"created_at\":1706585025000,\"score\":800,\"category_names\":[\"world\",\"national\"],\"relevancy_tags\":[\"national\",\"world\"],\"tenant\":\"ENGLISH\",\"fb_object_id\":\"\",\"fb_like_count\":0,\"country_code\":\"IN\",\"impressive_score\":12.33,\"targeted_city\":[],\"gallery_image_urls\":[],\"full_gallery_urls\":[],\"bottom_headline\":\"'A real loss to our community'\",\"bottom_text\":\"Said the official on Neel's demise\",\"darker_fonts\":true,\"bottom_panel_link\":\"https://www.news18.com/amp/world/neel-acharya-indian-student-studying-us-indiana-found-dead-one-day-after-he-was-reported-missing-8759258.html?utm_campaign=fullarticle&utm_medium=referral&utm_source=inshorts\",\"bottom_type\":\"DEFAULT\",\"byline_1\":[{\"type\":\"TEXT\",\"text\":\"swipe left for more at News18 / \"},{\"type\":\"TIME\"}],\"byline_2\":[{\"type\":\"TEXT\",\"text\":\"short by \"},{\"type\":\"TEXT\",\"text\":\"Sakshita Khosla\"}],\"version\":0,\"position_start_time\":\"1970-01-01T00:00:00Z\",\"position_expire_time\":\"2024-01-31T03:19:46.271Z\",\"trackers\":[],\"dfp_tags\":\"score:800,news:default,cat:world,cat:national,hash:3,noads:true\",\"dont_show_ad\":true,\"poll_tenant\":\"ENGLISH\",\"video_opinion_enabled\":true,\"language\":\"english\",\"show_inshorts_brand_name\":true,\"crypto_coin_preference\":null,\"is_overlay_supported\":false,\"news_type\":\"NEWS\",\"is_muted\":false,\"video_audio_type\":\"USER_SPECIFIED_AUDIO\",\"auto_play_type\":\"AUTO_PLAY_USER_SPECIFIED\",\"show_in_video_feed_only\":false,\"similar_threshold\":15500,\"is_similar_feed_available\":false,\"show_publisher_info\":false,\"is_profile_clickable\":false,\"views_count\":0,\"ImageSponsor\":\"\"}},{\"rank\":6,\"news_type\":\"NEWS\",\"hash_id\":\"6rkg8jde-1\",\"type\":\"NEWS\",\"version\":0,\"news_obj\":{\"old_hash_id\":\"missing-indian-student-of-purdue-university-confirmed-dead-1706581771498\",\"hash_id\":\"6rkg8jde-1\",\"author_name\":\"Farida\",\"content\":\"An Indian student studying at Purdue University who had been reported missing since Sunday has tragically been confirmed dead, according to the Tippecanoe County Coroner. Neel Acharya, the deceased student, was found on Purdue s campus on Sunday morning after authorities responded to a call regarding a possible dead body.\",\"source_url\":\"https://newskarnataka.com/world/missing-indian-student-of-purdue-university-confirmed-dead/30012024?utm_campaign=fullarticle&utm_medium=referral&utm_source=inshorts\",\"source_name\":\"News Karnataka\",\"title\":\"Missing Indian Student of Purdue University Confirmed Dead\",\"important\":false,\"image_url\":\"https://nis-gs.pix.in/inshorts/images/v1/variants/jpg/m/2024/01_jan/30_tue/img_1706581608665_402.jpg?\",\"shortened_url\":\"https://shrts.in/2s2Ch\",\"created_at\":1706581771000,\"score\":600,\"category_names\":[\"world\"],\"relevancy_tags\":[\"world\"],\"tenant\":\"ENGLISH\",\"fb_object_id\":\"\",\"fb_like_count\":0,\"country_code\":\"IN\",\"impressive_score\":10.29,\"targeted_city\":[],\"gallery_image_urls\":[],\"full_gallery_urls\":[],\"bottom_headline\":\" Neel Acharya found deceased.\",\"bottom_text\":\"To Read More\",\"darker_fonts\":true,\"bottom_panel_link\":\"https://newskarnataka.com/world/missing-indian-student-of-purdue-university-confirmed-dead/30012024?utm_campaign=fullarticle&utm_medium=referral&utm_source=inshorts\",\"bottom_type\":\"DEFAULT\",\"byline_1\":[{\"type\":\"TEXT\",\"text\":\"swipe left for more at News Karnataka / \"},{\"type\":\"TIME\"}],\"byline_2\":[{\"type\":\"TEXT\",\"text\":\"swipe left for more at News Karnataka / \"},{\"type\":\"TIME\"}],\"version\":0,\"position_start_time\":\"1970-01-01T00:00:00Z\",\"position_expire_time\":\"2024-01-31T02:28:55.666Z\",\"trackers\":[],\"dfp_tags\":\"score:600,news:default,cat:world,hash:7\",\"dont_show_ad\":false,\"poll_tenant\":\"ENGLISH\",\"video_opinion_enabled\":true,\"language\":\"english\",\"show_inshorts_brand_name\":true,\"crypto_coin_preference\":null,\"is_overlay_supported\":true,\"news_type\":\"NEWS\",\"is_muted\":false,\"video_audio_type\":\"USER_SPECIFIED_AUDIO\",\"auto_play_type\":\"AUTO_PLAY_USER_SPECIFIED\",\"show_in_video_feed_only\":false,\"similar_threshold\":15500,\"is_similar_feed_available\":false,\"publisher_info\":{\"name\":\"News Karnataka\",\"user_id\":\"ZVO9lROOZEg02FdpkoOOnHMlZ473\",\"user_type\":\"VENDOR\",\"profile_image_url\":\"https://nis-gs.pix.in/public/images/v1/variants/jpg/m/2024/01_jan/5_fri/img_1704466220628_915.jpg\",\"thumbnail_image_url\":\"\",\"sponsored_text\":\"\"},\"show_publisher_info\":false,\"is_profile_clickable\":false,\"views_count\":0,\"ImageSponsor\":\"\"}},{\"rank\":7,\"news_type\":\"NEWS\",\"hash_id\":\"xyjpdmn2-1\",\"type\":\"NEWS\",\"version\":0,\"news_obj\":{\"old_hash_id\":\"congratulations-pm-modi-as-assoumani-reelected-as-comoros-prez-1706549188583\",\"hash_id\":\"xyjpdmn2-1\",\"author_name\":\"Nidhi Sinha\",\"content\":\"Prime Minister Narendra Modi took to social media on Monday to send his \\\"heartiest congratulations\\\" to Azali Assoumani, who has been re-elected as the President of Comoros. \\\"Look forward to continue working together to further strengthen India-Comoros partnership, India-Africa partnership and 'Vision Sagar',\\\" PM Modi said. Assoumani attended G20 Summit in India as African Union Chairman last year.\",\"source_url\":\"https://twitter.com/PTI_News/status/1752012767710646364?utm_campaign=fullarticle&utm_medium=referral&utm_source=inshorts\",\"source_name\":\"PTI\",\"title\":\"Congratulations: PM Modi as Assoumani re-elected as Comoros Prez\",\"important\":false,\"image_url\":\"https://nis-gs.pix.in/inshorts/images/v1/variants/jpg/m/2024/01_jan/29_mon/img_1706548223879_192.jpg?\",\"shortened_url\":\"https://shrts.in/rxRJa\",\"created_at\":1706549188000,\"score\":600,\"category_names\":[\"world\",\"national\"],\"relevancy_tags\":[\"world\",\"national\"],\"tenant\":\"ENGLISH\",\"fb_object_id\":\"\",\"fb_like_count\":0,\"country_code\":\"IN\",\"impressive_score\":10.33,\"targeted_city\":[],\"gallery_image_urls\":[],\"full_gallery_urls\":[],\"bottom_headline\":\"To read more\",\"bottom_text\":\"Tap here\",\"darker_fonts\":true,\"bottom_panel_link\":\"https://twitter.com/narendramodi/status/1752008196737380375?utm_campaign=fullarticle&utm_medium=referral&utm_source=inshorts\",\"bottom_type\":\"DEFAULT\",\"byline_1\":[{\"type\":\"TEXT\",\"text\":\"swipe left for more at PTI / \"},{\"type\":\"TIME\"}],\"byline_2\":[{\"type\":\"TEXT\",\"text\":\"short by \"},{\"type\":\"TEXT\",\"text\":\"Nidhi Sinha\"}],\"version\":0,\"position_start_time\":\"1970-01-01T00:00:00Z\",\"position_expire_time\":\"2024-01-30T17:25:24.638Z\",\"trackers\":[],\"dfp_tags\":\"score:600,news:default,cat:world,cat:national,hash:2\",\"dont_show_ad\":false,\"poll_tenant\":\"ENGLISH\",\"video_opinion_enabled\":true,\"language\":\"english\",\"show_inshorts_brand_name\":true,\"crypto_coin_preference\":null,\"is_overlay_supported\":true,\"news_type\":\"NEWS\",\"is_muted\":false,\"video_audio_type\":\"USER_SPECIFIED_AUDIO\",\"auto_play_type\":\"AUTO_PLAY_USER_SPECIFIED\",\"show_in_video_feed_only\":false,\"similar_threshold\":15500,\"is_similar_feed_available\":false,\"show_publisher_info\":false,\"is_profile_clickable\":false,\"views_count\":0,\"ImageSponsor\":\"\"}},{\"rank\":8,\"news_type\":\"\",\"hash_id\":\"d30274e6-7d18-48d8-acd2-2feab66e616b\",\"type\":\"CUSTOM_CARD\",\"version\":0,\"read_override\":true},{\"rank\":9,\"news_type\":\"NEWS\",\"hash_id\":\"pjpzavjd-1\",\"type\":\"NEWS\",\"version\":0,\"news_obj\":{\"old_hash_id\":\"trump-cant-bully-his-way-into-winning-gops-nomination-haley-1706547158606\",\"hash_id\":\"pjpzavjd-1\",\"author_name\":\"Disha Jana\",\"content\":\"Indian-American US Presidential candidate Nikki Haley has said that ex-US President Donald Trump can't \\\"bully\\\" his way into winning the nomination of Grand Old Party (GOP), also known as Republican Party. Haley has lost both the Iowa caucuses and the New Hampshire primary but has refused to exit the race. The next republican primary will be held in South Carolina.\",\"source_url\":\"https://repository.inshorts.com/articles/en/PTI/d5a4969e-39fb-4044-ae35-153668b46e04?utm_campaign=fullarticle&utm_medium=referral&utm_source=inshorts\",\"source_name\":\"PTI\",\"title\":\"Trump can't bully his way into winning GOP's nomination: Haley\",\"important\":false,\"image_url\":\"https://nis-gs.pix.in/inshorts/images/v1/variants/jpg/m/2024/01_jan/29_mon/img_1706543026914_611.jpg?\",\"shortened_url\":\"https://shrts.in/VtFn4\",\"created_at\":1706547158000,\"score\":600,\"category_names\":[\"world\"],\"relevancy_tags\":[],\"tenant\":\"ENGLISH\",\"fb_object_id\":\"\",\"fb_like_count\":0,\"country_code\":\"IN\",\"native_source_url\":\"https://article-repository-read.newsinshorts.com/en/v1/article/vendor/PTI/hash_id/d5a4969e-39fb-4044-ae35-153668b46e04\",\"impressive_score\":10.29,\"targeted_city\":[],\"gallery_image_urls\":[],\"full_gallery_urls\":[],\"bottom_headline\":\"Vivek Ramaswamy & Ron DeSantis have exited race\",\"bottom_text\":\"Tap to know more\",\"darker_fonts\":true,\"bottom_panel_link\":\"https://repository.inshorts.com/articles/en/PTI/d5a4969e-39fb-4044-ae35-153668b46e04?utm_campaign=fullarticle&utm_medium=referral&utm_source=inshorts\",\"bottom_type\":\"DEFAULT\",\"byline_1\":[{\"type\":\"TEXT\",\"text\":\"swipe left for more at PTI / \"},{\"type\":\"TIME\"}],\"byline_2\":[{\"type\":\"TEXT\",\"text\":\"short by \"},{\"type\":\"TEXT\",\"text\":\"Disha Jana\"}],\"version\":0,\"position_start_time\":\"1970-01-01T00:00:00Z\",\"position_expire_time\":\"2024-01-30T15:43:34.609Z\",\"trackers\":[],\"dfp_tags\":\"score:600,news:default,cat:world,hash:3,noads:true\",\"dont_show_ad\":true,\"poll_tenant\":\"ENGLISH\",\"video_opinion_enabled\":true,\"language\":\"english\",\"show_inshorts_brand_name\":true,\"crypto_coin_preference\":null,\"is_overlay_supported\":false,\"news_type\":\"NEWS\",\"is_muted\":false,\"video_audio_type\":\"USER_SPECIFIED_AUDIO\",\"auto_play_type\":\"AUTO_PLAY_USER_SPECIFIED\",\"show_in_video_feed_only\":false,\"similar_threshold\":15500,\"is_similar_feed_available\":false,\"show_publisher_info\":false,\"is_profile_clickable\":false,\"views_count\":0,\"ImageSponsor\":\"\"}},{\"rank\":10,\"news_type\":\"NEWS\",\"hash_id\":\"texzggze-1\",\"type\":\"NEWS\",\"version\":0,\"news_obj\":{\"old_hash_id\":\"thailand-is-in-recession-deputy-fm-julapun-1706546921243\",\"hash_id\":\"texzggze-1\",\"author_name\":\"Hiral Goyal\",\"content\":\"Thailand's economy is in a state of recession, Deputy Finance Minister Julapun Amornvivat said. Citing high debt burden of households and the private sector, he said, \\\"It's difficult to drive the economy forward.\\\" Julapun has urged the country's central bank to cut interest rates, which is at a decade-high of 2.50%, so that it will help lower high borrowing costs.\",\"source_url\":\"https://www.reuters.com/markets/asia/thai-economy-recession-needs-boost-finance-official-2024-01-29/?utm_campaign=fullarticle&utm_medium=referral&utm_source=inshorts\",\"source_name\":\"Reuters\",\"title\":\"Thailand is in recession: Deputy FM Julapun\",\"important\":false,\"image_url\":\"https://nis-gs.pix.in/inshorts/images/v1/variants/jpg/m/2024/01_jan/29_mon/img_1706545024222_156.jpg?\",\"shortened_url\":\"https://shrts.in/844qi\",\"created_at\":1706546921000,\"score\":800,\"category_names\":[\"world\",\"business\"],\"relevancy_tags\":[\"business\",\"world\"],\"tenant\":\"ENGLISH\",\"fb_object_id\":\"\",\"fb_like_count\":0,\"country_code\":\"IN\",\"impressive_score\":12.29,\"targeted_city\":[],\"gallery_image_urls\":[],\"full_gallery_urls\":[],\"bottom_headline\":\"'High rates are a burden, people can't survive'\",\"bottom_text\":\"Julapun told reporters\",\"darker_fonts\":true,\"bottom_panel_link\":\"https://www.reuters.com/markets/asia/thai-economy-recession-needs-boost-finance-official-2024-01-29/?utm_campaign=fullarticle&utm_medium=referral&utm_source=inshorts\",\"bottom_type\":\"DEFAULT\",\"byline_1\":[{\"type\":\"TEXT\",\"text\":\"swipe left for more at Reuters / \"},{\"type\":\"TIME\"}],\"byline_2\":[{\"type\":\"TEXT\",\"text\":\"short by \"},{\"type\":\"TEXT\",\"text\":\"Hiral Goyal\"}],\"version\":0,\"position_start_time\":\"1970-01-01T00:00:00Z\",\"position_expire_time\":\"2024-01-30T16:33:28.233Z\",\"trackers\":[],\"dfp_tags\":\"score:800,news:default,cat:world,cat:business,hash:0,noads:true\",\"dont_show_ad\":true,\"poll_tenant\":\"ENGLISH\",\"video_opinion_enabled\":true,\"language\":\"english\",\"show_inshorts_brand_name\":true,\"crypto_coin_preference\":null,\"is_overlay_supported\":false,\"news_type\":\"NEWS\",\"is_muted\":false,\"video_audio_type\":\"USER_SPECIFIED_AUDIO\",\"auto_play_type\":\"AUTO_PLAY_USER_SPECIFIED\",\"show_in_video_feed_only\":false,\"similar_threshold\":15500,\"is_similar_feed_available\":false,\"show_publisher_info\":false,\"is_profile_clickable\":false,\"views_count\":0,\"ImageSponsor\":\"\"}}],\"isLoading\":false,\"feed_id\":\"TAG\",\"reload_required\":false,\"new_feed_available\":false,\"page\":1,\"feed_name\":\"top_stories\",\"show_top_navigation\":true,\"current_news\":{},\"bookmark_list\":{},\"current_index\":0,\"optimise_for_amp\":false},\"settings\":{\"notification\":false,\"notification_permission\":false,\"tenant\":\"ENGLISH\",\"night_mode\":false,\"hd_image\":true,\"notification_loading\":false,\"notification_dialogue_index\":0},\"discover\":{\"category_list\":[{\"key\":\"Top Stories\",\"value\":\"top_stories\"},{\"key\":\"All News\",\"value\":\"all_news\"},{\"key\":\"Trending\",\"value\":\"trending\"},{\"key\":\"Bookmarks\",\"value\":\"bookmarks\"}],\"category\":\"top_stories\",\"tag_list\":[],\"tag\":\"world\"},\"status\":0};</script><noscript>Your browser does not support JavaScript!</noscript><script src=\"https://ajax.googleapis.com/ajax/libs/webfont/1.6.26/webfont.js\"></script><script>WebFont.load({\n",
       "      google: {\n",
       "        families: ['Roboto:300,400,500&display=swap']\n",
       "      }\n",
       "    });</script><script>var _comscore = _comscore || [];\n",
       "    _comscore.push({ c1: \"2\", c2: \"28268321\" });\n",
       "    (function () {\n",
       "      var s = document.createElement(\"script\"),\n",
       "        el = document.getElementsByTagName(\"script\")[0];\n",
       "      s.async = true;\n",
       "      s.src = (document.location.protocol == \"https:\" ? \"https://sb\" : \"http://b\") + \".scorecardresearch.com/beacon.js\";\n",
       "      el.parentNode.insertBefore(s, el);\n",
       "    })();</script><noscript><img src=\"https://sb.scorecardresearch.com/p?c1=2&amp;c2=28268321&amp;cv=2.0&amp;cj=1\"/></noscript></body></html>"
      ]
     },
     "execution_count": 9,
     "metadata": {},
     "output_type": "execute_result"
    }
   ],
   "source": [
    "soup"
   ]
  },
  {
   "cell_type": "code",
   "execution_count": 10,
   "metadata": {},
   "outputs": [
    {
     "data": {
      "text/plain": [
       "bs4.BeautifulSoup"
      ]
     },
     "execution_count": 10,
     "metadata": {},
     "output_type": "execute_result"
    }
   ],
   "source": [
    "type(soup)\n"
   ]
  },
  {
   "cell_type": "markdown",
   "metadata": {},
   "source": [
    "#  Id, Div, Span, Head"
   ]
  },
  {
   "cell_type": "markdown",
   "metadata": {},
   "source": [
    "soup"
   ]
  },
  {
   "cell_type": "markdown",
   "metadata": {},
   "source": [
    "news_articles = [{'news_headline': headline.find('span', attrs={'itemprop': 'headline'}).string,\n",
    "                  'news_article': article.find('div', attrs={'itemprop': 'articleBody'}).string,\n",
    "                  'news_category': news_category} \n",
    "                 for headline, article in zip(soup.find_all('div', \n",
    "                                                            class_ = ['news-card-title news-right-box']), \n",
    "                                              soup.find_all('div', class_=['news-card-content news-right-box']))]"
   ]
  },
  {
   "cell_type": "markdown",
   "metadata": {},
   "source": [
    "news_articles = [{'news_headline': headline.find('span', attrs={'itemprop': 'headline'}).string,\n",
    "                  'news_article': article.find('div', attrs={'itemprop': 'articleBody'}).string,\n",
    "                  'news_category': news_category} \n",
    "                 for headline, article in zip(soup.find_all('span', \n",
    "                                                            class_ = [\"ddVzQcwl2yPlFt4fteIE\"]), \n",
    "                                              soup.find_all('div', class_=[\"KkupEonoVHxNv4A_D7UG\"]))]\n",
    "\n",
    "news_data.extend(news_articles)\n",
    "news_data\n",
    "\n",
    "df = pd.DataFrame(news_data)\n",
    "df = df[['news_headline', 'news_article', 'news_category']]                                              "
   ]
  },
  {
   "cell_type": "code",
   "execution_count": 228,
   "metadata": {},
   "outputs": [
    {
     "data": {
      "text/plain": [
       "<span class=\"ddVzQcwl2yPlFt4fteIE\" itemprop=\"headline\">Russians dance to 'Main Nikla Gaddi Leke' to wish India on Republic Day</span>"
      ]
     },
     "execution_count": 228,
     "metadata": {},
     "output_type": "execute_result"
    }
   ],
   "source": [
    "soup.find('span', attrs={'itemprop': 'headline'})"
   ]
  },
  {
   "cell_type": "code",
   "execution_count": 12,
   "metadata": {},
   "outputs": [
    {
     "data": {
      "text/plain": [
       "[<span class=\"ddVzQcwl2yPlFt4fteIE\" itemprop=\"headline\">What is Tower 22, US military base attacked in Jordan?</span>,\n",
       " <span class=\"ddVzQcwl2yPlFt4fteIE\" itemprop=\"headline\">Maldives lists top tourist markets, India falls below China to 5th spot</span>,\n",
       " <span class=\"ddVzQcwl2yPlFt4fteIE\" itemprop=\"headline\">Indian Navy rescues 19 Pakistanis from Somali pirates in Arabian Sea</span>,\n",
       " <span class=\"ddVzQcwl2yPlFt4fteIE\" itemprop=\"headline\">Toyota urges owners of 50,000 cars to stop driving after 26 deaths in US due to faulty airbags</span>,\n",
       " <span class=\"ddVzQcwl2yPlFt4fteIE\" itemprop=\"headline\">Brutal, heinous incident: India after 25-year-old Indian student Vivek murdered in US</span>,\n",
       " <span class=\"ddVzQcwl2yPlFt4fteIE\" itemprop=\"headline\">Indian student Neel found dead in US a day after his mother reported him missing</span>,\n",
       " <span class=\"ddVzQcwl2yPlFt4fteIE\" itemprop=\"headline\">Missing Indian Student of Purdue University Confirmed Dead</span>,\n",
       " <span class=\"ddVzQcwl2yPlFt4fteIE\" itemprop=\"headline\">Congratulations: PM Modi as Assoumani re-elected as Comoros Prez</span>,\n",
       " <span class=\"ddVzQcwl2yPlFt4fteIE\" itemprop=\"headline\">Trump can't bully his way into winning GOP's nomination: Haley</span>,\n",
       " <span class=\"ddVzQcwl2yPlFt4fteIE\" itemprop=\"headline\">Thailand is in recession: Deputy FM Julapun</span>]"
      ]
     },
     "execution_count": 12,
     "metadata": {},
     "output_type": "execute_result"
    }
   ],
   "source": [
    "soup.find_all('span', class_ = [\"ddVzQcwl2yPlFt4fteIE\"])"
   ]
  },
  {
   "cell_type": "code",
   "execution_count": 13,
   "metadata": {},
   "outputs": [
    {
     "data": {
      "text/plain": [
       "[<div class=\"KkupEonoVHxNv4A_D7UG\" itemprop=\"articleBody\">Three US troops were killed and dozens wounded after a drone hit 'Tower 22', a military outpost in Jordan. It holds a strategically important location in Jordan, at the most northeastern point where the country's borders meet Syria and Iraq. Tower 22 serves as a supply hub for the nearby US garrison of Al-Tanf located across the border in Syria.</div>,\n",
       " <div class=\"KkupEonoVHxNv4A_D7UG\" itemprop=\"articleBody\">India is no longer the top tourist market for Maldives, as per the latest data released by the nation, which has ranked Russia on top. Italy, China and the UK occupy the second, third and fourth spots on the list, respectively. Amid a diplomatic row, Indian tourists visiting Maldives dropped to 13,989 in January 2024.</div>,\n",
       " <div class=\"KkupEonoVHxNv4A_D7UG\" itemprop=\"articleBody\">The Indian Navy on Tuesday said INS Sumitra rescued 19 Pakistani crew members and a vessel from Somali pirates off the East Coast of Somalia. The Indian Navy rescued the fishing vessel Al Naeemi and her crew of 19 Pakistani nationals from 11 Somali pirates. This was the second successful anti-piracy operation by INS Sumitra in the last few days.</div>,\n",
       " <div class=\"KkupEonoVHxNv4A_D7UG\" itemprop=\"articleBody\">Toyota is telling owners of about 50,000 older Corolla, Corolla Matrix and RAV4 models to stop driving them because their Takata airbag inflators are at risk of exploding. Toyota added that the vehicles' airbag inflators could explode and hurl debris, leading to death or injuries. At least 26 people in the US have been killed by Takata inflators since 2009.</div>,\n",
       " <div class=\"KkupEonoVHxNv4A_D7UG\" itemprop=\"articleBody\">The Consulate General of India in the US' Atlanta has \"strongly condemned\" the murder of 25-year-old Vivek Saini by a homeless drug addict, whom the Indian student had been helping for past several days. \"We're deeply anguished by the terrifying, brutal and heinous incident,\" the consulate said. \"US authorities have arrested the accused and are investigating the case,\" it added.</div>,\n",
       " <div class=\"KkupEonoVHxNv4A_D7UG\" itemprop=\"articleBody\">Indian student Neel Acharya, who had been missing since Sunday in the US, has been confirmed dead by the authorities. Acharya was studying in Purdue University in Indiana and his mother had alerted the authorities that he was missing via a post on X on January 28. Neel was a \"driven individual and academically talented\", a Purdue University official said.</div>,\n",
       " <div class=\"KkupEonoVHxNv4A_D7UG\" itemprop=\"articleBody\">An Indian student studying at Purdue University who had been reported missing since Sunday has tragically been confirmed dead, according to the Tippecanoe County Coroner. Neel Acharya, the deceased student, was found on Purdue s campus on Sunday morning after authorities responded to a call regarding a possible dead body.</div>,\n",
       " <div class=\"KkupEonoVHxNv4A_D7UG\" itemprop=\"articleBody\">Prime Minister Narendra Modi took to social media on Monday to send his \"heartiest congratulations\" to Azali Assoumani, who has been re-elected as the President of Comoros. \"Look forward to continue working together to further strengthen India-Comoros partnership, India-Africa partnership and 'Vision Sagar',\" PM Modi said. Assoumani attended G20 Summit in India as African Union Chairman last year.</div>,\n",
       " <div class=\"KkupEonoVHxNv4A_D7UG\" itemprop=\"articleBody\">Indian-American US Presidential candidate Nikki Haley has said that ex-US President Donald Trump can't \"bully\" his way into winning the nomination of Grand Old Party (GOP), also known as Republican Party. Haley has lost both the Iowa caucuses and the New Hampshire primary but has refused to exit the race. The next republican primary will be held in South Carolina.</div>,\n",
       " <div class=\"KkupEonoVHxNv4A_D7UG\" itemprop=\"articleBody\">Thailand's economy is in a state of recession, Deputy Finance Minister Julapun Amornvivat said. Citing high debt burden of households and the private sector, he said, \"It's difficult to drive the economy forward.\" Julapun has urged the country's central bank to cut interest rates, which is at a decade-high of 2.50%, so that it will help lower high borrowing costs.</div>]"
      ]
     },
     "execution_count": 13,
     "metadata": {},
     "output_type": "execute_result"
    }
   ],
   "source": [
    "soup.find_all('div', attrs={'itemprop': 'articleBody'})"
   ]
  },
  {
   "cell_type": "markdown",
   "metadata": {},
   "source": [
    "for i in soup.find_all('span', class_=\"ddVzQcwl2yPlFt4fteIE\"):\n",
    "    print(i.find('span', attrs={'itemprop': 'headline'}))"
   ]
  },
  {
   "cell_type": "markdown",
   "metadata": {},
   "source": [
    "for i in soup.find_all('span', class_=\"ddVzQcwl2yPlFt4fteIE\"):\n",
    "    # Corrected: Use 'i.find' instead of 'soup.find'\n",
    "    print(i.find('span', attrs={'itemprop': 'headline'}))\n",
    "    \n"
   ]
  },
  {
   "cell_type": "code",
   "execution_count": 255,
   "metadata": {},
   "outputs": [],
   "source": [
    "import requests\n",
    "from bs4 import BeautifulSoup\n",
    " \n",
    "#url = \"https://learnxinyminutes.com/docs/r\"\n",
    "url_get = requests.get(url)\n",
    "soup = BeautifulSoup(url_get.content, 'lxml')\n",
    " \n",
    "with open('url.txt', 'w', encoding='utf-8') as f_out:\n",
    "    f_out.write(soup.prettify())"
   ]
  },
  {
   "cell_type": "code",
   "execution_count": 280,
   "metadata": {},
   "outputs": [
    {
     "name": "stdout",
     "output_type": "stream",
     "text": [
      "                                            headline article\n",
      "0  Russians dance to 'Main Nikla Gaddi Leke' to w...        \n",
      "1  Macron shares selfie with PM from Hawa Mahal, ...        \n",
      "2   Thales India Chief on India-France collaboration        \n",
      "3  French President Macron to grace India’s 75th ...        \n",
      "4  “Pakistan has long been epicentre of terrorism...        \n",
      "5  PM Modi gifts replica of Ram Mandir to French ...        \n",
      "6               JUST IN: ONDO tops $1bn trade volume        \n",
      "7  Egypt Prez rejects phone call with Netanyahu a...        \n",
      "8  18-yr-old Indian student found dead at US univ...        \n",
      "9  4 ‘breakout’ DeFi trends to define crypto’s co...        \n"
     ]
    }
   ],
   "source": [
    "import pandas as pd\n",
    "import requests\n",
    "from bs4 import BeautifulSoup\n",
    "\n",
    "# Send request to the website\n",
    "url = 'https://inshorts.com/en/read/world'\n",
    "response = requests.get(url)\n",
    "\n",
    "# Parse the HTML content\n",
    "soup = BeautifulSoup(response.content, 'html.parser')\n",
    "\n",
    "# Initialize a list to hold all news items\n",
    "news_items = []\n",
    "\n",
    "# Find all the headline elements\n",
    "headline_elements = soup.find_all('span', class_=\"ddVzQcwl2yPlFt4fteIE\")\n",
    "\n",
    "for headline_element in headline_elements:\n",
    "    # Extract the headline text\n",
    "    headline = headline_element.get_text(strip=True)\n",
    "    \n",
    "    # Find the next sibling that is a div with the article text\n",
    "    article_element = headline_element.find_next_sibling('div', class_=\"KkupEonoVHxNv4A_D7UG\")\n",
    "    article = article_element.get_text(strip=True) if article_element else ''\n",
    "\n",
    "    # Append the data to the news_items list\n",
    "    news_items.append({'headline': headline, 'article': article})\n",
    "\n",
    "# Convert the list of dicts into a DataFrame\n",
    "df = pd.DataFrame(news_items)\n",
    "\n",
    "# Display the DataFrame\n",
    "print(df)\n"
   ]
  },
  {
   "cell_type": "code",
   "execution_count": 14,
   "metadata": {},
   "outputs": [],
   "source": [
    "pd.set_option('display.max_columns', 500)\n",
    "pd.set_option('display.width', 1000)"
   ]
  },
  {
   "cell_type": "code",
   "execution_count": 16,
   "metadata": {},
   "outputs": [
    {
     "data": {
      "text/html": [
       "<div>\n",
       "<style scoped>\n",
       "    .dataframe tbody tr th:only-of-type {\n",
       "        vertical-align: middle;\n",
       "    }\n",
       "\n",
       "    .dataframe tbody tr th {\n",
       "        vertical-align: top;\n",
       "    }\n",
       "\n",
       "    .dataframe thead th {\n",
       "        text-align: right;\n",
       "    }\n",
       "</style>\n",
       "<table border=\"1\" class=\"dataframe\">\n",
       "  <thead>\n",
       "    <tr style=\"text-align: right;\">\n",
       "      <th></th>\n",
       "      <th>headline</th>\n",
       "      <th>article</th>\n",
       "    </tr>\n",
       "  </thead>\n",
       "  <tbody>\n",
       "    <tr>\n",
       "      <th>0</th>\n",
       "      <td>What is Tower 22, US military base attacked in...</td>\n",
       "      <td>Three US troops were killed and dozens wounded...</td>\n",
       "    </tr>\n",
       "    <tr>\n",
       "      <th>1</th>\n",
       "      <td>Maldives lists top tourist markets, India fall...</td>\n",
       "      <td>India is no longer the top tourist market for ...</td>\n",
       "    </tr>\n",
       "    <tr>\n",
       "      <th>2</th>\n",
       "      <td>Indian Navy rescues 19 Pakistanis from Somali ...</td>\n",
       "      <td>The Indian Navy on Tuesday said INS Sumitra re...</td>\n",
       "    </tr>\n",
       "    <tr>\n",
       "      <th>3</th>\n",
       "      <td>Toyota urges owners of 50,000 cars to stop dri...</td>\n",
       "      <td>Toyota is telling owners of about 50,000 older...</td>\n",
       "    </tr>\n",
       "    <tr>\n",
       "      <th>4</th>\n",
       "      <td>Brutal, heinous incident: India after 25-year-...</td>\n",
       "      <td>The Consulate General of India in the US' Atla...</td>\n",
       "    </tr>\n",
       "  </tbody>\n",
       "</table>\n",
       "</div>"
      ],
      "text/plain": [
       "                                            headline                                            article\n",
       "0  What is Tower 22, US military base attacked in...  Three US troops were killed and dozens wounded...\n",
       "1  Maldives lists top tourist markets, India fall...  India is no longer the top tourist market for ...\n",
       "2  Indian Navy rescues 19 Pakistanis from Somali ...  The Indian Navy on Tuesday said INS Sumitra re...\n",
       "3  Toyota urges owners of 50,000 cars to stop dri...  Toyota is telling owners of about 50,000 older...\n",
       "4  Brutal, heinous incident: India after 25-year-...  The Consulate General of India in the US' Atla..."
      ]
     },
     "execution_count": 16,
     "metadata": {},
     "output_type": "execute_result"
    }
   ],
   "source": [
    "import pandas as pd\n",
    "import requests\n",
    "from bs4 import BeautifulSoup\n",
    "\n",
    "# Send request to the website\n",
    "url = 'https://inshorts.com/en/read/world'\n",
    "response = requests.get(url)\n",
    "\n",
    "# Parse the HTML content\n",
    "soup = BeautifulSoup(response.content, 'html.parser')\n",
    "\n",
    "# Find all headline elements\n",
    "headlines = [headline.get_text(strip=True) for headline in soup.find_all('span', class_=\"ddVzQcwl2yPlFt4fteIE\")]\n",
    "\n",
    "# Find all article body elements\n",
    "articles = [article.get_text(strip=True) for article in soup.find_all('div', class_=\"KkupEonoVHxNv4A_D7UG\")]\n",
    "\n",
    "# Combine headlines and articles into a DataFrame\n",
    "df = pd.DataFrame({\n",
    "    'headline': headlines,\n",
    "    'article': articles\n",
    "})\n",
    "\n",
    "# Display the DataFrame\n",
    "df.head()\n"
   ]
  },
  {
   "cell_type": "code",
   "execution_count": 17,
   "metadata": {},
   "outputs": [],
   "source": [
    "df['news'] = news_category"
   ]
  },
  {
   "cell_type": "code",
   "execution_count": 18,
   "metadata": {},
   "outputs": [],
   "source": [
    "df.rename(columns = {'news':'news_category'}, inplace=True)"
   ]
  },
  {
   "cell_type": "code",
   "execution_count": 19,
   "metadata": {},
   "outputs": [
    {
     "data": {
      "text/plain": [
       "(10, 3)"
      ]
     },
     "execution_count": 19,
     "metadata": {},
     "output_type": "execute_result"
    }
   ],
   "source": [
    "df.shape"
   ]
  },
  {
   "cell_type": "code",
   "execution_count": 20,
   "metadata": {},
   "outputs": [
    {
     "data": {
      "text/html": [
       "<div>\n",
       "<style scoped>\n",
       "    .dataframe tbody tr th:only-of-type {\n",
       "        vertical-align: middle;\n",
       "    }\n",
       "\n",
       "    .dataframe tbody tr th {\n",
       "        vertical-align: top;\n",
       "    }\n",
       "\n",
       "    .dataframe thead th {\n",
       "        text-align: right;\n",
       "    }\n",
       "</style>\n",
       "<table border=\"1\" class=\"dataframe\">\n",
       "  <thead>\n",
       "    <tr style=\"text-align: right;\">\n",
       "      <th></th>\n",
       "      <th>headline</th>\n",
       "      <th>article</th>\n",
       "      <th>news_category</th>\n",
       "    </tr>\n",
       "  </thead>\n",
       "  <tbody>\n",
       "    <tr>\n",
       "      <th>0</th>\n",
       "      <td>What is Tower 22, US military base attacked in...</td>\n",
       "      <td>Three US troops were killed and dozens wounded...</td>\n",
       "      <td>world</td>\n",
       "    </tr>\n",
       "    <tr>\n",
       "      <th>1</th>\n",
       "      <td>Maldives lists top tourist markets, India fall...</td>\n",
       "      <td>India is no longer the top tourist market for ...</td>\n",
       "      <td>world</td>\n",
       "    </tr>\n",
       "    <tr>\n",
       "      <th>2</th>\n",
       "      <td>Indian Navy rescues 19 Pakistanis from Somali ...</td>\n",
       "      <td>The Indian Navy on Tuesday said INS Sumitra re...</td>\n",
       "      <td>world</td>\n",
       "    </tr>\n",
       "  </tbody>\n",
       "</table>\n",
       "</div>"
      ],
      "text/plain": [
       "                                            headline                                            article news_category\n",
       "0  What is Tower 22, US military base attacked in...  Three US troops were killed and dozens wounded...         world\n",
       "1  Maldives lists top tourist markets, India fall...  India is no longer the top tourist market for ...         world\n",
       "2  Indian Navy rescues 19 Pakistanis from Somali ...  The Indian Navy on Tuesday said INS Sumitra re...         world"
      ]
     },
     "execution_count": 20,
     "metadata": {},
     "output_type": "execute_result"
    }
   ],
   "source": [
    "df.head(3)"
   ]
  },
  {
   "cell_type": "markdown",
   "metadata": {},
   "source": [
    "# Prepare user defined function to extract data from inshorts.com"
   ]
  },
  {
   "cell_type": "code",
   "execution_count": 21,
   "metadata": {},
   "outputs": [],
   "source": [
    "urls_list = ['https://inshorts.com/en/read/technology',\n",
    "             'https://inshorts.com/en/read/sports',\n",
    "             'https://inshorts.com/en/read/world']"
   ]
  },
  {
   "cell_type": "markdown",
   "metadata": {},
   "source": [
    "#  GL CODE - (OUTDATED)"
   ]
  },
  {
   "cell_type": "code",
   "execution_count": 298,
   "metadata": {},
   "outputs": [],
   "source": [
    "def datasetPrepare(urls_list):\n",
    "    news_data = []\n",
    "    for url in urls_list:\n",
    "        news_category = url.split('/')[-1]\n",
    "        data = requests.get(url)\n",
    "        soup = BeautifulSoup(data.content, 'html.parser')\n",
    "        news_articles = [{'news_headline': headline.find('span', attrs={\"itemprop\": \"headline\"}).string,\n",
    "                          'news_article': article.find('div', attrs={\"itemprop\": \"articleBody\"}).string,\n",
    "                          'news_category': news_category}\n",
    "                         \n",
    "                            for headline, article in \n",
    "                             zip(soup.find_all('div', class_=[\"ddVzQcwl2yPlFt4fteIE\"]),\n",
    "                                 soup.find_all('div', class_=[\"KkupEonoVHxNv4A_D7UG\"]))\n",
    "                        ]\n",
    "        news_data.extend(news_articles) \n",
    "df_new =  pd.DataFrame(news_data)\n",
    "df_new = df_new[['news_headline', 'news_article', 'news_category']]\n",
    "return df_new "
   ]
  },
  {
   "cell_type": "markdown",
   "metadata": {},
   "source": [
    "# NEW CODE"
   ]
  },
  {
   "cell_type": "code",
   "execution_count": 22,
   "metadata": {},
   "outputs": [],
   "source": [
    "import requests\n",
    "from bs4 import BeautifulSoup\n",
    "import pandas as pd\n",
    "\n",
    "def dataset_prepare(urls_list):\n",
    "    news_data = []\n",
    "    for url in urls_list:\n",
    "        news_category = url.split('/')[-1]\n",
    "        data = requests.get(url)\n",
    "        soup = BeautifulSoup(data.content, 'html.parser')\n",
    "\n",
    "        # Extract headlines and articles\n",
    "        headlines = [headline.get_text(strip=True) for headline in soup.find_all('span', class_=\"ddVzQcwl2yPlFt4fteIE\")]\n",
    "        articles = [article.get_text(strip=True) for article in soup.find_all('div', class_=\"KkupEonoVHxNv4A_D7UG\")]\n",
    "\n",
    "        # Pair each headline with its corresponding article\n",
    "        for headline, article in zip(headlines, articles):\n",
    "            news_articles = {\n",
    "                'news_headline': headline,\n",
    "                'news_article': article,\n",
    "                'news_category': news_category\n",
    "            }\n",
    "            news_data.append(news_articles)\n",
    "\n",
    "    # Create DataFrame\n",
    "    df_new = pd.DataFrame(news_data)\n",
    "    df_new = df_new[['news_headline', 'news_article', 'news_category']]\n",
    "    return df_new\n",
    "\n",
    "# Example usage:\n",
    "# urls_list = ['https://inshorts.com/en/read/world']\n",
    "# df_new = dataset_prepare(urls_list)\n",
    "# print(df_new.head())\n"
   ]
  },
  {
   "cell_type": "markdown",
   "metadata": {},
   "source": [
    "df_new = datasetPrepare(urls_list)"
   ]
  },
  {
   "cell_type": "code",
   "execution_count": 23,
   "metadata": {},
   "outputs": [
    {
     "name": "stdout",
     "output_type": "stream",
     "text": [
      "                                       news_headline                                       news_article news_category\n",
      "0  Troubling questions of AI remain a challenge: ...  Ahead of Interim Budget, Finance Ministry said...    technology\n",
      "1       Move near office or quit: IBM to US managers  IBM asked US managers still working remotely t...    technology\n",
      "2  First human received a brain implant from Neur...  Elon Musk's Neuralink has implanted one of its...    technology\n",
      "3  iPhone 15 at Rs 61,500: Only 24 hours remainin...  The Apple iPhone 15 128GB now retails for an e...    technology\n",
      "4  Stephen Hawking could communicate faster than ...  Elon Musk's startup Neuralink implanted brain ...    technology\n"
     ]
    }
   ],
   "source": [
    "import requests\n",
    "from bs4 import BeautifulSoup\n",
    "import pandas as pd\n",
    "\n",
    "def dataset_prepare(urls_list):\n",
    "    news_data = []\n",
    "    for url in urls_list:\n",
    "        news_category = url.split('/')[-1]\n",
    "        data = requests.get(url)\n",
    "        soup = BeautifulSoup(data.content, 'html.parser')\n",
    "\n",
    "        # Find all the headline elements and the corresponding article texts\n",
    "        headlines = soup.find_all('span', class_=\"ddVzQcwl2yPlFt4fteIE\")\n",
    "        articles = soup.find_all('div', class_=\"KkupEonoVHxNv4A_D7UG\")\n",
    "\n",
    "        # Ensure that we have the same number of headlines and articles before zipping\n",
    "        if len(headlines) == len(articles):\n",
    "            # Create a list of dictionaries with the extracted data\n",
    "            news_articles = [{'news_headline': headline.get_text(strip=True), \n",
    "                              'news_article': article.get_text(strip=True), \n",
    "                              'news_category': news_category}\n",
    "                             for headline, article in zip(headlines, articles)]\n",
    "\n",
    "            # Extend the main news_data list with the newly extracted articles\n",
    "            news_data.extend(news_articles)\n",
    "\n",
    "    # Create DataFrame from the list of dictionaries\n",
    "    # This ensures that the DataFrame columns are correctly named after the keys in the dictionaries\n",
    "    df_new = pd.DataFrame(news_data)\n",
    "    \n",
    "    return df_new\n",
    "\n",
    "# Example usage:\n",
    "#urls_list = ['https://inshorts.com/en/read/world']\n",
    "df_new = dataset_prepare(urls_list)\n",
    "print(df_new.head())\n"
   ]
  },
  {
   "cell_type": "code",
   "execution_count": 24,
   "metadata": {},
   "outputs": [
    {
     "name": "stdout",
     "output_type": "stream",
     "text": [
      "<class 'pandas.core.frame.DataFrame'>\n",
      "RangeIndex: 30 entries, 0 to 29\n",
      "Data columns (total 3 columns):\n",
      " #   Column         Non-Null Count  Dtype \n",
      "---  ------         --------------  ----- \n",
      " 0   news_headline  30 non-null     object\n",
      " 1   news_article   30 non-null     object\n",
      " 2   news_category  30 non-null     object\n",
      "dtypes: object(3)\n",
      "memory usage: 852.0+ bytes\n"
     ]
    }
   ],
   "source": [
    "df_new.info()"
   ]
  },
  {
   "cell_type": "code",
   "execution_count": 25,
   "metadata": {},
   "outputs": [
    {
     "data": {
      "text/html": [
       "<div>\n",
       "<style scoped>\n",
       "    .dataframe tbody tr th:only-of-type {\n",
       "        vertical-align: middle;\n",
       "    }\n",
       "\n",
       "    .dataframe tbody tr th {\n",
       "        vertical-align: top;\n",
       "    }\n",
       "\n",
       "    .dataframe thead th {\n",
       "        text-align: right;\n",
       "    }\n",
       "</style>\n",
       "<table border=\"1\" class=\"dataframe\">\n",
       "  <thead>\n",
       "    <tr style=\"text-align: right;\">\n",
       "      <th></th>\n",
       "      <th>news_headline</th>\n",
       "      <th>news_article</th>\n",
       "      <th>news_category</th>\n",
       "    </tr>\n",
       "  </thead>\n",
       "  <tbody>\n",
       "    <tr>\n",
       "      <th>0</th>\n",
       "      <td>Troubling questions of AI remain a challenge: ...</td>\n",
       "      <td>Ahead of Interim Budget, Finance Ministry said...</td>\n",
       "      <td>technology</td>\n",
       "    </tr>\n",
       "    <tr>\n",
       "      <th>1</th>\n",
       "      <td>Move near office or quit: IBM to US managers</td>\n",
       "      <td>IBM asked US managers still working remotely t...</td>\n",
       "      <td>technology</td>\n",
       "    </tr>\n",
       "    <tr>\n",
       "      <th>2</th>\n",
       "      <td>First human received a brain implant from Neur...</td>\n",
       "      <td>Elon Musk's Neuralink has implanted one of its...</td>\n",
       "      <td>technology</td>\n",
       "    </tr>\n",
       "    <tr>\n",
       "      <th>3</th>\n",
       "      <td>iPhone 15 at Rs 61,500: Only 24 hours remainin...</td>\n",
       "      <td>The Apple iPhone 15 128GB now retails for an e...</td>\n",
       "      <td>technology</td>\n",
       "    </tr>\n",
       "    <tr>\n",
       "      <th>4</th>\n",
       "      <td>Stephen Hawking could communicate faster than ...</td>\n",
       "      <td>Elon Musk's startup Neuralink implanted brain ...</td>\n",
       "      <td>technology</td>\n",
       "    </tr>\n",
       "  </tbody>\n",
       "</table>\n",
       "</div>"
      ],
      "text/plain": [
       "                                       news_headline                                       news_article news_category\n",
       "0  Troubling questions of AI remain a challenge: ...  Ahead of Interim Budget, Finance Ministry said...    technology\n",
       "1       Move near office or quit: IBM to US managers  IBM asked US managers still working remotely t...    technology\n",
       "2  First human received a brain implant from Neur...  Elon Musk's Neuralink has implanted one of its...    technology\n",
       "3  iPhone 15 at Rs 61,500: Only 24 hours remainin...  The Apple iPhone 15 128GB now retails for an e...    technology\n",
       "4  Stephen Hawking could communicate faster than ...  Elon Musk's startup Neuralink implanted brain ...    technology"
      ]
     },
     "execution_count": 25,
     "metadata": {},
     "output_type": "execute_result"
    }
   ],
   "source": [
    "df_new.head(5)"
   ]
  },
  {
   "cell_type": "code",
   "execution_count": 313,
   "metadata": {},
   "outputs": [
    {
     "data": {
      "text/plain": [
       "news_category\n",
       "technology    10\n",
       "sports        10\n",
       "world         10\n",
       "Name: count, dtype: int64"
      ]
     },
     "execution_count": 313,
     "metadata": {},
     "output_type": "execute_result"
    }
   ],
   "source": [
    "df_new.news_category.value_counts()"
   ]
  },
  {
   "cell_type": "markdown",
   "metadata": {},
   "source": [
    "# Text Wrangling and Pre-processing"
   ]
  },
  {
   "cell_type": "code",
   "execution_count": 27,
   "metadata": {},
   "outputs": [],
   "source": [
    "import spacy\n",
    "import nltk\n",
    "from nltk.tokenize.toktok import ToktokTokenizer\n",
    "import re\n",
    "import unicodedata"
   ]
  },
  {
   "cell_type": "code",
   "execution_count": 28,
   "metadata": {},
   "outputs": [],
   "source": [
    "#nlp = spacy.load('en')\n",
    "\n",
    "nlp = spacy.load(\"en_core_web_sm\")"
   ]
  },
  {
   "cell_type": "markdown",
   "metadata": {},
   "source": [
    "!python -m spacy download en_core_web_sm\n"
   ]
  },
  {
   "cell_type": "code",
   "execution_count": 29,
   "metadata": {},
   "outputs": [
    {
     "name": "stderr",
     "output_type": "stream",
     "text": [
      "[nltk_data] Downloading package stopwords to\n",
      "[nltk_data]     C:\\Users\\modza\\AppData\\Roaming\\nltk_data...\n",
      "[nltk_data]   Package stopwords is already up-to-date!\n"
     ]
    },
    {
     "data": {
      "text/plain": [
       "True"
      ]
     },
     "execution_count": 29,
     "metadata": {},
     "output_type": "execute_result"
    }
   ],
   "source": [
    "nltk.download('stopwords')"
   ]
  },
  {
   "cell_type": "code",
   "execution_count": 35,
   "metadata": {},
   "outputs": [],
   "source": [
    "tokenizer = ToktokTokenizer()\n",
    "stopword_list = nltk.corpus.stopwords.words('english')\n",
    "stopword_list.remove('no')\n",
    "stopword_list.remove('not')"
   ]
  },
  {
   "cell_type": "markdown",
   "metadata": {},
   "source": [
    "## Remove HTML tags"
   ]
  },
  {
   "cell_type": "code",
   "execution_count": 37,
   "metadata": {},
   "outputs": [
    {
     "data": {
      "text/plain": [
       "'Some important text'"
      ]
     },
     "execution_count": 37,
     "metadata": {},
     "output_type": "execute_result"
    }
   ],
   "source": [
    "def strip_html_tags(text):\n",
    "    soup = BeautifulSoup(text, \"html.parser\")\n",
    "    stripped_text = soup.get_text()\n",
    "    return stripped_text\n",
    "\n",
    "strip_html_tags('<html><h2>Some important text</h2></html>')"
   ]
  },
  {
   "cell_type": "code",
   "execution_count": 49,
   "metadata": {},
   "outputs": [
    {
     "data": {
      "text/html": [
       "<div>\n",
       "<style scoped>\n",
       "    .dataframe tbody tr th:only-of-type {\n",
       "        vertical-align: middle;\n",
       "    }\n",
       "\n",
       "    .dataframe tbody tr th {\n",
       "        vertical-align: top;\n",
       "    }\n",
       "\n",
       "    .dataframe thead th {\n",
       "        text-align: right;\n",
       "    }\n",
       "</style>\n",
       "<table border=\"1\" class=\"dataframe\">\n",
       "  <thead>\n",
       "    <tr style=\"text-align: right;\">\n",
       "      <th></th>\n",
       "      <th>headline</th>\n",
       "      <th>article</th>\n",
       "      <th>news_category</th>\n",
       "    </tr>\n",
       "  </thead>\n",
       "  <tbody>\n",
       "    <tr>\n",
       "      <th>0</th>\n",
       "      <td>What is Tower 22, US military base attacked in...</td>\n",
       "      <td>Three US troops were killed and dozens wounded...</td>\n",
       "      <td>world</td>\n",
       "    </tr>\n",
       "  </tbody>\n",
       "</table>\n",
       "</div>"
      ],
      "text/plain": [
       "                                            headline                                            article news_category\n",
       "0  What is Tower 22, US military base attacked in...  Three US troops were killed and dozens wounded...         world"
      ]
     },
     "execution_count": 49,
     "metadata": {},
     "output_type": "execute_result"
    }
   ],
   "source": [
    "df.head(1)"
   ]
  },
  {
   "cell_type": "code",
   "execution_count": 50,
   "metadata": {},
   "outputs": [
    {
     "data": {
      "text/plain": [
       "0    Three US troops were killed and dozens wounded...\n",
       "1    India is no longer the top tourist market for ...\n",
       "2    The Indian Navy on Tuesday said INS Sumitra re...\n",
       "3    Toyota is telling owners of about 50,000 older...\n",
       "4    The Consulate General of India in the US' Atla...\n",
       "5    Indian student Neel Acharya, who had been miss...\n",
       "6    An Indian student studying at Purdue Universit...\n",
       "7    Prime Minister Narendra Modi took to social me...\n",
       "8    Indian-American US Presidential candidate Nikk...\n",
       "9    Thailand's economy is in a state of recession,...\n",
       "Name: article, dtype: object"
      ]
     },
     "execution_count": 50,
     "metadata": {},
     "output_type": "execute_result"
    }
   ],
   "source": [
    "df['article'].apply(remove_accented_chars)"
   ]
  },
  {
   "cell_type": "markdown",
   "metadata": {},
   "source": [
    "## Remove accented characters"
   ]
  },
  {
   "cell_type": "code",
   "execution_count": 41,
   "metadata": {},
   "outputs": [],
   "source": [
    "u = \"Zoë's café, located at 123 Main St., serves a variety of crêpes & smoothies! It's open daily from 8:00 am to 9:00 pm – a must-visit for food enthusiasts.\""
   ]
  },
  {
   "cell_type": "code",
   "execution_count": 38,
   "metadata": {},
   "outputs": [],
   "source": [
    "import  unicodedata"
   ]
  },
  {
   "cell_type": "code",
   "execution_count": 42,
   "metadata": {},
   "outputs": [
    {
     "data": {
      "text/plain": [
       "\"Zoe's cafe, located at 123 Main St., serves a variety of crepes & smoothies! It's open daily from 8:00 am to 9:00 pm  a must-visit for food enthusiasts.\""
      ]
     },
     "execution_count": 42,
     "metadata": {},
     "output_type": "execute_result"
    }
   ],
   "source": [
    "unicodedata.normalize('NFKD',u).encode('ascii','ignore').decode('utf-8', 'ignore')"
   ]
  },
  {
   "cell_type": "code",
   "execution_count": 53,
   "metadata": {},
   "outputs": [
    {
     "name": "stdout",
     "output_type": "stream",
     "text": [
      "Three US troops were killed and dozens wounded after a drone hit 'Tower 22', a military outpost in Jordan. It holds a strategically important location in Jordan, at the most northeastern point where the country's borders meet Syria and Iraq. Tower 22 serves as a supply hub for the nearby US garrison of Al-Tanf located across the border in Syria.\n",
      "India is no longer the top tourist market for Maldives, as per the latest data released by the nation, which has ranked Russia on top. Italy, China and the UK occupy the second, third and fourth spots on the list, respectively. Amid a diplomatic row, Indian tourists visiting Maldives dropped to 13,989 in January 2024.\n",
      "The Indian Navy on Tuesday said INS Sumitra rescued 19 Pakistani crew members and a vessel from Somali pirates off the East Coast of Somalia. The Indian Navy rescued the fishing vessel Al Naeemi and her crew of 19 Pakistani nationals from 11 Somali pirates. This was the second successful anti-piracy operation by INS Sumitra in the last few days.\n",
      "Toyota is telling owners of about 50,000 older Corolla, Corolla Matrix and RAV4 models to stop driving them because their Takata airbag inflators are at risk of exploding. Toyota added that the vehicles' airbag inflators could explode and hurl debris, leading to death or injuries. At least 26 people in the US have been killed by Takata inflators since 2009.\n",
      "The Consulate General of India in the US' Atlanta has \"strongly condemned\" the murder of 25-year-old Vivek Saini by a homeless drug addict, whom the Indian student had been helping for past several days. \"We're deeply anguished by the terrifying, brutal and heinous incident,\" the consulate said. \"US authorities have arrested the accused and are investigating the case,\" it added.\n",
      "Indian student Neel Acharya, who had been missing since Sunday in the US, has been confirmed dead by the authorities. Acharya was studying in Purdue University in Indiana and his mother had alerted the authorities that he was missing via a post on X on January 28. Neel was a \"driven individual and academically talented\", a Purdue University official said.\n",
      "An Indian student studying at Purdue University who had been reported missing since Sunday has tragically been confirmed dead, according to the Tippecanoe County Coroner. Neel Acharya, the deceased student, was found on Purdue s campus on Sunday morning after authorities responded to a call regarding a possible dead body.\n",
      "Prime Minister Narendra Modi took to social media on Monday to send his \"heartiest congratulations\" to Azali Assoumani, who has been re-elected as the President of Comoros. \"Look forward to continue working together to further strengthen India-Comoros partnership, India-Africa partnership and 'Vision Sagar',\" PM Modi said. Assoumani attended G20 Summit in India as African Union Chairman last year.\n",
      "Indian-American US Presidential candidate Nikki Haley has said that ex-US President Donald Trump can't \"bully\" his way into winning the nomination of Grand Old Party (GOP), also known as Republican Party. Haley has lost both the Iowa caucuses and the New Hampshire primary but has refused to exit the race. The next republican primary will be held in South Carolina.\n",
      "Thailand's economy is in a state of recession, Deputy Finance Minister Julapun Amornvivat said. Citing high debt burden of households and the private sector, he said, \"It's difficult to drive the economy forward.\" Julapun has urged the country's central bank to cut interest rates, which is at a decade-high of 2.50%, so that it will help lower high borrowing costs.\n"
     ]
    }
   ],
   "source": [
    "#[w for w in words if w not in stopwords.words(\"english\")]\n",
    "\n",
    "for w in df['article']:\n",
    "    if w not in nltk.corpus.stopwords.words(\"english\"):\n",
    "        print(w)"
   ]
  },
  {
   "cell_type": "code",
   "execution_count": 47,
   "metadata": {},
   "outputs": [
    {
     "data": {
      "text/plain": [
       "'Some Accented text'"
      ]
     },
     "execution_count": 47,
     "metadata": {},
     "output_type": "execute_result"
    }
   ],
   "source": [
    "def remove_accented_chars(text):\n",
    "    text = unicodedata.normalize('NFKD', text).encode('ascii', 'ignore').decode('utf-8', 'ignore')\n",
    "    return text\n",
    "\n",
    "remove_accented_chars('Sómě Áccěntěd těxt')"
   ]
  },
  {
   "cell_type": "markdown",
   "metadata": {},
   "source": [
    "## Remove special characters"
   ]
  },
  {
   "cell_type": "code",
   "execution_count": 55,
   "metadata": {},
   "outputs": [],
   "source": [
    "def remove_special_characters(text, remove_digits=False):\n",
    "    pattern = r'[^a-zA-z0-9\\s]' if not remove_digits else r'[^a-zA-z\\s]'\n",
    "    text = re.sub(pattern, '', text)\n",
    "    return text"
   ]
  },
  {
   "cell_type": "code",
   "execution_count": 56,
   "metadata": {},
   "outputs": [
    {
     "data": {
      "text/plain": [
       "'Well this was fun What do you think '"
      ]
     },
     "execution_count": 56,
     "metadata": {},
     "output_type": "execute_result"
    }
   ],
   "source": [
    "remove_special_characters(\"Well this was fun! What do you think? 123#@!\", remove_digits=True)"
   ]
  },
  {
   "cell_type": "markdown",
   "metadata": {},
   "source": [
    "## Text lemmatization"
   ]
  },
  {
   "cell_type": "code",
   "execution_count": 57,
   "metadata": {},
   "outputs": [],
   "source": [
    "def lemmatize_text(text):\n",
    "    text = nlp(text)\n",
    "    text = ' '.join([word.lemma_ if word.lemma_ != '-PRON-' else word.text for word in text])\n",
    "    return text"
   ]
  },
  {
   "cell_type": "code",
   "execution_count": 58,
   "metadata": {},
   "outputs": [
    {
     "data": {
      "text/plain": [
       "'my system keep crash ! his crashed yesterday , ours crash daily'"
      ]
     },
     "execution_count": 58,
     "metadata": {},
     "output_type": "execute_result"
    }
   ],
   "source": [
    "lemmatize_text(\"My system keeps crashing! his crashed yesterday, ours crashes daily\")"
   ]
  },
  {
   "cell_type": "markdown",
   "metadata": {},
   "source": [
    "## Text stemming"
   ]
  },
  {
   "cell_type": "code",
   "execution_count": 59,
   "metadata": {},
   "outputs": [
    {
     "data": {
      "text/plain": [
       "'my system keep crash hi crash yesterday, our crash daili'"
      ]
     },
     "execution_count": 59,
     "metadata": {},
     "output_type": "execute_result"
    }
   ],
   "source": [
    "def simple_stemmer(text):\n",
    "    ps = nltk.porter.PorterStemmer()\n",
    "    text = ' '.join([ps.stem(word) for word in text.split()])\n",
    "    return text\n",
    "\n",
    "simple_stemmer(\"My system keeps crashing his crashed yesterday, ours crashes daily\")"
   ]
  },
  {
   "cell_type": "markdown",
   "metadata": {},
   "source": [
    "## Remove stopwords"
   ]
  },
  {
   "cell_type": "code",
   "execution_count": 60,
   "metadata": {},
   "outputs": [
    {
     "data": {
      "text/plain": [
       "', , stopwords , computer not'"
      ]
     },
     "execution_count": 60,
     "metadata": {},
     "output_type": "execute_result"
    }
   ],
   "source": [
    "def remove_stopwords(text, is_lower_case=False):\n",
    "    tokens = tokenizer.tokenize(text)\n",
    "    tokens = [token.strip() for token in tokens]\n",
    "    if is_lower_case:\n",
    "        filtered_tokens = [token for token in tokens if token not in stopword_list]\n",
    "    else:\n",
    "        filtered_tokens = [token for token in tokens if token.lower() not in stopword_list]\n",
    "    filtered_text = ' '.join(filtered_tokens)    \n",
    "    return filtered_text\n",
    "\n",
    "remove_stopwords(\"The, and, if are stopwords, computer is not\")"
   ]
  },
  {
   "cell_type": "markdown",
   "metadata": {},
   "source": [
    "## Building a text normalizer"
   ]
  },
  {
   "cell_type": "code",
   "execution_count": 61,
   "metadata": {},
   "outputs": [],
   "source": [
    "def normalize_corpus(corpus, html_stripping=True, contraction_expansion=True,\n",
    "                     accented_char_removal=True, text_lower_case=True, \n",
    "                     text_lemmatization=True, special_char_removal=True, \n",
    "                     stopword_removal=True, remove_digits=True):\n",
    "    \n",
    "    normalized_corpus = []\n",
    "    # normalize each document in the corpus\n",
    "    for doc in corpus:\n",
    "        # strip HTML\n",
    "        if html_stripping:\n",
    "            doc = strip_html_tags(doc)\n",
    "        # remove accented characters\n",
    "        if accented_char_removal:\n",
    "            doc = remove_accented_chars(doc)\n",
    "        # lowercase the text    \n",
    "        if text_lower_case:\n",
    "            doc = doc.lower()\n",
    "        # remove extra newlines\n",
    "        doc = re.sub(r'[\\r|\\n|\\r\\n]+', ' ',doc)\n",
    "        # lemmatize text\n",
    "        if text_lemmatization:\n",
    "            doc = lemmatize_text(doc)\n",
    "        # remove special characters and\\or digits    \n",
    "        if special_char_removal:\n",
    "            # insert spaces between special characters to isolate them    \n",
    "            special_char_pattern = re.compile(r'([{.(-)!}])')\n",
    "            doc = special_char_pattern.sub(\" \\\\1 \", doc)\n",
    "            doc = remove_special_characters(doc, remove_digits=remove_digits)  \n",
    "        # remove extra whitespace\n",
    "        doc = re.sub(' +', ' ', doc)\n",
    "        # remove stopwords\n",
    "        if stopword_removal:\n",
    "            doc = remove_stopwords(doc, is_lower_case=text_lower_case)\n",
    "            \n",
    "        normalized_corpus.append(doc)\n",
    "        \n",
    "    return normalized_corpus"
   ]
  },
  {
   "cell_type": "markdown",
   "metadata": {},
   "source": [
    "## Pre-process and normalize news articles"
   ]
  },
  {
   "cell_type": "code",
   "execution_count": 62,
   "metadata": {},
   "outputs": [],
   "source": [
    "df_new['full_text'] = df_new[\"news_headline\"].map(str)+ '. ' + df_new[\"news_article\"]"
   ]
  },
  {
   "cell_type": "code",
   "execution_count": 63,
   "metadata": {},
   "outputs": [
    {
     "data": {
      "text/plain": [
       "{'full_text': 'Move near office or quit: IBM to US managers. IBM asked US managers still working remotely to either move near an office or leave the company. All US managers must immediately report to an office or client location at least three days a week \"regardless of current work location status\", a company memo said. Managers who don\\'t relocate by the start of August \"must separate from IBM\", it added.',\n",
       " 'clean_text': 'move near office quit ibm us manager ibm ask manager still work remotely either move near office leave company us manager must immediately report office client location least three day week regardless current work location status company memo say manager not relocate start august must separate ibm add'}"
      ]
     },
     "execution_count": 63,
     "metadata": {},
     "output_type": "execute_result"
    }
   ],
   "source": [
    "df_new['clean_text'] = normalize_corpus(df_new['full_text'])\n",
    "norm_corpus = list(df_new['clean_text'])\n",
    "df_new.iloc[1][['full_text', 'clean_text']].to_dict()"
   ]
  },
  {
   "cell_type": "markdown",
   "metadata": {},
   "source": [
    "# Save the news articles"
   ]
  },
  {
   "cell_type": "code",
   "execution_count": 64,
   "metadata": {},
   "outputs": [],
   "source": [
    "df_new.to_csv('news.csv', index=False, encoding='utf-8')"
   ]
  },
  {
   "cell_type": "markdown",
   "metadata": {},
   "source": [
    "# Tagging Parts of Speech"
   ]
  },
  {
   "cell_type": "code",
   "execution_count": 339,
   "metadata": {},
   "outputs": [],
   "source": [
    "df_new = pd.read_csv('news.csv')"
   ]
  },
  {
   "cell_type": "code",
   "execution_count": 65,
   "metadata": {},
   "outputs": [],
   "source": [
    "corpus = normalize_corpus(df_new['full_text'], text_lower_case=False, \n",
    "                          text_lemmatization=False, special_char_removal=False)\n",
    "\n",
    "sentence = str(df_new.iloc[1].news_headline)\n",
    "sentence_nlp = nlp(sentence)"
   ]
  },
  {
   "cell_type": "code",
   "execution_count": 68,
   "metadata": {},
   "outputs": [
    {
     "data": {
      "text/plain": [
       "Move near office or quit: IBM to US managers"
      ]
     },
     "execution_count": 68,
     "metadata": {},
     "output_type": "execute_result"
    }
   ],
   "source": [
    "sentence_nlp"
   ]
  },
  {
   "cell_type": "code",
   "execution_count": 66,
   "metadata": {},
   "outputs": [
    {
     "data": {
      "text/html": [
       "<div>\n",
       "<style scoped>\n",
       "    .dataframe tbody tr th:only-of-type {\n",
       "        vertical-align: middle;\n",
       "    }\n",
       "\n",
       "    .dataframe tbody tr th {\n",
       "        vertical-align: top;\n",
       "    }\n",
       "\n",
       "    .dataframe thead th {\n",
       "        text-align: right;\n",
       "    }\n",
       "</style>\n",
       "<table border=\"1\" class=\"dataframe\">\n",
       "  <thead>\n",
       "    <tr style=\"text-align: right;\">\n",
       "      <th></th>\n",
       "      <th>Word</th>\n",
       "      <th>POS tag</th>\n",
       "      <th>Tag type</th>\n",
       "    </tr>\n",
       "  </thead>\n",
       "  <tbody>\n",
       "    <tr>\n",
       "      <th>0</th>\n",
       "      <td>Move</td>\n",
       "      <td>VB</td>\n",
       "      <td>VERB</td>\n",
       "    </tr>\n",
       "    <tr>\n",
       "      <th>1</th>\n",
       "      <td>near</td>\n",
       "      <td>IN</td>\n",
       "      <td>ADP</td>\n",
       "    </tr>\n",
       "    <tr>\n",
       "      <th>2</th>\n",
       "      <td>office</td>\n",
       "      <td>NN</td>\n",
       "      <td>NOUN</td>\n",
       "    </tr>\n",
       "    <tr>\n",
       "      <th>3</th>\n",
       "      <td>or</td>\n",
       "      <td>CC</td>\n",
       "      <td>CCONJ</td>\n",
       "    </tr>\n",
       "    <tr>\n",
       "      <th>4</th>\n",
       "      <td>quit</td>\n",
       "      <td>NN</td>\n",
       "      <td>NOUN</td>\n",
       "    </tr>\n",
       "    <tr>\n",
       "      <th>5</th>\n",
       "      <td>:</td>\n",
       "      <td>:</td>\n",
       "      <td>PUNCT</td>\n",
       "    </tr>\n",
       "    <tr>\n",
       "      <th>6</th>\n",
       "      <td>IBM</td>\n",
       "      <td>NNP</td>\n",
       "      <td>PROPN</td>\n",
       "    </tr>\n",
       "    <tr>\n",
       "      <th>7</th>\n",
       "      <td>to</td>\n",
       "      <td>IN</td>\n",
       "      <td>ADP</td>\n",
       "    </tr>\n",
       "    <tr>\n",
       "      <th>8</th>\n",
       "      <td>US</td>\n",
       "      <td>NNP</td>\n",
       "      <td>PROPN</td>\n",
       "    </tr>\n",
       "    <tr>\n",
       "      <th>9</th>\n",
       "      <td>managers</td>\n",
       "      <td>NNS</td>\n",
       "      <td>NOUN</td>\n",
       "    </tr>\n",
       "  </tbody>\n",
       "</table>\n",
       "</div>"
      ],
      "text/plain": [
       "       Word POS tag Tag type\n",
       "0      Move      VB     VERB\n",
       "1      near      IN      ADP\n",
       "2    office      NN     NOUN\n",
       "3        or      CC    CCONJ\n",
       "4      quit      NN     NOUN\n",
       "5         :       :    PUNCT\n",
       "6       IBM     NNP    PROPN\n",
       "7        to      IN      ADP\n",
       "8        US     NNP    PROPN\n",
       "9  managers     NNS     NOUN"
      ]
     },
     "execution_count": 66,
     "metadata": {},
     "output_type": "execute_result"
    }
   ],
   "source": [
    "spacy_pos_tagged = [(word, word.tag_, word.pos_) for word in sentence_nlp]\n",
    "pd.DataFrame(spacy_pos_tagged, columns=['Word', 'POS tag', 'Tag type'])"
   ]
  },
  {
   "cell_type": "code",
   "execution_count": 69,
   "metadata": {},
   "outputs": [
    {
     "name": "stderr",
     "output_type": "stream",
     "text": [
      "[nltk_data] Downloading package punkt to\n",
      "[nltk_data]     C:\\Users\\modza\\AppData\\Roaming\\nltk_data...\n",
      "[nltk_data]   Package punkt is already up-to-date!\n"
     ]
    },
    {
     "data": {
      "text/plain": [
       "True"
      ]
     },
     "execution_count": 69,
     "metadata": {},
     "output_type": "execute_result"
    }
   ],
   "source": [
    "nltk.download('punkt')"
   ]
  },
  {
   "cell_type": "code",
   "execution_count": 343,
   "metadata": {},
   "outputs": [
    {
     "name": "stderr",
     "output_type": "stream",
     "text": [
      "[nltk_data] Downloading package maxent_treebank_pos_tagger to\n",
      "[nltk_data]     C:\\Users\\modza\\AppData\\Roaming\\nltk_data...\n",
      "[nltk_data]   Package maxent_treebank_pos_tagger is already up-to-\n",
      "[nltk_data]       date!\n"
     ]
    },
    {
     "data": {
      "text/plain": [
       "True"
      ]
     },
     "execution_count": 343,
     "metadata": {},
     "output_type": "execute_result"
    }
   ],
   "source": [
    "nltk.download('maxent_treebank_pos_tagger')"
   ]
  },
  {
   "cell_type": "code",
   "execution_count": 71,
   "metadata": {},
   "outputs": [
    {
     "name": "stderr",
     "output_type": "stream",
     "text": [
      "[nltk_data] Downloading package averaged_perceptron_tagger to\n",
      "[nltk_data]     C:\\Users\\modza\\AppData\\Roaming\\nltk_data...\n",
      "[nltk_data]   Package averaged_perceptron_tagger is already up-to-\n",
      "[nltk_data]       date!\n"
     ]
    },
    {
     "data": {
      "text/plain": [
       "True"
      ]
     },
     "execution_count": 71,
     "metadata": {},
     "output_type": "execute_result"
    }
   ],
   "source": [
    "nltk.download('averaged_perceptron_tagger')"
   ]
  },
  {
   "cell_type": "code",
   "execution_count": 72,
   "metadata": {},
   "outputs": [],
   "source": [
    "nltk_pos_tagged = nltk.pos_tag(sentence.split())"
   ]
  },
  {
   "cell_type": "code",
   "execution_count": 73,
   "metadata": {},
   "outputs": [
    {
     "data": {
      "text/plain": [
       "[('Move', 'NNP'),\n",
       " ('near', 'IN'),\n",
       " ('office', 'NN'),\n",
       " ('or', 'CC'),\n",
       " ('quit:', 'NN'),\n",
       " ('IBM', 'NNP'),\n",
       " ('to', 'TO'),\n",
       " ('US', 'NNP'),\n",
       " ('managers', 'NNS')]"
      ]
     },
     "execution_count": 73,
     "metadata": {},
     "output_type": "execute_result"
    }
   ],
   "source": [
    "nltk_pos_tagged"
   ]
  },
  {
   "cell_type": "code",
   "execution_count": 74,
   "metadata": {},
   "outputs": [
    {
     "data": {
      "text/html": [
       "<div>\n",
       "<style scoped>\n",
       "    .dataframe tbody tr th:only-of-type {\n",
       "        vertical-align: middle;\n",
       "    }\n",
       "\n",
       "    .dataframe tbody tr th {\n",
       "        vertical-align: top;\n",
       "    }\n",
       "\n",
       "    .dataframe thead th {\n",
       "        text-align: right;\n",
       "    }\n",
       "</style>\n",
       "<table border=\"1\" class=\"dataframe\">\n",
       "  <thead>\n",
       "    <tr style=\"text-align: right;\">\n",
       "      <th></th>\n",
       "      <th>Word</th>\n",
       "      <th>POS tag</th>\n",
       "    </tr>\n",
       "  </thead>\n",
       "  <tbody>\n",
       "    <tr>\n",
       "      <th>0</th>\n",
       "      <td>Move</td>\n",
       "      <td>NNP</td>\n",
       "    </tr>\n",
       "    <tr>\n",
       "      <th>1</th>\n",
       "      <td>near</td>\n",
       "      <td>IN</td>\n",
       "    </tr>\n",
       "    <tr>\n",
       "      <th>2</th>\n",
       "      <td>office</td>\n",
       "      <td>NN</td>\n",
       "    </tr>\n",
       "    <tr>\n",
       "      <th>3</th>\n",
       "      <td>or</td>\n",
       "      <td>CC</td>\n",
       "    </tr>\n",
       "    <tr>\n",
       "      <th>4</th>\n",
       "      <td>quit:</td>\n",
       "      <td>NN</td>\n",
       "    </tr>\n",
       "    <tr>\n",
       "      <th>5</th>\n",
       "      <td>IBM</td>\n",
       "      <td>NNP</td>\n",
       "    </tr>\n",
       "    <tr>\n",
       "      <th>6</th>\n",
       "      <td>to</td>\n",
       "      <td>TO</td>\n",
       "    </tr>\n",
       "    <tr>\n",
       "      <th>7</th>\n",
       "      <td>US</td>\n",
       "      <td>NNP</td>\n",
       "    </tr>\n",
       "    <tr>\n",
       "      <th>8</th>\n",
       "      <td>managers</td>\n",
       "      <td>NNS</td>\n",
       "    </tr>\n",
       "  </tbody>\n",
       "</table>\n",
       "</div>"
      ],
      "text/plain": [
       "       Word POS tag\n",
       "0      Move     NNP\n",
       "1      near      IN\n",
       "2    office      NN\n",
       "3        or      CC\n",
       "4     quit:      NN\n",
       "5       IBM     NNP\n",
       "6        to      TO\n",
       "7        US     NNP\n",
       "8  managers     NNS"
      ]
     },
     "execution_count": 74,
     "metadata": {},
     "output_type": "execute_result"
    }
   ],
   "source": [
    "pd.DataFrame(nltk_pos_tagged, columns=['Word', 'POS tag'])"
   ]
  },
  {
   "cell_type": "markdown",
   "metadata": {},
   "source": [
    "# Named Entity Recognition"
   ]
  },
  {
   "cell_type": "code",
   "execution_count": 75,
   "metadata": {},
   "outputs": [],
   "source": [
    "sentence = str(df_new.iloc[1].full_text)"
   ]
  },
  {
   "cell_type": "code",
   "execution_count": 76,
   "metadata": {},
   "outputs": [
    {
     "data": {
      "text/plain": [
       "'Move near office or quit: IBM to US managers. IBM asked US managers still working remotely to either move near an office or leave the company. All US managers must immediately report to an office or client location at least three days a week \"regardless of current work location status\", a company memo said. Managers who don\\'t relocate by the start of August \"must separate from IBM\", it added.'"
      ]
     },
     "execution_count": 76,
     "metadata": {},
     "output_type": "execute_result"
    }
   ],
   "source": [
    "sentence"
   ]
  },
  {
   "cell_type": "code",
   "execution_count": 77,
   "metadata": {},
   "outputs": [],
   "source": [
    "sentence_nlp = nlp(sentence)"
   ]
  },
  {
   "cell_type": "code",
   "execution_count": 78,
   "metadata": {},
   "outputs": [
    {
     "data": {
      "text/plain": [
       "Move near office or quit: IBM to US managers. IBM asked US managers still working remotely to either move near an office or leave the company. All US managers must immediately report to an office or client location at least three days a week \"regardless of current work location status\", a company memo said. Managers who don't relocate by the start of August \"must separate from IBM\", it added."
      ]
     },
     "execution_count": 78,
     "metadata": {},
     "output_type": "execute_result"
    }
   ],
   "source": [
    "sentence_nlp"
   ]
  },
  {
   "cell_type": "code",
   "execution_count": 79,
   "metadata": {},
   "outputs": [
    {
     "name": "stdout",
     "output_type": "stream",
     "text": [
      "[(IBM, 'ORG'), (US, 'GPE'), (IBM, 'ORG'), (US, 'GPE'), (US, 'GPE'), (at, 'DATE'), (least, 'DATE'), (three, 'DATE'), (days, 'DATE'), (the, 'DATE'), (start, 'DATE'), (of, 'DATE'), (August, 'DATE'), (IBM, 'ORG')]\n"
     ]
    }
   ],
   "source": [
    "print([(word, word.ent_type_) for word in sentence_nlp if word.ent_type_])"
   ]
  },
  {
   "cell_type": "code",
   "execution_count": 71,
   "metadata": {},
   "outputs": [],
   "source": [
    "named_entities = []\n",
    "for sentence in corpus:\n",
    "    temp_entity_name = ''\n",
    "    temp_named_entity = None\n",
    "    sentence = nlp(sentence)\n",
    "    for word in sentence:\n",
    "        term = word.text \n",
    "        tag = word.ent_type_\n",
    "        if tag:\n",
    "            temp_entity_name = ' '.join([temp_entity_name, term]).strip()\n",
    "            temp_named_entity = (temp_entity_name, tag)\n",
    "        else:\n",
    "            if temp_named_entity:\n",
    "                named_entities.append(temp_named_entity)\n",
    "                temp_entity_name = ''\n",
    "                temp_named_entity = None\n",
    "\n",
    "entity_frame = pd.DataFrame(named_entities, \n",
    "                            columns=['Entity Name', 'Entity Type'])"
   ]
  },
  {
   "cell_type": "code",
   "execution_count": 72,
   "metadata": {},
   "outputs": [
    {
     "data": {
      "text/html": [
       "<div>\n",
       "<style scoped>\n",
       "    .dataframe tbody tr th:only-of-type {\n",
       "        vertical-align: middle;\n",
       "    }\n",
       "\n",
       "    .dataframe tbody tr th {\n",
       "        vertical-align: top;\n",
       "    }\n",
       "\n",
       "    .dataframe thead th {\n",
       "        text-align: right;\n",
       "    }\n",
       "</style>\n",
       "<table border=\"1\" class=\"dataframe\">\n",
       "  <thead>\n",
       "    <tr style=\"text-align: right;\">\n",
       "      <th></th>\n",
       "      <th>0</th>\n",
       "      <th>1</th>\n",
       "      <th>2</th>\n",
       "      <th>3</th>\n",
       "      <th>4</th>\n",
       "      <th>5</th>\n",
       "      <th>6</th>\n",
       "      <th>7</th>\n",
       "      <th>8</th>\n",
       "      <th>9</th>\n",
       "      <th>10</th>\n",
       "      <th>11</th>\n",
       "      <th>12</th>\n",
       "      <th>13</th>\n",
       "      <th>14</th>\n",
       "    </tr>\n",
       "  </thead>\n",
       "  <tbody>\n",
       "    <tr>\n",
       "      <th>Entity Name</th>\n",
       "      <td>US</td>\n",
       "      <td>Google</td>\n",
       "      <td>China</td>\n",
       "      <td>India</td>\n",
       "      <td>Trump</td>\n",
       "      <td>Pakistan</td>\n",
       "      <td>Apple</td>\n",
       "      <td>first</td>\n",
       "      <td>KXIP</td>\n",
       "      <td>two</td>\n",
       "      <td>six</td>\n",
       "      <td>KKR</td>\n",
       "      <td>IPL</td>\n",
       "      <td>Afghanistan</td>\n",
       "      <td>Pichai</td>\n",
       "    </tr>\n",
       "    <tr>\n",
       "      <th>Entity Type</th>\n",
       "      <td>GPE</td>\n",
       "      <td>ORG</td>\n",
       "      <td>GPE</td>\n",
       "      <td>GPE</td>\n",
       "      <td>ORG</td>\n",
       "      <td>GPE</td>\n",
       "      <td>ORG</td>\n",
       "      <td>ORDINAL</td>\n",
       "      <td>ORG</td>\n",
       "      <td>CARDINAL</td>\n",
       "      <td>CARDINAL</td>\n",
       "      <td>ORG</td>\n",
       "      <td>ORG</td>\n",
       "      <td>GPE</td>\n",
       "      <td>GPE</td>\n",
       "    </tr>\n",
       "    <tr>\n",
       "      <th>Frequency</th>\n",
       "      <td>36</td>\n",
       "      <td>17</td>\n",
       "      <td>15</td>\n",
       "      <td>15</td>\n",
       "      <td>9</td>\n",
       "      <td>8</td>\n",
       "      <td>8</td>\n",
       "      <td>8</td>\n",
       "      <td>8</td>\n",
       "      <td>8</td>\n",
       "      <td>7</td>\n",
       "      <td>7</td>\n",
       "      <td>7</td>\n",
       "      <td>6</td>\n",
       "      <td>6</td>\n",
       "    </tr>\n",
       "  </tbody>\n",
       "</table>\n",
       "</div>"
      ],
      "text/plain": [
       "              0       1      2      3      4         5      6        7     8   \\\n",
       "Entity Name   US  Google  China  India  Trump  Pakistan  Apple    first  KXIP   \n",
       "Entity Type  GPE     ORG    GPE    GPE    ORG       GPE    ORG  ORDINAL   ORG   \n",
       "Frequency     36      17     15     15      9         8      8        8     8   \n",
       "\n",
       "                   9         10   11   12           13      14  \n",
       "Entity Name       two       six  KKR  IPL  Afghanistan  Pichai  \n",
       "Entity Type  CARDINAL  CARDINAL  ORG  ORG          GPE     GPE  \n",
       "Frequency           8         7    7    7            6       6  "
      ]
     },
     "execution_count": 72,
     "metadata": {},
     "output_type": "execute_result"
    }
   ],
   "source": [
    "top_entities = (entity_frame.groupby(by=['Entity Name', 'Entity Type'])\n",
    "                           .size()\n",
    "                           .sort_values(ascending=False)\n",
    "                           .reset_index().rename(columns={0 : 'Frequency'}))\n",
    "top_entities.T.iloc[:,:15]"
   ]
  },
  {
   "cell_type": "code",
   "execution_count": 73,
   "metadata": {},
   "outputs": [
    {
     "data": {
      "text/html": [
       "<div>\n",
       "<style scoped>\n",
       "    .dataframe tbody tr th:only-of-type {\n",
       "        vertical-align: middle;\n",
       "    }\n",
       "\n",
       "    .dataframe tbody tr th {\n",
       "        vertical-align: top;\n",
       "    }\n",
       "\n",
       "    .dataframe thead th {\n",
       "        text-align: right;\n",
       "    }\n",
       "</style>\n",
       "<table border=\"1\" class=\"dataframe\">\n",
       "  <thead>\n",
       "    <tr style=\"text-align: right;\">\n",
       "      <th></th>\n",
       "      <th>0</th>\n",
       "      <th>1</th>\n",
       "      <th>2</th>\n",
       "      <th>3</th>\n",
       "      <th>4</th>\n",
       "      <th>5</th>\n",
       "      <th>6</th>\n",
       "      <th>7</th>\n",
       "      <th>8</th>\n",
       "      <th>9</th>\n",
       "      <th>10</th>\n",
       "      <th>11</th>\n",
       "      <th>12</th>\n",
       "      <th>13</th>\n",
       "      <th>14</th>\n",
       "    </tr>\n",
       "  </thead>\n",
       "  <tbody>\n",
       "    <tr>\n",
       "      <th>Entity Type</th>\n",
       "      <td>ORG</td>\n",
       "      <td>PERSON</td>\n",
       "      <td>GPE</td>\n",
       "      <td>CARDINAL</td>\n",
       "      <td>DATE</td>\n",
       "      <td>NORP</td>\n",
       "      <td>ORDINAL</td>\n",
       "      <td>LOC</td>\n",
       "      <td>MONEY</td>\n",
       "      <td>PRODUCT</td>\n",
       "      <td>WORK_OF_ART</td>\n",
       "      <td>LAW</td>\n",
       "      <td>TIME</td>\n",
       "      <td>PERCENT</td>\n",
       "      <td>FAC</td>\n",
       "    </tr>\n",
       "    <tr>\n",
       "      <th>Frequency</th>\n",
       "      <td>214</td>\n",
       "      <td>153</td>\n",
       "      <td>137</td>\n",
       "      <td>82</td>\n",
       "      <td>65</td>\n",
       "      <td>44</td>\n",
       "      <td>21</td>\n",
       "      <td>13</td>\n",
       "      <td>8</td>\n",
       "      <td>7</td>\n",
       "      <td>4</td>\n",
       "      <td>2</td>\n",
       "      <td>1</td>\n",
       "      <td>1</td>\n",
       "      <td>1</td>\n",
       "    </tr>\n",
       "  </tbody>\n",
       "</table>\n",
       "</div>"
      ],
      "text/plain": [
       "              0       1    2         3     4     5        6    7      8   \\\n",
       "Entity Type  ORG  PERSON  GPE  CARDINAL  DATE  NORP  ORDINAL  LOC  MONEY   \n",
       "Frequency    214     153  137        82    65    44       21   13      8   \n",
       "\n",
       "                  9            10   11    12       13   14  \n",
       "Entity Type  PRODUCT  WORK_OF_ART  LAW  TIME  PERCENT  FAC  \n",
       "Frequency          7            4    2     1        1    1  "
      ]
     },
     "execution_count": 73,
     "metadata": {},
     "output_type": "execute_result"
    }
   ],
   "source": [
    "top_entities = (entity_frame.groupby(by=['Entity Type'])\n",
    "                           .size()\n",
    "                           .sort_values(ascending=False)\n",
    "                           .reset_index().rename(columns={0 : 'Frequency'}))\n",
    "top_entities.T.iloc[:,:15]"
   ]
  },
  {
   "cell_type": "markdown",
   "metadata": {},
   "source": [
    "# Emotion and Sentiment Analysis"
   ]
  },
  {
   "cell_type": "code",
   "execution_count": 74,
   "metadata": {},
   "outputs": [],
   "source": [
    "from afinn import Afinn"
   ]
  },
  {
   "cell_type": "code",
   "execution_count": 75,
   "metadata": {},
   "outputs": [],
   "source": [
    "af = Afinn()"
   ]
  },
  {
   "cell_type": "code",
   "execution_count": 76,
   "metadata": {},
   "outputs": [],
   "source": [
    "sentiment_scores = [af.score(article) for article in corpus]"
   ]
  },
  {
   "cell_type": "code",
   "execution_count": 77,
   "metadata": {},
   "outputs": [],
   "source": [
    "sentiment_category = ['positive' if score > 0 \n",
    "                          else 'negative' if score < 0 \n",
    "                              else 'neutral' \n",
    "                                  for score in sentiment_scores]"
   ]
  },
  {
   "cell_type": "code",
   "execution_count": 78,
   "metadata": {},
   "outputs": [],
   "source": [
    "df = pd.DataFrame([list(df_new['news_category']), sentiment_scores, sentiment_category]).T"
   ]
  },
  {
   "cell_type": "code",
   "execution_count": 79,
   "metadata": {},
   "outputs": [],
   "source": [
    "df.columns = ['news_category', 'sentiment_score', 'sentiment_category']"
   ]
  },
  {
   "cell_type": "code",
   "execution_count": 80,
   "metadata": {},
   "outputs": [],
   "source": [
    "df['sentiment_score'] = df.sentiment_score.astype('float')"
   ]
  },
  {
   "cell_type": "code",
   "execution_count": 81,
   "metadata": {},
   "outputs": [
    {
     "data": {
      "text/html": [
       "<div>\n",
       "<style scoped>\n",
       "    .dataframe tbody tr th:only-of-type {\n",
       "        vertical-align: middle;\n",
       "    }\n",
       "\n",
       "    .dataframe tbody tr th {\n",
       "        vertical-align: top;\n",
       "    }\n",
       "\n",
       "    .dataframe thead tr th {\n",
       "        text-align: left;\n",
       "    }\n",
       "\n",
       "    .dataframe thead tr:last-of-type th {\n",
       "        text-align: right;\n",
       "    }\n",
       "</style>\n",
       "<table border=\"1\" class=\"dataframe\">\n",
       "  <thead>\n",
       "    <tr>\n",
       "      <th></th>\n",
       "      <th colspan=\"8\" halign=\"left\">sentiment_score</th>\n",
       "    </tr>\n",
       "    <tr>\n",
       "      <th></th>\n",
       "      <th>count</th>\n",
       "      <th>mean</th>\n",
       "      <th>std</th>\n",
       "      <th>min</th>\n",
       "      <th>25%</th>\n",
       "      <th>50%</th>\n",
       "      <th>75%</th>\n",
       "      <th>max</th>\n",
       "    </tr>\n",
       "    <tr>\n",
       "      <th>news_category</th>\n",
       "      <th></th>\n",
       "      <th></th>\n",
       "      <th></th>\n",
       "      <th></th>\n",
       "      <th></th>\n",
       "      <th></th>\n",
       "      <th></th>\n",
       "      <th></th>\n",
       "    </tr>\n",
       "  </thead>\n",
       "  <tbody>\n",
       "    <tr>\n",
       "      <th>sports</th>\n",
       "      <td>24.0</td>\n",
       "      <td>2.416667</td>\n",
       "      <td>5.800425</td>\n",
       "      <td>-10.0</td>\n",
       "      <td>-1.25</td>\n",
       "      <td>2.5</td>\n",
       "      <td>5.25</td>\n",
       "      <td>12.0</td>\n",
       "    </tr>\n",
       "    <tr>\n",
       "      <th>technology</th>\n",
       "      <td>25.0</td>\n",
       "      <td>-0.280000</td>\n",
       "      <td>6.400000</td>\n",
       "      <td>-10.0</td>\n",
       "      <td>-5.00</td>\n",
       "      <td>0.0</td>\n",
       "      <td>4.00</td>\n",
       "      <td>14.0</td>\n",
       "    </tr>\n",
       "    <tr>\n",
       "      <th>world</th>\n",
       "      <td>25.0</td>\n",
       "      <td>-1.920000</td>\n",
       "      <td>5.801724</td>\n",
       "      <td>-17.0</td>\n",
       "      <td>-5.00</td>\n",
       "      <td>0.0</td>\n",
       "      <td>2.00</td>\n",
       "      <td>6.0</td>\n",
       "    </tr>\n",
       "  </tbody>\n",
       "</table>\n",
       "</div>"
      ],
      "text/plain": [
       "              sentiment_score                                                 \n",
       "                        count      mean       std   min   25%  50%   75%   max\n",
       "news_category                                                                 \n",
       "sports                   24.0  2.416667  5.800425 -10.0 -1.25  2.5  5.25  12.0\n",
       "technology               25.0 -0.280000  6.400000 -10.0 -5.00  0.0  4.00  14.0\n",
       "world                    25.0 -1.920000  5.801724 -17.0 -5.00  0.0  2.00   6.0"
      ]
     },
     "execution_count": 81,
     "metadata": {},
     "output_type": "execute_result"
    }
   ],
   "source": [
    "df.groupby(by=['news_category']).describe()"
   ]
  },
  {
   "cell_type": "code",
   "execution_count": 82,
   "metadata": {},
   "outputs": [
    {
     "data": {
      "image/png": "[encoded data removed]",
      "text/plain": [
       "<Figure size 1008x288 with 2 Axes>"
      ]
     },
     "metadata": {
      "needs_background": "light"
     },
     "output_type": "display_data"
    }
   ],
   "source": [
    "f, (ax1, ax2) = plt.subplots(1, 2, figsize=(14, 4))\n",
    "sp = sns.stripplot(x='news_category', y=\"sentiment_score\",  hue='news_category', data=df, ax=ax1)\n",
    "bp = sns.boxplot(x='news_category', y=\"sentiment_score\", hue='news_category', data=df, palette=\"Set2\", ax=ax2)\n",
    "t = f.suptitle('Visualizing News Sentiment', fontsize=14)"
   ]
  },
  {
   "cell_type": "code",
   "execution_count": 83,
   "metadata": {},
   "outputs": [
    {
     "name": "stderr",
     "output_type": "stream",
     "text": [
      "C:\\ProgramData\\Anaconda3\\lib\\site-packages\\seaborn\\categorical.py:3666: UserWarning: The `factorplot` function has been renamed to `catplot`. The original name will be removed in a future release. Please update your code. Note that the default `kind` in `factorplot` (`'point'`) has changed `'strip'` in `catplot`.\n",
      "  warnings.warn(msg)\n"
     ]
    },
    {
     "data": {
      "image/png": "[encoded data removed]",
      "text/plain": [
       "<Figure size 467.5x360 with 1 Axes>"
      ]
     },
     "metadata": {
      "needs_background": "light"
     },
     "output_type": "display_data"
    }
   ],
   "source": [
    "fc = sns.factorplot(x=\"news_category\", hue=\"sentiment_category\", \n",
    "                    data=df, kind=\"count\", \n",
    "                    palette={\"negative\": \"#FE2020\", \n",
    "                             \"positive\": \"#BADD07\", \n",
    "                             \"neutral\": \"#68BFF5\"})"
   ]
  },
  {
   "cell_type": "code",
   "execution_count": 87,
   "metadata": {},
   "outputs": [],
   "source": [
    "pos_idx = df[(df.news_category=='technology') & (df.sentiment_score == 2)].index[0]"
   ]
  },
  {
   "cell_type": "code",
   "execution_count": 89,
   "metadata": {},
   "outputs": [],
   "source": [
    "neg_idx = df[(df.news_category=='technology') & (df.sentiment_score == -2)].index[0]"
   ]
  },
  {
   "cell_type": "code",
   "execution_count": 90,
   "metadata": {},
   "outputs": [
    {
     "name": "stdout",
     "output_type": "stream",
     "text": [
      "Most Negative Tech News Article: Elon Musk-led Tesla said it has built Asia's largest energy storage system at Osaka train station in Japan. The 7 MWh system with 42 Powerpack battery units can provide energy to move a train and its passengers for up to 30 minutes to the nearest station during a power failure, Tesla said, adding its hardware was installed in two days.\n",
      "\n",
      "Most Positive Tech News Article: Facebook is introducing a new feature, 'Candidate Connect', to let 2019 Lok Sabha election candidates make 20-second videos to connect with voters. In the videos, to be grouped by constituencies, candidates will answer a set of questions, which Facebook said are outcomes of local consumer research. The videos will appear at the top of a user's 'News Feed'.\n"
     ]
    }
   ],
   "source": [
    "print('Most Negative Tech News Article:', df_new.iloc[neg_idx][['news_article']][0])\n",
    "print()\n",
    "print('Most Positive Tech News Article:', df_new.iloc[pos_idx][['news_article']][0])"
   ]
  },
  {
   "cell_type": "code",
   "execution_count": 100,
   "metadata": {},
   "outputs": [
    {
     "data": {
      "text/plain": [
       "array([ -4.,   4.,  -8.,   1.,   6.,  -3.,   0., -12.,   5.,   2.,  -5.,\n",
       "       -17.,  -6.])"
      ]
     },
     "execution_count": 100,
     "metadata": {},
     "output_type": "execute_result"
    }
   ],
   "source": [
    "df1 = df[df.news_category=='world']\n",
    "pd.unique(df1.sentiment_score)"
   ]
  },
  {
   "cell_type": "code",
   "execution_count": 101,
   "metadata": {},
   "outputs": [
    {
     "name": "stdout",
     "output_type": "stream",
     "text": [
      "Most Negative World News Article: Pakistan has said it has examined the 22 pin locations of alleged training camps shared by India and said no such camps exist. \"Pakistan is willing to allow visits, on request, to these locations,\" the statement added. It also stated that 54 people are being probed in connection with the Pulwama attack, but no link has been found so far.\n",
      "\n",
      "Most Positive World News Article: The US Ambassador to Afghanistan, John R Bass, has criticised Pakistan PM Imran Khan over his comments suggesting Afghanistan should set up an interim government to facilitate US-Taliban talks. \"Some aspects of cricket apply well in diplomacy, some do not. [It's] important to resist the temptation to ball-tamper with the Afghanistan peace process and its internal affairs,\" Bass tweeted.\n"
     ]
    }
   ],
   "source": [
    "pos_idx = df[(df.news_category=='world') & (df.sentiment_score == 4)].index[0]\n",
    "neg_idx = df[(df.news_category=='world') & (df.sentiment_score == -4.)].index[0]\n",
    "\n",
    "print('Most Negative World News Article:', df_new.iloc[neg_idx][['news_article']][0])\n",
    "print()\n",
    "print('Most Positive World News Article:', df_new.iloc[pos_idx][['news_article']][0])"
   ]
  },
  {
   "cell_type": "code",
   "execution_count": 102,
   "metadata": {},
   "outputs": [],
   "source": [
    "from textblob import TextBlob"
   ]
  },
  {
   "cell_type": "code",
   "execution_count": 103,
   "metadata": {},
   "outputs": [],
   "source": [
    "sentiment_scores_tb = [round(TextBlob(article).sentiment.polarity, 3) for article in df_new['clean_text']]"
   ]
  },
  {
   "cell_type": "code",
   "execution_count": 104,
   "metadata": {},
   "outputs": [],
   "source": [
    "sentiment_category_tb = ['positive' if score > 0 \n",
    "                             else 'negative' if score < 0 \n",
    "                                 else 'neutral' \n",
    "                                     for score in sentiment_scores_tb]"
   ]
  },
  {
   "cell_type": "code",
   "execution_count": 105,
   "metadata": {},
   "outputs": [
    {
     "data": {
      "text/html": [
       "<div>\n",
       "<style scoped>\n",
       "    .dataframe tbody tr th:only-of-type {\n",
       "        vertical-align: middle;\n",
       "    }\n",
       "\n",
       "    .dataframe tbody tr th {\n",
       "        vertical-align: top;\n",
       "    }\n",
       "\n",
       "    .dataframe thead tr th {\n",
       "        text-align: left;\n",
       "    }\n",
       "\n",
       "    .dataframe thead tr:last-of-type th {\n",
       "        text-align: right;\n",
       "    }\n",
       "</style>\n",
       "<table border=\"1\" class=\"dataframe\">\n",
       "  <thead>\n",
       "    <tr>\n",
       "      <th></th>\n",
       "      <th colspan=\"8\" halign=\"left\">sentiment_score</th>\n",
       "    </tr>\n",
       "    <tr>\n",
       "      <th></th>\n",
       "      <th>count</th>\n",
       "      <th>mean</th>\n",
       "      <th>std</th>\n",
       "      <th>min</th>\n",
       "      <th>25%</th>\n",
       "      <th>50%</th>\n",
       "      <th>75%</th>\n",
       "      <th>max</th>\n",
       "    </tr>\n",
       "    <tr>\n",
       "      <th>news_category</th>\n",
       "      <th></th>\n",
       "      <th></th>\n",
       "      <th></th>\n",
       "      <th></th>\n",
       "      <th></th>\n",
       "      <th></th>\n",
       "      <th></th>\n",
       "      <th></th>\n",
       "    </tr>\n",
       "  </thead>\n",
       "  <tbody>\n",
       "    <tr>\n",
       "      <th>sports</th>\n",
       "      <td>24.0</td>\n",
       "      <td>0.109833</td>\n",
       "      <td>0.264403</td>\n",
       "      <td>-0.60</td>\n",
       "      <td>0.037</td>\n",
       "      <td>0.100</td>\n",
       "      <td>0.2525</td>\n",
       "      <td>0.767</td>\n",
       "    </tr>\n",
       "    <tr>\n",
       "      <th>technology</th>\n",
       "      <td>25.0</td>\n",
       "      <td>0.079640</td>\n",
       "      <td>0.160765</td>\n",
       "      <td>-0.25</td>\n",
       "      <td>-0.019</td>\n",
       "      <td>0.067</td>\n",
       "      <td>0.1500</td>\n",
       "      <td>0.533</td>\n",
       "    </tr>\n",
       "    <tr>\n",
       "      <th>world</th>\n",
       "      <td>25.0</td>\n",
       "      <td>0.010960</td>\n",
       "      <td>0.199371</td>\n",
       "      <td>-0.80</td>\n",
       "      <td>-0.044</td>\n",
       "      <td>0.050</td>\n",
       "      <td>0.0830</td>\n",
       "      <td>0.350</td>\n",
       "    </tr>\n",
       "  </tbody>\n",
       "</table>\n",
       "</div>"
      ],
      "text/plain": [
       "              sentiment_score                                                  \\\n",
       "                        count      mean       std   min    25%    50%     75%   \n",
       "news_category                                                                   \n",
       "sports                   24.0  0.109833  0.264403 -0.60  0.037  0.100  0.2525   \n",
       "technology               25.0  0.079640  0.160765 -0.25 -0.019  0.067  0.1500   \n",
       "world                    25.0  0.010960  0.199371 -0.80 -0.044  0.050  0.0830   \n",
       "\n",
       "                      \n",
       "                 max  \n",
       "news_category         \n",
       "sports         0.767  \n",
       "technology     0.533  \n",
       "world          0.350  "
      ]
     },
     "execution_count": 105,
     "metadata": {},
     "output_type": "execute_result"
    }
   ],
   "source": [
    "df = pd.DataFrame([list(df_new['news_category']), sentiment_scores_tb, sentiment_category_tb]).T\n",
    "df.columns = ['news_category', 'sentiment_score', 'sentiment_category']\n",
    "df['sentiment_score'] = df.sentiment_score.astype('float')\n",
    "df.groupby(by=['news_category']).describe()"
   ]
  },
  {
   "cell_type": "code",
   "execution_count": 106,
   "metadata": {},
   "outputs": [
    {
     "data": {
      "text/html": [
       "<div>\n",
       "<style scoped>\n",
       "    .dataframe tbody tr th:only-of-type {\n",
       "        vertical-align: middle;\n",
       "    }\n",
       "\n",
       "    .dataframe tbody tr th {\n",
       "        vertical-align: top;\n",
       "    }\n",
       "\n",
       "    .dataframe thead th {\n",
       "        text-align: right;\n",
       "    }\n",
       "</style>\n",
       "<table border=\"1\" class=\"dataframe\">\n",
       "  <thead>\n",
       "    <tr style=\"text-align: right;\">\n",
       "      <th></th>\n",
       "      <th>news_category</th>\n",
       "      <th>sentiment_score</th>\n",
       "      <th>sentiment_category</th>\n",
       "    </tr>\n",
       "  </thead>\n",
       "  <tbody>\n",
       "    <tr>\n",
       "      <th>0</th>\n",
       "      <td>technology</td>\n",
       "      <td>0.069</td>\n",
       "      <td>positive</td>\n",
       "    </tr>\n",
       "    <tr>\n",
       "      <th>1</th>\n",
       "      <td>technology</td>\n",
       "      <td>0.533</td>\n",
       "      <td>positive</td>\n",
       "    </tr>\n",
       "    <tr>\n",
       "      <th>2</th>\n",
       "      <td>technology</td>\n",
       "      <td>-0.040</td>\n",
       "      <td>negative</td>\n",
       "    </tr>\n",
       "    <tr>\n",
       "      <th>3</th>\n",
       "      <td>technology</td>\n",
       "      <td>-0.025</td>\n",
       "      <td>negative</td>\n",
       "    </tr>\n",
       "    <tr>\n",
       "      <th>4</th>\n",
       "      <td>technology</td>\n",
       "      <td>0.053</td>\n",
       "      <td>positive</td>\n",
       "    </tr>\n",
       "  </tbody>\n",
       "</table>\n",
       "</div>"
      ],
      "text/plain": [
       "  news_category  sentiment_score sentiment_category\n",
       "0    technology            0.069           positive\n",
       "1    technology            0.533           positive\n",
       "2    technology           -0.040           negative\n",
       "3    technology           -0.025           negative\n",
       "4    technology            0.053           positive"
      ]
     },
     "execution_count": 106,
     "metadata": {},
     "output_type": "execute_result"
    }
   ],
   "source": [
    "df.head()"
   ]
  },
  {
   "cell_type": "code",
   "execution_count": 107,
   "metadata": {},
   "outputs": [
    {
     "name": "stderr",
     "output_type": "stream",
     "text": [
      "C:\\ProgramData\\Anaconda3\\lib\\site-packages\\seaborn\\categorical.py:3666: UserWarning: The `factorplot` function has been renamed to `catplot`. The original name will be removed in a future release. Please update your code. Note that the default `kind` in `factorplot` (`'point'`) has changed `'strip'` in `catplot`.\n",
      "  warnings.warn(msg)\n"
     ]
    },
    {
     "data": {
      "image/png": "[encoded data removed]",
      "text/plain": [
       "<Figure size 467.5x360 with 1 Axes>"
      ]
     },
     "metadata": {
      "needs_background": "light"
     },
     "output_type": "display_data"
    }
   ],
   "source": [
    "fc = sns.factorplot(x=\"news_category\", hue=\"sentiment_category\", \n",
    "                    data=df, kind=\"count\", \n",
    "                    palette={\"negative\": \"#FE2020\", \n",
    "                             \"positive\": \"#BADD07\", \n",
    "                             \"neutral\": \"#68BFF5\"})"
   ]
  },
  {
   "cell_type": "code",
   "execution_count": 108,
   "metadata": {},
   "outputs": [
    {
     "name": "stdout",
     "output_type": "stream",
     "text": [
      "Most Negative World News Article: The US Ambassador to Afghanistan, John R Bass, has criticised Pakistan PM Imran Khan over his comments suggesting Afghanistan should set up an interim government to facilitate US-Taliban talks. \"Some aspects of cricket apply well in diplomacy, some do not. [It's] important to resist the temptation to ball-tamper with the Afghanistan peace process and its internal affairs,\" Bass tweeted.\n",
      "\n",
      "Most Positive World News Article: Pakistan has said it has examined the 22 pin locations of alleged training camps shared by India and said no such camps exist. \"Pakistan is willing to allow visits, on request, to these locations,\" the statement added. It also stated that 54 people are being probed in connection with the Pulwama attack, but no link has been found so far.\n"
     ]
    }
   ],
   "source": [
    "pos_idx = df[(df.news_category=='world') & (df.sentiment_score > 0.)].index[0]\n",
    "neg_idx = df[(df.news_category=='world') & (df.sentiment_score < -0.)].index[0]\n",
    "\n",
    "print('Most Negative World News Article:', df_new.iloc[neg_idx][['news_article']][0])\n",
    "print()\n",
    "print('Most Positive World News Article:', df_new.iloc[pos_idx][['news_article']][0])"
   ]
  },
  {
   "cell_type": "code",
   "execution_count": 109,
   "metadata": {},
   "outputs": [
    {
     "name": "stderr",
     "output_type": "stream",
     "text": [
      "D:\\courses\\PGPAIML\\statisticalNLP\\aimlBlrSept2018\\model_evaluation_utils.py:76: FutureWarning: the 'labels' keyword is deprecated, use 'codes' instead\n",
      "  labels=level_labels),\n",
      "D:\\courses\\PGPAIML\\statisticalNLP\\aimlBlrSept2018\\model_evaluation_utils.py:78: FutureWarning: the 'labels' keyword is deprecated, use 'codes' instead\n",
      "  labels=level_labels))\n"
     ]
    },
    {
     "data": {
      "text/html": [
       "<div>\n",
       "<style scoped>\n",
       "    .dataframe tbody tr th:only-of-type {\n",
       "        vertical-align: middle;\n",
       "    }\n",
       "\n",
       "    .dataframe tbody tr th {\n",
       "        vertical-align: top;\n",
       "    }\n",
       "\n",
       "    .dataframe thead tr th {\n",
       "        text-align: left;\n",
       "    }\n",
       "</style>\n",
       "<table border=\"1\" class=\"dataframe\">\n",
       "  <thead>\n",
       "    <tr>\n",
       "      <th></th>\n",
       "      <th></th>\n",
       "      <th colspan=\"3\" halign=\"left\">Predicted:</th>\n",
       "    </tr>\n",
       "    <tr>\n",
       "      <th></th>\n",
       "      <th></th>\n",
       "      <th>negative</th>\n",
       "      <th>neutral</th>\n",
       "      <th>positive</th>\n",
       "    </tr>\n",
       "  </thead>\n",
       "  <tbody>\n",
       "    <tr>\n",
       "      <th rowspan=\"3\" valign=\"top\">Actual:</th>\n",
       "      <th>negative</th>\n",
       "      <td>14</td>\n",
       "      <td>2</td>\n",
       "      <td>15</td>\n",
       "    </tr>\n",
       "    <tr>\n",
       "      <th>neutral</th>\n",
       "      <td>0</td>\n",
       "      <td>1</td>\n",
       "      <td>4</td>\n",
       "    </tr>\n",
       "    <tr>\n",
       "      <th>positive</th>\n",
       "      <td>7</td>\n",
       "      <td>2</td>\n",
       "      <td>29</td>\n",
       "    </tr>\n",
       "  </tbody>\n",
       "</table>\n",
       "</div>"
      ],
      "text/plain": [
       "                 Predicted:                 \n",
       "                   negative neutral positive\n",
       "Actual: negative         14       2       15\n",
       "        neutral           0       1        4\n",
       "        positive          7       2       29"
      ]
     },
     "execution_count": 109,
     "metadata": {},
     "output_type": "execute_result"
    }
   ],
   "source": [
    "import model_evaluation_utils as meu\n",
    "meu.display_confusion_matrix_pretty(true_labels=sentiment_category, \n",
    "                                    predicted_labels=sentiment_category_tb, \n",
    "                                    classes=['negative', 'neutral', 'positive'])"
   ]
  },
  {
   "cell_type": "code",
   "execution_count": null,
   "metadata": {},
   "outputs": [],
   "source": []
  },
  {
   "cell_type": "code",
   "execution_count": null,
   "metadata": {
    "collapsed": true,
    "jupyter": {
     "outputs_hidden": true
    }
   },
   "outputs": [],
   "source": []
  }
 ],
 "metadata": {
  "anaconda-cloud": {},
  "kernelspec": {
   "display_name": "Python 3 (ipykernel)",
   "language": "python",
   "name": "python3"
  },
  "language_info": {
   "codemirror_mode": {
    "name": "ipython",
    "version": 3
   },
   "file_extension": ".py",
   "mimetype": "text/x-python",
   "name": "python",
   "nbconvert_exporter": "python",
   "pygments_lexer": "ipython3",
   "version": "3.11.7"
  }
 },
 "nbformat": 4,
 "nbformat_minor": 4
}
