{
 "cells": [
  {
   "cell_type": "code",
   "execution_count": 1,
   "id": "09373d29-ba37-4334-a0bb-2f64d262cc3c",
   "metadata": {},
   "outputs": [
    {
     "name": "stdout",
     "output_type": "stream",
     "text": [
      "WARNING:tensorflow:From C:\\Users\\modza\\Documents\\nlp\\env\\Lib\\site-packages\\keras\\src\\losses.py:2976: The name tf.losses.sparse_softmax_cross_entropy is deprecated. Please use tf.compat.v1.losses.sparse_softmax_cross_entropy instead.\n",
      "\n"
     ]
    }
   ],
   "source": [
    "import tensorflow as tf\n",
    "import keras\n",
    "import matplotlib.pyplot as plt\n",
    "import seaborn as sns\n",
    "%matplotlib inline"
   ]
  },
  {
   "cell_type": "code",
   "execution_count": 2,
   "id": "6e5e3551-bb9b-439e-909f-f4a6d4cf765b",
   "metadata": {},
   "outputs": [],
   "source": [
    "mnist = tf.keras.datasets.mnist\n",
    "\n",
    "(x_train, y_train), (x_test, y_test) = mnist.load_data()\n",
    "x_train, x_test = x_train / 255.0, x_test / 255.0"
   ]
  },
  {
   "cell_type": "code",
   "execution_count": 7,
   "id": "397851da-a518-483c-a2d1-04b0cb6da3bb",
   "metadata": {},
   "outputs": [],
   "source": [
    "X_train,X_test = x_train/255.0,x_test/255.0"
   ]
  },
  {
   "cell_type": "code",
   "execution_count": 8,
   "id": "18dff1ce-bd82-4919-ba7f-8b0ffed04ab7",
   "metadata": {},
   "outputs": [
    {
     "data": {
      "text/plain": [
       "(60000, 28, 28)"
      ]
     },
     "execution_count": 8,
     "metadata": {},
     "output_type": "execute_result"
    }
   ],
   "source": [
    "X_train.shape"
   ]
  },
  {
   "cell_type": "code",
   "execution_count": 11,
   "id": "a9363e93-c012-48dd-841c-5469fb4ce0af",
   "metadata": {},
   "outputs": [],
   "source": [
    "mnist = tf.keras.datasets.mnist\n",
    "\n",
    "(x_train, y_train), (x_test, y_test) = mnist.load_data()\n",
    "x_train, x_test = x_train / 255.0, x_test / 255.0"
   ]
  },
  {
   "cell_type": "code",
   "execution_count": 12,
   "id": "479dd679-b626-4eaa-86cb-c236c2086360",
   "metadata": {},
   "outputs": [
    {
     "data": {
      "text/plain": [
       "(60000, 28, 28)"
      ]
     },
     "execution_count": 12,
     "metadata": {},
     "output_type": "execute_result"
    }
   ],
   "source": [
    "x_train.shape"
   ]
  },
  {
   "cell_type": "code",
   "execution_count": 7,
   "id": "71d0208c-c2fe-4abd-b6b5-20976182f9b4",
   "metadata": {},
   "outputs": [
    {
     "name": "stdout",
     "output_type": "stream",
     "text": [
      "WARNING:tensorflow:From C:\\Users\\modza\\Documents\\nlp\\env\\Lib\\site-packages\\keras\\src\\backend.py:873: The name tf.get_default_graph is deprecated. Please use tf.compat.v1.get_default_graph instead.\n",
      "\n"
     ]
    }
   ],
   "source": [
    "model = tf.keras.models.Sequential([\n",
    "  tf.keras.layers.Flatten(input_shape=(28, 28)),\n",
    "  tf.keras.layers.Dense(128, activation='relu'),\n",
    "  tf.keras.layers.Dropout(0.2),\n",
    "  tf.keras.layers.Dense(10)\n",
    "])"
   ]
  },
  {
   "cell_type": "code",
   "execution_count": 17,
   "id": "cce96f7a-ee22-4a24-8277-410ba24d5325",
   "metadata": {},
   "outputs": [
    {
     "data": {
      "text/plain": [
       "(1, 28, 28)"
      ]
     },
     "execution_count": 17,
     "metadata": {},
     "output_type": "execute_result"
    }
   ],
   "source": [
    "x_train[:1].shape"
   ]
  },
  {
   "cell_type": "code",
   "execution_count": 18,
   "id": "ddf72c9a-0e10-47a3-96e6-989e8d8efdd8",
   "metadata": {},
   "outputs": [
    {
     "data": {
      "text/plain": [
       "(784,)"
      ]
     },
     "execution_count": 18,
     "metadata": {},
     "output_type": "execute_result"
    }
   ],
   "source": [
    "x_train[:1].flatten().shape #784 neurons in first dense layer,"
   ]
  },
  {
   "cell_type": "code",
   "execution_count": 14,
   "id": "798fcda0-cac1-4c8e-91bc-f0c6314e3df9",
   "metadata": {},
   "outputs": [
    {
     "data": {
      "text/plain": [
       "3"
      ]
     },
     "execution_count": 14,
     "metadata": {},
     "output_type": "execute_result"
    }
   ],
   "source": [
    "x_train[:1].ndim"
   ]
  },
  {
   "cell_type": "code",
   "execution_count": 16,
   "id": "cc12eca3-2ce2-421c-a96c-63ad125f2e0c",
   "metadata": {},
   "outputs": [
    {
     "data": {
      "text/plain": [
       "1"
      ]
     },
     "execution_count": 16,
     "metadata": {},
     "output_type": "execute_result"
    }
   ],
   "source": [
    "x_train[:1].flatten().ndim"
   ]
  },
  {
   "cell_type": "code",
   "execution_count": 19,
   "id": "745747cd-18e7-48d7-9983-2ecf1a1b0452",
   "metadata": {},
   "outputs": [
    {
     "data": {
      "text/plain": [
       "array([[-0.49769312,  0.22329634,  0.07974998,  0.29837275, -0.0015975 ,\n",
       "         0.22943896, -0.33195576, -1.0779502 , -0.7950165 , -0.25839522]],\n",
       "      dtype=float32)"
      ]
     },
     "execution_count": 19,
     "metadata": {},
     "output_type": "execute_result"
    }
   ],
   "source": [
    "predictions = model(x_train[:1]).numpy()\n",
    "predictions"
   ]
  },
  {
   "cell_type": "code",
   "execution_count": 15,
   "id": "27a8e3eb-85cf-4145-8580-77b5fa03c715",
   "metadata": {},
   "outputs": [
    {
     "data": {
      "text/plain": [
       "array([[0.08179104, 0.06488211, 0.15905182, 0.06726331, 0.05519492,\n",
       "        0.13446648, 0.12259384, 0.09216341, 0.09769117, 0.12490193]],\n",
       "      dtype=float32)"
      ]
     },
     "execution_count": 15,
     "metadata": {},
     "output_type": "execute_result"
    }
   ],
   "source": [
    "tf.nn.softmax(predictions).numpy()"
   ]
  },
  {
   "cell_type": "code",
   "execution_count": 22,
   "id": "3b971b86-c0c8-44fd-a54a-170f2b45a5b9",
   "metadata": {},
   "outputs": [],
   "source": [
    "loss_fn = tf.keras.losses.SparseCategoricalCrossentropy(from_logits=True)"
   ]
  },
  {
   "cell_type": "code",
   "execution_count": 23,
   "id": "c79c9180-34a0-41ee-b3fc-b6e6d5dde816",
   "metadata": {},
   "outputs": [
    {
     "name": "stdout",
     "output_type": "stream",
     "text": [
      "WARNING:tensorflow:From C:\\Users\\modza\\Documents\\nlp\\env\\Lib\\site-packages\\keras\\src\\optimizers\\__init__.py:309: The name tf.train.Optimizer is deprecated. Please use tf.compat.v1.train.Optimizer instead.\n",
      "\n"
     ]
    }
   ],
   "source": [
    "model.compile(optimizer='adam',\n",
    "              loss=loss_fn,\n",
    "              metrics=['accuracy'])"
   ]
  },
  {
   "cell_type": "code",
   "execution_count": 21,
   "id": "5782d22a-9b89-4861-9e6e-c8301cc78e8b",
   "metadata": {},
   "outputs": [
    {
     "name": "stdout",
     "output_type": "stream",
     "text": [
      "Model: \"sequential\"\n",
      "_________________________________________________________________\n",
      " Layer (type)                Output Shape              Param #   \n",
      "=================================================================\n",
      " flatten (Flatten)           (None, 784)               0         \n",
      "                                                                 \n",
      " dense (Dense)               (None, 128)               100480    \n",
      "                                                                 \n",
      " dropout (Dropout)           (None, 128)               0         \n",
      "                                                                 \n",
      " dense_1 (Dense)             (None, 10)                1290      \n",
      "                                                                 \n",
      "=================================================================\n",
      "Total params: 101770 (397.54 KB)\n",
      "Trainable params: 101770 (397.54 KB)\n",
      "Non-trainable params: 0 (0.00 Byte)\n",
      "_________________________________________________________________\n"
     ]
    }
   ],
   "source": [
    "model.summary()"
   ]
  },
  {
   "cell_type": "code",
   "execution_count": 18,
   "id": "e4ec103e-2ff7-49db-88f3-e137118288a6",
   "metadata": {},
   "outputs": [
    {
     "name": "stdout",
     "output_type": "stream",
     "text": [
      "Epoch 1/5\n",
      "WARNING:tensorflow:From C:\\Users\\modza\\Documents\\nlp\\env\\Lib\\site-packages\\keras\\src\\utils\\tf_utils.py:492: The name tf.ragged.RaggedTensorValue is deprecated. Please use tf.compat.v1.ragged.RaggedTensorValue instead.\n",
      "\n",
      "WARNING:tensorflow:From C:\\Users\\modza\\Documents\\nlp\\env\\Lib\\site-packages\\keras\\src\\engine\\base_layer_utils.py:384: The name tf.executing_eagerly_outside_functions is deprecated. Please use tf.compat.v1.executing_eagerly_outside_functions instead.\n",
      "\n",
      "1875/1875 [==============================] - 5s 2ms/step - loss: 0.2959 - accuracy: 0.9147\n",
      "Epoch 2/5\n",
      "1875/1875 [==============================] - 4s 2ms/step - loss: 0.1440 - accuracy: 0.9572\n",
      "Epoch 3/5\n",
      "1875/1875 [==============================] - 5s 2ms/step - loss: 0.1088 - accuracy: 0.9666\n",
      "Epoch 4/5\n",
      "1875/1875 [==============================] - 5s 3ms/step - loss: 0.0877 - accuracy: 0.9730\n",
      "Epoch 5/5\n",
      "1875/1875 [==============================] - 5s 3ms/step - loss: 0.0753 - accuracy: 0.9762\n"
     ]
    },
    {
     "data": {
      "text/plain": [
       "<keras.src.callbacks.History at 0x2c3f6196a90>"
      ]
     },
     "execution_count": 18,
     "metadata": {},
     "output_type": "execute_result"
    }
   ],
   "source": [
    "model.fit(x_train, y_train, epochs=5)"
   ]
  },
  {
   "cell_type": "code",
   "execution_count": 19,
   "id": "0c54df08-c9f0-499d-bf05-65d17a2b966c",
   "metadata": {},
   "outputs": [
    {
     "name": "stdout",
     "output_type": "stream",
     "text": [
      "313/313 - 1s - loss: 0.0712 - accuracy: 0.9772 - 562ms/epoch - 2ms/step\n"
     ]
    },
    {
     "data": {
      "text/plain": [
       "[0.0711684599518776, 0.9771999716758728]"
      ]
     },
     "execution_count": 19,
     "metadata": {},
     "output_type": "execute_result"
    }
   ],
   "source": [
    "model.evaluate(x_test,  y_test, verbose=2)"
   ]
  },
  {
   "cell_type": "code",
   "execution_count": 30,
   "id": "0f443070-e23a-452d-8dcf-2f758b81f80e",
   "metadata": {},
   "outputs": [
    {
     "data": {
      "text/plain": [
       "[array([[ 0.03674138, -0.04791379,  0.06277794, ...,  0.06720217,\n",
       "         -0.01266268,  0.0169372 ],\n",
       "        [ 0.02375954, -0.08014606,  0.07305358, ...,  0.01390188,\n",
       "          0.0686195 , -0.00575618],\n",
       "        [ 0.0023245 , -0.07982307, -0.00663101, ..., -0.03740327,\n",
       "         -0.06192255,  0.04719866],\n",
       "        ...,\n",
       "        [ 0.06343453, -0.02320062, -0.00951858, ..., -0.01351115,\n",
       "          0.0453661 , -0.00028021],\n",
       "        [ 0.0689164 , -0.00771707, -0.04608609, ...,  0.05029691,\n",
       "          0.0784382 ,  0.01431684],\n",
       "        [ 0.07702861,  0.02083938, -0.06898914, ...,  0.02035505,\n",
       "         -0.04287396, -0.04915806]], dtype=float32),\n",
       " array([ 0.00099967, -0.00099471,  0.0009998 , -0.0009996 ,  0.00099873,\n",
       "        -0.0009945 ,  0.00099983, -0.0009995 , -0.00099995, -0.00099991,\n",
       "         0.00099954,  0.00099961,  0.00099985,  0.00099971, -0.00099959,\n",
       "         0.00099978,  0.00099922,  0.00099964,  0.00099978,  0.        ,\n",
       "         0.00099975, -0.00099974,  0.00099935,  0.00099904, -0.00099857,\n",
       "         0.00099966, -0.00099991, -0.00099986,  0.00099737,  0.00099982,\n",
       "        -0.00099991, -0.00099983, -0.00099961,  0.00099788, -0.00099895,\n",
       "         0.0009993 ,  0.00099964,  0.00099948, -0.00099977, -0.00099981,\n",
       "         0.00099987, -0.00099892, -0.0009998 , -0.00099994, -0.00099988,\n",
       "         0.00099943, -0.00099972,  0.00099968,  0.00099957,  0.00099992,\n",
       "         0.0009993 ,  0.00099966, -0.00099868, -0.0009997 ,  0.00099964,\n",
       "        -0.0009984 , -0.00099458, -0.00099899,  0.00099989, -0.00099988,\n",
       "         0.00099988,  0.00099985, -0.00099989,  0.00099982,  0.00099963,\n",
       "        -0.00099963, -0.00099975,  0.00099934,  0.00099989, -0.00099824,\n",
       "         0.00099971, -0.00099987,  0.00099985,  0.00099992,  0.00099994,\n",
       "         0.00099972,  0.00099989, -0.00099924, -0.00099992, -0.00099974,\n",
       "        -0.00099972, -0.00099966,  0.00099911, -0.00099918, -0.00099977,\n",
       "         0.00099949,  0.00099967,  0.00099967,  0.00099984, -0.00099988,\n",
       "        -0.00099992, -0.00099977,  0.00099967, -0.00099954,  0.00099954,\n",
       "         0.0009999 ,  0.00099986, -0.00099974, -0.00099972, -0.00099986,\n",
       "        -0.00099978,  0.0009997 , -0.00099811,  0.00099951,  0.00099977,\n",
       "        -0.00099977, -0.00099978, -0.00099939, -0.00099989,  0.00099988,\n",
       "         0.00099975, -0.00099983,  0.00099991, -0.00099987, -0.00099994,\n",
       "         0.0009988 ,  0.00099965,  0.00099934,  0.00099987,  0.00099968,\n",
       "         0.00099985, -0.00099984, -0.00099914,  0.00099964,  0.00099989,\n",
       "         0.00099477, -0.0009994 , -0.00099951], dtype=float32),\n",
       " array([[-0.1806802 ,  0.19997321, -0.03870855, ...,  0.10590389,\n",
       "          0.01002201, -0.10897699],\n",
       "        [ 0.06732711,  0.0703653 ,  0.16046868, ...,  0.16659236,\n",
       "          0.06126454, -0.00882033],\n",
       "        [ 0.20323423,  0.01460022,  0.03004424, ..., -0.11283123,\n",
       "          0.07687173, -0.0576915 ],\n",
       "        ...,\n",
       "        [-0.16130087, -0.021897  , -0.1450985 , ...,  0.11215769,\n",
       "         -0.19429441, -0.1499781 ],\n",
       "        [-0.06967772,  0.18332286, -0.0112706 , ..., -0.00437664,\n",
       "         -0.03986183,  0.0467839 ],\n",
       "        [ 0.11039558, -0.11442437,  0.05881362, ...,  0.17372283,\n",
       "          0.14160389, -0.09729201]], dtype=float32),\n",
       " array([-0.000999  ,  0.00099994, -0.00099996, -0.00099995, -0.00099997,\n",
       "         0.00099994,  0.00099987,  0.00099996,  0.00099994, -0.00099961],\n",
       "       dtype=float32)]"
      ]
     },
     "execution_count": 30,
     "metadata": {},
     "output_type": "execute_result"
    }
   ],
   "source": [
    "model.get_weights()"
   ]
  },
  {
   "cell_type": "code",
   "execution_count": null,
   "id": "6935d902-69b8-4f8b-88a2-ced4e8b6a9da",
   "metadata": {},
   "outputs": [],
   "source": [
    "model.add(layers."
   ]
  },
  {
   "cell_type": "code",
   "execution_count": null,
   "id": "371bd4ac-50d8-4c8c-806d-04a6826d97a1",
   "metadata": {},
   "outputs": [],
   "source": [
    "model.add(layers.Conv2D(32,(3,3),activation= 'relu',input_shape = (32,32,3))"
   ]
  }
 ],
 "metadata": {
  "kernelspec": {
   "display_name": "Python 3 (ipykernel)",
   "language": "python",
   "name": "python3"
  },
  "language_info": {
   "codemirror_mode": {
    "name": "ipython",
    "version": 3
   },
   "file_extension": ".py",
   "mimetype": "text/x-python",
   "name": "python",
   "nbconvert_exporter": "python",
   "pygments_lexer": "ipython3",
   "version": "3.11.7"
  }
 },
 "nbformat": 4,
 "nbformat_minor": 5
}
